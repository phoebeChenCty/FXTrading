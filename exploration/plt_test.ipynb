{
 "cells": [
  {
   "cell_type": "code",
   "execution_count": 10,
   "id": "5fed330a",
   "metadata": {},
   "outputs": [],
   "source": [
    "import pandas as pd\n",
    "import plotly.graph_objects as go\n",
    "import datetime as dt\n",
    "from plotting import CandlePlot"
   ]
  },
  {
   "cell_type": "code",
   "execution_count": 11,
   "id": "b19a3cf7",
   "metadata": {},
   "outputs": [],
   "source": [
    "pair = \"EUR_USD\"\n",
    "granularity = \"H1\"\n",
    "df = pd.read_pickle(f\"../data/{pair}_{granularity}.pkl\")"
   ]
  },
  {
   "cell_type": "code",
   "execution_count": 12,
   "id": "2046e30d",
   "metadata": {},
   "outputs": [],
   "source": [
    "df_plot = df.iloc[:100]"
   ]
  },
  {
   "cell_type": "code",
   "execution_count": 13,
   "id": "e82b7f77",
   "metadata": {},
   "outputs": [
    {
     "data": {
      "text/plain": [
       "(100, 14)"
      ]
     },
     "execution_count": 13,
     "metadata": {},
     "output_type": "execute_result"
    }
   ],
   "source": [
    "df_plot.shape"
   ]
  },
  {
   "cell_type": "code",
   "execution_count": 14,
   "id": "fdb6f2c5",
   "metadata": {},
   "outputs": [],
   "source": [
    "cp = CandlePlot(df_plot)"
   ]
  },
  {
   "cell_type": "code",
   "execution_count": 15,
   "id": "210c53e5",
   "metadata": {},
   "outputs": [
    {
     "data": {
      "application/vnd.plotly.v1+json": {
       "config": {
        "plotlyServerURL": "https://plot.ly"
       },
       "data": [
        {
         "close": [
          1.02106,
          1.02224,
          1.02275,
          1.02418,
          1.02584,
          1.03241,
          1.03222,
          1.03552,
          1.03336,
          1.03251,
          1.03166,
          1.03038,
          1.03036,
          1.02996,
          1.03001,
          1.0302,
          1.02988,
          1.02983,
          1.02884,
          1.02834,
          1.02885,
          1.02832,
          1.0282,
          1.0312,
          1.03259,
          1.03412,
          1.03362,
          1.03372,
          1.03248,
          1.03472,
          1.0359,
          1.03444,
          1.03375,
          1.033,
          1.03221,
          1.03246,
          1.0317,
          1.0324,
          1.0323,
          1.03216,
          1.03204,
          1.0313,
          1.03064,
          1.03113,
          1.03174,
          1.03178,
          1.03153,
          1.03115,
          1.02974,
          1.03022,
          1.02982,
          1.02918,
          1.0278,
          1.02706,
          1.02808,
          1.02448,
          1.02548,
          1.02565,
          1.02608,
          1.02654,
          1.02606,
          1.0259,
          1.02606,
          1.02599,
          1.02538,
          1.02664,
          1.02574,
          1.02454,
          1.02522,
          1.02506,
          1.02406,
          1.02362,
          1.02342,
          1.02072,
          1.01995,
          1.0204,
          1.01956,
          1.02008,
          1.01984,
          1.01943,
          1.01852,
          1.01758,
          1.01647,
          1.01563,
          1.01608,
          1.01596,
          1.01608,
          1.01628,
          1.01616,
          1.01538,
          1.0157,
          1.0169,
          1.01624,
          1.0159,
          1.01642,
          1.01542,
          1.01597,
          1.0139,
          1.0134,
          1.01336
         ],
         "decreasing": {
          "fillcolor": "#CC2E3C",
          "line": {
           "color": "#FF3A4C"
          }
         },
         "high": [
          1.02182,
          1.02259,
          1.02309,
          1.02454,
          1.0261,
          1.03463,
          1.0335,
          1.03569,
          1.03688,
          1.03358,
          1.03284,
          1.0319,
          1.03056,
          1.03037,
          1.03013,
          1.03049,
          1.03026,
          1.03039,
          1.02981,
          1.02886,
          1.02918,
          1.02934,
          1.02853,
          1.0314,
          1.03324,
          1.03414,
          1.03415,
          1.0343,
          1.03404,
          1.0352,
          1.03644,
          1.03612,
          1.03464,
          1.03396,
          1.03326,
          1.0325,
          1.03264,
          1.03256,
          1.03234,
          1.03274,
          1.03236,
          1.03254,
          1.0316,
          1.03132,
          1.03178,
          1.03218,
          1.03244,
          1.03232,
          1.03166,
          1.0304,
          1.03086,
          1.02988,
          1.02976,
          1.0291,
          1.02843,
          1.02804,
          1.02594,
          1.02618,
          1.0268,
          1.02674,
          1.02668,
          1.02622,
          1.02633,
          1.02626,
          1.02633,
          1.02676,
          1.02683,
          1.02576,
          1.02532,
          1.02559,
          1.02524,
          1.02476,
          1.02447,
          1.02366,
          1.02112,
          1.02069,
          1.02088,
          1.02148,
          1.02234,
          1.02008,
          1.01962,
          1.01854,
          1.01785,
          1.01656,
          1.01644,
          1.01642,
          1.01632,
          1.01674,
          1.01636,
          1.01618,
          1.01588,
          1.0169,
          1.01698,
          1.01637,
          1.01654,
          1.01688,
          1.0163,
          1.01606,
          1.01422,
          1.01425
         ],
         "increasing": {
          "fillcolor": "#24A06B",
          "line": {
           "color": "#2EC886"
          }
         },
         "line": {
          "width": 1
         },
         "low": [
          1.02083,
          1.02019,
          1.02172,
          1.02226,
          1.02342,
          1.02428,
          1.03052,
          1.0318,
          1.03287,
          1.0317,
          1.03164,
          1.03022,
          1.02947,
          1.02958,
          1.02981,
          1.02978,
          1.02982,
          1.02938,
          1.02839,
          1.02821,
          1.02814,
          1.02832,
          1.02755,
          1.02785,
          1.03076,
          1.03186,
          1.03248,
          1.03281,
          1.03222,
          1.03236,
          1.0338,
          1.03303,
          1.03238,
          1.03271,
          1.03176,
          1.03096,
          1.03119,
          1.03161,
          1.03191,
          1.03212,
          1.03182,
          1.03066,
          1.0305,
          1.03056,
          1.03084,
          1.03142,
          1.03137,
          1.03098,
          1.02912,
          1.02881,
          1.02949,
          1.02852,
          1.02778,
          1.0269,
          1.02683,
          1.02384,
          1.0244,
          1.02513,
          1.02565,
          1.02597,
          1.02602,
          1.02547,
          1.02562,
          1.02566,
          1.02538,
          1.02536,
          1.02532,
          1.02398,
          1.02422,
          1.02501,
          1.02398,
          1.02324,
          1.023,
          1.02001,
          1.01868,
          1.01859,
          1.01896,
          1.01906,
          1.01938,
          1.01852,
          1.01814,
          1.01716,
          1.01637,
          1.01544,
          1.01562,
          1.01562,
          1.01598,
          1.01537,
          1.01591,
          1.01476,
          1.01491,
          1.01568,
          1.01609,
          1.01578,
          1.01552,
          1.01514,
          1.01341,
          1.01352,
          1.01248,
          1.01259
         ],
         "opacity": 1,
         "open": [
          1.02116,
          1.02105,
          1.02223,
          1.02274,
          1.02416,
          1.02586,
          1.03243,
          1.03222,
          1.03552,
          1.03337,
          1.03251,
          1.03164,
          1.03036,
          1.03035,
          1.03006,
          1.03002,
          1.03021,
          1.02988,
          1.02981,
          1.02884,
          1.02838,
          1.02886,
          1.02832,
          1.02821,
          1.03122,
          1.03255,
          1.0341,
          1.03361,
          1.03374,
          1.03246,
          1.03468,
          1.03588,
          1.03446,
          1.03374,
          1.03302,
          1.0322,
          1.03244,
          1.0317,
          1.03198,
          1.03232,
          1.03219,
          1.03206,
          1.0313,
          1.03063,
          1.03114,
          1.03178,
          1.03178,
          1.03153,
          1.03117,
          1.02972,
          1.0302,
          1.02984,
          1.02916,
          1.02778,
          1.02708,
          1.02804,
          1.02448,
          1.02544,
          1.02565,
          1.0261,
          1.02652,
          1.02604,
          1.02571,
          1.02608,
          1.02596,
          1.02538,
          1.02662,
          1.02576,
          1.02455,
          1.02521,
          1.02506,
          1.02405,
          1.02366,
          1.02336,
          1.02073,
          1.01994,
          1.02042,
          1.01954,
          1.0201,
          1.01984,
          1.01942,
          1.01854,
          1.01758,
          1.0165,
          1.01564,
          1.01604,
          1.0162,
          1.01608,
          1.01628,
          1.01616,
          1.01536,
          1.0157,
          1.01692,
          1.01623,
          1.0159,
          1.0164,
          1.01542,
          1.016,
          1.01392,
          1.01338
         ],
         "type": "candlestick",
         "x": [
          "s22-08-10 07:00",
          "s22-08-10 08:00",
          "s22-08-10 09:00",
          "s22-08-10 10:00",
          "s22-08-10 11:00",
          "s22-08-10 12:00",
          "s22-08-10 13:00",
          "s22-08-10 14:00",
          "s22-08-10 15:00",
          "s22-08-10 16:00",
          "s22-08-10 17:00",
          "s22-08-10 18:00",
          "s22-08-10 19:00",
          "s22-08-10 20:00",
          "s22-08-10 21:00",
          "s22-08-10 22:00",
          "s22-08-10 23:00",
          "s22-08-11 00:00",
          "s22-08-11 01:00",
          "s22-08-11 02:00",
          "s22-08-11 03:00",
          "s22-08-11 04:00",
          "s22-08-11 05:00",
          "s22-08-11 06:00",
          "s22-08-11 07:00",
          "s22-08-11 08:00",
          "s22-08-11 09:00",
          "s22-08-11 10:00",
          "s22-08-11 11:00",
          "s22-08-11 12:00",
          "s22-08-11 13:00",
          "s22-08-11 14:00",
          "s22-08-11 15:00",
          "s22-08-11 16:00",
          "s22-08-11 17:00",
          "s22-08-11 18:00",
          "s22-08-11 19:00",
          "s22-08-11 20:00",
          "s22-08-11 21:00",
          "s22-08-11 22:00",
          "s22-08-11 23:00",
          "s22-08-12 00:00",
          "s22-08-12 01:00",
          "s22-08-12 02:00",
          "s22-08-12 03:00",
          "s22-08-12 04:00",
          "s22-08-12 05:00",
          "s22-08-12 06:00",
          "s22-08-12 07:00",
          "s22-08-12 08:00",
          "s22-08-12 09:00",
          "s22-08-12 10:00",
          "s22-08-12 11:00",
          "s22-08-12 12:00",
          "s22-08-12 13:00",
          "s22-08-12 14:00",
          "s22-08-12 15:00",
          "s22-08-12 16:00",
          "s22-08-12 17:00",
          "s22-08-12 18:00",
          "s22-08-12 19:00",
          "s22-08-12 20:00",
          "s22-08-14 21:00",
          "s22-08-14 22:00",
          "s22-08-14 23:00",
          "s22-08-15 00:00",
          "s22-08-15 01:00",
          "s22-08-15 02:00",
          "s22-08-15 03:00",
          "s22-08-15 04:00",
          "s22-08-15 05:00",
          "s22-08-15 06:00",
          "s22-08-15 07:00",
          "s22-08-15 08:00",
          "s22-08-15 09:00",
          "s22-08-15 10:00",
          "s22-08-15 11:00",
          "s22-08-15 12:00",
          "s22-08-15 13:00",
          "s22-08-15 14:00",
          "s22-08-15 15:00",
          "s22-08-15 16:00",
          "s22-08-15 17:00",
          "s22-08-15 18:00",
          "s22-08-15 19:00",
          "s22-08-15 20:00",
          "s22-08-15 21:00",
          "s22-08-15 22:00",
          "s22-08-15 23:00",
          "s22-08-16 00:00",
          "s22-08-16 01:00",
          "s22-08-16 02:00",
          "s22-08-16 03:00",
          "s22-08-16 04:00",
          "s22-08-16 05:00",
          "s22-08-16 06:00",
          "s22-08-16 07:00",
          "s22-08-16 08:00",
          "s22-08-16 09:00",
          "s22-08-16 10:00"
         ]
        }
       ],
       "layout": {
        "font": {
         "color": "#e1e1e1",
         "size": 8
        },
        "height": 400,
        "margin": {
         "b": 10,
         "l": 10,
         "r": 10,
         "t": 10
        },
        "paper_bgcolor": "#2c303c",
        "plot_bgcolor": "#2c303c",
        "template": {
         "data": {
          "bar": [
           {
            "error_x": {
             "color": "#2a3f5f"
            },
            "error_y": {
             "color": "#2a3f5f"
            },
            "marker": {
             "line": {
              "color": "#E5ECF6",
              "width": 0.5
             },
             "pattern": {
              "fillmode": "overlay",
              "size": 10,
              "solidity": 0.2
             }
            },
            "type": "bar"
           }
          ],
          "barpolar": [
           {
            "marker": {
             "line": {
              "color": "#E5ECF6",
              "width": 0.5
             },
             "pattern": {
              "fillmode": "overlay",
              "size": 10,
              "solidity": 0.2
             }
            },
            "type": "barpolar"
           }
          ],
          "carpet": [
           {
            "aaxis": {
             "endlinecolor": "#2a3f5f",
             "gridcolor": "white",
             "linecolor": "white",
             "minorgridcolor": "white",
             "startlinecolor": "#2a3f5f"
            },
            "baxis": {
             "endlinecolor": "#2a3f5f",
             "gridcolor": "white",
             "linecolor": "white",
             "minorgridcolor": "white",
             "startlinecolor": "#2a3f5f"
            },
            "type": "carpet"
           }
          ],
          "choropleth": [
           {
            "colorbar": {
             "outlinewidth": 0,
             "ticks": ""
            },
            "type": "choropleth"
           }
          ],
          "contour": [
           {
            "colorbar": {
             "outlinewidth": 0,
             "ticks": ""
            },
            "colorscale": [
             [
              0,
              "#0d0887"
             ],
             [
              0.1111111111111111,
              "#46039f"
             ],
             [
              0.2222222222222222,
              "#7201a8"
             ],
             [
              0.3333333333333333,
              "#9c179e"
             ],
             [
              0.4444444444444444,
              "#bd3786"
             ],
             [
              0.5555555555555556,
              "#d8576b"
             ],
             [
              0.6666666666666666,
              "#ed7953"
             ],
             [
              0.7777777777777778,
              "#fb9f3a"
             ],
             [
              0.8888888888888888,
              "#fdca26"
             ],
             [
              1,
              "#f0f921"
             ]
            ],
            "type": "contour"
           }
          ],
          "contourcarpet": [
           {
            "colorbar": {
             "outlinewidth": 0,
             "ticks": ""
            },
            "type": "contourcarpet"
           }
          ],
          "heatmap": [
           {
            "colorbar": {
             "outlinewidth": 0,
             "ticks": ""
            },
            "colorscale": [
             [
              0,
              "#0d0887"
             ],
             [
              0.1111111111111111,
              "#46039f"
             ],
             [
              0.2222222222222222,
              "#7201a8"
             ],
             [
              0.3333333333333333,
              "#9c179e"
             ],
             [
              0.4444444444444444,
              "#bd3786"
             ],
             [
              0.5555555555555556,
              "#d8576b"
             ],
             [
              0.6666666666666666,
              "#ed7953"
             ],
             [
              0.7777777777777778,
              "#fb9f3a"
             ],
             [
              0.8888888888888888,
              "#fdca26"
             ],
             [
              1,
              "#f0f921"
             ]
            ],
            "type": "heatmap"
           }
          ],
          "heatmapgl": [
           {
            "colorbar": {
             "outlinewidth": 0,
             "ticks": ""
            },
            "colorscale": [
             [
              0,
              "#0d0887"
             ],
             [
              0.1111111111111111,
              "#46039f"
             ],
             [
              0.2222222222222222,
              "#7201a8"
             ],
             [
              0.3333333333333333,
              "#9c179e"
             ],
             [
              0.4444444444444444,
              "#bd3786"
             ],
             [
              0.5555555555555556,
              "#d8576b"
             ],
             [
              0.6666666666666666,
              "#ed7953"
             ],
             [
              0.7777777777777778,
              "#fb9f3a"
             ],
             [
              0.8888888888888888,
              "#fdca26"
             ],
             [
              1,
              "#f0f921"
             ]
            ],
            "type": "heatmapgl"
           }
          ],
          "histogram": [
           {
            "marker": {
             "pattern": {
              "fillmode": "overlay",
              "size": 10,
              "solidity": 0.2
             }
            },
            "type": "histogram"
           }
          ],
          "histogram2d": [
           {
            "colorbar": {
             "outlinewidth": 0,
             "ticks": ""
            },
            "colorscale": [
             [
              0,
              "#0d0887"
             ],
             [
              0.1111111111111111,
              "#46039f"
             ],
             [
              0.2222222222222222,
              "#7201a8"
             ],
             [
              0.3333333333333333,
              "#9c179e"
             ],
             [
              0.4444444444444444,
              "#bd3786"
             ],
             [
              0.5555555555555556,
              "#d8576b"
             ],
             [
              0.6666666666666666,
              "#ed7953"
             ],
             [
              0.7777777777777778,
              "#fb9f3a"
             ],
             [
              0.8888888888888888,
              "#fdca26"
             ],
             [
              1,
              "#f0f921"
             ]
            ],
            "type": "histogram2d"
           }
          ],
          "histogram2dcontour": [
           {
            "colorbar": {
             "outlinewidth": 0,
             "ticks": ""
            },
            "colorscale": [
             [
              0,
              "#0d0887"
             ],
             [
              0.1111111111111111,
              "#46039f"
             ],
             [
              0.2222222222222222,
              "#7201a8"
             ],
             [
              0.3333333333333333,
              "#9c179e"
             ],
             [
              0.4444444444444444,
              "#bd3786"
             ],
             [
              0.5555555555555556,
              "#d8576b"
             ],
             [
              0.6666666666666666,
              "#ed7953"
             ],
             [
              0.7777777777777778,
              "#fb9f3a"
             ],
             [
              0.8888888888888888,
              "#fdca26"
             ],
             [
              1,
              "#f0f921"
             ]
            ],
            "type": "histogram2dcontour"
           }
          ],
          "mesh3d": [
           {
            "colorbar": {
             "outlinewidth": 0,
             "ticks": ""
            },
            "type": "mesh3d"
           }
          ],
          "parcoords": [
           {
            "line": {
             "colorbar": {
              "outlinewidth": 0,
              "ticks": ""
             }
            },
            "type": "parcoords"
           }
          ],
          "pie": [
           {
            "automargin": true,
            "type": "pie"
           }
          ],
          "scatter": [
           {
            "fillpattern": {
             "fillmode": "overlay",
             "size": 10,
             "solidity": 0.2
            },
            "type": "scatter"
           }
          ],
          "scatter3d": [
           {
            "line": {
             "colorbar": {
              "outlinewidth": 0,
              "ticks": ""
             }
            },
            "marker": {
             "colorbar": {
              "outlinewidth": 0,
              "ticks": ""
             }
            },
            "type": "scatter3d"
           }
          ],
          "scattercarpet": [
           {
            "marker": {
             "colorbar": {
              "outlinewidth": 0,
              "ticks": ""
             }
            },
            "type": "scattercarpet"
           }
          ],
          "scattergeo": [
           {
            "marker": {
             "colorbar": {
              "outlinewidth": 0,
              "ticks": ""
             }
            },
            "type": "scattergeo"
           }
          ],
          "scattergl": [
           {
            "marker": {
             "colorbar": {
              "outlinewidth": 0,
              "ticks": ""
             }
            },
            "type": "scattergl"
           }
          ],
          "scattermapbox": [
           {
            "marker": {
             "colorbar": {
              "outlinewidth": 0,
              "ticks": ""
             }
            },
            "type": "scattermapbox"
           }
          ],
          "scatterpolar": [
           {
            "marker": {
             "colorbar": {
              "outlinewidth": 0,
              "ticks": ""
             }
            },
            "type": "scatterpolar"
           }
          ],
          "scatterpolargl": [
           {
            "marker": {
             "colorbar": {
              "outlinewidth": 0,
              "ticks": ""
             }
            },
            "type": "scatterpolargl"
           }
          ],
          "scatterternary": [
           {
            "marker": {
             "colorbar": {
              "outlinewidth": 0,
              "ticks": ""
             }
            },
            "type": "scatterternary"
           }
          ],
          "surface": [
           {
            "colorbar": {
             "outlinewidth": 0,
             "ticks": ""
            },
            "colorscale": [
             [
              0,
              "#0d0887"
             ],
             [
              0.1111111111111111,
              "#46039f"
             ],
             [
              0.2222222222222222,
              "#7201a8"
             ],
             [
              0.3333333333333333,
              "#9c179e"
             ],
             [
              0.4444444444444444,
              "#bd3786"
             ],
             [
              0.5555555555555556,
              "#d8576b"
             ],
             [
              0.6666666666666666,
              "#ed7953"
             ],
             [
              0.7777777777777778,
              "#fb9f3a"
             ],
             [
              0.8888888888888888,
              "#fdca26"
             ],
             [
              1,
              "#f0f921"
             ]
            ],
            "type": "surface"
           }
          ],
          "table": [
           {
            "cells": {
             "fill": {
              "color": "#EBF0F8"
             },
             "line": {
              "color": "white"
             }
            },
            "header": {
             "fill": {
              "color": "#C8D4E3"
             },
             "line": {
              "color": "white"
             }
            },
            "type": "table"
           }
          ]
         },
         "layout": {
          "annotationdefaults": {
           "arrowcolor": "#2a3f5f",
           "arrowhead": 0,
           "arrowwidth": 1
          },
          "autotypenumbers": "strict",
          "coloraxis": {
           "colorbar": {
            "outlinewidth": 0,
            "ticks": ""
           }
          },
          "colorscale": {
           "diverging": [
            [
             0,
             "#8e0152"
            ],
            [
             0.1,
             "#c51b7d"
            ],
            [
             0.2,
             "#de77ae"
            ],
            [
             0.3,
             "#f1b6da"
            ],
            [
             0.4,
             "#fde0ef"
            ],
            [
             0.5,
             "#f7f7f7"
            ],
            [
             0.6,
             "#e6f5d0"
            ],
            [
             0.7,
             "#b8e186"
            ],
            [
             0.8,
             "#7fbc41"
            ],
            [
             0.9,
             "#4d9221"
            ],
            [
             1,
             "#276419"
            ]
           ],
           "sequential": [
            [
             0,
             "#0d0887"
            ],
            [
             0.1111111111111111,
             "#46039f"
            ],
            [
             0.2222222222222222,
             "#7201a8"
            ],
            [
             0.3333333333333333,
             "#9c179e"
            ],
            [
             0.4444444444444444,
             "#bd3786"
            ],
            [
             0.5555555555555556,
             "#d8576b"
            ],
            [
             0.6666666666666666,
             "#ed7953"
            ],
            [
             0.7777777777777778,
             "#fb9f3a"
            ],
            [
             0.8888888888888888,
             "#fdca26"
            ],
            [
             1,
             "#f0f921"
            ]
           ],
           "sequentialminus": [
            [
             0,
             "#0d0887"
            ],
            [
             0.1111111111111111,
             "#46039f"
            ],
            [
             0.2222222222222222,
             "#7201a8"
            ],
            [
             0.3333333333333333,
             "#9c179e"
            ],
            [
             0.4444444444444444,
             "#bd3786"
            ],
            [
             0.5555555555555556,
             "#d8576b"
            ],
            [
             0.6666666666666666,
             "#ed7953"
            ],
            [
             0.7777777777777778,
             "#fb9f3a"
            ],
            [
             0.8888888888888888,
             "#fdca26"
            ],
            [
             1,
             "#f0f921"
            ]
           ]
          },
          "colorway": [
           "#636efa",
           "#EF553B",
           "#00cc96",
           "#ab63fa",
           "#FFA15A",
           "#19d3f3",
           "#FF6692",
           "#B6E880",
           "#FF97FF",
           "#FECB52"
          ],
          "font": {
           "color": "#2a3f5f"
          },
          "geo": {
           "bgcolor": "white",
           "lakecolor": "white",
           "landcolor": "#E5ECF6",
           "showlakes": true,
           "showland": true,
           "subunitcolor": "white"
          },
          "hoverlabel": {
           "align": "left"
          },
          "hovermode": "closest",
          "mapbox": {
           "style": "light"
          },
          "paper_bgcolor": "white",
          "plot_bgcolor": "#E5ECF6",
          "polar": {
           "angularaxis": {
            "gridcolor": "white",
            "linecolor": "white",
            "ticks": ""
           },
           "bgcolor": "#E5ECF6",
           "radialaxis": {
            "gridcolor": "white",
            "linecolor": "white",
            "ticks": ""
           }
          },
          "scene": {
           "xaxis": {
            "backgroundcolor": "#E5ECF6",
            "gridcolor": "white",
            "gridwidth": 2,
            "linecolor": "white",
            "showbackground": true,
            "ticks": "",
            "zerolinecolor": "white"
           },
           "yaxis": {
            "backgroundcolor": "#E5ECF6",
            "gridcolor": "white",
            "gridwidth": 2,
            "linecolor": "white",
            "showbackground": true,
            "ticks": "",
            "zerolinecolor": "white"
           },
           "zaxis": {
            "backgroundcolor": "#E5ECF6",
            "gridcolor": "white",
            "gridwidth": 2,
            "linecolor": "white",
            "showbackground": true,
            "ticks": "",
            "zerolinecolor": "white"
           }
          },
          "shapedefaults": {
           "line": {
            "color": "#2a3f5f"
           }
          },
          "ternary": {
           "aaxis": {
            "gridcolor": "white",
            "linecolor": "white",
            "ticks": ""
           },
           "baxis": {
            "gridcolor": "white",
            "linecolor": "white",
            "ticks": ""
           },
           "bgcolor": "#E5ECF6",
           "caxis": {
            "gridcolor": "white",
            "linecolor": "white",
            "ticks": ""
           }
          },
          "title": {
           "x": 0.05
          },
          "xaxis": {
           "automargin": true,
           "gridcolor": "white",
           "linecolor": "white",
           "ticks": "",
           "title": {
            "standoff": 15
           },
           "zerolinecolor": "white",
           "zerolinewidth": 2
          },
          "yaxis": {
           "automargin": true,
           "gridcolor": "white",
           "linecolor": "white",
           "ticks": "",
           "title": {
            "standoff": 15
           },
           "zerolinecolor": "white",
           "zerolinewidth": 2
          }
         }
        },
        "width": 900,
        "xaxis": {
         "gridcolor": "#1f292f",
         "nticks": 5,
         "rangeslider": {
          "visible": false
         }
        },
        "yaxis": {
         "gridcolor": "#1f292f"
        }
       }
      }
     },
     "metadata": {},
     "output_type": "display_data"
    }
   ],
   "source": [
    "cp.show_plot()"
   ]
  },
  {
   "cell_type": "code",
   "execution_count": null,
   "id": "1f25826c",
   "metadata": {},
   "outputs": [],
   "source": []
  },
  {
   "cell_type": "code",
   "execution_count": null,
   "id": "43f3bf12",
   "metadata": {},
   "outputs": [],
   "source": []
  },
  {
   "cell_type": "code",
   "execution_count": null,
   "id": "29ec4abb",
   "metadata": {},
   "outputs": [],
   "source": []
  }
 ],
 "metadata": {
  "kernelspec": {
   "display_name": "Python 3 (ipykernel)",
   "language": "python",
   "name": "python3"
  },
  "language_info": {
   "codemirror_mode": {
    "name": "ipython",
    "version": 3
   },
   "file_extension": ".py",
   "mimetype": "text/x-python",
   "name": "python",
   "nbconvert_exporter": "python",
   "pygments_lexer": "ipython3",
   "version": "3.9.8"
  }
 },
 "nbformat": 4,
 "nbformat_minor": 5
}
