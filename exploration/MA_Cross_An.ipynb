{
 "cells": [
  {
   "cell_type": "code",
   "execution_count": 1,
   "id": "ed1e3197",
   "metadata": {},
   "outputs": [],
   "source": [
    "import pandas as pd\n",
    "from plotting import CandlePlot\n",
    "pd.set_option(\"display.max_columns\", None)"
   ]
  },
  {
   "cell_type": "code",
   "execution_count": 2,
   "id": "c69a1c64",
   "metadata": {},
   "outputs": [],
   "source": [
    "df_ma_res = pd.read_pickle(\"../data/ma_res.pkl\")\n",
    "df_ma_trades = pd.read_pickle(\"../data/ma_trades.pkl\")"
   ]
  },
  {
   "cell_type": "code",
   "execution_count": 3,
   "id": "002dc629",
   "metadata": {},
   "outputs": [
    {
     "data": {
      "text/plain": [
       "array(['H1', 'H4'], dtype=object)"
      ]
     },
     "execution_count": 3,
     "metadata": {},
     "output_type": "execute_result"
    }
   ],
   "source": [
    "df_ma_res.granularity.unique()"
   ]
  },
  {
   "cell_type": "code",
   "execution_count": 9,
   "id": "5ff7febe",
   "metadata": {},
   "outputs": [
    {
     "data": {
      "text/html": [
       "<div>\n",
       "<style scoped>\n",
       "    .dataframe tbody tr th:only-of-type {\n",
       "        vertical-align: middle;\n",
       "    }\n",
       "\n",
       "    .dataframe tbody tr th {\n",
       "        vertical-align: top;\n",
       "    }\n",
       "\n",
       "    .dataframe thead th {\n",
       "        text-align: right;\n",
       "    }\n",
       "</style>\n",
       "<table border=\"1\" class=\"dataframe\">\n",
       "  <thead>\n",
       "    <tr style=\"text-align: right;\">\n",
       "      <th></th>\n",
       "      <th>pair</th>\n",
       "      <th>num_trades</th>\n",
       "      <th>total_gain</th>\n",
       "      <th>mean_gain</th>\n",
       "      <th>min_gain</th>\n",
       "      <th>max_gain</th>\n",
       "      <th>ma_l</th>\n",
       "      <th>ma_s</th>\n",
       "      <th>cross</th>\n",
       "      <th>granularity</th>\n",
       "    </tr>\n",
       "  </thead>\n",
       "  <tbody>\n",
       "    <tr>\n",
       "      <th>0</th>\n",
       "      <td>EUR_USD</td>\n",
       "      <td>226</td>\n",
       "      <td>-1574</td>\n",
       "      <td>-6</td>\n",
       "      <td>-219</td>\n",
       "      <td>216</td>\n",
       "      <td>MA_20</td>\n",
       "      <td>MA_10</td>\n",
       "      <td>MA_10_MA_20</td>\n",
       "      <td>H1</td>\n",
       "    </tr>\n",
       "    <tr>\n",
       "      <th>1</th>\n",
       "      <td>EUR_USD</td>\n",
       "      <td>116</td>\n",
       "      <td>-815</td>\n",
       "      <td>-7</td>\n",
       "      <td>-147</td>\n",
       "      <td>263</td>\n",
       "      <td>MA_40</td>\n",
       "      <td>MA_10</td>\n",
       "      <td>MA_10_MA_40</td>\n",
       "      <td>H1</td>\n",
       "    </tr>\n",
       "    <tr>\n",
       "      <th>2</th>\n",
       "      <td>EUR_USD</td>\n",
       "      <td>111</td>\n",
       "      <td>-273</td>\n",
       "      <td>-2</td>\n",
       "      <td>-176</td>\n",
       "      <td>233</td>\n",
       "      <td>MA_40</td>\n",
       "      <td>MA_20</td>\n",
       "      <td>MA_20_MA_40</td>\n",
       "      <td>H1</td>\n",
       "    </tr>\n",
       "    <tr>\n",
       "      <th>3</th>\n",
       "      <td>EUR_USD</td>\n",
       "      <td>124</td>\n",
       "      <td>352</td>\n",
       "      <td>2</td>\n",
       "      <td>-190</td>\n",
       "      <td>260</td>\n",
       "      <td>MA_40</td>\n",
       "      <td>MA_30</td>\n",
       "      <td>MA_30_MA_40</td>\n",
       "      <td>H1</td>\n",
       "    </tr>\n",
       "    <tr>\n",
       "      <th>4</th>\n",
       "      <td>EUR_USD</td>\n",
       "      <td>80</td>\n",
       "      <td>-938</td>\n",
       "      <td>-11</td>\n",
       "      <td>-219</td>\n",
       "      <td>235</td>\n",
       "      <td>MA_80</td>\n",
       "      <td>MA_10</td>\n",
       "      <td>MA_10_MA_80</td>\n",
       "      <td>H1</td>\n",
       "    </tr>\n",
       "  </tbody>\n",
       "</table>\n",
       "</div>"
      ],
      "text/plain": [
       "      pair  num_trades  total_gain  mean_gain  min_gain  max_gain   ma_l  \\\n",
       "0  EUR_USD         226       -1574         -6      -219       216  MA_20   \n",
       "1  EUR_USD         116        -815         -7      -147       263  MA_40   \n",
       "2  EUR_USD         111        -273         -2      -176       233  MA_40   \n",
       "3  EUR_USD         124         352          2      -190       260  MA_40   \n",
       "4  EUR_USD          80        -938        -11      -219       235  MA_80   \n",
       "\n",
       "    ma_s        cross granularity  \n",
       "0  MA_10  MA_10_MA_20          H1  \n",
       "1  MA_10  MA_10_MA_40          H1  \n",
       "2  MA_20  MA_20_MA_40          H1  \n",
       "3  MA_30  MA_30_MA_40          H1  \n",
       "4  MA_10  MA_10_MA_80          H1  "
      ]
     },
     "execution_count": 9,
     "metadata": {},
     "output_type": "execute_result"
    }
   ],
   "source": [
    "df_ma_res.head()"
   ]
  },
  {
   "cell_type": "code",
   "execution_count": 4,
   "id": "3bc85f28",
   "metadata": {},
   "outputs": [],
   "source": [
    "df_ma_res_h1 = df_ma_res[df_ma_res.granularity == \"H1\"].copy()\n",
    "df_ma_trades_h1 = df_ma_trades[df_ma_trades.granularity == \"H1\"].copy()"
   ]
  },
  {
   "cell_type": "code",
   "execution_count": 5,
   "id": "a4cae280",
   "metadata": {},
   "outputs": [
    {
     "data": {
      "text/plain": [
       "(17972, 32)"
      ]
     },
     "execution_count": 5,
     "metadata": {},
     "output_type": "execute_result"
    }
   ],
   "source": [
    "df_ma_trades_h1.shape"
   ]
  },
  {
   "cell_type": "code",
   "execution_count": 6,
   "id": "1f1357db",
   "metadata": {},
   "outputs": [
    {
     "data": {
      "text/plain": [
       "Index(['pair', 'num_trades', 'total_gain', 'mean_gain', 'min_gain', 'max_gain',\n",
       "       'ma_l', 'ma_s', 'cross', 'granularity'],\n",
       "      dtype='object')"
      ]
     },
     "execution_count": 6,
     "metadata": {},
     "output_type": "execute_result"
    }
   ],
   "source": [
    "df_ma_res_h1.columns"
   ]
  },
  {
   "cell_type": "code",
   "execution_count": 10,
   "id": "596ecfa0",
   "metadata": {},
   "outputs": [],
   "source": [
    "df_cross_summary = df_ma_res_h1[['pair', 'num_trades', 'total_gain','cross']].copy()"
   ]
  },
  {
   "cell_type": "code",
   "execution_count": 18,
   "id": "28376ea9",
   "metadata": {},
   "outputs": [],
   "source": [
    "df_cross_gr = df_cross_summary.groupby(by=\"cross\", as_index=False).sum(numeric_only=True)\n",
    "df_cross_gr.sort_values(by=\"total_gain\", ascending=False, inplace=True)"
   ]
  },
  {
   "cell_type": "code",
   "execution_count": 19,
   "id": "6885b252",
   "metadata": {},
   "outputs": [
    {
     "data": {
      "text/html": [
       "<div>\n",
       "<style scoped>\n",
       "    .dataframe tbody tr th:only-of-type {\n",
       "        vertical-align: middle;\n",
       "    }\n",
       "\n",
       "    .dataframe tbody tr th {\n",
       "        vertical-align: top;\n",
       "    }\n",
       "\n",
       "    .dataframe thead th {\n",
       "        text-align: right;\n",
       "    }\n",
       "</style>\n",
       "<table border=\"1\" class=\"dataframe\">\n",
       "  <thead>\n",
       "    <tr style=\"text-align: right;\">\n",
       "      <th></th>\n",
       "      <th>cross</th>\n",
       "      <th>num_trades</th>\n",
       "      <th>total_gain</th>\n",
       "    </tr>\n",
       "  </thead>\n",
       "  <tbody>\n",
       "    <tr>\n",
       "      <th>15</th>\n",
       "      <td>MA_40_MA_80</td>\n",
       "      <td>820</td>\n",
       "      <td>-4737</td>\n",
       "    </tr>\n",
       "    <tr>\n",
       "      <th>11</th>\n",
       "      <td>MA_30_MA_40</td>\n",
       "      <td>1870</td>\n",
       "      <td>-6222</td>\n",
       "    </tr>\n",
       "    <tr>\n",
       "      <th>2</th>\n",
       "      <td>MA_10_MA_20</td>\n",
       "      <td>3198</td>\n",
       "      <td>-6280</td>\n",
       "    </tr>\n",
       "    <tr>\n",
       "      <th>4</th>\n",
       "      <td>MA_10_MA_80</td>\n",
       "      <td>1163</td>\n",
       "      <td>-8000</td>\n",
       "    </tr>\n",
       "    <tr>\n",
       "      <th>12</th>\n",
       "      <td>MA_30_MA_80</td>\n",
       "      <td>858</td>\n",
       "      <td>-8624</td>\n",
       "    </tr>\n",
       "  </tbody>\n",
       "</table>\n",
       "</div>"
      ],
      "text/plain": [
       "          cross  num_trades  total_gain\n",
       "15  MA_40_MA_80         820       -4737\n",
       "11  MA_30_MA_40        1870       -6222\n",
       "2   MA_10_MA_20        3198       -6280\n",
       "4   MA_10_MA_80        1163       -8000\n",
       "12  MA_30_MA_80         858       -8624"
      ]
     },
     "execution_count": 19,
     "metadata": {},
     "output_type": "execute_result"
    }
   ],
   "source": [
    "df_cross_gr.head()"
   ]
  },
  {
   "attachments": {},
   "cell_type": "markdown",
   "id": "f222c545",
   "metadata": {},
   "source": [
    "## find the best cross"
   ]
  },
  {
   "cell_type": "code",
   "execution_count": 14,
   "id": "2aede132",
   "metadata": {},
   "outputs": [],
   "source": [
    "total_pairs = len(df_ma_res_h1.pair.unique())"
   ]
  },
  {
   "cell_type": "code",
   "execution_count": 15,
   "id": "1b460708",
   "metadata": {},
   "outputs": [
    {
     "data": {
      "text/plain": [
       "15"
      ]
     },
     "execution_count": 15,
     "metadata": {},
     "output_type": "execute_result"
    }
   ],
   "source": [
    "total_pairs"
   ]
  },
  {
   "cell_type": "code",
   "execution_count": 16,
   "id": "dfe06d16",
   "metadata": {},
   "outputs": [],
   "source": [
    "temp = df_ma_res_h1[df_ma_res_h1.cross == \"MA_10_MA_40\"]"
   ]
  },
  {
   "cell_type": "code",
   "execution_count": 20,
   "id": "529c049f",
   "metadata": {},
   "outputs": [
    {
     "data": {
      "text/html": [
       "<div>\n",
       "<style scoped>\n",
       "    .dataframe tbody tr th:only-of-type {\n",
       "        vertical-align: middle;\n",
       "    }\n",
       "\n",
       "    .dataframe tbody tr th {\n",
       "        vertical-align: top;\n",
       "    }\n",
       "\n",
       "    .dataframe thead th {\n",
       "        text-align: right;\n",
       "    }\n",
       "</style>\n",
       "<table border=\"1\" class=\"dataframe\">\n",
       "  <thead>\n",
       "    <tr style=\"text-align: right;\">\n",
       "      <th></th>\n",
       "      <th>pair</th>\n",
       "      <th>num_trades</th>\n",
       "      <th>total_gain</th>\n",
       "      <th>mean_gain</th>\n",
       "      <th>min_gain</th>\n",
       "      <th>max_gain</th>\n",
       "      <th>ma_l</th>\n",
       "      <th>ma_s</th>\n",
       "      <th>cross</th>\n",
       "      <th>granularity</th>\n",
       "    </tr>\n",
       "  </thead>\n",
       "  <tbody>\n",
       "    <tr>\n",
       "      <th>1</th>\n",
       "      <td>EUR_USD</td>\n",
       "      <td>116</td>\n",
       "      <td>-815</td>\n",
       "      <td>-7</td>\n",
       "      <td>-147</td>\n",
       "      <td>263</td>\n",
       "      <td>MA_40</td>\n",
       "      <td>MA_10</td>\n",
       "      <td>MA_10_MA_40</td>\n",
       "      <td>H1</td>\n",
       "    </tr>\n",
       "    <tr>\n",
       "      <th>17</th>\n",
       "      <td>EUR_GBP</td>\n",
       "      <td>107</td>\n",
       "      <td>314</td>\n",
       "      <td>2</td>\n",
       "      <td>-106</td>\n",
       "      <td>245</td>\n",
       "      <td>MA_40</td>\n",
       "      <td>MA_10</td>\n",
       "      <td>MA_10_MA_40</td>\n",
       "      <td>H1</td>\n",
       "    </tr>\n",
       "    <tr>\n",
       "      <th>33</th>\n",
       "      <td>EUR_JPY</td>\n",
       "      <td>121</td>\n",
       "      <td>-1356</td>\n",
       "      <td>-11</td>\n",
       "      <td>-386</td>\n",
       "      <td>490</td>\n",
       "      <td>MA_40</td>\n",
       "      <td>MA_10</td>\n",
       "      <td>MA_10_MA_40</td>\n",
       "      <td>H1</td>\n",
       "    </tr>\n",
       "    <tr>\n",
       "      <th>49</th>\n",
       "      <td>EUR_AUD</td>\n",
       "      <td>139</td>\n",
       "      <td>-2698</td>\n",
       "      <td>-19</td>\n",
       "      <td>-225</td>\n",
       "      <td>287</td>\n",
       "      <td>MA_40</td>\n",
       "      <td>MA_10</td>\n",
       "      <td>MA_10_MA_40</td>\n",
       "      <td>H1</td>\n",
       "    </tr>\n",
       "    <tr>\n",
       "      <th>65</th>\n",
       "      <td>EUR_CAD</td>\n",
       "      <td>119</td>\n",
       "      <td>-682</td>\n",
       "      <td>-5</td>\n",
       "      <td>-152</td>\n",
       "      <td>253</td>\n",
       "      <td>MA_40</td>\n",
       "      <td>MA_10</td>\n",
       "      <td>MA_10_MA_40</td>\n",
       "      <td>H1</td>\n",
       "    </tr>\n",
       "    <tr>\n",
       "      <th>81</th>\n",
       "      <td>USD_JPY</td>\n",
       "      <td>122</td>\n",
       "      <td>-662</td>\n",
       "      <td>-5</td>\n",
       "      <td>-410</td>\n",
       "      <td>488</td>\n",
       "      <td>MA_40</td>\n",
       "      <td>MA_10</td>\n",
       "      <td>MA_10_MA_40</td>\n",
       "      <td>H1</td>\n",
       "    </tr>\n",
       "    <tr>\n",
       "      <th>97</th>\n",
       "      <td>USD_CAD</td>\n",
       "      <td>127</td>\n",
       "      <td>-1603</td>\n",
       "      <td>-12</td>\n",
       "      <td>-170</td>\n",
       "      <td>273</td>\n",
       "      <td>MA_40</td>\n",
       "      <td>MA_10</td>\n",
       "      <td>MA_10_MA_40</td>\n",
       "      <td>H1</td>\n",
       "    </tr>\n",
       "    <tr>\n",
       "      <th>113</th>\n",
       "      <td>GBP_USD</td>\n",
       "      <td>112</td>\n",
       "      <td>193</td>\n",
       "      <td>1</td>\n",
       "      <td>-224</td>\n",
       "      <td>553</td>\n",
       "      <td>MA_40</td>\n",
       "      <td>MA_10</td>\n",
       "      <td>MA_10_MA_40</td>\n",
       "      <td>H1</td>\n",
       "    </tr>\n",
       "    <tr>\n",
       "      <th>129</th>\n",
       "      <td>GBP_JPY</td>\n",
       "      <td>114</td>\n",
       "      <td>1128</td>\n",
       "      <td>9</td>\n",
       "      <td>-436</td>\n",
       "      <td>772</td>\n",
       "      <td>MA_40</td>\n",
       "      <td>MA_10</td>\n",
       "      <td>MA_10_MA_40</td>\n",
       "      <td>H1</td>\n",
       "    </tr>\n",
       "    <tr>\n",
       "      <th>145</th>\n",
       "      <td>GBP_AUD</td>\n",
       "      <td>141</td>\n",
       "      <td>-614</td>\n",
       "      <td>-4</td>\n",
       "      <td>-179</td>\n",
       "      <td>783</td>\n",
       "      <td>MA_40</td>\n",
       "      <td>MA_10</td>\n",
       "      <td>MA_10_MA_40</td>\n",
       "      <td>H1</td>\n",
       "    </tr>\n",
       "    <tr>\n",
       "      <th>161</th>\n",
       "      <td>GBP_CAD</td>\n",
       "      <td>118</td>\n",
       "      <td>812</td>\n",
       "      <td>6</td>\n",
       "      <td>-184</td>\n",
       "      <td>602</td>\n",
       "      <td>MA_40</td>\n",
       "      <td>MA_10</td>\n",
       "      <td>MA_10_MA_40</td>\n",
       "      <td>H1</td>\n",
       "    </tr>\n",
       "    <tr>\n",
       "      <th>177</th>\n",
       "      <td>AUD_USD</td>\n",
       "      <td>124</td>\n",
       "      <td>-870</td>\n",
       "      <td>-7</td>\n",
       "      <td>-131</td>\n",
       "      <td>180</td>\n",
       "      <td>MA_40</td>\n",
       "      <td>MA_10</td>\n",
       "      <td>MA_10_MA_40</td>\n",
       "      <td>H1</td>\n",
       "    </tr>\n",
       "    <tr>\n",
       "      <th>193</th>\n",
       "      <td>AUD_JPY</td>\n",
       "      <td>134</td>\n",
       "      <td>-712</td>\n",
       "      <td>-5</td>\n",
       "      <td>-312</td>\n",
       "      <td>271</td>\n",
       "      <td>MA_40</td>\n",
       "      <td>MA_10</td>\n",
       "      <td>MA_10_MA_40</td>\n",
       "      <td>H1</td>\n",
       "    </tr>\n",
       "    <tr>\n",
       "      <th>209</th>\n",
       "      <td>AUD_CAD</td>\n",
       "      <td>142</td>\n",
       "      <td>-1714</td>\n",
       "      <td>-12</td>\n",
       "      <td>-138</td>\n",
       "      <td>153</td>\n",
       "      <td>MA_40</td>\n",
       "      <td>MA_10</td>\n",
       "      <td>MA_10_MA_40</td>\n",
       "      <td>H1</td>\n",
       "    </tr>\n",
       "    <tr>\n",
       "      <th>225</th>\n",
       "      <td>CAD_JPY</td>\n",
       "      <td>124</td>\n",
       "      <td>-1653</td>\n",
       "      <td>-13</td>\n",
       "      <td>-313</td>\n",
       "      <td>284</td>\n",
       "      <td>MA_40</td>\n",
       "      <td>MA_10</td>\n",
       "      <td>MA_10_MA_40</td>\n",
       "      <td>H1</td>\n",
       "    </tr>\n",
       "  </tbody>\n",
       "</table>\n",
       "</div>"
      ],
      "text/plain": [
       "        pair  num_trades  total_gain  mean_gain  min_gain  max_gain   ma_l  \\\n",
       "1    EUR_USD         116        -815         -7      -147       263  MA_40   \n",
       "17   EUR_GBP         107         314          2      -106       245  MA_40   \n",
       "33   EUR_JPY         121       -1356        -11      -386       490  MA_40   \n",
       "49   EUR_AUD         139       -2698        -19      -225       287  MA_40   \n",
       "65   EUR_CAD         119        -682         -5      -152       253  MA_40   \n",
       "81   USD_JPY         122        -662         -5      -410       488  MA_40   \n",
       "97   USD_CAD         127       -1603        -12      -170       273  MA_40   \n",
       "113  GBP_USD         112         193          1      -224       553  MA_40   \n",
       "129  GBP_JPY         114        1128          9      -436       772  MA_40   \n",
       "145  GBP_AUD         141        -614         -4      -179       783  MA_40   \n",
       "161  GBP_CAD         118         812          6      -184       602  MA_40   \n",
       "177  AUD_USD         124        -870         -7      -131       180  MA_40   \n",
       "193  AUD_JPY         134        -712         -5      -312       271  MA_40   \n",
       "209  AUD_CAD         142       -1714        -12      -138       153  MA_40   \n",
       "225  CAD_JPY         124       -1653        -13      -313       284  MA_40   \n",
       "\n",
       "      ma_s        cross granularity  \n",
       "1    MA_10  MA_10_MA_40          H1  \n",
       "17   MA_10  MA_10_MA_40          H1  \n",
       "33   MA_10  MA_10_MA_40          H1  \n",
       "49   MA_10  MA_10_MA_40          H1  \n",
       "65   MA_10  MA_10_MA_40          H1  \n",
       "81   MA_10  MA_10_MA_40          H1  \n",
       "97   MA_10  MA_10_MA_40          H1  \n",
       "113  MA_10  MA_10_MA_40          H1  \n",
       "129  MA_10  MA_10_MA_40          H1  \n",
       "145  MA_10  MA_10_MA_40          H1  \n",
       "161  MA_10  MA_10_MA_40          H1  \n",
       "177  MA_10  MA_10_MA_40          H1  \n",
       "193  MA_10  MA_10_MA_40          H1  \n",
       "209  MA_10  MA_10_MA_40          H1  \n",
       "225  MA_10  MA_10_MA_40          H1  "
      ]
     },
     "execution_count": 20,
     "metadata": {},
     "output_type": "execute_result"
    }
   ],
   "source": [
    "temp"
   ]
  },
  {
   "cell_type": "code",
   "execution_count": 22,
   "id": "f8d15622",
   "metadata": {},
   "outputs": [
    {
     "data": {
      "text/plain": [
       "4"
      ]
     },
     "execution_count": 22,
     "metadata": {},
     "output_type": "execute_result"
    }
   ],
   "source": [
    "temp[temp.total_gain > 0].shape[0] # number of pair that get positive gain"
   ]
  },
  {
   "cell_type": "code",
   "execution_count": 23,
   "id": "e290be51",
   "metadata": {},
   "outputs": [
    {
     "name": "stdout",
     "output_type": "stream",
     "text": [
      "MA_10_MA_20 pg:4 perc gain:27%\n",
      "MA_10_MA_40 pg:4 perc gain:27%\n",
      "MA_20_MA_40 pg:3 perc gain:20%\n",
      "MA_30_MA_40 pg:6 perc gain:40%\n",
      "MA_10_MA_80 pg:6 perc gain:40%\n",
      "MA_20_MA_80 pg:2 perc gain:13%\n",
      "MA_30_MA_80 pg:5 perc gain:33%\n",
      "MA_40_MA_80 pg:5 perc gain:33%\n",
      "MA_10_MA_120 pg:3 perc gain:20%\n",
      "MA_20_MA_120 pg:3 perc gain:20%\n",
      "MA_30_MA_120 pg:3 perc gain:20%\n",
      "MA_40_MA_120 pg:2 perc gain:13%\n",
      "MA_10_MA_150 pg:2 perc gain:13%\n",
      "MA_20_MA_150 pg:3 perc gain:20%\n",
      "MA_30_MA_150 pg:2 perc gain:13%\n",
      "MA_40_MA_150 pg:1 perc gain:7%\n"
     ]
    }
   ],
   "source": [
    "for c in df_ma_res_h1.cross.unique():\n",
    "    temp = df_ma_res_h1[df_ma_res_h1.cross == c]\n",
    "    pg = temp[temp.total_gain > 0].shape[0]\n",
    "    print(f\"{c} pg:{pg} perc gain:{(pg / total_pairs) * 100:.0f}%\")"
   ]
  },
  {
   "attachments": {},
   "cell_type": "markdown",
   "id": "91ab9701",
   "metadata": {},
   "source": [
    "## how good is one choson cross"
   ]
  },
  {
   "cell_type": "code",
   "execution_count": 24,
   "id": "5ac6b45f",
   "metadata": {},
   "outputs": [],
   "source": [
    "cross = \"MA_10_MA_20\"\n",
    "df_MA_10_MA_20 = df_ma_res_h1[df_ma_res_h1.cross == cross].copy()\n",
    "df_MA_10_MA_20.sort_values(by=\"total_gain\", ascending=False, inplace=True)"
   ]
  },
  {
   "cell_type": "code",
   "execution_count": 25,
   "id": "c2d5205b",
   "metadata": {},
   "outputs": [
    {
     "data": {
      "text/html": [
       "<div>\n",
       "<style scoped>\n",
       "    .dataframe tbody tr th:only-of-type {\n",
       "        vertical-align: middle;\n",
       "    }\n",
       "\n",
       "    .dataframe tbody tr th {\n",
       "        vertical-align: top;\n",
       "    }\n",
       "\n",
       "    .dataframe thead th {\n",
       "        text-align: right;\n",
       "    }\n",
       "</style>\n",
       "<table border=\"1\" class=\"dataframe\">\n",
       "  <thead>\n",
       "    <tr style=\"text-align: right;\">\n",
       "      <th></th>\n",
       "      <th>pair</th>\n",
       "      <th>num_trades</th>\n",
       "      <th>total_gain</th>\n",
       "      <th>mean_gain</th>\n",
       "      <th>min_gain</th>\n",
       "      <th>max_gain</th>\n",
       "      <th>ma_l</th>\n",
       "      <th>ma_s</th>\n",
       "      <th>cross</th>\n",
       "      <th>granularity</th>\n",
       "    </tr>\n",
       "  </thead>\n",
       "  <tbody>\n",
       "    <tr>\n",
       "      <th>128</th>\n",
       "      <td>GBP_JPY</td>\n",
       "      <td>193</td>\n",
       "      <td>1266</td>\n",
       "      <td>6</td>\n",
       "      <td>-425</td>\n",
       "      <td>668</td>\n",
       "      <td>MA_20</td>\n",
       "      <td>MA_10</td>\n",
       "      <td>MA_10_MA_20</td>\n",
       "      <td>H1</td>\n",
       "    </tr>\n",
       "    <tr>\n",
       "      <th>160</th>\n",
       "      <td>GBP_CAD</td>\n",
       "      <td>216</td>\n",
       "      <td>1106</td>\n",
       "      <td>5</td>\n",
       "      <td>-194</td>\n",
       "      <td>543</td>\n",
       "      <td>MA_20</td>\n",
       "      <td>MA_10</td>\n",
       "      <td>MA_10_MA_20</td>\n",
       "      <td>H1</td>\n",
       "    </tr>\n",
       "    <tr>\n",
       "      <th>144</th>\n",
       "      <td>GBP_AUD</td>\n",
       "      <td>206</td>\n",
       "      <td>446</td>\n",
       "      <td>2</td>\n",
       "      <td>-244</td>\n",
       "      <td>727</td>\n",
       "      <td>MA_20</td>\n",
       "      <td>MA_10</td>\n",
       "      <td>MA_10_MA_20</td>\n",
       "      <td>H1</td>\n",
       "    </tr>\n",
       "    <tr>\n",
       "      <th>112</th>\n",
       "      <td>GBP_USD</td>\n",
       "      <td>208</td>\n",
       "      <td>146</td>\n",
       "      <td>0</td>\n",
       "      <td>-249</td>\n",
       "      <td>388</td>\n",
       "      <td>MA_20</td>\n",
       "      <td>MA_10</td>\n",
       "      <td>MA_10_MA_20</td>\n",
       "      <td>H1</td>\n",
       "    </tr>\n",
       "    <tr>\n",
       "      <th>208</th>\n",
       "      <td>AUD_CAD</td>\n",
       "      <td>209</td>\n",
       "      <td>-179</td>\n",
       "      <td>0</td>\n",
       "      <td>-129</td>\n",
       "      <td>200</td>\n",
       "      <td>MA_20</td>\n",
       "      <td>MA_10</td>\n",
       "      <td>MA_10_MA_20</td>\n",
       "      <td>H1</td>\n",
       "    </tr>\n",
       "    <tr>\n",
       "      <th>80</th>\n",
       "      <td>USD_JPY</td>\n",
       "      <td>209</td>\n",
       "      <td>-307</td>\n",
       "      <td>-1</td>\n",
       "      <td>-355</td>\n",
       "      <td>662</td>\n",
       "      <td>MA_20</td>\n",
       "      <td>MA_10</td>\n",
       "      <td>MA_10_MA_20</td>\n",
       "      <td>H1</td>\n",
       "    </tr>\n",
       "    <tr>\n",
       "      <th>224</th>\n",
       "      <td>CAD_JPY</td>\n",
       "      <td>216</td>\n",
       "      <td>-443</td>\n",
       "      <td>-2</td>\n",
       "      <td>-259</td>\n",
       "      <td>294</td>\n",
       "      <td>MA_20</td>\n",
       "      <td>MA_10</td>\n",
       "      <td>MA_10_MA_20</td>\n",
       "      <td>H1</td>\n",
       "    </tr>\n",
       "    <tr>\n",
       "      <th>32</th>\n",
       "      <td>EUR_JPY</td>\n",
       "      <td>202</td>\n",
       "      <td>-512</td>\n",
       "      <td>-2</td>\n",
       "      <td>-352</td>\n",
       "      <td>521</td>\n",
       "      <td>MA_20</td>\n",
       "      <td>MA_10</td>\n",
       "      <td>MA_10_MA_20</td>\n",
       "      <td>H1</td>\n",
       "    </tr>\n",
       "    <tr>\n",
       "      <th>192</th>\n",
       "      <td>AUD_JPY</td>\n",
       "      <td>207</td>\n",
       "      <td>-639</td>\n",
       "      <td>-3</td>\n",
       "      <td>-241</td>\n",
       "      <td>260</td>\n",
       "      <td>MA_20</td>\n",
       "      <td>MA_10</td>\n",
       "      <td>MA_10_MA_20</td>\n",
       "      <td>H1</td>\n",
       "    </tr>\n",
       "    <tr>\n",
       "      <th>64</th>\n",
       "      <td>EUR_CAD</td>\n",
       "      <td>212</td>\n",
       "      <td>-641</td>\n",
       "      <td>-3</td>\n",
       "      <td>-160</td>\n",
       "      <td>218</td>\n",
       "      <td>MA_20</td>\n",
       "      <td>MA_10</td>\n",
       "      <td>MA_10_MA_20</td>\n",
       "      <td>H1</td>\n",
       "    </tr>\n",
       "    <tr>\n",
       "      <th>16</th>\n",
       "      <td>EUR_GBP</td>\n",
       "      <td>219</td>\n",
       "      <td>-693</td>\n",
       "      <td>-3</td>\n",
       "      <td>-96</td>\n",
       "      <td>163</td>\n",
       "      <td>MA_20</td>\n",
       "      <td>MA_10</td>\n",
       "      <td>MA_10_MA_20</td>\n",
       "      <td>H1</td>\n",
       "    </tr>\n",
       "    <tr>\n",
       "      <th>176</th>\n",
       "      <td>AUD_USD</td>\n",
       "      <td>217</td>\n",
       "      <td>-1001</td>\n",
       "      <td>-4</td>\n",
       "      <td>-133</td>\n",
       "      <td>163</td>\n",
       "      <td>MA_20</td>\n",
       "      <td>MA_10</td>\n",
       "      <td>MA_10_MA_20</td>\n",
       "      <td>H1</td>\n",
       "    </tr>\n",
       "    <tr>\n",
       "      <th>0</th>\n",
       "      <td>EUR_USD</td>\n",
       "      <td>226</td>\n",
       "      <td>-1574</td>\n",
       "      <td>-6</td>\n",
       "      <td>-219</td>\n",
       "      <td>216</td>\n",
       "      <td>MA_20</td>\n",
       "      <td>MA_10</td>\n",
       "      <td>MA_10_MA_20</td>\n",
       "      <td>H1</td>\n",
       "    </tr>\n",
       "    <tr>\n",
       "      <th>48</th>\n",
       "      <td>EUR_AUD</td>\n",
       "      <td>234</td>\n",
       "      <td>-1595</td>\n",
       "      <td>-6</td>\n",
       "      <td>-196</td>\n",
       "      <td>272</td>\n",
       "      <td>MA_20</td>\n",
       "      <td>MA_10</td>\n",
       "      <td>MA_10_MA_20</td>\n",
       "      <td>H1</td>\n",
       "    </tr>\n",
       "    <tr>\n",
       "      <th>96</th>\n",
       "      <td>USD_CAD</td>\n",
       "      <td>224</td>\n",
       "      <td>-1660</td>\n",
       "      <td>-7</td>\n",
       "      <td>-210</td>\n",
       "      <td>208</td>\n",
       "      <td>MA_20</td>\n",
       "      <td>MA_10</td>\n",
       "      <td>MA_10_MA_20</td>\n",
       "      <td>H1</td>\n",
       "    </tr>\n",
       "  </tbody>\n",
       "</table>\n",
       "</div>"
      ],
      "text/plain": [
       "        pair  num_trades  total_gain  mean_gain  min_gain  max_gain   ma_l  \\\n",
       "128  GBP_JPY         193        1266          6      -425       668  MA_20   \n",
       "160  GBP_CAD         216        1106          5      -194       543  MA_20   \n",
       "144  GBP_AUD         206         446          2      -244       727  MA_20   \n",
       "112  GBP_USD         208         146          0      -249       388  MA_20   \n",
       "208  AUD_CAD         209        -179          0      -129       200  MA_20   \n",
       "80   USD_JPY         209        -307         -1      -355       662  MA_20   \n",
       "224  CAD_JPY         216        -443         -2      -259       294  MA_20   \n",
       "32   EUR_JPY         202        -512         -2      -352       521  MA_20   \n",
       "192  AUD_JPY         207        -639         -3      -241       260  MA_20   \n",
       "64   EUR_CAD         212        -641         -3      -160       218  MA_20   \n",
       "16   EUR_GBP         219        -693         -3       -96       163  MA_20   \n",
       "176  AUD_USD         217       -1001         -4      -133       163  MA_20   \n",
       "0    EUR_USD         226       -1574         -6      -219       216  MA_20   \n",
       "48   EUR_AUD         234       -1595         -6      -196       272  MA_20   \n",
       "96   USD_CAD         224       -1660         -7      -210       208  MA_20   \n",
       "\n",
       "      ma_s        cross granularity  \n",
       "128  MA_10  MA_10_MA_20          H1  \n",
       "160  MA_10  MA_10_MA_20          H1  \n",
       "144  MA_10  MA_10_MA_20          H1  \n",
       "112  MA_10  MA_10_MA_20          H1  \n",
       "208  MA_10  MA_10_MA_20          H1  \n",
       "80   MA_10  MA_10_MA_20          H1  \n",
       "224  MA_10  MA_10_MA_20          H1  \n",
       "32   MA_10  MA_10_MA_20          H1  \n",
       "192  MA_10  MA_10_MA_20          H1  \n",
       "64   MA_10  MA_10_MA_20          H1  \n",
       "16   MA_10  MA_10_MA_20          H1  \n",
       "176  MA_10  MA_10_MA_20          H1  \n",
       "0    MA_10  MA_10_MA_20          H1  \n",
       "48   MA_10  MA_10_MA_20          H1  \n",
       "96   MA_10  MA_10_MA_20          H1  "
      ]
     },
     "execution_count": 25,
     "metadata": {},
     "output_type": "execute_result"
    }
   ],
   "source": [
    "df_MA_10_MA_20"
   ]
  },
  {
   "cell_type": "code",
   "execution_count": 26,
   "id": "5d5f1c99",
   "metadata": {},
   "outputs": [],
   "source": [
    "df_gains = df_ma_trades_h1[(df_ma_trades_h1.cross==cross)&\n",
    "                           (df_ma_trades_h1.pair==\"CAD_JPY\")].copy()"
   ]
  },
  {
   "cell_type": "code",
   "execution_count": 27,
   "id": "51bca4a1",
   "metadata": {},
   "outputs": [
    {
     "data": {
      "text/html": [
       "<div>\n",
       "<style scoped>\n",
       "    .dataframe tbody tr th:only-of-type {\n",
       "        vertical-align: middle;\n",
       "    }\n",
       "\n",
       "    .dataframe tbody tr th {\n",
       "        vertical-align: top;\n",
       "    }\n",
       "\n",
       "    .dataframe thead th {\n",
       "        text-align: right;\n",
       "    }\n",
       "</style>\n",
       "<table border=\"1\" class=\"dataframe\">\n",
       "  <thead>\n",
       "    <tr style=\"text-align: right;\">\n",
       "      <th></th>\n",
       "      <th>time</th>\n",
       "      <th>volume</th>\n",
       "      <th>mid_o</th>\n",
       "      <th>mid_h</th>\n",
       "      <th>mid_l</th>\n",
       "      <th>mid_c</th>\n",
       "      <th>bid_o</th>\n",
       "      <th>bid_h</th>\n",
       "      <th>bid_l</th>\n",
       "      <th>bid_c</th>\n",
       "      <th>ask_o</th>\n",
       "      <th>ask_h</th>\n",
       "      <th>ask_l</th>\n",
       "      <th>ask_c</th>\n",
       "      <th>MA_40</th>\n",
       "      <th>MA_10</th>\n",
       "      <th>MA_80</th>\n",
       "      <th>MA_20</th>\n",
       "      <th>MA_150</th>\n",
       "      <th>MA_120</th>\n",
       "      <th>MA_30</th>\n",
       "      <th>DELTA</th>\n",
       "      <th>DELTA_PREV</th>\n",
       "      <th>TRADE</th>\n",
       "      <th>DIFF</th>\n",
       "      <th>GAIN</th>\n",
       "      <th>granularity</th>\n",
       "      <th>pair</th>\n",
       "      <th>GAIN_C</th>\n",
       "      <th>ma_l</th>\n",
       "      <th>ma_s</th>\n",
       "      <th>cross</th>\n",
       "    </tr>\n",
       "  </thead>\n",
       "  <tbody>\n",
       "    <tr>\n",
       "      <th>16748</th>\n",
       "      <td>2022-08-22 13:00:00+00:00</td>\n",
       "      <td>7358</td>\n",
       "      <td>105.584</td>\n",
       "      <td>105.608</td>\n",
       "      <td>105.204</td>\n",
       "      <td>105.342</td>\n",
       "      <td>105.574</td>\n",
       "      <td>105.598</td>\n",
       "      <td>105.194</td>\n",
       "      <td>105.333</td>\n",
       "      <td>105.593</td>\n",
       "      <td>105.617</td>\n",
       "      <td>105.214</td>\n",
       "      <td>105.352</td>\n",
       "      <td>105.358775</td>\n",
       "      <td>105.4522</td>\n",
       "      <td>105.020363</td>\n",
       "      <td>105.46665</td>\n",
       "      <td>104.542733</td>\n",
       "      <td>104.643333</td>\n",
       "      <td>105.434133</td>\n",
       "      <td>-0.01445</td>\n",
       "      <td>0.01815</td>\n",
       "      <td>-1</td>\n",
       "      <td>0.199</td>\n",
       "      <td>-19.9</td>\n",
       "      <td>H1</td>\n",
       "      <td>CAD_JPY</td>\n",
       "      <td>-19.9</td>\n",
       "      <td>MA_20</td>\n",
       "      <td>MA_10</td>\n",
       "      <td>MA_10_MA_20</td>\n",
       "    </tr>\n",
       "    <tr>\n",
       "      <th>16749</th>\n",
       "      <td>2022-08-23 10:00:00+00:00</td>\n",
       "      <td>2774</td>\n",
       "      <td>105.508</td>\n",
       "      <td>105.590</td>\n",
       "      <td>105.451</td>\n",
       "      <td>105.541</td>\n",
       "      <td>105.497</td>\n",
       "      <td>105.580</td>\n",
       "      <td>105.442</td>\n",
       "      <td>105.532</td>\n",
       "      <td>105.518</td>\n",
       "      <td>105.600</td>\n",
       "      <td>105.460</td>\n",
       "      <td>105.550</td>\n",
       "      <td>105.401975</td>\n",
       "      <td>105.3483</td>\n",
       "      <td>105.204150</td>\n",
       "      <td>105.34570</td>\n",
       "      <td>104.669240</td>\n",
       "      <td>104.985492</td>\n",
       "      <td>105.365300</td>\n",
       "      <td>0.00260</td>\n",
       "      <td>-0.01710</td>\n",
       "      <td>1</td>\n",
       "      <td>-0.275</td>\n",
       "      <td>-27.5</td>\n",
       "      <td>H1</td>\n",
       "      <td>CAD_JPY</td>\n",
       "      <td>-47.4</td>\n",
       "      <td>MA_20</td>\n",
       "      <td>MA_10</td>\n",
       "      <td>MA_10_MA_20</td>\n",
       "    </tr>\n",
       "    <tr>\n",
       "      <th>16750</th>\n",
       "      <td>2022-08-24 05:00:00+00:00</td>\n",
       "      <td>2571</td>\n",
       "      <td>105.208</td>\n",
       "      <td>105.274</td>\n",
       "      <td>105.128</td>\n",
       "      <td>105.266</td>\n",
       "      <td>105.199</td>\n",
       "      <td>105.264</td>\n",
       "      <td>105.118</td>\n",
       "      <td>105.257</td>\n",
       "      <td>105.218</td>\n",
       "      <td>105.286</td>\n",
       "      <td>105.137</td>\n",
       "      <td>105.275</td>\n",
       "      <td>105.388125</td>\n",
       "      <td>105.4362</td>\n",
       "      <td>105.373450</td>\n",
       "      <td>105.44875</td>\n",
       "      <td>104.935827</td>\n",
       "      <td>105.142950</td>\n",
       "      <td>105.402633</td>\n",
       "      <td>-0.01255</td>\n",
       "      <td>0.01095</td>\n",
       "      <td>-1</td>\n",
       "      <td>0.390</td>\n",
       "      <td>-39.0</td>\n",
       "      <td>H1</td>\n",
       "      <td>CAD_JPY</td>\n",
       "      <td>-86.4</td>\n",
       "      <td>MA_20</td>\n",
       "      <td>MA_10</td>\n",
       "      <td>MA_10_MA_20</td>\n",
       "    </tr>\n",
       "  </tbody>\n",
       "</table>\n",
       "</div>"
      ],
      "text/plain": [
       "                           time  volume    mid_o    mid_h    mid_l    mid_c  \\\n",
       "16748 2022-08-22 13:00:00+00:00    7358  105.584  105.608  105.204  105.342   \n",
       "16749 2022-08-23 10:00:00+00:00    2774  105.508  105.590  105.451  105.541   \n",
       "16750 2022-08-24 05:00:00+00:00    2571  105.208  105.274  105.128  105.266   \n",
       "\n",
       "         bid_o    bid_h    bid_l    bid_c    ask_o    ask_h    ask_l    ask_c  \\\n",
       "16748  105.574  105.598  105.194  105.333  105.593  105.617  105.214  105.352   \n",
       "16749  105.497  105.580  105.442  105.532  105.518  105.600  105.460  105.550   \n",
       "16750  105.199  105.264  105.118  105.257  105.218  105.286  105.137  105.275   \n",
       "\n",
       "            MA_40     MA_10       MA_80      MA_20      MA_150      MA_120  \\\n",
       "16748  105.358775  105.4522  105.020363  105.46665  104.542733  104.643333   \n",
       "16749  105.401975  105.3483  105.204150  105.34570  104.669240  104.985492   \n",
       "16750  105.388125  105.4362  105.373450  105.44875  104.935827  105.142950   \n",
       "\n",
       "            MA_30    DELTA  DELTA_PREV  TRADE   DIFF  GAIN granularity  \\\n",
       "16748  105.434133 -0.01445     0.01815     -1  0.199 -19.9          H1   \n",
       "16749  105.365300  0.00260    -0.01710      1 -0.275 -27.5          H1   \n",
       "16750  105.402633 -0.01255     0.01095     -1  0.390 -39.0          H1   \n",
       "\n",
       "          pair  GAIN_C   ma_l   ma_s        cross  \n",
       "16748  CAD_JPY   -19.9  MA_20  MA_10  MA_10_MA_20  \n",
       "16749  CAD_JPY   -47.4  MA_20  MA_10  MA_10_MA_20  \n",
       "16750  CAD_JPY   -86.4  MA_20  MA_10  MA_10_MA_20  "
      ]
     },
     "execution_count": 27,
     "metadata": {},
     "output_type": "execute_result"
    }
   ],
   "source": [
    "df_gains.head(3)"
   ]
  },
  {
   "cell_type": "code",
   "execution_count": 30,
   "id": "ab9653d6",
   "metadata": {},
   "outputs": [
    {
     "data": {
      "application/vnd.plotly.v1+json": {
       "config": {
        "plotlyServerURL": "https://plot.ly"
       },
       "data": [
        {
         "close": [
          105.342,
          105.541,
          105.266,
          105.656,
          105.658,
          105.815,
          105.471,
          105.723,
          105.427,
          106.242,
          106.517,
          106.014,
          105.661,
          106.403,
          106.715,
          106.858,
          109.709,
          109.516,
          109.518,
          109.948,
          109.276,
          109.458,
          109.976,
          110.013,
          109.83,
          109.738,
          109.684,
          109.968,
          109.752,
          108.656,
          108.598,
          107.85,
          107.739,
          107.68,
          106.971,
          105.436,
          105.6,
          105.427,
          105.668,
          105.696,
          105.488,
          105.552,
          105.224,
          105.712,
          105.304,
          105.662,
          105.354,
          105.331,
          106.526,
          106.619,
          106.328,
          106.474,
          105.906,
          105.728,
          105.733,
          106.064,
          105.762,
          105.964,
          106.26,
          107.058,
          107.018,
          107.412,
          108.412,
          108.636,
          108.968,
          109.616,
          108.572,
          108.937,
          108.558,
          108.685,
          108.382,
          108.793,
          108.143,
          107.917,
          108.823,
          107.958,
          108.904,
          108.908,
          108.502,
          108.57,
          108.328,
          108.882,
          108.077,
          105.821,
          104.986,
          105.05,
          105.146,
          104.989,
          104.756,
          105.336,
          104.604,
          104.926,
          104.992,
          104.692,
          105.494,
          105.635,
          105.45,
          104.126,
          103.99,
          102.938,
          103.138,
          102.107,
          101.946,
          100.408,
          100.517,
          100.508,
          99.919,
          100.437,
          100.122,
          100.168,
          100.084,
          100.09,
          99.809,
          99.897,
          100.568,
          100.088,
          97.492,
          97.07,
          96.955,
          97.189,
          97.162,
          97.316,
          98.75,
          95.809,
          98.138,
          98.773,
          98.274,
          98.896,
          98.494,
          98.564,
          98.474,
          98.62,
          98.218,
          95.592,
          96.074,
          96.015,
          95.958,
          96.089,
          95.804,
          97.48,
          95.772,
          95.221,
          97.428,
          97.748,
          97.219,
          97,
          97.457,
          97.65,
          97.2,
          97.639,
          97.23,
          97.825,
          97.547,
          96.608,
          96.607,
          98.046,
          98.452,
          97.878,
          97.901,
          97.821,
          97.448,
          98.42,
          99.057,
          99.457,
          99.642,
          99.765,
          100.009,
          99.854,
          99.514,
          99.73,
          99.537,
          99.592,
          99.733,
          99.616,
          99.386,
          99.602,
          100.309,
          100.314,
          99.866,
          99.938,
          99.584,
          100.118,
          100.238,
          99.781,
          99.874,
          99.972,
          99.942,
          99.933,
          99.549,
          99.834,
          99.261,
          98.986,
          97.832,
          97.974,
          96.906,
          97.302,
          97.023,
          96.546,
          96.622,
          97.266,
          97.092,
          95.417,
          95.426,
          96.206,
          95.887,
          96.754,
          95.59,
          96.142,
          95.441,
          95.086,
          95.762,
          96.143,
          97.92,
          97.938,
          98.182,
          98.78
         ],
         "decreasing": {
          "fillcolor": "#CC2E3C",
          "line": {
           "color": "#FF3A4C"
          }
         },
         "high": [
          105.608,
          105.59,
          105.274,
          105.672,
          105.738,
          105.826,
          105.558,
          105.832,
          105.508,
          106.266,
          106.556,
          106.078,
          105.674,
          106.554,
          106.967,
          106.885,
          109.71,
          109.686,
          109.58,
          110.099,
          109.572,
          109.601,
          109.978,
          110.032,
          109.952,
          109.965,
          109.701,
          110.074,
          109.956,
          108.708,
          108.782,
          107.854,
          107.802,
          107.714,
          107.033,
          105.452,
          105.608,
          105.617,
          105.668,
          105.701,
          105.775,
          105.566,
          105.358,
          105.784,
          105.626,
          105.794,
          105.522,
          105.41,
          106.555,
          106.635,
          106.478,
          106.528,
          105.957,
          105.734,
          105.784,
          106.122,
          105.774,
          106.08,
          106.314,
          107.112,
          107.072,
          107.416,
          108.68,
          108.713,
          109.042,
          109.65,
          108.62,
          108.992,
          108.569,
          108.712,
          108.451,
          108.966,
          108.596,
          107.933,
          108.94,
          108.036,
          108.972,
          108.96,
          108.748,
          108.622,
          108.566,
          108.888,
          108.266,
          106.236,
          105.344,
          105.144,
          105.286,
          105.2,
          104.894,
          105.432,
          104.808,
          105.028,
          105.028,
          104.698,
          105.52,
          105.635,
          105.494,
          104.167,
          104.102,
          103.206,
          103.289,
          102.133,
          102.045,
          100.454,
          100.701,
          100.586,
          100.138,
          100.472,
          100.512,
          100.281,
          100.104,
          100.182,
          101.04,
          100.02,
          100.81,
          100.126,
          97.71,
          97.134,
          97.146,
          97.284,
          97.238,
          97.384,
          98.89,
          95.967,
          98.242,
          98.859,
          98.399,
          99.006,
          98.536,
          98.617,
          98.532,
          98.642,
          98.646,
          95.775,
          96.199,
          96.096,
          96.054,
          96.162,
          96.127,
          97.572,
          95.86,
          95.4,
          97.482,
          97.782,
          97.254,
          97.044,
          97.627,
          97.65,
          97.26,
          97.771,
          97.358,
          97.837,
          97.646,
          96.98,
          96.682,
          98.07,
          98.546,
          98.07,
          97.97,
          97.928,
          97.87,
          98.432,
          99.059,
          99.578,
          99.652,
          99.926,
          100.099,
          99.948,
          99.614,
          99.772,
          99.662,
          99.72,
          99.75,
          99.62,
          99.442,
          99.659,
          100.334,
          100.52,
          99.882,
          100.048,
          99.736,
          100.188,
          100.496,
          99.85,
          99.91,
          100.022,
          99.977,
          99.98,
          99.718,
          99.936,
          99.599,
          99.026,
          98.17,
          98.02,
          97.03,
          97.421,
          97.398,
          96.56,
          96.722,
          97.396,
          97.244,
          96.114,
          95.722,
          96.284,
          96,
          96.936,
          96.148,
          96.333,
          95.448,
          95.215,
          95.822,
          96.146,
          97.967,
          97.958,
          98.222,
          98.796
         ],
         "increasing": {
          "fillcolor": "#24A06B",
          "line": {
           "color": "#2EC886"
          }
         },
         "line": {
          "width": 1
         },
         "low": [
          105.204,
          105.451,
          105.128,
          105.589,
          105.595,
          105.567,
          105.456,
          105.698,
          105.411,
          106.11,
          106.45,
          105.824,
          105.522,
          106.332,
          106.678,
          106.821,
          109.482,
          109.39,
          109.442,
          109.934,
          109.237,
          109.451,
          109.894,
          109.946,
          109.826,
          109.73,
          109.45,
          109.849,
          109.666,
          108.486,
          108.566,
          107.719,
          107.67,
          107.595,
          106.938,
          105.292,
          105.246,
          105.418,
          105.324,
          105.54,
          105.396,
          105.42,
          105.139,
          105.546,
          105.192,
          105.615,
          105.321,
          105.248,
          106.33,
          106.492,
          106.267,
          106.424,
          105.788,
          105.613,
          105.676,
          105.992,
          105.722,
          105.887,
          106.254,
          106.161,
          106.887,
          107.202,
          108.26,
          108.575,
          108.926,
          109.228,
          107.707,
          108.736,
          108.336,
          108.602,
          108.35,
          108.676,
          108.136,
          107.785,
          108.75,
          107.914,
          108.814,
          108.772,
          108.488,
          108.528,
          108.268,
          108.459,
          108.059,
          105.792,
          104.346,
          104.906,
          105.069,
          104.92,
          104.727,
          105.064,
          104.593,
          104.584,
          104.876,
          104.611,
          105.338,
          105.543,
          105.362,
          103.816,
          103.924,
          102.924,
          103.084,
          101.97,
          101.801,
          100.316,
          100.507,
          100.378,
          99.847,
          100.348,
          100.046,
          99.96,
          99.966,
          100.044,
          99.748,
          99.86,
          100.551,
          99.856,
          97.31,
          96.991,
          96.881,
          97.136,
          97.028,
          97.266,
          98.698,
          95.762,
          98.056,
          98.324,
          98.202,
          98.589,
          98.444,
          98.498,
          98.439,
          98.486,
          98.168,
          95.551,
          96.036,
          95.977,
          95.93,
          95.914,
          95.794,
          95.82,
          95.634,
          95.174,
          97.372,
          97.554,
          96.994,
          96.882,
          97.412,
          97.508,
          97.09,
          97.592,
          97.206,
          97.714,
          97.5,
          96.492,
          96.45,
          97.248,
          98.411,
          97.84,
          97.765,
          97.768,
          97.091,
          98.311,
          98.828,
          99.388,
          99.509,
          99.584,
          99.953,
          99.796,
          99.457,
          99.534,
          99.518,
          99.578,
          99.668,
          99.506,
          99.275,
          99.51,
          100.238,
          100.114,
          99.709,
          99.87,
          99.582,
          100.116,
          100.212,
          99.751,
          99.804,
          99.944,
          99.864,
          99.88,
          99.492,
          99.832,
          99.096,
          98.812,
          97.465,
          97.84,
          96.7,
          97.25,
          96.93,
          96.39,
          96.524,
          97.141,
          97.077,
          95.368,
          95.035,
          96.108,
          95.856,
          96.676,
          95.576,
          96.01,
          95.36,
          95.058,
          95.721,
          95.919,
          97.763,
          97.694,
          98.112,
          98.493
         ],
         "opacity": 1,
         "open": [
          105.584,
          105.508,
          105.208,
          105.651,
          105.679,
          105.658,
          105.469,
          105.83,
          105.454,
          106.13,
          106.5,
          105.845,
          105.528,
          106.34,
          106.936,
          106.854,
          109.667,
          109.569,
          109.508,
          110.048,
          109.506,
          109.552,
          109.897,
          109.978,
          109.898,
          109.832,
          109.604,
          109.976,
          109.666,
          108.707,
          108.708,
          107.784,
          107.775,
          107.67,
          106.988,
          105.374,
          105.298,
          105.506,
          105.505,
          105.668,
          105.74,
          105.434,
          105.336,
          105.591,
          105.592,
          105.768,
          105.465,
          105.346,
          106.372,
          106.59,
          106.429,
          106.442,
          105.826,
          105.685,
          105.694,
          105.992,
          105.762,
          105.951,
          106.302,
          106.186,
          106.94,
          107.224,
          108.626,
          108.668,
          108.997,
          109.284,
          107.752,
          108.766,
          108.383,
          108.652,
          108.42,
          108.726,
          108.57,
          107.904,
          108.846,
          107.934,
          108.842,
          108.905,
          108.732,
          108.615,
          108.527,
          108.46,
          108.25,
          106.13,
          105.291,
          104.944,
          105.2,
          105.2,
          104.886,
          105.096,
          104.692,
          104.81,
          104.972,
          104.636,
          105.403,
          105.605,
          105.424,
          103.916,
          104.008,
          103.204,
          103.104,
          102.002,
          101.99,
          100.376,
          100.626,
          100.396,
          100.116,
          100.374,
          100.462,
          99.98,
          99.989,
          100.16,
          101.002,
          100.02,
          100.756,
          99.878,
          97.607,
          97.002,
          97.07,
          97.259,
          97.062,
          97.272,
          98.854,
          95.895,
          98.142,
          98.334,
          98.273,
          98.589,
          98.492,
          98.499,
          98.495,
          98.592,
          98.64,
          95.678,
          96.19,
          96.071,
          96.016,
          95.958,
          95.88,
          96.032,
          95.792,
          95.238,
          97.415,
          97.57,
          97.032,
          96.883,
          97.58,
          97.593,
          97.254,
          97.67,
          97.355,
          97.73,
          97.59,
          96.958,
          96.61,
          97.248,
          98.542,
          97.972,
          97.916,
          97.802,
          97.109,
          98.41,
          98.935,
          99.49,
          99.636,
          99.702,
          100.038,
          99.876,
          99.566,
          99.568,
          99.631,
          99.648,
          99.682,
          99.517,
          99.368,
          99.531,
          100.238,
          100.15,
          99.737,
          99.902,
          99.636,
          100.168,
          100.478,
          99.838,
          99.902,
          99.966,
          99.972,
          99.942,
          99.676,
          99.854,
          99.498,
          98.86,
          97.488,
          97.904,
          96.74,
          97.328,
          97.215,
          96.534,
          96.636,
          97.382,
          97.178,
          96.113,
          95.492,
          96.112,
          95.905,
          96.714,
          95.987,
          96.066,
          95.388,
          95.203,
          95.76,
          95.927,
          97.816,
          97.834,
          98.154,
          98.776
         ],
         "type": "candlestick",
         "x": [
          "s22-08-22 13:00",
          "s22-08-23 10:00",
          "s22-08-24 05:00",
          "s22-08-24 18:00",
          "s22-08-25 10:00",
          "s22-08-25 13:00",
          "s22-08-25 18:00",
          "s22-08-26 08:00",
          "s22-08-26 19:00",
          "s22-08-29 04:00",
          "s22-08-30 06:00",
          "s22-08-31 23:00",
          "s22-09-01 09:00",
          "s22-09-01 17:00",
          "s22-09-05 00:00",
          "s22-09-05 11:00",
          "s22-09-08 04:00",
          "s22-09-08 07:00",
          "s22-09-08 10:00",
          "s22-09-08 18:00",
          "s22-09-09 08:00",
          "s22-09-11 23:00",
          "s22-09-12 19:00",
          "s22-09-12 20:00",
          "s22-09-12 23:00",
          "s22-09-13 00:00",
          "s22-09-13 06:00",
          "s22-09-13 15:00",
          "s22-09-14 01:00",
          "s22-09-15 01:00",
          "s22-09-15 17:00",
          "s22-09-19 04:00",
          "s22-09-20 14:00",
          "s22-09-21 10:00",
          "s22-09-21 20:00",
          "s22-09-23 03:00",
          "s22-09-23 08:00",
          "s22-09-23 15:00",
          "s22-09-25 22:00",
          "s22-09-25 23:00",
          "s22-09-26 14:00",
          "s22-09-27 04:00",
          "s22-09-27 16:00",
          "s22-09-28 16:00",
          "s22-09-29 07:00",
          "s22-09-30 01:00",
          "s22-09-30 10:00",
          "s22-10-03 06:00",
          "s22-10-04 17:00",
          "s22-10-04 19:00",
          "s22-10-05 09:00",
          "s22-10-06 02:00",
          "s22-10-06 11:00",
          "s22-10-07 10:00",
          "s22-10-10 06:00",
          "s22-10-10 11:00",
          "s22-10-10 22:00",
          "s22-10-11 16:00",
          "s22-10-13 02:00",
          "s22-10-13 15:00",
          "s22-10-14 15:00",
          "s22-10-17 01:00",
          "s22-10-18 14:00",
          "s22-10-19 01:00",
          "s22-10-21 00:00",
          "s22-10-21 10:00",
          "s22-10-21 17:00",
          "s22-10-24 06:00",
          "s22-10-24 15:00",
          "s22-10-25 03:00",
          "s22-10-25 10:00",
          "s22-10-25 21:00",
          "s22-10-26 13:00",
          "s22-10-27 16:00",
          "s22-11-01 09:00",
          "s22-11-03 16:00",
          "s22-11-07 07:00",
          "s22-11-07 08:00",
          "s22-11-07 13:00",
          "s22-11-08 04:00",
          "s22-11-08 09:00",
          "s22-11-09 13:00",
          "s22-11-09 23:00",
          "s22-11-11 08:00",
          "s22-11-11 10:00",
          "s22-11-14 04:00",
          "s22-11-14 23:00",
          "s22-11-15 09:00",
          "s22-11-15 11:00",
          "s22-11-16 02:00",
          "s22-11-16 16:00",
          "s22-11-17 13:00",
          "s22-11-18 07:00",
          "s22-11-21 03:00",
          "s22-11-22 10:00",
          "s22-11-22 23:00",
          "s22-11-23 11:00",
          "s22-11-25 00:00",
          "s22-11-25 21:00",
          "s22-11-28 19:00",
          "s22-11-29 05:00",
          "s22-11-30 06:00",
          "s22-12-01 01:00",
          "s22-12-05 06:00",
          "s22-12-05 23:00",
          "s22-12-06 09:00",
          "s22-12-06 12:00",
          "s22-12-07 02:00",
          "s22-12-07 16:00",
          "s22-12-08 09:00",
          "s22-12-09 04:00",
          "s22-12-09 21:00",
          "s22-12-13 13:00",
          "s22-12-14 23:00",
          "s22-12-16 07:00",
          "s22-12-19 13:00",
          "s22-12-20 04:00",
          "s22-12-21 04:00",
          "s22-12-21 15:00",
          "s22-12-21 18:00",
          "s22-12-22 07:00",
          "s22-12-23 02:00",
          "s22-12-28 18:00",
          "s23-01-04 03:00",
          "s23-01-05 09:00",
          "s23-01-05 13:00",
          "s23-01-06 17:00",
          "s23-01-09 09:00",
          "s23-01-09 22:00",
          "s23-01-10 10:00",
          "s23-01-10 21:00",
          "s23-01-11 07:00",
          "s23-01-11 23:00",
          "s23-01-16 07:00",
          "s23-01-17 03:00",
          "s23-01-17 04:00",
          "s23-01-17 05:00",
          "s23-01-17 06:00",
          "s23-01-17 15:00",
          "s23-01-18 02:00",
          "s23-01-18 15:00",
          "s23-01-19 16:00",
          "s23-01-24 06:00",
          "s23-01-25 03:00",
          "s23-01-25 13:00",
          "s23-01-26 11:00",
          "s23-01-27 07:00",
          "s23-01-27 17:00",
          "s23-01-30 06:00",
          "s23-01-30 16:00",
          "s23-01-31 01:00",
          "s23-01-31 18:00",
          "s23-02-01 10:00",
          "s23-02-02 12:00",
          "s23-02-02 13:00",
          "s23-02-03 15:00",
          "s23-02-07 06:00",
          "s23-02-08 07:00",
          "s23-02-08 15:00",
          "s23-02-10 00:00",
          "s23-02-10 09:00",
          "s23-02-10 17:00",
          "s23-02-14 02:00",
          "s23-02-14 15:00",
          "s23-02-15 08:00",
          "s23-02-15 13:00",
          "s23-02-16 07:00",
          "s23-02-17 07:00",
          "s23-02-17 16:00",
          "s23-02-20 08:00",
          "s23-02-20 11:00",
          "s23-02-20 14:00",
          "s23-02-21 21:00",
          "s23-02-22 23:00",
          "s23-02-23 17:00",
          "s23-02-24 09:00",
          "s23-02-27 09:00",
          "s23-02-27 15:00",
          "s23-02-28 18:00",
          "s23-03-01 08:00",
          "s23-03-01 13:00",
          "s23-03-01 22:00",
          "s23-03-03 11:00",
          "s23-03-06 13:00",
          "s23-03-06 20:00",
          "s23-03-07 01:00",
          "s23-03-07 02:00",
          "s23-03-07 03:00",
          "s23-03-07 08:00",
          "s23-03-08 01:00",
          "s23-03-08 15:00",
          "s23-03-10 10:00",
          "s23-03-10 16:00",
          "s23-03-13 07:00",
          "s23-03-13 10:00",
          "s23-03-14 02:00",
          "s23-03-15 11:00",
          "s23-03-16 04:00",
          "s23-03-16 10:00",
          "s23-03-16 18:00",
          "s23-03-17 10:00",
          "s23-03-20 06:00",
          "s23-03-20 08:00",
          "s23-03-20 19:00",
          "s23-03-21 04:00",
          "s23-03-21 10:00",
          "s23-03-22 19:00",
          "s23-03-23 12:00",
          "s23-03-23 21:00",
          "s23-03-24 20:00",
          "s23-03-28 04:00",
          "s23-03-28 18:00",
          "s23-03-30 08:00",
          "s23-03-30 11:00",
          "s23-03-31 16:00",
          "s23-04-02 22:00"
         ]
        },
        {
         "line": {
          "shape": "spline",
          "width": 2
         },
         "name": "GAIN_C",
         "type": "scatter",
         "x": [
          "s22-08-22 13:00",
          "s22-08-23 10:00",
          "s22-08-24 05:00",
          "s22-08-24 18:00",
          "s22-08-25 10:00",
          "s22-08-25 13:00",
          "s22-08-25 18:00",
          "s22-08-26 08:00",
          "s22-08-26 19:00",
          "s22-08-29 04:00",
          "s22-08-30 06:00",
          "s22-08-31 23:00",
          "s22-09-01 09:00",
          "s22-09-01 17:00",
          "s22-09-05 00:00",
          "s22-09-05 11:00",
          "s22-09-08 04:00",
          "s22-09-08 07:00",
          "s22-09-08 10:00",
          "s22-09-08 18:00",
          "s22-09-09 08:00",
          "s22-09-11 23:00",
          "s22-09-12 19:00",
          "s22-09-12 20:00",
          "s22-09-12 23:00",
          "s22-09-13 00:00",
          "s22-09-13 06:00",
          "s22-09-13 15:00",
          "s22-09-14 01:00",
          "s22-09-15 01:00",
          "s22-09-15 17:00",
          "s22-09-19 04:00",
          "s22-09-20 14:00",
          "s22-09-21 10:00",
          "s22-09-21 20:00",
          "s22-09-23 03:00",
          "s22-09-23 08:00",
          "s22-09-23 15:00",
          "s22-09-25 22:00",
          "s22-09-25 23:00",
          "s22-09-26 14:00",
          "s22-09-27 04:00",
          "s22-09-27 16:00",
          "s22-09-28 16:00",
          "s22-09-29 07:00",
          "s22-09-30 01:00",
          "s22-09-30 10:00",
          "s22-10-03 06:00",
          "s22-10-04 17:00",
          "s22-10-04 19:00",
          "s22-10-05 09:00",
          "s22-10-06 02:00",
          "s22-10-06 11:00",
          "s22-10-07 10:00",
          "s22-10-10 06:00",
          "s22-10-10 11:00",
          "s22-10-10 22:00",
          "s22-10-11 16:00",
          "s22-10-13 02:00",
          "s22-10-13 15:00",
          "s22-10-14 15:00",
          "s22-10-17 01:00",
          "s22-10-18 14:00",
          "s22-10-19 01:00",
          "s22-10-21 00:00",
          "s22-10-21 10:00",
          "s22-10-21 17:00",
          "s22-10-24 06:00",
          "s22-10-24 15:00",
          "s22-10-25 03:00",
          "s22-10-25 10:00",
          "s22-10-25 21:00",
          "s22-10-26 13:00",
          "s22-10-27 16:00",
          "s22-11-01 09:00",
          "s22-11-03 16:00",
          "s22-11-07 07:00",
          "s22-11-07 08:00",
          "s22-11-07 13:00",
          "s22-11-08 04:00",
          "s22-11-08 09:00",
          "s22-11-09 13:00",
          "s22-11-09 23:00",
          "s22-11-11 08:00",
          "s22-11-11 10:00",
          "s22-11-14 04:00",
          "s22-11-14 23:00",
          "s22-11-15 09:00",
          "s22-11-15 11:00",
          "s22-11-16 02:00",
          "s22-11-16 16:00",
          "s22-11-17 13:00",
          "s22-11-18 07:00",
          "s22-11-21 03:00",
          "s22-11-22 10:00",
          "s22-11-22 23:00",
          "s22-11-23 11:00",
          "s22-11-25 00:00",
          "s22-11-25 21:00",
          "s22-11-28 19:00",
          "s22-11-29 05:00",
          "s22-11-30 06:00",
          "s22-12-01 01:00",
          "s22-12-05 06:00",
          "s22-12-05 23:00",
          "s22-12-06 09:00",
          "s22-12-06 12:00",
          "s22-12-07 02:00",
          "s22-12-07 16:00",
          "s22-12-08 09:00",
          "s22-12-09 04:00",
          "s22-12-09 21:00",
          "s22-12-13 13:00",
          "s22-12-14 23:00",
          "s22-12-16 07:00",
          "s22-12-19 13:00",
          "s22-12-20 04:00",
          "s22-12-21 04:00",
          "s22-12-21 15:00",
          "s22-12-21 18:00",
          "s22-12-22 07:00",
          "s22-12-23 02:00",
          "s22-12-28 18:00",
          "s23-01-04 03:00",
          "s23-01-05 09:00",
          "s23-01-05 13:00",
          "s23-01-06 17:00",
          "s23-01-09 09:00",
          "s23-01-09 22:00",
          "s23-01-10 10:00",
          "s23-01-10 21:00",
          "s23-01-11 07:00",
          "s23-01-11 23:00",
          "s23-01-16 07:00",
          "s23-01-17 03:00",
          "s23-01-17 04:00",
          "s23-01-17 05:00",
          "s23-01-17 06:00",
          "s23-01-17 15:00",
          "s23-01-18 02:00",
          "s23-01-18 15:00",
          "s23-01-19 16:00",
          "s23-01-24 06:00",
          "s23-01-25 03:00",
          "s23-01-25 13:00",
          "s23-01-26 11:00",
          "s23-01-27 07:00",
          "s23-01-27 17:00",
          "s23-01-30 06:00",
          "s23-01-30 16:00",
          "s23-01-31 01:00",
          "s23-01-31 18:00",
          "s23-02-01 10:00",
          "s23-02-02 12:00",
          "s23-02-02 13:00",
          "s23-02-03 15:00",
          "s23-02-07 06:00",
          "s23-02-08 07:00",
          "s23-02-08 15:00",
          "s23-02-10 00:00",
          "s23-02-10 09:00",
          "s23-02-10 17:00",
          "s23-02-14 02:00",
          "s23-02-14 15:00",
          "s23-02-15 08:00",
          "s23-02-15 13:00",
          "s23-02-16 07:00",
          "s23-02-17 07:00",
          "s23-02-17 16:00",
          "s23-02-20 08:00",
          "s23-02-20 11:00",
          "s23-02-20 14:00",
          "s23-02-21 21:00",
          "s23-02-22 23:00",
          "s23-02-23 17:00",
          "s23-02-24 09:00",
          "s23-02-27 09:00",
          "s23-02-27 15:00",
          "s23-02-28 18:00",
          "s23-03-01 08:00",
          "s23-03-01 13:00",
          "s23-03-01 22:00",
          "s23-03-03 11:00",
          "s23-03-06 13:00",
          "s23-03-06 20:00",
          "s23-03-07 01:00",
          "s23-03-07 02:00",
          "s23-03-07 03:00",
          "s23-03-07 08:00",
          "s23-03-08 01:00",
          "s23-03-08 15:00",
          "s23-03-10 10:00",
          "s23-03-10 16:00",
          "s23-03-13 07:00",
          "s23-03-13 10:00",
          "s23-03-14 02:00",
          "s23-03-15 11:00",
          "s23-03-16 04:00",
          "s23-03-16 10:00",
          "s23-03-16 18:00",
          "s23-03-17 10:00",
          "s23-03-20 06:00",
          "s23-03-20 08:00",
          "s23-03-20 19:00",
          "s23-03-21 04:00",
          "s23-03-21 10:00",
          "s23-03-22 19:00",
          "s23-03-23 12:00",
          "s23-03-23 21:00",
          "s23-03-24 20:00",
          "s23-03-28 04:00",
          "s23-03-28 18:00",
          "s23-03-30 08:00",
          "s23-03-30 11:00",
          "s23-03-31 16:00",
          "s23-04-02 22:00"
         ],
         "y": [
          -19.899999999999807,
          -47.399999999998954,
          -86.39999999999901,
          -86.19999999999948,
          -101.89999999999912,
          -136.29999999999853,
          -161.49999999999807,
          -191.0999999999973,
          -272.59999999999707,
          -245.09999999999792,
          -194.7999999999979,
          -230.09999999999735,
          -304.2999999999978,
          -273.09999999999803,
          -287.3999999999981,
          -2.2999999999981924,
          17.00000000000159,
          17.200000000001125,
          -25.799999999998136,
          -92.99999999999784,
          -111.19999999999806,
          -59.39999999999799,
          -63.0999999999986,
          -81.3999999999993,
          -72.19999999999942,
          -77.59999999999962,
          -106.00000000000023,
          -127.60000000000105,
          -18.000000000002103,
          -23.800000000002797,
          50.99999999999767,
          39.89999999999867,
          45.79999999999842,
          -25.1000000000019,
          128.39999999999776,
          144.7999999999965,
          162.09999999999525,
          186.1999999999952,
          183.39999999999606,
          162.59999999999621,
          156.1999999999955,
          123.3999999999952,
          74.59999999999525,
          33.79999999999512,
          -2.0000000000052864,
          -32.80000000000598,
          -30.500000000006366,
          88.99999999999295,
          79.6999999999926,
          50.59999999999292,
          35.99999999999284,
          -20.800000000006946,
          -3.000000000005798,
          -2.5000000000048317,
          -35.60000000000372,
          -65.80000000000297,
          -86.00000000000279,
          -56.40000000000214,
          -136.20000000000232,
          -140.20000000000294,
          -179.6000000000035,
          -79.60000000000349,
          -102.00000000000244,
          -68.80000000000166,
          -133.60000000000127,
          -238.00000000000097,
          -274.50000000000045,
          -312.3999999999995,
          -325.09999999999906,
          -355.3999999999988,
          -396.4999999999989,
          -461.4999999999995,
          -438.8999999999996,
          -348.3000000000004,
          -261.8000000000009,
          -167.20000000000113,
          -167.60000000000161,
          -208.2000000000022,
          -215.000000000002,
          -239.200000000001,
          -294.6000000000012,
          -375.1000000000019,
          -149.50000000000188,
          -233.00000000000125,
          -239.40000000000055,
          -229.80000000000018,
          -214.10000000000053,
          -237.40000000000094,
          -295.4000000000008,
          -368.6000000000007,
          -400.800000000001,
          -394.2000000000007,
          -364.1999999999996,
          -283.9999999999989,
          -298.09999999999945,
          -316.5999999999997,
          -184.19999999999987,
          -197.80000000000086,
          -92.60000000000161,
          -72.60000000000133,
          30.49999999999926,
          14.399999999999125,
          168.1999999999988,
          179.09999999999826,
          179.9999999999983,
          121.09999999999843,
          69.29999999999836,
          37.79999999999859,
          33.19999999999794,
          24.799999999997624,
          24.1999999999976,
          -3.90000000000299,
          -12.700000000003797,
          54.39999999999543,
          102.39999999999583,
          -157.20000000000312,
          -115.00000000000199,
          -126.50000000000148,
          -149.90000000000094,
          -152.59999999999962,
          -167.99999999999926,
          -24.59999999999951,
          269.50000000000074,
          502.4000000000015,
          438.9000000000024,
          389.0000000000029,
          326.8000000000029,
          286.6000000000028,
          279.6000000000035,
          270.60000000000457,
          256.0000000000045,
          215.8000000000044,
          478.40000000000487,
          526.6000000000048,
          532.5000000000045,
          526.8000000000043,
          513.7000000000043,
          485.2000000000046,
          317.6000000000044,
          146.80000000000456,
          201.90000000000475,
          422.6000000000041,
          390.6000000000034,
          337.7000000000023,
          359.6000000000017,
          405.3000000000011,
          385.9999999999999,
          340.9999999999996,
          297.1000000000003,
          256.2000000000011,
          196.70000000000124,
          168.90000000000066,
          262.79999999999995,
          262.6999999999995,
          118.79999999999876,
          159.39999999999793,
          216.79999999999774,
          219.09999999999735,
          227.09999999999718,
          189.79999999999671,
          92.59999999999587,
          156.29999999999592,
          116.29999999999677,
          134.799999999997,
          122.49999999999653,
          146.8999999999965,
          162.39999999999662,
          128.39999999999628,
          106.79999999999546,
          87.49999999999568,
          81.99999999999642,
          96.09999999999695,
          107.7999999999974,
          84.799999999997,
          63.19999999999618,
          133.89999999999554,
          133.399999999996,
          88.59999999999667,
          81.3999999999964,
          45.999999999996476,
          -7.400000000002706,
          4.599999999997749,
          50.29999999999711,
          59.599999999996044,
          49.799999999996146,
          46.79999999999603,
          47.699999999994645,
          9.299999999994611,
          -19.200000000005048,
          -76.5000000000058,
          -49.00000000000665,
          -164.4000000000077,
          -178.60000000000872,
          -285.4000000000085,
          -325.0000000000086,
          -352.90000000000964,
          -305.2000000000107,
          -297.60000000001133,
          -362.0000000000119,
          -379.40000000001254,
          -211.90000000001282,
          -211.0000000000128,
          -289.0000000000129,
          -320.90000000001316,
          -407.6000000000136,
          -524.0000000000138,
          -579.200000000013,
          -649.3000000000123,
          -613.800000000012,
          -546.2000000000119,
          -584.3000000000119,
          -406.6000000000118,
          -408.40000000001186,
          -384.0000000000119,
          -443.8000000000118,
          -443.8000000000118
         ]
        }
       ],
       "layout": {
        "font": {
         "color": "#e1e1e1",
         "size": 8
        },
        "height": 400,
        "margin": {
         "b": 10,
         "l": 10,
         "r": 10,
         "t": 10
        },
        "paper_bgcolor": "#2c303c",
        "plot_bgcolor": "#2c303c",
        "template": {
         "data": {
          "bar": [
           {
            "error_x": {
             "color": "#2a3f5f"
            },
            "error_y": {
             "color": "#2a3f5f"
            },
            "marker": {
             "line": {
              "color": "#E5ECF6",
              "width": 0.5
             },
             "pattern": {
              "fillmode": "overlay",
              "size": 10,
              "solidity": 0.2
             }
            },
            "type": "bar"
           }
          ],
          "barpolar": [
           {
            "marker": {
             "line": {
              "color": "#E5ECF6",
              "width": 0.5
             },
             "pattern": {
              "fillmode": "overlay",
              "size": 10,
              "solidity": 0.2
             }
            },
            "type": "barpolar"
           }
          ],
          "carpet": [
           {
            "aaxis": {
             "endlinecolor": "#2a3f5f",
             "gridcolor": "white",
             "linecolor": "white",
             "minorgridcolor": "white",
             "startlinecolor": "#2a3f5f"
            },
            "baxis": {
             "endlinecolor": "#2a3f5f",
             "gridcolor": "white",
             "linecolor": "white",
             "minorgridcolor": "white",
             "startlinecolor": "#2a3f5f"
            },
            "type": "carpet"
           }
          ],
          "choropleth": [
           {
            "colorbar": {
             "outlinewidth": 0,
             "ticks": ""
            },
            "type": "choropleth"
           }
          ],
          "contour": [
           {
            "colorbar": {
             "outlinewidth": 0,
             "ticks": ""
            },
            "colorscale": [
             [
              0,
              "#0d0887"
             ],
             [
              0.1111111111111111,
              "#46039f"
             ],
             [
              0.2222222222222222,
              "#7201a8"
             ],
             [
              0.3333333333333333,
              "#9c179e"
             ],
             [
              0.4444444444444444,
              "#bd3786"
             ],
             [
              0.5555555555555556,
              "#d8576b"
             ],
             [
              0.6666666666666666,
              "#ed7953"
             ],
             [
              0.7777777777777778,
              "#fb9f3a"
             ],
             [
              0.8888888888888888,
              "#fdca26"
             ],
             [
              1,
              "#f0f921"
             ]
            ],
            "type": "contour"
           }
          ],
          "contourcarpet": [
           {
            "colorbar": {
             "outlinewidth": 0,
             "ticks": ""
            },
            "type": "contourcarpet"
           }
          ],
          "heatmap": [
           {
            "colorbar": {
             "outlinewidth": 0,
             "ticks": ""
            },
            "colorscale": [
             [
              0,
              "#0d0887"
             ],
             [
              0.1111111111111111,
              "#46039f"
             ],
             [
              0.2222222222222222,
              "#7201a8"
             ],
             [
              0.3333333333333333,
              "#9c179e"
             ],
             [
              0.4444444444444444,
              "#bd3786"
             ],
             [
              0.5555555555555556,
              "#d8576b"
             ],
             [
              0.6666666666666666,
              "#ed7953"
             ],
             [
              0.7777777777777778,
              "#fb9f3a"
             ],
             [
              0.8888888888888888,
              "#fdca26"
             ],
             [
              1,
              "#f0f921"
             ]
            ],
            "type": "heatmap"
           }
          ],
          "heatmapgl": [
           {
            "colorbar": {
             "outlinewidth": 0,
             "ticks": ""
            },
            "colorscale": [
             [
              0,
              "#0d0887"
             ],
             [
              0.1111111111111111,
              "#46039f"
             ],
             [
              0.2222222222222222,
              "#7201a8"
             ],
             [
              0.3333333333333333,
              "#9c179e"
             ],
             [
              0.4444444444444444,
              "#bd3786"
             ],
             [
              0.5555555555555556,
              "#d8576b"
             ],
             [
              0.6666666666666666,
              "#ed7953"
             ],
             [
              0.7777777777777778,
              "#fb9f3a"
             ],
             [
              0.8888888888888888,
              "#fdca26"
             ],
             [
              1,
              "#f0f921"
             ]
            ],
            "type": "heatmapgl"
           }
          ],
          "histogram": [
           {
            "marker": {
             "pattern": {
              "fillmode": "overlay",
              "size": 10,
              "solidity": 0.2
             }
            },
            "type": "histogram"
           }
          ],
          "histogram2d": [
           {
            "colorbar": {
             "outlinewidth": 0,
             "ticks": ""
            },
            "colorscale": [
             [
              0,
              "#0d0887"
             ],
             [
              0.1111111111111111,
              "#46039f"
             ],
             [
              0.2222222222222222,
              "#7201a8"
             ],
             [
              0.3333333333333333,
              "#9c179e"
             ],
             [
              0.4444444444444444,
              "#bd3786"
             ],
             [
              0.5555555555555556,
              "#d8576b"
             ],
             [
              0.6666666666666666,
              "#ed7953"
             ],
             [
              0.7777777777777778,
              "#fb9f3a"
             ],
             [
              0.8888888888888888,
              "#fdca26"
             ],
             [
              1,
              "#f0f921"
             ]
            ],
            "type": "histogram2d"
           }
          ],
          "histogram2dcontour": [
           {
            "colorbar": {
             "outlinewidth": 0,
             "ticks": ""
            },
            "colorscale": [
             [
              0,
              "#0d0887"
             ],
             [
              0.1111111111111111,
              "#46039f"
             ],
             [
              0.2222222222222222,
              "#7201a8"
             ],
             [
              0.3333333333333333,
              "#9c179e"
             ],
             [
              0.4444444444444444,
              "#bd3786"
             ],
             [
              0.5555555555555556,
              "#d8576b"
             ],
             [
              0.6666666666666666,
              "#ed7953"
             ],
             [
              0.7777777777777778,
              "#fb9f3a"
             ],
             [
              0.8888888888888888,
              "#fdca26"
             ],
             [
              1,
              "#f0f921"
             ]
            ],
            "type": "histogram2dcontour"
           }
          ],
          "mesh3d": [
           {
            "colorbar": {
             "outlinewidth": 0,
             "ticks": ""
            },
            "type": "mesh3d"
           }
          ],
          "parcoords": [
           {
            "line": {
             "colorbar": {
              "outlinewidth": 0,
              "ticks": ""
             }
            },
            "type": "parcoords"
           }
          ],
          "pie": [
           {
            "automargin": true,
            "type": "pie"
           }
          ],
          "scatter": [
           {
            "fillpattern": {
             "fillmode": "overlay",
             "size": 10,
             "solidity": 0.2
            },
            "type": "scatter"
           }
          ],
          "scatter3d": [
           {
            "line": {
             "colorbar": {
              "outlinewidth": 0,
              "ticks": ""
             }
            },
            "marker": {
             "colorbar": {
              "outlinewidth": 0,
              "ticks": ""
             }
            },
            "type": "scatter3d"
           }
          ],
          "scattercarpet": [
           {
            "marker": {
             "colorbar": {
              "outlinewidth": 0,
              "ticks": ""
             }
            },
            "type": "scattercarpet"
           }
          ],
          "scattergeo": [
           {
            "marker": {
             "colorbar": {
              "outlinewidth": 0,
              "ticks": ""
             }
            },
            "type": "scattergeo"
           }
          ],
          "scattergl": [
           {
            "marker": {
             "colorbar": {
              "outlinewidth": 0,
              "ticks": ""
             }
            },
            "type": "scattergl"
           }
          ],
          "scattermapbox": [
           {
            "marker": {
             "colorbar": {
              "outlinewidth": 0,
              "ticks": ""
             }
            },
            "type": "scattermapbox"
           }
          ],
          "scatterpolar": [
           {
            "marker": {
             "colorbar": {
              "outlinewidth": 0,
              "ticks": ""
             }
            },
            "type": "scatterpolar"
           }
          ],
          "scatterpolargl": [
           {
            "marker": {
             "colorbar": {
              "outlinewidth": 0,
              "ticks": ""
             }
            },
            "type": "scatterpolargl"
           }
          ],
          "scatterternary": [
           {
            "marker": {
             "colorbar": {
              "outlinewidth": 0,
              "ticks": ""
             }
            },
            "type": "scatterternary"
           }
          ],
          "surface": [
           {
            "colorbar": {
             "outlinewidth": 0,
             "ticks": ""
            },
            "colorscale": [
             [
              0,
              "#0d0887"
             ],
             [
              0.1111111111111111,
              "#46039f"
             ],
             [
              0.2222222222222222,
              "#7201a8"
             ],
             [
              0.3333333333333333,
              "#9c179e"
             ],
             [
              0.4444444444444444,
              "#bd3786"
             ],
             [
              0.5555555555555556,
              "#d8576b"
             ],
             [
              0.6666666666666666,
              "#ed7953"
             ],
             [
              0.7777777777777778,
              "#fb9f3a"
             ],
             [
              0.8888888888888888,
              "#fdca26"
             ],
             [
              1,
              "#f0f921"
             ]
            ],
            "type": "surface"
           }
          ],
          "table": [
           {
            "cells": {
             "fill": {
              "color": "#EBF0F8"
             },
             "line": {
              "color": "white"
             }
            },
            "header": {
             "fill": {
              "color": "#C8D4E3"
             },
             "line": {
              "color": "white"
             }
            },
            "type": "table"
           }
          ]
         },
         "layout": {
          "annotationdefaults": {
           "arrowcolor": "#2a3f5f",
           "arrowhead": 0,
           "arrowwidth": 1
          },
          "autotypenumbers": "strict",
          "coloraxis": {
           "colorbar": {
            "outlinewidth": 0,
            "ticks": ""
           }
          },
          "colorscale": {
           "diverging": [
            [
             0,
             "#8e0152"
            ],
            [
             0.1,
             "#c51b7d"
            ],
            [
             0.2,
             "#de77ae"
            ],
            [
             0.3,
             "#f1b6da"
            ],
            [
             0.4,
             "#fde0ef"
            ],
            [
             0.5,
             "#f7f7f7"
            ],
            [
             0.6,
             "#e6f5d0"
            ],
            [
             0.7,
             "#b8e186"
            ],
            [
             0.8,
             "#7fbc41"
            ],
            [
             0.9,
             "#4d9221"
            ],
            [
             1,
             "#276419"
            ]
           ],
           "sequential": [
            [
             0,
             "#0d0887"
            ],
            [
             0.1111111111111111,
             "#46039f"
            ],
            [
             0.2222222222222222,
             "#7201a8"
            ],
            [
             0.3333333333333333,
             "#9c179e"
            ],
            [
             0.4444444444444444,
             "#bd3786"
            ],
            [
             0.5555555555555556,
             "#d8576b"
            ],
            [
             0.6666666666666666,
             "#ed7953"
            ],
            [
             0.7777777777777778,
             "#fb9f3a"
            ],
            [
             0.8888888888888888,
             "#fdca26"
            ],
            [
             1,
             "#f0f921"
            ]
           ],
           "sequentialminus": [
            [
             0,
             "#0d0887"
            ],
            [
             0.1111111111111111,
             "#46039f"
            ],
            [
             0.2222222222222222,
             "#7201a8"
            ],
            [
             0.3333333333333333,
             "#9c179e"
            ],
            [
             0.4444444444444444,
             "#bd3786"
            ],
            [
             0.5555555555555556,
             "#d8576b"
            ],
            [
             0.6666666666666666,
             "#ed7953"
            ],
            [
             0.7777777777777778,
             "#fb9f3a"
            ],
            [
             0.8888888888888888,
             "#fdca26"
            ],
            [
             1,
             "#f0f921"
            ]
           ]
          },
          "colorway": [
           "#636efa",
           "#EF553B",
           "#00cc96",
           "#ab63fa",
           "#FFA15A",
           "#19d3f3",
           "#FF6692",
           "#B6E880",
           "#FF97FF",
           "#FECB52"
          ],
          "font": {
           "color": "#2a3f5f"
          },
          "geo": {
           "bgcolor": "white",
           "lakecolor": "white",
           "landcolor": "#E5ECF6",
           "showlakes": true,
           "showland": true,
           "subunitcolor": "white"
          },
          "hoverlabel": {
           "align": "left"
          },
          "hovermode": "closest",
          "mapbox": {
           "style": "light"
          },
          "paper_bgcolor": "white",
          "plot_bgcolor": "#E5ECF6",
          "polar": {
           "angularaxis": {
            "gridcolor": "white",
            "linecolor": "white",
            "ticks": ""
           },
           "bgcolor": "#E5ECF6",
           "radialaxis": {
            "gridcolor": "white",
            "linecolor": "white",
            "ticks": ""
           }
          },
          "scene": {
           "xaxis": {
            "backgroundcolor": "#E5ECF6",
            "gridcolor": "white",
            "gridwidth": 2,
            "linecolor": "white",
            "showbackground": true,
            "ticks": "",
            "zerolinecolor": "white"
           },
           "yaxis": {
            "backgroundcolor": "#E5ECF6",
            "gridcolor": "white",
            "gridwidth": 2,
            "linecolor": "white",
            "showbackground": true,
            "ticks": "",
            "zerolinecolor": "white"
           },
           "zaxis": {
            "backgroundcolor": "#E5ECF6",
            "gridcolor": "white",
            "gridwidth": 2,
            "linecolor": "white",
            "showbackground": true,
            "ticks": "",
            "zerolinecolor": "white"
           }
          },
          "shapedefaults": {
           "line": {
            "color": "#2a3f5f"
           }
          },
          "ternary": {
           "aaxis": {
            "gridcolor": "white",
            "linecolor": "white",
            "ticks": ""
           },
           "baxis": {
            "gridcolor": "white",
            "linecolor": "white",
            "ticks": ""
           },
           "bgcolor": "#E5ECF6",
           "caxis": {
            "gridcolor": "white",
            "linecolor": "white",
            "ticks": ""
           }
          },
          "title": {
           "x": 0.05
          },
          "xaxis": {
           "automargin": true,
           "gridcolor": "white",
           "linecolor": "white",
           "ticks": "",
           "title": {
            "standoff": 15
           },
           "zerolinecolor": "white",
           "zerolinewidth": 2
          },
          "yaxis": {
           "automargin": true,
           "gridcolor": "white",
           "linecolor": "white",
           "ticks": "",
           "title": {
            "standoff": 15
           },
           "zerolinecolor": "white",
           "zerolinewidth": 2
          }
         }
        },
        "width": 900,
        "xaxis": {
         "gridcolor": "#1f292f",
         "nticks": 5,
         "rangeslider": {
          "visible": false
         }
        },
        "yaxis": {
         "gridcolor": "#1f292f"
        }
       }
      }
     },
     "metadata": {},
     "output_type": "display_data"
    }
   ],
   "source": [
    "cp = CandlePlot(df_gains, candles=True)\n",
    "cp.show_plot(line_traces=['GAIN_C'])"
   ]
  },
  {
   "cell_type": "code",
   "execution_count": 29,
   "id": "8b8a946d",
   "metadata": {
    "scrolled": false
   },
   "outputs": [
    {
     "name": "stdout",
     "output_type": "stream",
     "text": [
      "GBP_JPY 1266\n"
     ]
    },
    {
     "data": {
      "application/vnd.plotly.v1+json": {
       "config": {
        "plotlyServerURL": "https://plot.ly"
       },
       "data": [
        {
         "line": {
          "shape": "spline",
          "width": 2
         },
         "name": "GAIN_C",
         "type": "scatter",
         "x": [
          "s22-08-18 15:00",
          "s22-08-19 06:00",
          "s22-08-19 15:00",
          "s22-08-22 03:00",
          "s22-08-22 12:00",
          "s22-08-23 16:00",
          "s22-08-24 04:00",
          "s22-08-24 20:00",
          "s22-08-25 10:00",
          "s22-08-26 03:00",
          "s22-08-26 20:00",
          "s22-08-29 07:00",
          "s22-08-30 04:00",
          "s22-09-01 00:00",
          "s22-09-01 12:00",
          "s22-09-01 20:00",
          "s22-09-02 19:00",
          "s22-09-05 11:00",
          "s22-09-08 08:00",
          "s22-09-08 20:00",
          "s22-09-09 10:00",
          "s22-09-11 22:00",
          "s22-09-13 01:00",
          "s22-09-13 02:00",
          "s22-09-13 05:00",
          "s22-09-15 07:00",
          "s22-09-15 14:00",
          "s22-09-19 02:00",
          "s22-09-19 12:00",
          "s22-09-19 16:00",
          "s22-09-20 18:00",
          "s22-09-26 13:00",
          "s22-09-27 01:00",
          "s22-09-27 04:00",
          "s22-09-27 18:00",
          "s22-09-28 16:00",
          "s22-09-29 07:00",
          "s22-09-29 12:00",
          "s22-09-30 15:00",
          "s22-09-30 20:00",
          "s22-10-05 06:00",
          "s22-10-06 02:00",
          "s22-10-06 11:00",
          "s22-10-07 09:00",
          "s22-10-07 14:00",
          "s22-10-10 21:00",
          "s22-10-11 06:00",
          "s22-10-11 15:00",
          "s22-10-12 00:00",
          "s22-10-12 10:00",
          "s22-10-14 10:00",
          "s22-10-16 23:00",
          "s22-10-18 06:00",
          "s22-10-18 21:00",
          "s22-10-19 09:00",
          "s22-10-20 11:00",
          "s22-10-21 03:00",
          "s22-10-24 02:00",
          "s22-10-24 17:00",
          "s22-10-25 06:00",
          "s22-10-27 00:00",
          "s22-10-28 01:00",
          "s22-10-28 03:00",
          "s22-10-28 04:00",
          "s22-10-31 13:00",
          "s22-11-04 06:00",
          "s22-11-08 09:00",
          "s22-11-08 23:00",
          "s22-11-09 07:00",
          "s22-11-10 08:00",
          "s22-11-10 15:00",
          "s22-11-11 08:00",
          "s22-11-11 10:00",
          "s22-11-14 03:00",
          "s22-11-14 23:00",
          "s22-11-15 06:00",
          "s22-11-16 00:00",
          "s22-11-16 05:00",
          "s22-11-16 20:00",
          "s22-11-17 00:00",
          "s22-11-17 10:00",
          "s22-11-17 22:00",
          "s22-11-21 03:00",
          "s22-11-21 11:00",
          "s22-11-22 11:00",
          "s22-11-23 00:00",
          "s22-11-23 23:00",
          "s22-11-24 21:00",
          "s22-11-28 00:00",
          "s22-11-30 04:00",
          "s22-12-01 00:00",
          "s22-12-01 15:00",
          "s22-12-02 01:00",
          "s22-12-02 20:00",
          "s22-12-06 13:00",
          "s22-12-07 08:00",
          "s22-12-07 21:00",
          "s22-12-08 06:00",
          "s22-12-08 15:00",
          "s22-12-08 18:00",
          "s22-12-09 07:00",
          "s22-12-09 16:00",
          "s22-12-12 07:00",
          "s22-12-12 11:00",
          "s22-12-13 13:00",
          "s22-12-14 20:00",
          "s22-12-15 20:00",
          "s22-12-19 13:00",
          "s22-12-20 03:00",
          "s22-12-21 03:00",
          "s22-12-21 12:00",
          "s22-12-23 03:00",
          "s22-12-27 16:00",
          "s22-12-28 01:00",
          "s22-12-29 01:00",
          "s23-01-03 20:00",
          "s23-01-05 08:00",
          "s23-01-06 04:00",
          "s23-01-06 18:00",
          "s23-01-06 21:00",
          "s23-01-10 01:00",
          "s23-01-10 12:00",
          "s23-01-11 17:00",
          "s23-01-16 03:00",
          "s23-01-18 17:00",
          "s23-01-19 16:00",
          "s23-01-24 07:00",
          "s23-01-25 02:00",
          "s23-01-25 11:00",
          "s23-01-25 22:00",
          "s23-01-27 06:00",
          "s23-01-29 22:00",
          "s23-01-30 10:00",
          "s23-01-30 15:00",
          "s23-01-31 03:00",
          "s23-02-03 14:00",
          "s23-02-07 05:00",
          "s23-02-08 05:00",
          "s23-02-10 07:00",
          "s23-02-13 01:00",
          "s23-02-14 05:00",
          "s23-02-14 12:00",
          "s23-02-15 07:00",
          "s23-02-16 00:00",
          "s23-02-16 07:00",
          "s23-02-17 08:00",
          "s23-02-20 10:00",
          "s23-02-20 21:00",
          "s23-02-22 08:00",
          "s23-02-23 14:00",
          "s23-02-23 15:00",
          "s23-02-24 09:00",
          "s23-02-27 08:00",
          "s23-02-27 11:00",
          "s23-02-28 21:00",
          "s23-03-02 01:00",
          "s23-03-02 12:00",
          "s23-03-03 04:00",
          "s23-03-03 12:00",
          "s23-03-05 22:00",
          "s23-03-06 07:00",
          "s23-03-06 16:00",
          "s23-03-07 11:00",
          "s23-03-08 07:00",
          "s23-03-08 15:00",
          "s23-03-09 02:00",
          "s23-03-09 07:00",
          "s23-03-09 19:00",
          "s23-03-10 20:00",
          "s23-03-13 07:00",
          "s23-03-13 09:00",
          "s23-03-13 22:00",
          "s23-03-15 03:00",
          "s23-03-15 04:00",
          "s23-03-15 10:00",
          "s23-03-16 05:00",
          "s23-03-16 10:00",
          "s23-03-16 18:00",
          "s23-03-17 11:00",
          "s23-03-20 03:00",
          "s23-03-20 08:00",
          "s23-03-20 17:00",
          "s23-03-21 05:00",
          "s23-03-21 10:00",
          "s23-03-22 20:00",
          "s23-03-23 12:00",
          "s23-03-23 20:00",
          "s23-03-26 21:00",
          "s23-03-28 04:00",
          "s23-03-28 15:00",
          "s23-03-30 06:00",
          "s23-03-30 09:00",
          "s23-03-31 16:00"
         ],
         "y": [
          -55.59999999999832,
          -125.89999999999861,
          -183.0999999999989,
          -206.29999999999882,
          -159.3999999999994,
          -185.99999999999852,
          -221.39999999999702,
          -250.99999999999625,
          -266.3999999999959,
          -272.3999999999961,
          -308.69999999999607,
          -288.9999999999958,
          -234.8999999999961,
          -252.1999999999963,
          -297.3999999999961,
          -341.19999999999493,
          -367.8999999999945,
          23.70000000000516,
          7.900000000003615,
          -112.69999999999811,
          -222.199999999998,
          -138.99999999999864,
          -159.00000000000034,
          -185.50000000000182,
          -104.60000000000207,
          -178.40000000000202,
          -14.000000000001478,
          -19.599999999999795,
          -58.19999999999936,
          -78.39999999999918,
          590.2000000000015,
          479.00000000000205,
          467.6000000000016,
          433.8000000000022,
          302.40000000000293,
          238.0000000000024,
          93.20000000000164,
          461.2000000000023,
          407.80000000000314,
          786.6000000000014,
          903.2000000000011,
          766.6000000000025,
          804.6000000000021,
          707.4000000000012,
          748.5000000000014,
          673.4000000000009,
          460.59999999999945,
          239.29999999999723,
          37.59999999999479,
          415.199999999993,
          315.99999999999113,
          505.39999999998884,
          509.0999999999866,
          475.5999999999858,
          479.19999999998595,
          461.99999999998624,
          458.59999999998706,
          418.9999999999884,
          405.09999999999025,
          567.1999999999912,
          575.9999999999906,
          525.3999999999905,
          518.7999999999903,
          668.3999999999884,
          1141.5999999999883,
          1339.7999999999884,
          1357.1999999999862,
          1341.1999999999837,
          1454.5999999999822,
          1336.3999999999833,
          1326.4999999999843,
          1159.399999999985,
          1157.799999999986,
          1240.3999999999855,
          1167.1999999999857,
          1141.7999999999865,
          1068.1999999999875,
          1098.4999999999873,
          1110.5999999999854,
          1113.5999999999854,
          1075.7999999999868,
          1070.1999999999857,
          954.3999999999842,
          965.6999999999841,
          949.599999999984,
          984.1999999999844,
          1006.1999999999842,
          988.5999999999826,
          1153.9999999999823,
          1098.199999999983,
          979.6999999999828,
          847.599999999983,
          893.1999999999847,
          1041.7999999999865,
          982.1999999999862,
          953.9999999999851,
          944.9999999999848,
          937.9999999999854,
          888.4999999999878,
          871.4999999999891,
          792.2999999999889,
          757.199999999989,
          715.5999999999893,
          693.5999999999894,
          663.9999999999902,
          623.3999999999896,
          760.3999999999872,
          334.7999999999872,
          464.79999999998836,
          387.39999999998827,
          399.3999999999887,
          470.3999999999895,
          442.4999999999899,
          464.1999999999912,
          886.4999999999925,
          1145.1999999999914,
          1116.3999999999903,
          1109.19999999999,
          1096.69999999999,
          1143.09999999999,
          1107.4999999999905,
          1111.399999999992,
          1538.999999999993,
          1810.9999999999927,
          1827.7999999999906,
          2049.69999999999,
          2096.5999999999894,
          1995.5999999999876,
          1895.9999999999868,
          1939.5999999999876,
          1954.39999999999,
          1982.199999999992,
          1965.3999999999915,
          1908.5999999999904,
          2172.19999999999,
          2294.3999999999905,
          2427.799999999991,
          2437.1999999999907,
          2383.1999999999916,
          2535.3999999999905,
          2431.3999999999887,
          2421.5999999999876,
          2415.7999999999884,
          2414.499999999991,
          2438.9999999999914,
          2477.6999999999916,
          2439.8999999999933,
          2565.9999999999927,
          2598.1999999999903,
          2550.9999999999895,
          2515.99999999999,
          2554.899999999991,
          2514.099999999992,
          2557.599999999992,
          2558.5999999999913,
          2527.5999999999913,
          2508.7999999999925,
          2481.299999999992,
          2456.3999999999896,
          2431.3999999999896,
          2387.8999999999924,
          2322.999999999995,
          2374.5999999999967,
          2317.1999999999985,
          2286.199999999998,
          2268.7999999999975,
          2267.299999999999,
          2268.3999999999983,
          2207.399999999997,
          2017.9999999999964,
          1884.199999999997,
          2003.5999999999988,
          1983.399999999999,
          1745.3999999999994,
          1846.4000000000015,
          1830.2000000000037,
          1653.6000000000045,
          1560.6000000000038,
          1579.4000000000026,
          1493.3000000000006,
          1331.4000000000005,
          1273.3000000000015,
          1159.300000000003,
          1085.2000000000044,
          1075.600000000004,
          1016.9000000000023,
          1120.1000000000004,
          1228.0999999999988,
          1151.3999999999992,
          1319.3999999999999,
          1261.3999999999987,
          1266.399999999997,
          1266.399999999997
         ]
        }
       ],
       "layout": {
        "font": {
         "color": "#e1e1e1",
         "size": 8
        },
        "height": 400,
        "margin": {
         "b": 10,
         "l": 10,
         "r": 10,
         "t": 10
        },
        "paper_bgcolor": "#2c303c",
        "plot_bgcolor": "#2c303c",
        "template": {
         "data": {
          "bar": [
           {
            "error_x": {
             "color": "#2a3f5f"
            },
            "error_y": {
             "color": "#2a3f5f"
            },
            "marker": {
             "line": {
              "color": "#E5ECF6",
              "width": 0.5
             },
             "pattern": {
              "fillmode": "overlay",
              "size": 10,
              "solidity": 0.2
             }
            },
            "type": "bar"
           }
          ],
          "barpolar": [
           {
            "marker": {
             "line": {
              "color": "#E5ECF6",
              "width": 0.5
             },
             "pattern": {
              "fillmode": "overlay",
              "size": 10,
              "solidity": 0.2
             }
            },
            "type": "barpolar"
           }
          ],
          "carpet": [
           {
            "aaxis": {
             "endlinecolor": "#2a3f5f",
             "gridcolor": "white",
             "linecolor": "white",
             "minorgridcolor": "white",
             "startlinecolor": "#2a3f5f"
            },
            "baxis": {
             "endlinecolor": "#2a3f5f",
             "gridcolor": "white",
             "linecolor": "white",
             "minorgridcolor": "white",
             "startlinecolor": "#2a3f5f"
            },
            "type": "carpet"
           }
          ],
          "choropleth": [
           {
            "colorbar": {
             "outlinewidth": 0,
             "ticks": ""
            },
            "type": "choropleth"
           }
          ],
          "contour": [
           {
            "colorbar": {
             "outlinewidth": 0,
             "ticks": ""
            },
            "colorscale": [
             [
              0,
              "#0d0887"
             ],
             [
              0.1111111111111111,
              "#46039f"
             ],
             [
              0.2222222222222222,
              "#7201a8"
             ],
             [
              0.3333333333333333,
              "#9c179e"
             ],
             [
              0.4444444444444444,
              "#bd3786"
             ],
             [
              0.5555555555555556,
              "#d8576b"
             ],
             [
              0.6666666666666666,
              "#ed7953"
             ],
             [
              0.7777777777777778,
              "#fb9f3a"
             ],
             [
              0.8888888888888888,
              "#fdca26"
             ],
             [
              1,
              "#f0f921"
             ]
            ],
            "type": "contour"
           }
          ],
          "contourcarpet": [
           {
            "colorbar": {
             "outlinewidth": 0,
             "ticks": ""
            },
            "type": "contourcarpet"
           }
          ],
          "heatmap": [
           {
            "colorbar": {
             "outlinewidth": 0,
             "ticks": ""
            },
            "colorscale": [
             [
              0,
              "#0d0887"
             ],
             [
              0.1111111111111111,
              "#46039f"
             ],
             [
              0.2222222222222222,
              "#7201a8"
             ],
             [
              0.3333333333333333,
              "#9c179e"
             ],
             [
              0.4444444444444444,
              "#bd3786"
             ],
             [
              0.5555555555555556,
              "#d8576b"
             ],
             [
              0.6666666666666666,
              "#ed7953"
             ],
             [
              0.7777777777777778,
              "#fb9f3a"
             ],
             [
              0.8888888888888888,
              "#fdca26"
             ],
             [
              1,
              "#f0f921"
             ]
            ],
            "type": "heatmap"
           }
          ],
          "heatmapgl": [
           {
            "colorbar": {
             "outlinewidth": 0,
             "ticks": ""
            },
            "colorscale": [
             [
              0,
              "#0d0887"
             ],
             [
              0.1111111111111111,
              "#46039f"
             ],
             [
              0.2222222222222222,
              "#7201a8"
             ],
             [
              0.3333333333333333,
              "#9c179e"
             ],
             [
              0.4444444444444444,
              "#bd3786"
             ],
             [
              0.5555555555555556,
              "#d8576b"
             ],
             [
              0.6666666666666666,
              "#ed7953"
             ],
             [
              0.7777777777777778,
              "#fb9f3a"
             ],
             [
              0.8888888888888888,
              "#fdca26"
             ],
             [
              1,
              "#f0f921"
             ]
            ],
            "type": "heatmapgl"
           }
          ],
          "histogram": [
           {
            "marker": {
             "pattern": {
              "fillmode": "overlay",
              "size": 10,
              "solidity": 0.2
             }
            },
            "type": "histogram"
           }
          ],
          "histogram2d": [
           {
            "colorbar": {
             "outlinewidth": 0,
             "ticks": ""
            },
            "colorscale": [
             [
              0,
              "#0d0887"
             ],
             [
              0.1111111111111111,
              "#46039f"
             ],
             [
              0.2222222222222222,
              "#7201a8"
             ],
             [
              0.3333333333333333,
              "#9c179e"
             ],
             [
              0.4444444444444444,
              "#bd3786"
             ],
             [
              0.5555555555555556,
              "#d8576b"
             ],
             [
              0.6666666666666666,
              "#ed7953"
             ],
             [
              0.7777777777777778,
              "#fb9f3a"
             ],
             [
              0.8888888888888888,
              "#fdca26"
             ],
             [
              1,
              "#f0f921"
             ]
            ],
            "type": "histogram2d"
           }
          ],
          "histogram2dcontour": [
           {
            "colorbar": {
             "outlinewidth": 0,
             "ticks": ""
            },
            "colorscale": [
             [
              0,
              "#0d0887"
             ],
             [
              0.1111111111111111,
              "#46039f"
             ],
             [
              0.2222222222222222,
              "#7201a8"
             ],
             [
              0.3333333333333333,
              "#9c179e"
             ],
             [
              0.4444444444444444,
              "#bd3786"
             ],
             [
              0.5555555555555556,
              "#d8576b"
             ],
             [
              0.6666666666666666,
              "#ed7953"
             ],
             [
              0.7777777777777778,
              "#fb9f3a"
             ],
             [
              0.8888888888888888,
              "#fdca26"
             ],
             [
              1,
              "#f0f921"
             ]
            ],
            "type": "histogram2dcontour"
           }
          ],
          "mesh3d": [
           {
            "colorbar": {
             "outlinewidth": 0,
             "ticks": ""
            },
            "type": "mesh3d"
           }
          ],
          "parcoords": [
           {
            "line": {
             "colorbar": {
              "outlinewidth": 0,
              "ticks": ""
             }
            },
            "type": "parcoords"
           }
          ],
          "pie": [
           {
            "automargin": true,
            "type": "pie"
           }
          ],
          "scatter": [
           {
            "fillpattern": {
             "fillmode": "overlay",
             "size": 10,
             "solidity": 0.2
            },
            "type": "scatter"
           }
          ],
          "scatter3d": [
           {
            "line": {
             "colorbar": {
              "outlinewidth": 0,
              "ticks": ""
             }
            },
            "marker": {
             "colorbar": {
              "outlinewidth": 0,
              "ticks": ""
             }
            },
            "type": "scatter3d"
           }
          ],
          "scattercarpet": [
           {
            "marker": {
             "colorbar": {
              "outlinewidth": 0,
              "ticks": ""
             }
            },
            "type": "scattercarpet"
           }
          ],
          "scattergeo": [
           {
            "marker": {
             "colorbar": {
              "outlinewidth": 0,
              "ticks": ""
             }
            },
            "type": "scattergeo"
           }
          ],
          "scattergl": [
           {
            "marker": {
             "colorbar": {
              "outlinewidth": 0,
              "ticks": ""
             }
            },
            "type": "scattergl"
           }
          ],
          "scattermapbox": [
           {
            "marker": {
             "colorbar": {
              "outlinewidth": 0,
              "ticks": ""
             }
            },
            "type": "scattermapbox"
           }
          ],
          "scatterpolar": [
           {
            "marker": {
             "colorbar": {
              "outlinewidth": 0,
              "ticks": ""
             }
            },
            "type": "scatterpolar"
           }
          ],
          "scatterpolargl": [
           {
            "marker": {
             "colorbar": {
              "outlinewidth": 0,
              "ticks": ""
             }
            },
            "type": "scatterpolargl"
           }
          ],
          "scatterternary": [
           {
            "marker": {
             "colorbar": {
              "outlinewidth": 0,
              "ticks": ""
             }
            },
            "type": "scatterternary"
           }
          ],
          "surface": [
           {
            "colorbar": {
             "outlinewidth": 0,
             "ticks": ""
            },
            "colorscale": [
             [
              0,
              "#0d0887"
             ],
             [
              0.1111111111111111,
              "#46039f"
             ],
             [
              0.2222222222222222,
              "#7201a8"
             ],
             [
              0.3333333333333333,
              "#9c179e"
             ],
             [
              0.4444444444444444,
              "#bd3786"
             ],
             [
              0.5555555555555556,
              "#d8576b"
             ],
             [
              0.6666666666666666,
              "#ed7953"
             ],
             [
              0.7777777777777778,
              "#fb9f3a"
             ],
             [
              0.8888888888888888,
              "#fdca26"
             ],
             [
              1,
              "#f0f921"
             ]
            ],
            "type": "surface"
           }
          ],
          "table": [
           {
            "cells": {
             "fill": {
              "color": "#EBF0F8"
             },
             "line": {
              "color": "white"
             }
            },
            "header": {
             "fill": {
              "color": "#C8D4E3"
             },
             "line": {
              "color": "white"
             }
            },
            "type": "table"
           }
          ]
         },
         "layout": {
          "annotationdefaults": {
           "arrowcolor": "#2a3f5f",
           "arrowhead": 0,
           "arrowwidth": 1
          },
          "autotypenumbers": "strict",
          "coloraxis": {
           "colorbar": {
            "outlinewidth": 0,
            "ticks": ""
           }
          },
          "colorscale": {
           "diverging": [
            [
             0,
             "#8e0152"
            ],
            [
             0.1,
             "#c51b7d"
            ],
            [
             0.2,
             "#de77ae"
            ],
            [
             0.3,
             "#f1b6da"
            ],
            [
             0.4,
             "#fde0ef"
            ],
            [
             0.5,
             "#f7f7f7"
            ],
            [
             0.6,
             "#e6f5d0"
            ],
            [
             0.7,
             "#b8e186"
            ],
            [
             0.8,
             "#7fbc41"
            ],
            [
             0.9,
             "#4d9221"
            ],
            [
             1,
             "#276419"
            ]
           ],
           "sequential": [
            [
             0,
             "#0d0887"
            ],
            [
             0.1111111111111111,
             "#46039f"
            ],
            [
             0.2222222222222222,
             "#7201a8"
            ],
            [
             0.3333333333333333,
             "#9c179e"
            ],
            [
             0.4444444444444444,
             "#bd3786"
            ],
            [
             0.5555555555555556,
             "#d8576b"
            ],
            [
             0.6666666666666666,
             "#ed7953"
            ],
            [
             0.7777777777777778,
             "#fb9f3a"
            ],
            [
             0.8888888888888888,
             "#fdca26"
            ],
            [
             1,
             "#f0f921"
            ]
           ],
           "sequentialminus": [
            [
             0,
             "#0d0887"
            ],
            [
             0.1111111111111111,
             "#46039f"
            ],
            [
             0.2222222222222222,
             "#7201a8"
            ],
            [
             0.3333333333333333,
             "#9c179e"
            ],
            [
             0.4444444444444444,
             "#bd3786"
            ],
            [
             0.5555555555555556,
             "#d8576b"
            ],
            [
             0.6666666666666666,
             "#ed7953"
            ],
            [
             0.7777777777777778,
             "#fb9f3a"
            ],
            [
             0.8888888888888888,
             "#fdca26"
            ],
            [
             1,
             "#f0f921"
            ]
           ]
          },
          "colorway": [
           "#636efa",
           "#EF553B",
           "#00cc96",
           "#ab63fa",
           "#FFA15A",
           "#19d3f3",
           "#FF6692",
           "#B6E880",
           "#FF97FF",
           "#FECB52"
          ],
          "font": {
           "color": "#2a3f5f"
          },
          "geo": {
           "bgcolor": "white",
           "lakecolor": "white",
           "landcolor": "#E5ECF6",
           "showlakes": true,
           "showland": true,
           "subunitcolor": "white"
          },
          "hoverlabel": {
           "align": "left"
          },
          "hovermode": "closest",
          "mapbox": {
           "style": "light"
          },
          "paper_bgcolor": "white",
          "plot_bgcolor": "#E5ECF6",
          "polar": {
           "angularaxis": {
            "gridcolor": "white",
            "linecolor": "white",
            "ticks": ""
           },
           "bgcolor": "#E5ECF6",
           "radialaxis": {
            "gridcolor": "white",
            "linecolor": "white",
            "ticks": ""
           }
          },
          "scene": {
           "xaxis": {
            "backgroundcolor": "#E5ECF6",
            "gridcolor": "white",
            "gridwidth": 2,
            "linecolor": "white",
            "showbackground": true,
            "ticks": "",
            "zerolinecolor": "white"
           },
           "yaxis": {
            "backgroundcolor": "#E5ECF6",
            "gridcolor": "white",
            "gridwidth": 2,
            "linecolor": "white",
            "showbackground": true,
            "ticks": "",
            "zerolinecolor": "white"
           },
           "zaxis": {
            "backgroundcolor": "#E5ECF6",
            "gridcolor": "white",
            "gridwidth": 2,
            "linecolor": "white",
            "showbackground": true,
            "ticks": "",
            "zerolinecolor": "white"
           }
          },
          "shapedefaults": {
           "line": {
            "color": "#2a3f5f"
           }
          },
          "ternary": {
           "aaxis": {
            "gridcolor": "white",
            "linecolor": "white",
            "ticks": ""
           },
           "baxis": {
            "gridcolor": "white",
            "linecolor": "white",
            "ticks": ""
           },
           "bgcolor": "#E5ECF6",
           "caxis": {
            "gridcolor": "white",
            "linecolor": "white",
            "ticks": ""
           }
          },
          "title": {
           "x": 0.05
          },
          "xaxis": {
           "automargin": true,
           "gridcolor": "white",
           "linecolor": "white",
           "ticks": "",
           "title": {
            "standoff": 15
           },
           "zerolinecolor": "white",
           "zerolinewidth": 2
          },
          "yaxis": {
           "automargin": true,
           "gridcolor": "white",
           "linecolor": "white",
           "ticks": "",
           "title": {
            "standoff": 15
           },
           "zerolinecolor": "white",
           "zerolinewidth": 2
          }
         }
        },
        "width": 900,
        "xaxis": {
         "gridcolor": "#1f292f",
         "nticks": 5,
         "rangeslider": {
          "visible": false
         }
        },
        "yaxis": {
         "gridcolor": "#1f292f"
        }
       }
      }
     },
     "metadata": {},
     "output_type": "display_data"
    },
    {
     "name": "stdout",
     "output_type": "stream",
     "text": [
      "GBP_CAD 1106\n"
     ]
    },
    {
     "data": {
      "application/vnd.plotly.v1+json": {
       "config": {
        "plotlyServerURL": "https://plot.ly"
       },
       "data": [
        {
         "line": {
          "shape": "spline",
          "width": 2
         },
         "name": "GAIN_C",
         "type": "scatter",
         "x": [
          "s22-08-22 05:00",
          "s22-08-22 07:00",
          "s22-08-22 08:00",
          "s22-08-22 09:00",
          "s22-08-22 21:00",
          "s22-08-23 00:00",
          "s22-08-23 01:00",
          "s22-08-23 05:00",
          "s22-08-23 18:00",
          "s22-08-24 01:00",
          "s22-08-25 10:00",
          "s22-08-25 11:00",
          "s22-08-25 23:00",
          "s22-08-26 08:00",
          "s22-08-26 16:00",
          "s22-08-29 01:00",
          "s22-08-30 12:00",
          "s22-08-31 10:00",
          "s22-09-01 02:00",
          "s22-09-01 14:00",
          "s22-09-02 09:00",
          "s22-09-02 13:00",
          "s22-09-05 11:00",
          "s22-09-06 16:00",
          "s22-09-07 23:00",
          "s22-09-08 07:00",
          "s22-09-09 07:00",
          "s22-09-13 01:00",
          "s22-09-13 06:00",
          "s22-09-13 15:00",
          "s22-09-14 05:00",
          "s22-09-15 00:00",
          "s22-09-16 01:00",
          "s22-09-16 08:00",
          "s22-09-16 20:00",
          "s22-09-19 05:00",
          "s22-09-19 18:00",
          "s22-09-20 05:00",
          "s22-09-20 07:00",
          "s22-09-21 06:00",
          "s22-09-22 01:00",
          "s22-09-22 20:00",
          "s22-09-26 13:00",
          "s22-09-27 18:00",
          "s22-09-28 16:00",
          "s22-09-29 08:00",
          "s22-09-29 11:00",
          "s22-10-03 07:00",
          "s22-10-03 13:00",
          "s22-10-05 02:00",
          "s22-10-06 03:00",
          "s22-10-06 10:00",
          "s22-10-07 08:00",
          "s22-10-07 13:00",
          "s22-10-10 22:00",
          "s22-10-11 20:00",
          "s22-10-12 11:00",
          "s22-10-14 06:00",
          "s22-10-16 22:00",
          "s22-10-18 01:00",
          "s22-10-18 19:00",
          "s22-10-19 07:00",
          "s22-10-20 19:00",
          "s22-10-21 06:00",
          "s22-10-23 22:00",
          "s22-10-24 18:00",
          "s22-10-25 08:00",
          "s22-10-26 04:00",
          "s22-10-26 10:00",
          "s22-10-27 09:00",
          "s22-10-28 12:00",
          "s22-10-31 10:00",
          "s22-11-01 11:00",
          "s22-11-02 11:00",
          "s22-11-07 00:00",
          "s22-11-08 10:00",
          "s22-11-08 22:00",
          "s22-11-09 09:00",
          "s22-11-10 03:00",
          "s22-11-11 08:00",
          "s22-11-11 11:00",
          "s22-11-14 05:00",
          "s22-11-14 16:00",
          "s22-11-14 19:00",
          "s22-11-14 20:00",
          "s22-11-14 22:00",
          "s22-11-15 00:00",
          "s22-11-16 01:00",
          "s22-11-16 11:00",
          "s22-11-17 12:00",
          "s22-11-18 03:00",
          "s22-11-21 03:00",
          "s22-11-21 19:00",
          "s22-11-22 13:00",
          "s22-11-22 18:00",
          "s22-11-22 23:00",
          "s22-11-23 09:00",
          "s22-11-25 02:00",
          "s22-11-25 15:00",
          "s22-11-28 18:00",
          "s22-11-29 11:00",
          "s22-11-30 07:00",
          "s22-12-01 04:00",
          "s22-12-02 09:00",
          "s22-12-02 10:00",
          "s22-12-05 09:00",
          "s22-12-05 20:00",
          "s22-12-07 00:00",
          "s22-12-07 12:00",
          "s22-12-08 11:00",
          "s22-12-09 01:00",
          "s22-12-12 03:00",
          "s22-12-12 11:00",
          "s22-12-12 23:00",
          "s22-12-13 13:00",
          "s22-12-14 03:00",
          "s22-12-14 04:00",
          "s22-12-14 05:00",
          "s22-12-14 09:00",
          "s22-12-15 07:00",
          "s22-12-16 14:00",
          "s22-12-19 03:00",
          "s22-12-19 13:00",
          "s22-12-19 14:00",
          "s22-12-21 02:00",
          "s22-12-21 10:00",
          "s22-12-22 07:00",
          "s22-12-22 13:00",
          "s22-12-23 06:00",
          "s22-12-23 07:00",
          "s22-12-27 07:00",
          "s22-12-27 09:00",
          "s22-12-28 05:00",
          "s22-12-29 14:00",
          "s22-12-30 20:00",
          "s23-01-02 10:00",
          "s23-01-02 11:00",
          "s23-01-02 12:00",
          "s23-01-02 19:00",
          "s23-01-03 08:00",
          "s23-01-03 19:00",
          "s23-01-04 07:00",
          "s23-01-06 08:00",
          "s23-01-06 09:00",
          "s23-01-06 12:00",
          "s23-01-06 13:00",
          "s23-01-06 15:00",
          "s23-01-10 07:00",
          "s23-01-10 17:00",
          "s23-01-11 10:00",
          "s23-01-11 23:00",
          "s23-01-12 14:00",
          "s23-01-13 00:00",
          "s23-01-13 10:00",
          "s23-01-13 16:00",
          "s23-01-16 11:00",
          "s23-01-17 01:00",
          "s23-01-19 14:00",
          "s23-01-19 15:00",
          "s23-01-20 07:00",
          "s23-01-23 07:00",
          "s23-01-23 10:00",
          "s23-01-24 02:00",
          "s23-01-24 09:00",
          "s23-01-25 02:00",
          "s23-01-25 08:00",
          "s23-01-25 15:00",
          "s23-01-26 12:00",
          "s23-01-30 01:00",
          "s23-01-31 15:00",
          "s23-02-01 12:00",
          "s23-02-02 10:00",
          "s23-02-03 11:00",
          "s23-02-03 17:00",
          "s23-02-06 10:00",
          "s23-02-06 22:00",
          "s23-02-07 22:00",
          "s23-02-10 03:00",
          "s23-02-13 10:00",
          "s23-02-15 00:00",
          "s23-02-16 07:00",
          "s23-02-17 02:00",
          "s23-02-17 13:00",
          "s23-02-20 09:00",
          "s23-02-21 02:00",
          "s23-02-22 11:00",
          "s23-02-24 09:00",
          "s23-02-24 19:00",
          "s23-02-27 10:00",
          "s23-03-01 02:00",
          "s23-03-03 08:00",
          "s23-03-06 11:00",
          "s23-03-06 18:00",
          "s23-03-07 15:00",
          "s23-03-08 10:00",
          "s23-03-13 07:00",
          "s23-03-13 16:00",
          "s23-03-14 08:00",
          "s23-03-15 07:00",
          "s23-03-15 10:00",
          "s23-03-16 07:00",
          "s23-03-16 11:00",
          "s23-03-16 15:00",
          "s23-03-20 09:00",
          "s23-03-20 10:00",
          "s23-03-21 08:00",
          "s23-03-21 23:00",
          "s23-03-23 11:00",
          "s23-03-23 22:00",
          "s23-03-24 10:00",
          "s23-03-27 10:00",
          "s23-03-27 18:00",
          "s23-03-28 06:00",
          "s23-03-28 20:00",
          "s23-03-30 09:00",
          "s23-03-31 16:00"
         ],
         "y": [
          -24.899999999998812,
          -31.49999999999764,
          -42.49999999999643,
          -57.29999999999569,
          -44.99999999999505,
          -26.099999999995575,
          -54.79999999999708,
          -56.79999999999686,
          -55.499999999995,
          -14.299999999993766,
          -7.499999999993626,
          -17.499999999994746,
          -32.899999999995714,
          -54.09999999999471,
          -111.59999999999393,
          -96.69999999999402,
          -97.49999999999483,
          -117.49999999999484,
          -180.89999999999276,
          -204.49999999999193,
          -291.09999999999303,
          -295.8999999999934,
          -273.8999999999936,
          -252.09999999999513,
          -295.6999999999965,
          -331.0999999999975,
          -269.0999999999977,
          -286.8999999999966,
          -362.2999999999954,
          -403.49999999999443,
          -382.0999999999941,
          -375.0999999999949,
          -445.49999999999426,
          -478.69999999999413,
          -474.8999999999959,
          -484.4999999999966,
          -497.69999999999646,
          -550.2999999999969,
          -569.4999999999983,
          -578.1999999999998,
          -581.5999999999999,
          -213.6999999999989,
          -317.29999999999814,
          -419.299999999998,
          -403.3999999999982,
          -442.0999999999986,
          101.7000000000001,
          134.29999999999828,
          217.0999999999967,
          246.8999999999965,
          207.29999999999688,
          237.6999999999962,
          105.09999999999573,
          94.59999999999577,
          -9.500000000004519,
          -122.80000000000514,
          152.2999999999941,
          94.19999999999317,
          82.19999999999227,
          87.89999999999186,
          33.69999999999206,
          87.69999999999277,
          55.09999999999236,
          9.199999999991427,
          13.199999999990986,
          -43.90000000001005,
          4.799999999989247,
          -81.40000000001146,
          -20.50000000001217,
          -7.100000000013203,
          49.799999999986525,
          174.69999999998765,
          172.89999999998918,
          495.2999999999896,
          636.69999999999,
          581.7999999999901,
          463.2999999999887,
          426.49999999998744,
          627.0999999999871,
          620.6999999999873,
          580.0999999999877,
          590.9999999999881,
          655.6999999999878,
          662.699999999987,
          665.0999999999872,
          665.8999999999879,
          762.7999999999877,
          730.0999999999866,
          755.099999999986,
          699.4999999999859,
          731.1999999999848,
          734.2999999999852,
          767.299999999986,
          779.8999999999863,
          764.6999999999866,
          702.8999999999859,
          891.0999999999842,
          860.7999999999834,
          812.3999999999838,
          774.4999999999842,
          829.6999999999839,
          818.4999999999839,
          1077.8999999999846,
          1074.2999999999854,
          1063.4999999999857,
          984.1999999999857,
          983.6999999999847,
          878.8999999999843,
          823.0999999999851,
          781.6999999999848,
          841.4999999999835,
          779.8999999999819,
          730.8999999999807,
          648.4999999999804,
          604.4999999999809,
          613.8999999999803,
          623.6999999999802,
          608.0999999999801,
          635.0999999999793,
          744.3999999999804,
          690.6999999999816,
          721.4999999999814,
          736.4999999999819,
          818.8999999999821,
          802.4999999999812,
          858.6999999999808,
          791.0999999999799,
          791.299999999979,
          820.099999999979,
          870.2999999999793,
          804.8999999999794,
          850.8999999999787,
          896.199999999978,
          846.4999999999789,
          826.8999999999793,
          817.4999999999799,
          823.099999999981,
          833.1999999999806,
          698.2999999999806,
          540.6999999999807,
          544.799999999981,
          759.3999999999813,
          740.8999999999801,
          693.2999999999791,
          648.5999999999794,
          557.2999999999786,
          596.1999999999781,
          552.3999999999776,
          518.1999999999756,
          478.0999999999749,
          410.6999999999752,
          334.09999999997524,
          314.6999999999747,
          278.0999999999747,
          259.69999999997407,
          257.7999999999727,
          565.8999999999728,
          541.8999999999733,
          503.6999999999739,
          535.5999999999742,
          458.39999999997474,
          431.69999999997526,
          366.4999999999744,
          389.6999999999732,
          392.19999999997185,
          282.39999999997195,
          278.69999999997214,
          356.1999999999714,
          285.0999999999719,
          298.6999999999722,
          264.6999999999715,
          271.399999999971,
          76.49999999997092,
          83.5999999999708,
          81.59999999997103,
          107.49999999997195,
          257.6999999999723,
          455.6999999999727,
          615.199999999974,
          749.7999999999743,
          747.0999999999743,
          701.7999999999751,
          732.3999999999756,
          725.499999999977,
          906.0999999999789,
          966.6999999999806,
          905.2999999999824,
          874.4999999999827,
          987.0999999999809,
          1138.4999999999802,
          1244.0999999999815,
          1227.0999999999833,
          1156.4999999999848,
          1173.9999999999861,
          1510.2999999999865,
          1439.2999999999854,
          1449.599999999984,
          1507.0999999999833,
          1454.0999999999824,
          1426.5999999999822,
          1358.4999999999823,
          1240.7999999999818,
          1303.6999999999807,
          1284.6999999999805,
          1270.4999999999807,
          1242.2999999999802,
          1297.5999999999806,
          1260.2999999999804,
          1219.5999999999801,
          1195.2999999999809,
          1136.6999999999812,
          1102.6999999999805,
          1071.6999999999794,
          1130.4999999999782,
          1106.4999999999764,
          1106.4999999999764
         ]
        }
       ],
       "layout": {
        "font": {
         "color": "#e1e1e1",
         "size": 8
        },
        "height": 400,
        "margin": {
         "b": 10,
         "l": 10,
         "r": 10,
         "t": 10
        },
        "paper_bgcolor": "#2c303c",
        "plot_bgcolor": "#2c303c",
        "template": {
         "data": {
          "bar": [
           {
            "error_x": {
             "color": "#2a3f5f"
            },
            "error_y": {
             "color": "#2a3f5f"
            },
            "marker": {
             "line": {
              "color": "#E5ECF6",
              "width": 0.5
             },
             "pattern": {
              "fillmode": "overlay",
              "size": 10,
              "solidity": 0.2
             }
            },
            "type": "bar"
           }
          ],
          "barpolar": [
           {
            "marker": {
             "line": {
              "color": "#E5ECF6",
              "width": 0.5
             },
             "pattern": {
              "fillmode": "overlay",
              "size": 10,
              "solidity": 0.2
             }
            },
            "type": "barpolar"
           }
          ],
          "carpet": [
           {
            "aaxis": {
             "endlinecolor": "#2a3f5f",
             "gridcolor": "white",
             "linecolor": "white",
             "minorgridcolor": "white",
             "startlinecolor": "#2a3f5f"
            },
            "baxis": {
             "endlinecolor": "#2a3f5f",
             "gridcolor": "white",
             "linecolor": "white",
             "minorgridcolor": "white",
             "startlinecolor": "#2a3f5f"
            },
            "type": "carpet"
           }
          ],
          "choropleth": [
           {
            "colorbar": {
             "outlinewidth": 0,
             "ticks": ""
            },
            "type": "choropleth"
           }
          ],
          "contour": [
           {
            "colorbar": {
             "outlinewidth": 0,
             "ticks": ""
            },
            "colorscale": [
             [
              0,
              "#0d0887"
             ],
             [
              0.1111111111111111,
              "#46039f"
             ],
             [
              0.2222222222222222,
              "#7201a8"
             ],
             [
              0.3333333333333333,
              "#9c179e"
             ],
             [
              0.4444444444444444,
              "#bd3786"
             ],
             [
              0.5555555555555556,
              "#d8576b"
             ],
             [
              0.6666666666666666,
              "#ed7953"
             ],
             [
              0.7777777777777778,
              "#fb9f3a"
             ],
             [
              0.8888888888888888,
              "#fdca26"
             ],
             [
              1,
              "#f0f921"
             ]
            ],
            "type": "contour"
           }
          ],
          "contourcarpet": [
           {
            "colorbar": {
             "outlinewidth": 0,
             "ticks": ""
            },
            "type": "contourcarpet"
           }
          ],
          "heatmap": [
           {
            "colorbar": {
             "outlinewidth": 0,
             "ticks": ""
            },
            "colorscale": [
             [
              0,
              "#0d0887"
             ],
             [
              0.1111111111111111,
              "#46039f"
             ],
             [
              0.2222222222222222,
              "#7201a8"
             ],
             [
              0.3333333333333333,
              "#9c179e"
             ],
             [
              0.4444444444444444,
              "#bd3786"
             ],
             [
              0.5555555555555556,
              "#d8576b"
             ],
             [
              0.6666666666666666,
              "#ed7953"
             ],
             [
              0.7777777777777778,
              "#fb9f3a"
             ],
             [
              0.8888888888888888,
              "#fdca26"
             ],
             [
              1,
              "#f0f921"
             ]
            ],
            "type": "heatmap"
           }
          ],
          "heatmapgl": [
           {
            "colorbar": {
             "outlinewidth": 0,
             "ticks": ""
            },
            "colorscale": [
             [
              0,
              "#0d0887"
             ],
             [
              0.1111111111111111,
              "#46039f"
             ],
             [
              0.2222222222222222,
              "#7201a8"
             ],
             [
              0.3333333333333333,
              "#9c179e"
             ],
             [
              0.4444444444444444,
              "#bd3786"
             ],
             [
              0.5555555555555556,
              "#d8576b"
             ],
             [
              0.6666666666666666,
              "#ed7953"
             ],
             [
              0.7777777777777778,
              "#fb9f3a"
             ],
             [
              0.8888888888888888,
              "#fdca26"
             ],
             [
              1,
              "#f0f921"
             ]
            ],
            "type": "heatmapgl"
           }
          ],
          "histogram": [
           {
            "marker": {
             "pattern": {
              "fillmode": "overlay",
              "size": 10,
              "solidity": 0.2
             }
            },
            "type": "histogram"
           }
          ],
          "histogram2d": [
           {
            "colorbar": {
             "outlinewidth": 0,
             "ticks": ""
            },
            "colorscale": [
             [
              0,
              "#0d0887"
             ],
             [
              0.1111111111111111,
              "#46039f"
             ],
             [
              0.2222222222222222,
              "#7201a8"
             ],
             [
              0.3333333333333333,
              "#9c179e"
             ],
             [
              0.4444444444444444,
              "#bd3786"
             ],
             [
              0.5555555555555556,
              "#d8576b"
             ],
             [
              0.6666666666666666,
              "#ed7953"
             ],
             [
              0.7777777777777778,
              "#fb9f3a"
             ],
             [
              0.8888888888888888,
              "#fdca26"
             ],
             [
              1,
              "#f0f921"
             ]
            ],
            "type": "histogram2d"
           }
          ],
          "histogram2dcontour": [
           {
            "colorbar": {
             "outlinewidth": 0,
             "ticks": ""
            },
            "colorscale": [
             [
              0,
              "#0d0887"
             ],
             [
              0.1111111111111111,
              "#46039f"
             ],
             [
              0.2222222222222222,
              "#7201a8"
             ],
             [
              0.3333333333333333,
              "#9c179e"
             ],
             [
              0.4444444444444444,
              "#bd3786"
             ],
             [
              0.5555555555555556,
              "#d8576b"
             ],
             [
              0.6666666666666666,
              "#ed7953"
             ],
             [
              0.7777777777777778,
              "#fb9f3a"
             ],
             [
              0.8888888888888888,
              "#fdca26"
             ],
             [
              1,
              "#f0f921"
             ]
            ],
            "type": "histogram2dcontour"
           }
          ],
          "mesh3d": [
           {
            "colorbar": {
             "outlinewidth": 0,
             "ticks": ""
            },
            "type": "mesh3d"
           }
          ],
          "parcoords": [
           {
            "line": {
             "colorbar": {
              "outlinewidth": 0,
              "ticks": ""
             }
            },
            "type": "parcoords"
           }
          ],
          "pie": [
           {
            "automargin": true,
            "type": "pie"
           }
          ],
          "scatter": [
           {
            "fillpattern": {
             "fillmode": "overlay",
             "size": 10,
             "solidity": 0.2
            },
            "type": "scatter"
           }
          ],
          "scatter3d": [
           {
            "line": {
             "colorbar": {
              "outlinewidth": 0,
              "ticks": ""
             }
            },
            "marker": {
             "colorbar": {
              "outlinewidth": 0,
              "ticks": ""
             }
            },
            "type": "scatter3d"
           }
          ],
          "scattercarpet": [
           {
            "marker": {
             "colorbar": {
              "outlinewidth": 0,
              "ticks": ""
             }
            },
            "type": "scattercarpet"
           }
          ],
          "scattergeo": [
           {
            "marker": {
             "colorbar": {
              "outlinewidth": 0,
              "ticks": ""
             }
            },
            "type": "scattergeo"
           }
          ],
          "scattergl": [
           {
            "marker": {
             "colorbar": {
              "outlinewidth": 0,
              "ticks": ""
             }
            },
            "type": "scattergl"
           }
          ],
          "scattermapbox": [
           {
            "marker": {
             "colorbar": {
              "outlinewidth": 0,
              "ticks": ""
             }
            },
            "type": "scattermapbox"
           }
          ],
          "scatterpolar": [
           {
            "marker": {
             "colorbar": {
              "outlinewidth": 0,
              "ticks": ""
             }
            },
            "type": "scatterpolar"
           }
          ],
          "scatterpolargl": [
           {
            "marker": {
             "colorbar": {
              "outlinewidth": 0,
              "ticks": ""
             }
            },
            "type": "scatterpolargl"
           }
          ],
          "scatterternary": [
           {
            "marker": {
             "colorbar": {
              "outlinewidth": 0,
              "ticks": ""
             }
            },
            "type": "scatterternary"
           }
          ],
          "surface": [
           {
            "colorbar": {
             "outlinewidth": 0,
             "ticks": ""
            },
            "colorscale": [
             [
              0,
              "#0d0887"
             ],
             [
              0.1111111111111111,
              "#46039f"
             ],
             [
              0.2222222222222222,
              "#7201a8"
             ],
             [
              0.3333333333333333,
              "#9c179e"
             ],
             [
              0.4444444444444444,
              "#bd3786"
             ],
             [
              0.5555555555555556,
              "#d8576b"
             ],
             [
              0.6666666666666666,
              "#ed7953"
             ],
             [
              0.7777777777777778,
              "#fb9f3a"
             ],
             [
              0.8888888888888888,
              "#fdca26"
             ],
             [
              1,
              "#f0f921"
             ]
            ],
            "type": "surface"
           }
          ],
          "table": [
           {
            "cells": {
             "fill": {
              "color": "#EBF0F8"
             },
             "line": {
              "color": "white"
             }
            },
            "header": {
             "fill": {
              "color": "#C8D4E3"
             },
             "line": {
              "color": "white"
             }
            },
            "type": "table"
           }
          ]
         },
         "layout": {
          "annotationdefaults": {
           "arrowcolor": "#2a3f5f",
           "arrowhead": 0,
           "arrowwidth": 1
          },
          "autotypenumbers": "strict",
          "coloraxis": {
           "colorbar": {
            "outlinewidth": 0,
            "ticks": ""
           }
          },
          "colorscale": {
           "diverging": [
            [
             0,
             "#8e0152"
            ],
            [
             0.1,
             "#c51b7d"
            ],
            [
             0.2,
             "#de77ae"
            ],
            [
             0.3,
             "#f1b6da"
            ],
            [
             0.4,
             "#fde0ef"
            ],
            [
             0.5,
             "#f7f7f7"
            ],
            [
             0.6,
             "#e6f5d0"
            ],
            [
             0.7,
             "#b8e186"
            ],
            [
             0.8,
             "#7fbc41"
            ],
            [
             0.9,
             "#4d9221"
            ],
            [
             1,
             "#276419"
            ]
           ],
           "sequential": [
            [
             0,
             "#0d0887"
            ],
            [
             0.1111111111111111,
             "#46039f"
            ],
            [
             0.2222222222222222,
             "#7201a8"
            ],
            [
             0.3333333333333333,
             "#9c179e"
            ],
            [
             0.4444444444444444,
             "#bd3786"
            ],
            [
             0.5555555555555556,
             "#d8576b"
            ],
            [
             0.6666666666666666,
             "#ed7953"
            ],
            [
             0.7777777777777778,
             "#fb9f3a"
            ],
            [
             0.8888888888888888,
             "#fdca26"
            ],
            [
             1,
             "#f0f921"
            ]
           ],
           "sequentialminus": [
            [
             0,
             "#0d0887"
            ],
            [
             0.1111111111111111,
             "#46039f"
            ],
            [
             0.2222222222222222,
             "#7201a8"
            ],
            [
             0.3333333333333333,
             "#9c179e"
            ],
            [
             0.4444444444444444,
             "#bd3786"
            ],
            [
             0.5555555555555556,
             "#d8576b"
            ],
            [
             0.6666666666666666,
             "#ed7953"
            ],
            [
             0.7777777777777778,
             "#fb9f3a"
            ],
            [
             0.8888888888888888,
             "#fdca26"
            ],
            [
             1,
             "#f0f921"
            ]
           ]
          },
          "colorway": [
           "#636efa",
           "#EF553B",
           "#00cc96",
           "#ab63fa",
           "#FFA15A",
           "#19d3f3",
           "#FF6692",
           "#B6E880",
           "#FF97FF",
           "#FECB52"
          ],
          "font": {
           "color": "#2a3f5f"
          },
          "geo": {
           "bgcolor": "white",
           "lakecolor": "white",
           "landcolor": "#E5ECF6",
           "showlakes": true,
           "showland": true,
           "subunitcolor": "white"
          },
          "hoverlabel": {
           "align": "left"
          },
          "hovermode": "closest",
          "mapbox": {
           "style": "light"
          },
          "paper_bgcolor": "white",
          "plot_bgcolor": "#E5ECF6",
          "polar": {
           "angularaxis": {
            "gridcolor": "white",
            "linecolor": "white",
            "ticks": ""
           },
           "bgcolor": "#E5ECF6",
           "radialaxis": {
            "gridcolor": "white",
            "linecolor": "white",
            "ticks": ""
           }
          },
          "scene": {
           "xaxis": {
            "backgroundcolor": "#E5ECF6",
            "gridcolor": "white",
            "gridwidth": 2,
            "linecolor": "white",
            "showbackground": true,
            "ticks": "",
            "zerolinecolor": "white"
           },
           "yaxis": {
            "backgroundcolor": "#E5ECF6",
            "gridcolor": "white",
            "gridwidth": 2,
            "linecolor": "white",
            "showbackground": true,
            "ticks": "",
            "zerolinecolor": "white"
           },
           "zaxis": {
            "backgroundcolor": "#E5ECF6",
            "gridcolor": "white",
            "gridwidth": 2,
            "linecolor": "white",
            "showbackground": true,
            "ticks": "",
            "zerolinecolor": "white"
           }
          },
          "shapedefaults": {
           "line": {
            "color": "#2a3f5f"
           }
          },
          "ternary": {
           "aaxis": {
            "gridcolor": "white",
            "linecolor": "white",
            "ticks": ""
           },
           "baxis": {
            "gridcolor": "white",
            "linecolor": "white",
            "ticks": ""
           },
           "bgcolor": "#E5ECF6",
           "caxis": {
            "gridcolor": "white",
            "linecolor": "white",
            "ticks": ""
           }
          },
          "title": {
           "x": 0.05
          },
          "xaxis": {
           "automargin": true,
           "gridcolor": "white",
           "linecolor": "white",
           "ticks": "",
           "title": {
            "standoff": 15
           },
           "zerolinecolor": "white",
           "zerolinewidth": 2
          },
          "yaxis": {
           "automargin": true,
           "gridcolor": "white",
           "linecolor": "white",
           "ticks": "",
           "title": {
            "standoff": 15
           },
           "zerolinecolor": "white",
           "zerolinewidth": 2
          }
         }
        },
        "width": 900,
        "xaxis": {
         "gridcolor": "#1f292f",
         "nticks": 5,
         "rangeslider": {
          "visible": false
         }
        },
        "yaxis": {
         "gridcolor": "#1f292f"
        }
       }
      }
     },
     "metadata": {},
     "output_type": "display_data"
    },
    {
     "name": "stdout",
     "output_type": "stream",
     "text": [
      "GBP_AUD 446\n"
     ]
    },
    {
     "data": {
      "application/vnd.plotly.v1+json": {
       "config": {
        "plotlyServerURL": "https://plot.ly"
       },
       "data": [
        {
         "line": {
          "shape": "spline",
          "width": 2
         },
         "name": "GAIN_C",
         "type": "scatter",
         "x": [
          "s22-08-23 13:00",
          "s22-08-23 20:00",
          "s22-08-24 05:00",
          "s22-08-24 13:00",
          "s22-08-26 02:00",
          "s22-08-26 10:00",
          "s22-08-26 17:00",
          "s22-08-29 11:00",
          "s22-08-30 06:00",
          "s22-08-30 08:00",
          "s22-08-30 20:00",
          "s22-08-31 07:00",
          "s22-08-31 20:00",
          "s22-09-01 12:00",
          "s22-09-01 20:00",
          "s22-09-02 08:00",
          "s22-09-05 09:00",
          "s22-09-07 08:00",
          "s22-09-08 03:00",
          "s22-09-08 18:00",
          "s22-09-11 22:00",
          "s22-09-12 19:00",
          "s22-09-13 06:00",
          "s22-09-14 21:00",
          "s22-09-15 15:00",
          "s22-09-16 07:00",
          "s22-09-19 10:00",
          "s22-09-19 21:00",
          "s22-09-20 09:00",
          "s22-09-20 21:00",
          "s22-09-21 08:00",
          "s22-09-21 13:00",
          "s22-09-22 02:00",
          "s22-09-22 16:00",
          "s22-09-26 13:00",
          "s22-09-28 14:00",
          "s22-09-28 23:00",
          "s22-10-03 08:00",
          "s22-10-03 14:00",
          "s22-10-03 21:00",
          "s22-10-03 22:00",
          "s22-10-05 06:00",
          "s22-10-07 06:00",
          "s22-10-07 19:00",
          "s22-10-10 03:00",
          "s22-10-11 19:00",
          "s22-10-12 10:00",
          "s22-10-13 07:00",
          "s22-10-13 11:00",
          "s22-10-14 04:00",
          "s22-10-14 17:00",
          "s22-10-18 00:00",
          "s22-10-18 23:00",
          "s22-10-19 06:00",
          "s22-10-20 01:00",
          "s22-10-20 11:00",
          "s22-10-21 00:00",
          "s22-10-21 09:00",
          "s22-10-24 03:00",
          "s22-10-24 20:00",
          "s22-10-25 10:00",
          "s22-10-26 03:00",
          "s22-10-26 20:00",
          "s22-10-27 09:00",
          "s22-10-27 14:00",
          "s22-10-27 21:00",
          "s22-10-28 00:00",
          "s22-10-31 08:00",
          "s22-11-01 13:00",
          "s22-11-02 08:00",
          "s22-11-03 00:00",
          "s22-11-03 11:00",
          "s22-11-07 02:00",
          "s22-11-08 10:00",
          "s22-11-09 00:00",
          "s22-11-09 11:00",
          "s22-11-10 03:00",
          "s22-11-10 20:00",
          "s22-11-14 00:00",
          "s22-11-14 06:00",
          "s22-11-15 06:00",
          "s22-11-15 23:00",
          "s22-11-16 10:00",
          "s22-11-17 22:00",
          "s22-11-18 04:00",
          "s22-11-21 08:00",
          "s22-11-21 09:00",
          "s22-11-22 11:00",
          "s22-11-22 20:00",
          "s22-11-23 04:00",
          "s22-11-23 10:00",
          "s22-11-24 00:00",
          "s22-11-24 12:00",
          "s22-11-24 23:00",
          "s22-11-25 11:00",
          "s22-11-28 18:00",
          "s22-11-29 23:00",
          "s22-11-30 08:00",
          "s22-12-01 10:00",
          "s22-12-02 07:00",
          "s22-12-02 14:00",
          "s22-12-05 07:00",
          "s22-12-05 14:00",
          "s22-12-06 08:00",
          "s22-12-06 17:00",
          "s22-12-07 02:00",
          "s22-12-07 11:00",
          "s22-12-07 22:00",
          "s22-12-09 08:00",
          "s22-12-09 19:00",
          "s22-12-12 08:00",
          "s22-12-13 05:00",
          "s22-12-14 06:00",
          "s22-12-14 12:00",
          "s22-12-14 20:00",
          "s22-12-16 00:00",
          "s22-12-16 10:00",
          "s22-12-18 22:00",
          "s22-12-20 04:00",
          "s22-12-21 06:00",
          "s22-12-22 18:00",
          "s22-12-23 08:00",
          "s22-12-28 01:00",
          "s22-12-28 05:00",
          "s22-12-28 20:00",
          "s22-12-29 19:00",
          "s23-01-02 04:00",
          "s23-01-02 07:00",
          "s23-01-03 01:00",
          "s23-01-04 02:00",
          "s23-01-04 22:00",
          "s23-01-05 12:00",
          "s23-01-05 23:00",
          "s23-01-06 07:00",
          "s23-01-09 16:00",
          "s23-01-10 23:00",
          "s23-01-11 23:00",
          "s23-01-12 00:00",
          "s23-01-12 01:00",
          "s23-01-12 15:00",
          "s23-01-13 15:00",
          "s23-01-16 01:00",
          "s23-01-16 12:00",
          "s23-01-17 02:00",
          "s23-01-17 11:00",
          "s23-01-18 00:00",
          "s23-01-18 12:00",
          "s23-01-20 03:00",
          "s23-01-25 17:00",
          "s23-01-26 06:00",
          "s23-01-26 20:00",
          "s23-01-27 05:00",
          "s23-01-27 19:00",
          "s23-01-30 22:00",
          "s23-01-31 00:00",
          "s23-01-31 18:00",
          "s23-02-03 07:00",
          "s23-02-03 08:00",
          "s23-02-03 09:00",
          "s23-02-07 02:00",
          "s23-02-08 12:00",
          "s23-02-09 07:00",
          "s23-02-09 16:00",
          "s23-02-10 14:00",
          "s23-02-13 20:00",
          "s23-02-14 21:00",
          "s23-02-15 06:00",
          "s23-02-15 17:00",
          "s23-02-16 16:00",
          "s23-02-17 02:00",
          "s23-02-17 04:00",
          "s23-02-20 03:00",
          "s23-02-21 02:00",
          "s23-02-22 18:00",
          "s23-02-23 20:00",
          "s23-02-24 02:00",
          "s23-02-24 09:00",
          "s23-02-28 21:00",
          "s23-03-02 03:00",
          "s23-03-02 11:00",
          "s23-03-03 15:00",
          "s23-03-07 22:00",
          "s23-03-08 21:00",
          "s23-03-09 10:00",
          "s23-03-09 16:00",
          "s23-03-13 05:00",
          "s23-03-13 18:00",
          "s23-03-14 12:00",
          "s23-03-15 13:00",
          "s23-03-16 05:00",
          "s23-03-16 20:00",
          "s23-03-17 04:00",
          "s23-03-17 17:00",
          "s23-03-21 23:00",
          "s23-03-22 12:00",
          "s23-03-23 02:00",
          "s23-03-23 16:00",
          "s23-03-24 12:00",
          "s23-03-24 15:00",
          "s23-03-28 03:00",
          "s23-03-29 07:00",
          "s23-03-29 20:00",
          "s23-03-30 14:00",
          "s23-03-31 04:00",
          "s23-03-31 08:00",
          "s23-03-31 20:00"
         ],
         "y": [
          -49.999999999998934,
          -76.99999999999818,
          -96.39999999999871,
          20.90000000000147,
          2.4000000000023967,
          -77.79999999999676,
          -91.69999999999678,
          -27.59999999999873,
          -91.49999999999991,
          -207.69999999999953,
          -288.6999999999995,
          -350.6000000000009,
          -389.80000000000234,
          -449.2000000000029,
          -474.4000000000037,
          -439.1000000000056,
          -289.60000000000764,
          -307.80000000000916,
          -376.6000000000091,
          -287.6000000000078,
          -277.500000000006,
          -335.2000000000043,
          -257.7000000000029,
          -260.4000000000028,
          -326.8000000000026,
          -313.40000000000146,
          -341.4000000000006,
          -398.6000000000001,
          -435.3999999999991,
          -418.59999999999786,
          -402.39999999999833,
          -429.99999999999926,
          -516.6000000000004,
          -228.600000000001,
          -299.30000000000007,
          -358.39999999999867,
          368.8000000000025,
          393.800000000002,
          406.8000000000006,
          360.49999999999926,
          570.599999999999,
          764.1999999999994,
          744.1999999999994,
          704.4000000000007,
          759.0000000000009,
          576.6000000000006,
          549.0000000000018,
          304.60000000000167,
          293.2000000000003,
          194.39999999999918,
          222.09999999999857,
          283.699999999998,
          238.79999999999694,
          203.39999999999594,
          79.39999999999628,
          30.799999999997638,
          -58.300000000002086,
          -131.40000000000134,
          -122.20000000000103,
          -211.80000000000183,
          -288.2000000000027,
          -304.0000000000041,
          -293.20000000000437,
          -246.0000000000038,
          -184.60000000000346,
          -187.80000000000445,
          -63.00000000000621,
          36.59999999999347,
          -0.2000000000055806,
          -52.200000000004295,
          -130.10000000000394,
          112.79999999999526,
          165.39999999999569,
          117.39999999999654,
          85.59999999999692,
          28.999999999996945,
          -37.80000000000325,
          47.59999999999667,
          28.19999999999614,
          76.99999999999609,
          74.79999999999723,
          39.79999999999886,
          201.59999999999968,
          204.19999999999897,
          281.19999999999715,
          239.79999999999683,
          259.8999999999975,
          250.29999999999677,
          250.09999999999548,
          185.99999999999523,
          137.19999999999527,
          104.79999999999396,
          69.99999999999247,
          34.69999999999214,
          66.39999999999331,
          161.4999999999946,
          128.79999999999575,
          113.29999999999634,
          234.49999999999542,
          177.99999999999386,
          208.19999999999186,
          180.5999999999909,
          219.29999999999131,
          152.3999999999927,
          65.59999999999472,
          -32.60000000000467,
          -81.40000000000462,
          -29.400000000003693,
          -100.3000000000041,
          -155.00000000000495,
          -90.00000000000544,
          12.599999999993912,
          -29.600000000007213,
          -119.00000000000891,
          -40.10000000000939,
          -73.80000000001033,
          -127.80000000001104,
          -199.60000000001068,
          -201.9000000000102,
          -13.30000000000922,
          -39.90000000000806,
          113.1999999999935,
          59.49999999999475,
          24.399999999995728,
          -32.80000000000374,
          20.699999999995917,
          11.599999999996253,
          -34.30000000000247,
          -94.20000000000186,
          -27.900000000002734,
          -97.70000000000259,
          -158.4000000000028,
          -176.60000000000434,
          -127.2000000000049,
          -63.90000000000544,
          -30.400000000005804,
          -50.60000000000491,
          -52.500000000004036,
          -98.60000000000406,
          -116.70000000000495,
          -174.6000000000068,
          -186.6000000000077,
          -180.00000000000665,
          -298.1000000000054,
          -346.60000000000565,
          -375.6000000000069,
          -99.90000000000816,
          302.9999999999912,
          255.19999999999112,
          246.3999999999912,
          201.7999999999921,
          172.99999999999218,
          250.39999999999077,
          224.9999999999909,
          165.8999999999923,
          366.3999999999935,
          395.7999999999951,
          349.6999999999951,
          413.99999999999443,
          477.5999999999959,
          495.19999999999794,
          403.3999999999983,
          406.99999999999744,
          445.1999999999968,
          449.99999999999716,
          324.79999999999853,
          209.89999999999856,
          202.99999999999775,
          196.599999999998,
          169.99999999999915,
          166.19999999999868,
          203.49999999999656,
          476.59999999999604,
          527.9999999999975,
          519.599999999998,
          432.59999999999644,
          570.1999999999964,
          637.6999999999967,
          636.1999999999958,
          668.099999999996,
          862.0999999999968,
          842.8999999999976,
          844.5999999999976,
          787.0999999999962,
          931.3999999999955,
          834.4999999999958,
          791.3999999999954,
          831.0999999999957,
          820.3999999999967,
          803.9999999999981,
          698.5999999999981,
          623.5999999999975,
          761.799999999997,
          703.9999999999958,
          640.0999999999946,
          592.3999999999929,
          643.5999999999931,
          638.3999999999945,
          643.699999999996,
          586.3999999999958,
          546.9999999999952,
          508.999999999995,
          514.5999999999939,
          492.9999999999945,
          446.0999999999959,
          446.0999999999959
         ]
        }
       ],
       "layout": {
        "font": {
         "color": "#e1e1e1",
         "size": 8
        },
        "height": 400,
        "margin": {
         "b": 10,
         "l": 10,
         "r": 10,
         "t": 10
        },
        "paper_bgcolor": "#2c303c",
        "plot_bgcolor": "#2c303c",
        "template": {
         "data": {
          "bar": [
           {
            "error_x": {
             "color": "#2a3f5f"
            },
            "error_y": {
             "color": "#2a3f5f"
            },
            "marker": {
             "line": {
              "color": "#E5ECF6",
              "width": 0.5
             },
             "pattern": {
              "fillmode": "overlay",
              "size": 10,
              "solidity": 0.2
             }
            },
            "type": "bar"
           }
          ],
          "barpolar": [
           {
            "marker": {
             "line": {
              "color": "#E5ECF6",
              "width": 0.5
             },
             "pattern": {
              "fillmode": "overlay",
              "size": 10,
              "solidity": 0.2
             }
            },
            "type": "barpolar"
           }
          ],
          "carpet": [
           {
            "aaxis": {
             "endlinecolor": "#2a3f5f",
             "gridcolor": "white",
             "linecolor": "white",
             "minorgridcolor": "white",
             "startlinecolor": "#2a3f5f"
            },
            "baxis": {
             "endlinecolor": "#2a3f5f",
             "gridcolor": "white",
             "linecolor": "white",
             "minorgridcolor": "white",
             "startlinecolor": "#2a3f5f"
            },
            "type": "carpet"
           }
          ],
          "choropleth": [
           {
            "colorbar": {
             "outlinewidth": 0,
             "ticks": ""
            },
            "type": "choropleth"
           }
          ],
          "contour": [
           {
            "colorbar": {
             "outlinewidth": 0,
             "ticks": ""
            },
            "colorscale": [
             [
              0,
              "#0d0887"
             ],
             [
              0.1111111111111111,
              "#46039f"
             ],
             [
              0.2222222222222222,
              "#7201a8"
             ],
             [
              0.3333333333333333,
              "#9c179e"
             ],
             [
              0.4444444444444444,
              "#bd3786"
             ],
             [
              0.5555555555555556,
              "#d8576b"
             ],
             [
              0.6666666666666666,
              "#ed7953"
             ],
             [
              0.7777777777777778,
              "#fb9f3a"
             ],
             [
              0.8888888888888888,
              "#fdca26"
             ],
             [
              1,
              "#f0f921"
             ]
            ],
            "type": "contour"
           }
          ],
          "contourcarpet": [
           {
            "colorbar": {
             "outlinewidth": 0,
             "ticks": ""
            },
            "type": "contourcarpet"
           }
          ],
          "heatmap": [
           {
            "colorbar": {
             "outlinewidth": 0,
             "ticks": ""
            },
            "colorscale": [
             [
              0,
              "#0d0887"
             ],
             [
              0.1111111111111111,
              "#46039f"
             ],
             [
              0.2222222222222222,
              "#7201a8"
             ],
             [
              0.3333333333333333,
              "#9c179e"
             ],
             [
              0.4444444444444444,
              "#bd3786"
             ],
             [
              0.5555555555555556,
              "#d8576b"
             ],
             [
              0.6666666666666666,
              "#ed7953"
             ],
             [
              0.7777777777777778,
              "#fb9f3a"
             ],
             [
              0.8888888888888888,
              "#fdca26"
             ],
             [
              1,
              "#f0f921"
             ]
            ],
            "type": "heatmap"
           }
          ],
          "heatmapgl": [
           {
            "colorbar": {
             "outlinewidth": 0,
             "ticks": ""
            },
            "colorscale": [
             [
              0,
              "#0d0887"
             ],
             [
              0.1111111111111111,
              "#46039f"
             ],
             [
              0.2222222222222222,
              "#7201a8"
             ],
             [
              0.3333333333333333,
              "#9c179e"
             ],
             [
              0.4444444444444444,
              "#bd3786"
             ],
             [
              0.5555555555555556,
              "#d8576b"
             ],
             [
              0.6666666666666666,
              "#ed7953"
             ],
             [
              0.7777777777777778,
              "#fb9f3a"
             ],
             [
              0.8888888888888888,
              "#fdca26"
             ],
             [
              1,
              "#f0f921"
             ]
            ],
            "type": "heatmapgl"
           }
          ],
          "histogram": [
           {
            "marker": {
             "pattern": {
              "fillmode": "overlay",
              "size": 10,
              "solidity": 0.2
             }
            },
            "type": "histogram"
           }
          ],
          "histogram2d": [
           {
            "colorbar": {
             "outlinewidth": 0,
             "ticks": ""
            },
            "colorscale": [
             [
              0,
              "#0d0887"
             ],
             [
              0.1111111111111111,
              "#46039f"
             ],
             [
              0.2222222222222222,
              "#7201a8"
             ],
             [
              0.3333333333333333,
              "#9c179e"
             ],
             [
              0.4444444444444444,
              "#bd3786"
             ],
             [
              0.5555555555555556,
              "#d8576b"
             ],
             [
              0.6666666666666666,
              "#ed7953"
             ],
             [
              0.7777777777777778,
              "#fb9f3a"
             ],
             [
              0.8888888888888888,
              "#fdca26"
             ],
             [
              1,
              "#f0f921"
             ]
            ],
            "type": "histogram2d"
           }
          ],
          "histogram2dcontour": [
           {
            "colorbar": {
             "outlinewidth": 0,
             "ticks": ""
            },
            "colorscale": [
             [
              0,
              "#0d0887"
             ],
             [
              0.1111111111111111,
              "#46039f"
             ],
             [
              0.2222222222222222,
              "#7201a8"
             ],
             [
              0.3333333333333333,
              "#9c179e"
             ],
             [
              0.4444444444444444,
              "#bd3786"
             ],
             [
              0.5555555555555556,
              "#d8576b"
             ],
             [
              0.6666666666666666,
              "#ed7953"
             ],
             [
              0.7777777777777778,
              "#fb9f3a"
             ],
             [
              0.8888888888888888,
              "#fdca26"
             ],
             [
              1,
              "#f0f921"
             ]
            ],
            "type": "histogram2dcontour"
           }
          ],
          "mesh3d": [
           {
            "colorbar": {
             "outlinewidth": 0,
             "ticks": ""
            },
            "type": "mesh3d"
           }
          ],
          "parcoords": [
           {
            "line": {
             "colorbar": {
              "outlinewidth": 0,
              "ticks": ""
             }
            },
            "type": "parcoords"
           }
          ],
          "pie": [
           {
            "automargin": true,
            "type": "pie"
           }
          ],
          "scatter": [
           {
            "fillpattern": {
             "fillmode": "overlay",
             "size": 10,
             "solidity": 0.2
            },
            "type": "scatter"
           }
          ],
          "scatter3d": [
           {
            "line": {
             "colorbar": {
              "outlinewidth": 0,
              "ticks": ""
             }
            },
            "marker": {
             "colorbar": {
              "outlinewidth": 0,
              "ticks": ""
             }
            },
            "type": "scatter3d"
           }
          ],
          "scattercarpet": [
           {
            "marker": {
             "colorbar": {
              "outlinewidth": 0,
              "ticks": ""
             }
            },
            "type": "scattercarpet"
           }
          ],
          "scattergeo": [
           {
            "marker": {
             "colorbar": {
              "outlinewidth": 0,
              "ticks": ""
             }
            },
            "type": "scattergeo"
           }
          ],
          "scattergl": [
           {
            "marker": {
             "colorbar": {
              "outlinewidth": 0,
              "ticks": ""
             }
            },
            "type": "scattergl"
           }
          ],
          "scattermapbox": [
           {
            "marker": {
             "colorbar": {
              "outlinewidth": 0,
              "ticks": ""
             }
            },
            "type": "scattermapbox"
           }
          ],
          "scatterpolar": [
           {
            "marker": {
             "colorbar": {
              "outlinewidth": 0,
              "ticks": ""
             }
            },
            "type": "scatterpolar"
           }
          ],
          "scatterpolargl": [
           {
            "marker": {
             "colorbar": {
              "outlinewidth": 0,
              "ticks": ""
             }
            },
            "type": "scatterpolargl"
           }
          ],
          "scatterternary": [
           {
            "marker": {
             "colorbar": {
              "outlinewidth": 0,
              "ticks": ""
             }
            },
            "type": "scatterternary"
           }
          ],
          "surface": [
           {
            "colorbar": {
             "outlinewidth": 0,
             "ticks": ""
            },
            "colorscale": [
             [
              0,
              "#0d0887"
             ],
             [
              0.1111111111111111,
              "#46039f"
             ],
             [
              0.2222222222222222,
              "#7201a8"
             ],
             [
              0.3333333333333333,
              "#9c179e"
             ],
             [
              0.4444444444444444,
              "#bd3786"
             ],
             [
              0.5555555555555556,
              "#d8576b"
             ],
             [
              0.6666666666666666,
              "#ed7953"
             ],
             [
              0.7777777777777778,
              "#fb9f3a"
             ],
             [
              0.8888888888888888,
              "#fdca26"
             ],
             [
              1,
              "#f0f921"
             ]
            ],
            "type": "surface"
           }
          ],
          "table": [
           {
            "cells": {
             "fill": {
              "color": "#EBF0F8"
             },
             "line": {
              "color": "white"
             }
            },
            "header": {
             "fill": {
              "color": "#C8D4E3"
             },
             "line": {
              "color": "white"
             }
            },
            "type": "table"
           }
          ]
         },
         "layout": {
          "annotationdefaults": {
           "arrowcolor": "#2a3f5f",
           "arrowhead": 0,
           "arrowwidth": 1
          },
          "autotypenumbers": "strict",
          "coloraxis": {
           "colorbar": {
            "outlinewidth": 0,
            "ticks": ""
           }
          },
          "colorscale": {
           "diverging": [
            [
             0,
             "#8e0152"
            ],
            [
             0.1,
             "#c51b7d"
            ],
            [
             0.2,
             "#de77ae"
            ],
            [
             0.3,
             "#f1b6da"
            ],
            [
             0.4,
             "#fde0ef"
            ],
            [
             0.5,
             "#f7f7f7"
            ],
            [
             0.6,
             "#e6f5d0"
            ],
            [
             0.7,
             "#b8e186"
            ],
            [
             0.8,
             "#7fbc41"
            ],
            [
             0.9,
             "#4d9221"
            ],
            [
             1,
             "#276419"
            ]
           ],
           "sequential": [
            [
             0,
             "#0d0887"
            ],
            [
             0.1111111111111111,
             "#46039f"
            ],
            [
             0.2222222222222222,
             "#7201a8"
            ],
            [
             0.3333333333333333,
             "#9c179e"
            ],
            [
             0.4444444444444444,
             "#bd3786"
            ],
            [
             0.5555555555555556,
             "#d8576b"
            ],
            [
             0.6666666666666666,
             "#ed7953"
            ],
            [
             0.7777777777777778,
             "#fb9f3a"
            ],
            [
             0.8888888888888888,
             "#fdca26"
            ],
            [
             1,
             "#f0f921"
            ]
           ],
           "sequentialminus": [
            [
             0,
             "#0d0887"
            ],
            [
             0.1111111111111111,
             "#46039f"
            ],
            [
             0.2222222222222222,
             "#7201a8"
            ],
            [
             0.3333333333333333,
             "#9c179e"
            ],
            [
             0.4444444444444444,
             "#bd3786"
            ],
            [
             0.5555555555555556,
             "#d8576b"
            ],
            [
             0.6666666666666666,
             "#ed7953"
            ],
            [
             0.7777777777777778,
             "#fb9f3a"
            ],
            [
             0.8888888888888888,
             "#fdca26"
            ],
            [
             1,
             "#f0f921"
            ]
           ]
          },
          "colorway": [
           "#636efa",
           "#EF553B",
           "#00cc96",
           "#ab63fa",
           "#FFA15A",
           "#19d3f3",
           "#FF6692",
           "#B6E880",
           "#FF97FF",
           "#FECB52"
          ],
          "font": {
           "color": "#2a3f5f"
          },
          "geo": {
           "bgcolor": "white",
           "lakecolor": "white",
           "landcolor": "#E5ECF6",
           "showlakes": true,
           "showland": true,
           "subunitcolor": "white"
          },
          "hoverlabel": {
           "align": "left"
          },
          "hovermode": "closest",
          "mapbox": {
           "style": "light"
          },
          "paper_bgcolor": "white",
          "plot_bgcolor": "#E5ECF6",
          "polar": {
           "angularaxis": {
            "gridcolor": "white",
            "linecolor": "white",
            "ticks": ""
           },
           "bgcolor": "#E5ECF6",
           "radialaxis": {
            "gridcolor": "white",
            "linecolor": "white",
            "ticks": ""
           }
          },
          "scene": {
           "xaxis": {
            "backgroundcolor": "#E5ECF6",
            "gridcolor": "white",
            "gridwidth": 2,
            "linecolor": "white",
            "showbackground": true,
            "ticks": "",
            "zerolinecolor": "white"
           },
           "yaxis": {
            "backgroundcolor": "#E5ECF6",
            "gridcolor": "white",
            "gridwidth": 2,
            "linecolor": "white",
            "showbackground": true,
            "ticks": "",
            "zerolinecolor": "white"
           },
           "zaxis": {
            "backgroundcolor": "#E5ECF6",
            "gridcolor": "white",
            "gridwidth": 2,
            "linecolor": "white",
            "showbackground": true,
            "ticks": "",
            "zerolinecolor": "white"
           }
          },
          "shapedefaults": {
           "line": {
            "color": "#2a3f5f"
           }
          },
          "ternary": {
           "aaxis": {
            "gridcolor": "white",
            "linecolor": "white",
            "ticks": ""
           },
           "baxis": {
            "gridcolor": "white",
            "linecolor": "white",
            "ticks": ""
           },
           "bgcolor": "#E5ECF6",
           "caxis": {
            "gridcolor": "white",
            "linecolor": "white",
            "ticks": ""
           }
          },
          "title": {
           "x": 0.05
          },
          "xaxis": {
           "automargin": true,
           "gridcolor": "white",
           "linecolor": "white",
           "ticks": "",
           "title": {
            "standoff": 15
           },
           "zerolinecolor": "white",
           "zerolinewidth": 2
          },
          "yaxis": {
           "automargin": true,
           "gridcolor": "white",
           "linecolor": "white",
           "ticks": "",
           "title": {
            "standoff": 15
           },
           "zerolinecolor": "white",
           "zerolinewidth": 2
          }
         }
        },
        "width": 900,
        "xaxis": {
         "gridcolor": "#1f292f",
         "nticks": 5,
         "rangeslider": {
          "visible": false
         }
        },
        "yaxis": {
         "gridcolor": "#1f292f"
        }
       }
      }
     },
     "metadata": {},
     "output_type": "display_data"
    },
    {
     "name": "stdout",
     "output_type": "stream",
     "text": [
      "GBP_USD 146\n"
     ]
    },
    {
     "data": {
      "application/vnd.plotly.v1+json": {
       "config": {
        "plotlyServerURL": "https://plot.ly"
       },
       "data": [
        {
         "line": {
          "shape": "spline",
          "width": 2
         },
         "name": "GAIN_C",
         "type": "scatter",
         "x": [
          "s22-08-23 10:00",
          "s22-08-23 11:00",
          "s22-08-23 13:00",
          "s22-08-24 06:00",
          "s22-08-25 02:00",
          "s22-08-25 18:00",
          "s22-08-26 02:00",
          "s22-08-26 05:00",
          "s22-08-29 16:00",
          "s22-08-30 04:00",
          "s22-08-30 07:00",
          "s22-08-30 15:00",
          "s22-08-31 06:00",
          "s22-08-31 11:00",
          "s22-09-02 06:00",
          "s22-09-02 18:00",
          "s22-09-05 13:00",
          "s22-09-06 16:00",
          "s22-09-07 21:00",
          "s22-09-08 09:00",
          "s22-09-08 19:00",
          "s22-09-08 20:00",
          "s22-09-09 01:00",
          "s22-09-09 19:00",
          "s22-09-11 23:00",
          "s22-09-13 02:00",
          "s22-09-13 07:00",
          "s22-09-13 13:00",
          "s22-09-14 09:00",
          "s22-09-15 01:00",
          "s22-09-18 22:00",
          "s22-09-19 07:00",
          "s22-09-19 19:00",
          "s22-09-20 13:00",
          "s22-09-22 12:00",
          "s22-09-22 21:00",
          "s22-09-26 13:00",
          "s22-09-26 23:00",
          "s22-09-27 05:00",
          "s22-09-27 17:00",
          "s22-09-28 15:00",
          "s22-09-29 07:00",
          "s22-09-29 14:00",
          "s22-09-30 16:00",
          "s22-10-02 21:00",
          "s22-10-05 07:00",
          "s22-10-06 02:00",
          "s22-10-06 11:00",
          "s22-10-07 09:00",
          "s22-10-07 15:00",
          "s22-10-11 01:00",
          "s22-10-11 05:00",
          "s22-10-11 15:00",
          "s22-10-11 23:00",
          "s22-10-12 12:00",
          "s22-10-14 09:00",
          "s22-10-17 04:00",
          "s22-10-18 06:00",
          "s22-10-19 00:00",
          "s22-10-19 08:00",
          "s22-10-20 11:00",
          "s22-10-21 00:00",
          "s22-10-21 19:00",
          "s22-10-24 14:00",
          "s22-10-25 05:00",
          "s22-10-27 09:00",
          "s22-10-28 04:00",
          "s22-10-28 05:00",
          "s22-10-28 18:00",
          "s22-10-31 08:00",
          "s22-11-01 06:00",
          "s22-11-01 18:00",
          "s22-11-02 06:00",
          "s22-11-02 15:00",
          "s22-11-04 06:00",
          "s22-11-08 08:00",
          "s22-11-08 18:00",
          "s22-11-09 09:00",
          "s22-11-10 07:00",
          "s22-11-14 06:00",
          "s22-11-15 06:00",
          "s22-11-16 01:00",
          "s22-11-16 10:00",
          "s22-11-17 10:00",
          "s22-11-18 01:00",
          "s22-11-18 19:00",
          "s22-11-22 01:00",
          "s22-11-25 03:00",
          "s22-11-28 13:00",
          "s22-11-28 18:00",
          "s22-11-29 08:00",
          "s22-11-29 18:00",
          "s22-11-30 08:00",
          "s22-12-02 07:00",
          "s22-12-02 10:00",
          "s22-12-04 22:00",
          "s22-12-04 23:00",
          "s22-12-05 13:00",
          "s22-12-06 09:00",
          "s22-12-06 14:00",
          "s22-12-06 16:00",
          "s22-12-06 17:00",
          "s22-12-07 12:00",
          "s22-12-08 05:00",
          "s22-12-08 16:00",
          "s22-12-12 01:00",
          "s22-12-12 12:00",
          "s22-12-13 02:00",
          "s22-12-13 07:00",
          "s22-12-14 05:00",
          "s22-12-14 11:00",
          "s22-12-15 07:00",
          "s22-12-16 10:00",
          "s22-12-16 12:00",
          "s22-12-19 07:00",
          "s22-12-19 18:00",
          "s22-12-20 13:00",
          "s22-12-21 10:00",
          "s22-12-22 05:00",
          "s22-12-22 13:00",
          "s22-12-23 05:00",
          "s22-12-23 20:00",
          "s22-12-27 00:00",
          "s22-12-27 13:00",
          "s22-12-28 10:00",
          "s22-12-28 23:00",
          "s22-12-29 09:00",
          "s22-12-30 06:00",
          "s22-12-30 17:00",
          "s23-01-02 09:00",
          "s23-01-03 02:00",
          "s23-01-03 08:00",
          "s23-01-04 02:00",
          "s23-01-05 04:00",
          "s23-01-06 08:00",
          "s23-01-06 09:00",
          "s23-01-06 17:00",
          "s23-01-10 06:00",
          "s23-01-11 05:00",
          "s23-01-11 09:00",
          "s23-01-11 23:00",
          "s23-01-13 11:00",
          "s23-01-13 21:00",
          "s23-01-16 12:00",
          "s23-01-17 10:00",
          "s23-01-19 00:00",
          "s23-01-19 14:00",
          "s23-01-20 09:00",
          "s23-01-20 20:00",
          "s23-01-23 12:00",
          "s23-01-24 02:00",
          "s23-01-24 11:00",
          "s23-01-25 02:00",
          "s23-01-25 09:00",
          "s23-01-25 16:00",
          "s23-01-26 12:00",
          "s23-01-27 00:00",
          "s23-01-27 08:00",
          "s23-01-27 21:00",
          "s23-01-30 11:00",
          "s23-02-01 03:00",
          "s23-02-01 04:00",
          "s23-02-01 12:00",
          "s23-02-02 12:00",
          "s23-02-06 12:00",
          "s23-02-06 15:00",
          "s23-02-07 04:00",
          "s23-02-07 12:00",
          "s23-02-07 22:00",
          "s23-02-08 22:00",
          "s23-02-09 07:00",
          "s23-02-10 00:00",
          "s23-02-13 12:00",
          "s23-02-14 23:00",
          "s23-02-16 04:00",
          "s23-02-16 14:00",
          "s23-02-17 17:00",
          "s23-02-20 17:00",
          "s23-02-20 18:00",
          "s23-02-21 05:00",
          "s23-02-21 11:00",
          "s23-02-22 09:00",
          "s23-02-24 09:00",
          "s23-02-24 12:00",
          "s23-02-27 07:00",
          "s23-02-28 23:00",
          "s23-03-01 11:00",
          "s23-03-01 18:00",
          "s23-03-03 04:00",
          "s23-03-06 12:00",
          "s23-03-06 23:00",
          "s23-03-07 12:00",
          "s23-03-08 13:00",
          "s23-03-14 08:00",
          "s23-03-14 17:00",
          "s23-03-14 22:00",
          "s23-03-15 02:00",
          "s23-03-15 04:00",
          "s23-03-16 04:00",
          "s23-03-21 07:00",
          "s23-03-22 05:00",
          "s23-03-23 18:00",
          "s23-03-27 01:00",
          "s23-03-29 06:00",
          "s23-03-29 17:00",
          "s23-03-29 18:00",
          "s23-03-30 08:00",
          "s23-03-31 10:00"
         ],
         "y": [
          4.3999999999999595,
          -71.40000000000146,
          -98.00000000000253,
          -95.60000000000235,
          -83.00000000000196,
          -79.70000000000255,
          -99.40000000000282,
          -17.60000000000207,
          -34.8000000000015,
          -65.20000000000081,
          -150.00000000000125,
          -178.80000000000342,
          -235.6000000000047,
          -163.40000000000467,
          -201.20000000000363,
          -203.10000000000275,
          -187.3000000000036,
          -194.2000000000044,
          -235.2000000000043,
          -240.9000000000039,
          -241.00000000000455,
          -291.4000000000061,
          -252.6000000000073,
          -281.8000000000076,
          -212.60000000000724,
          -249.10000000000656,
          -409.30000000000575,
          -408.00000000000614,
          -426.3000000000061,
          -309.200000000005,
          -359.2000000000039,
          -416.80000000000376,
          -456.4000000000034,
          -393.0000000000033,
          -472.50000000000455,
          -84.20000000000539,
          -183.70000000000442,
          -230.00000000000352,
          -352.90000000000265,
          -493.0000000000012,
          -541.0000000000003,
          -790.599999999999,
          -692.4999999999981,
          -753.1999999999982,
          -536.8999999999978,
          -490.2999999999967,
          -591.6999999999971,
          -551.9999999999968,
          -656.1999999999955,
          -600.5999999999954,
          -632.7999999999954,
          -771.8999999999962,
          -973.5999999999965,
          -1056.1999999999957,
          -861.199999999995,
          -844.8999999999949,
          -720.3999999999963,
          -711.3999999999974,
          -789.799999999998,
          -779.7999999999992,
          -825.8999999999992,
          -920.9999999999983,
          -907.7999999999984,
          -870.1999999999985,
          -585.5999999999992,
          -595.7999999999994,
          -617.9999999999983,
          -678.7999999999969,
          -742.6999999999958,
          -738.5999999999956,
          -797.6999999999964,
          -813.5999999999984,
          -846.9999999999997,
          -602.4000000000004,
          -368.00000000000136,
          -457.8000000000012,
          -551.6000000000006,
          -482.6000000000015,
          -102.0000000000017,
          -129.60000000000045,
          -76.40000000000055,
          -157.2000000000014,
          -214.8000000000013,
          -233.40000000000103,
          -229.00000000000108,
          -191.6000000000003,
          66.5000000000008,
          102.10000000000088,
          1.4000000000006452,
          -75.00000000000026,
          -164.40000000000197,
          -190.40000000000356,
          83.49999999999449,
          70.19999999999395,
          77.7999999999949,
          64.39999999999593,
          30.699999999997196,
          114.79999999999748,
          119.59999999999783,
          101.3999999999985,
          75.79999999999954,
          57.40000000000113,
          51.600000000000875,
          6.400000000000084,
          -4.600000000000925,
          -62.10000000000236,
          -66.40000000000389,
          -75.00000000000472,
          -4.400000000004056,
          -22.800000000004694,
          -15.50000000000572,
          189.19999999999416,
          186.5999999999949,
          169.59999999999678,
          138.59999999999798,
          150.5999999999989,
          135.69999999999897,
          149.1999999999986,
          60.999999999998096,
          56.39999999999682,
          67.99999999999733,
          36.49999999999747,
          -17.80000000000299,
          -55.20000000000153,
          -88.70000000000117,
          -116.10000000000082,
          -126.2999999999988,
          -180.59999999999704,
          -233.59999999999565,
          -265.79999999999563,
          -432.1999999999955,
          -504.7999999999937,
          -451.59999999999377,
          -300.1999999999945,
          -328.69999999999465,
          -554.9999999999961,
          -468.39999999999725,
          -465.59999999999667,
          -501.4999999999965,
          -527.0999999999976,
          -511.79999999999734,
          -562.4999999999964,
          -598.7999999999965,
          -625.299999999997,
          -519.1999999999969,
          -551.5999999999959,
          -563.0999999999958,
          -616.499999999997,
          -645.299999999997,
          -666.7999999999957,
          -739.899999999995,
          -750.599999999994,
          -765.1999999999941,
          -826.5999999999945,
          -802.8999999999946,
          -824.9999999999951,
          -860.7999999999943,
          -870.7999999999931,
          -877.9999999999936,
          -806.9999999999948,
          -805.3999999999954,
          -815.2999999999959,
          -848.0999999999954,
          -622.8999999999944,
          -677.1999999999948,
          -705.9999999999948,
          -761.3999999999935,
          -823.8999999999944,
          -802.5999999999948,
          -827.5999999999942,
          -806.3999999999952,
          -796.3999999999963,
          -728.5999999999963,
          -602.4999999999961,
          -668.5999999999962,
          -706.5999999999964,
          -690.3999999999968,
          -689.1999999999978,
          -693.3999999999986,
          -772.3999999999987,
          -804.299999999999,
          -750.5999999999981,
          -799.399999999998,
          -779.2999999999996,
          -701.2999999999993,
          -718.2999999999975,
          -766.199999999996,
          -731.1999999999954,
          -693.3999999999965,
          -713.5999999999977,
          -741.1999999999987,
          -567.2,
          -224.4000000000014,
          -226.6000000000025,
          -239.2000000000029,
          -257.2000000000031,
          -267.20000000000425,
          -182.20000000000474,
          -24.200000000004394,
          -16.000000000003965,
          34.599999999996676,
          77.59999999999638,
          165.99999999999596,
          170.3999999999959,
          165.49999999999488,
          126.19999999999499,
          146.29999999999566,
          146.29999999999566
         ]
        }
       ],
       "layout": {
        "font": {
         "color": "#e1e1e1",
         "size": 8
        },
        "height": 400,
        "margin": {
         "b": 10,
         "l": 10,
         "r": 10,
         "t": 10
        },
        "paper_bgcolor": "#2c303c",
        "plot_bgcolor": "#2c303c",
        "template": {
         "data": {
          "bar": [
           {
            "error_x": {
             "color": "#2a3f5f"
            },
            "error_y": {
             "color": "#2a3f5f"
            },
            "marker": {
             "line": {
              "color": "#E5ECF6",
              "width": 0.5
             },
             "pattern": {
              "fillmode": "overlay",
              "size": 10,
              "solidity": 0.2
             }
            },
            "type": "bar"
           }
          ],
          "barpolar": [
           {
            "marker": {
             "line": {
              "color": "#E5ECF6",
              "width": 0.5
             },
             "pattern": {
              "fillmode": "overlay",
              "size": 10,
              "solidity": 0.2
             }
            },
            "type": "barpolar"
           }
          ],
          "carpet": [
           {
            "aaxis": {
             "endlinecolor": "#2a3f5f",
             "gridcolor": "white",
             "linecolor": "white",
             "minorgridcolor": "white",
             "startlinecolor": "#2a3f5f"
            },
            "baxis": {
             "endlinecolor": "#2a3f5f",
             "gridcolor": "white",
             "linecolor": "white",
             "minorgridcolor": "white",
             "startlinecolor": "#2a3f5f"
            },
            "type": "carpet"
           }
          ],
          "choropleth": [
           {
            "colorbar": {
             "outlinewidth": 0,
             "ticks": ""
            },
            "type": "choropleth"
           }
          ],
          "contour": [
           {
            "colorbar": {
             "outlinewidth": 0,
             "ticks": ""
            },
            "colorscale": [
             [
              0,
              "#0d0887"
             ],
             [
              0.1111111111111111,
              "#46039f"
             ],
             [
              0.2222222222222222,
              "#7201a8"
             ],
             [
              0.3333333333333333,
              "#9c179e"
             ],
             [
              0.4444444444444444,
              "#bd3786"
             ],
             [
              0.5555555555555556,
              "#d8576b"
             ],
             [
              0.6666666666666666,
              "#ed7953"
             ],
             [
              0.7777777777777778,
              "#fb9f3a"
             ],
             [
              0.8888888888888888,
              "#fdca26"
             ],
             [
              1,
              "#f0f921"
             ]
            ],
            "type": "contour"
           }
          ],
          "contourcarpet": [
           {
            "colorbar": {
             "outlinewidth": 0,
             "ticks": ""
            },
            "type": "contourcarpet"
           }
          ],
          "heatmap": [
           {
            "colorbar": {
             "outlinewidth": 0,
             "ticks": ""
            },
            "colorscale": [
             [
              0,
              "#0d0887"
             ],
             [
              0.1111111111111111,
              "#46039f"
             ],
             [
              0.2222222222222222,
              "#7201a8"
             ],
             [
              0.3333333333333333,
              "#9c179e"
             ],
             [
              0.4444444444444444,
              "#bd3786"
             ],
             [
              0.5555555555555556,
              "#d8576b"
             ],
             [
              0.6666666666666666,
              "#ed7953"
             ],
             [
              0.7777777777777778,
              "#fb9f3a"
             ],
             [
              0.8888888888888888,
              "#fdca26"
             ],
             [
              1,
              "#f0f921"
             ]
            ],
            "type": "heatmap"
           }
          ],
          "heatmapgl": [
           {
            "colorbar": {
             "outlinewidth": 0,
             "ticks": ""
            },
            "colorscale": [
             [
              0,
              "#0d0887"
             ],
             [
              0.1111111111111111,
              "#46039f"
             ],
             [
              0.2222222222222222,
              "#7201a8"
             ],
             [
              0.3333333333333333,
              "#9c179e"
             ],
             [
              0.4444444444444444,
              "#bd3786"
             ],
             [
              0.5555555555555556,
              "#d8576b"
             ],
             [
              0.6666666666666666,
              "#ed7953"
             ],
             [
              0.7777777777777778,
              "#fb9f3a"
             ],
             [
              0.8888888888888888,
              "#fdca26"
             ],
             [
              1,
              "#f0f921"
             ]
            ],
            "type": "heatmapgl"
           }
          ],
          "histogram": [
           {
            "marker": {
             "pattern": {
              "fillmode": "overlay",
              "size": 10,
              "solidity": 0.2
             }
            },
            "type": "histogram"
           }
          ],
          "histogram2d": [
           {
            "colorbar": {
             "outlinewidth": 0,
             "ticks": ""
            },
            "colorscale": [
             [
              0,
              "#0d0887"
             ],
             [
              0.1111111111111111,
              "#46039f"
             ],
             [
              0.2222222222222222,
              "#7201a8"
             ],
             [
              0.3333333333333333,
              "#9c179e"
             ],
             [
              0.4444444444444444,
              "#bd3786"
             ],
             [
              0.5555555555555556,
              "#d8576b"
             ],
             [
              0.6666666666666666,
              "#ed7953"
             ],
             [
              0.7777777777777778,
              "#fb9f3a"
             ],
             [
              0.8888888888888888,
              "#fdca26"
             ],
             [
              1,
              "#f0f921"
             ]
            ],
            "type": "histogram2d"
           }
          ],
          "histogram2dcontour": [
           {
            "colorbar": {
             "outlinewidth": 0,
             "ticks": ""
            },
            "colorscale": [
             [
              0,
              "#0d0887"
             ],
             [
              0.1111111111111111,
              "#46039f"
             ],
             [
              0.2222222222222222,
              "#7201a8"
             ],
             [
              0.3333333333333333,
              "#9c179e"
             ],
             [
              0.4444444444444444,
              "#bd3786"
             ],
             [
              0.5555555555555556,
              "#d8576b"
             ],
             [
              0.6666666666666666,
              "#ed7953"
             ],
             [
              0.7777777777777778,
              "#fb9f3a"
             ],
             [
              0.8888888888888888,
              "#fdca26"
             ],
             [
              1,
              "#f0f921"
             ]
            ],
            "type": "histogram2dcontour"
           }
          ],
          "mesh3d": [
           {
            "colorbar": {
             "outlinewidth": 0,
             "ticks": ""
            },
            "type": "mesh3d"
           }
          ],
          "parcoords": [
           {
            "line": {
             "colorbar": {
              "outlinewidth": 0,
              "ticks": ""
             }
            },
            "type": "parcoords"
           }
          ],
          "pie": [
           {
            "automargin": true,
            "type": "pie"
           }
          ],
          "scatter": [
           {
            "fillpattern": {
             "fillmode": "overlay",
             "size": 10,
             "solidity": 0.2
            },
            "type": "scatter"
           }
          ],
          "scatter3d": [
           {
            "line": {
             "colorbar": {
              "outlinewidth": 0,
              "ticks": ""
             }
            },
            "marker": {
             "colorbar": {
              "outlinewidth": 0,
              "ticks": ""
             }
            },
            "type": "scatter3d"
           }
          ],
          "scattercarpet": [
           {
            "marker": {
             "colorbar": {
              "outlinewidth": 0,
              "ticks": ""
             }
            },
            "type": "scattercarpet"
           }
          ],
          "scattergeo": [
           {
            "marker": {
             "colorbar": {
              "outlinewidth": 0,
              "ticks": ""
             }
            },
            "type": "scattergeo"
           }
          ],
          "scattergl": [
           {
            "marker": {
             "colorbar": {
              "outlinewidth": 0,
              "ticks": ""
             }
            },
            "type": "scattergl"
           }
          ],
          "scattermapbox": [
           {
            "marker": {
             "colorbar": {
              "outlinewidth": 0,
              "ticks": ""
             }
            },
            "type": "scattermapbox"
           }
          ],
          "scatterpolar": [
           {
            "marker": {
             "colorbar": {
              "outlinewidth": 0,
              "ticks": ""
             }
            },
            "type": "scatterpolar"
           }
          ],
          "scatterpolargl": [
           {
            "marker": {
             "colorbar": {
              "outlinewidth": 0,
              "ticks": ""
             }
            },
            "type": "scatterpolargl"
           }
          ],
          "scatterternary": [
           {
            "marker": {
             "colorbar": {
              "outlinewidth": 0,
              "ticks": ""
             }
            },
            "type": "scatterternary"
           }
          ],
          "surface": [
           {
            "colorbar": {
             "outlinewidth": 0,
             "ticks": ""
            },
            "colorscale": [
             [
              0,
              "#0d0887"
             ],
             [
              0.1111111111111111,
              "#46039f"
             ],
             [
              0.2222222222222222,
              "#7201a8"
             ],
             [
              0.3333333333333333,
              "#9c179e"
             ],
             [
              0.4444444444444444,
              "#bd3786"
             ],
             [
              0.5555555555555556,
              "#d8576b"
             ],
             [
              0.6666666666666666,
              "#ed7953"
             ],
             [
              0.7777777777777778,
              "#fb9f3a"
             ],
             [
              0.8888888888888888,
              "#fdca26"
             ],
             [
              1,
              "#f0f921"
             ]
            ],
            "type": "surface"
           }
          ],
          "table": [
           {
            "cells": {
             "fill": {
              "color": "#EBF0F8"
             },
             "line": {
              "color": "white"
             }
            },
            "header": {
             "fill": {
              "color": "#C8D4E3"
             },
             "line": {
              "color": "white"
             }
            },
            "type": "table"
           }
          ]
         },
         "layout": {
          "annotationdefaults": {
           "arrowcolor": "#2a3f5f",
           "arrowhead": 0,
           "arrowwidth": 1
          },
          "autotypenumbers": "strict",
          "coloraxis": {
           "colorbar": {
            "outlinewidth": 0,
            "ticks": ""
           }
          },
          "colorscale": {
           "diverging": [
            [
             0,
             "#8e0152"
            ],
            [
             0.1,
             "#c51b7d"
            ],
            [
             0.2,
             "#de77ae"
            ],
            [
             0.3,
             "#f1b6da"
            ],
            [
             0.4,
             "#fde0ef"
            ],
            [
             0.5,
             "#f7f7f7"
            ],
            [
             0.6,
             "#e6f5d0"
            ],
            [
             0.7,
             "#b8e186"
            ],
            [
             0.8,
             "#7fbc41"
            ],
            [
             0.9,
             "#4d9221"
            ],
            [
             1,
             "#276419"
            ]
           ],
           "sequential": [
            [
             0,
             "#0d0887"
            ],
            [
             0.1111111111111111,
             "#46039f"
            ],
            [
             0.2222222222222222,
             "#7201a8"
            ],
            [
             0.3333333333333333,
             "#9c179e"
            ],
            [
             0.4444444444444444,
             "#bd3786"
            ],
            [
             0.5555555555555556,
             "#d8576b"
            ],
            [
             0.6666666666666666,
             "#ed7953"
            ],
            [
             0.7777777777777778,
             "#fb9f3a"
            ],
            [
             0.8888888888888888,
             "#fdca26"
            ],
            [
             1,
             "#f0f921"
            ]
           ],
           "sequentialminus": [
            [
             0,
             "#0d0887"
            ],
            [
             0.1111111111111111,
             "#46039f"
            ],
            [
             0.2222222222222222,
             "#7201a8"
            ],
            [
             0.3333333333333333,
             "#9c179e"
            ],
            [
             0.4444444444444444,
             "#bd3786"
            ],
            [
             0.5555555555555556,
             "#d8576b"
            ],
            [
             0.6666666666666666,
             "#ed7953"
            ],
            [
             0.7777777777777778,
             "#fb9f3a"
            ],
            [
             0.8888888888888888,
             "#fdca26"
            ],
            [
             1,
             "#f0f921"
            ]
           ]
          },
          "colorway": [
           "#636efa",
           "#EF553B",
           "#00cc96",
           "#ab63fa",
           "#FFA15A",
           "#19d3f3",
           "#FF6692",
           "#B6E880",
           "#FF97FF",
           "#FECB52"
          ],
          "font": {
           "color": "#2a3f5f"
          },
          "geo": {
           "bgcolor": "white",
           "lakecolor": "white",
           "landcolor": "#E5ECF6",
           "showlakes": true,
           "showland": true,
           "subunitcolor": "white"
          },
          "hoverlabel": {
           "align": "left"
          },
          "hovermode": "closest",
          "mapbox": {
           "style": "light"
          },
          "paper_bgcolor": "white",
          "plot_bgcolor": "#E5ECF6",
          "polar": {
           "angularaxis": {
            "gridcolor": "white",
            "linecolor": "white",
            "ticks": ""
           },
           "bgcolor": "#E5ECF6",
           "radialaxis": {
            "gridcolor": "white",
            "linecolor": "white",
            "ticks": ""
           }
          },
          "scene": {
           "xaxis": {
            "backgroundcolor": "#E5ECF6",
            "gridcolor": "white",
            "gridwidth": 2,
            "linecolor": "white",
            "showbackground": true,
            "ticks": "",
            "zerolinecolor": "white"
           },
           "yaxis": {
            "backgroundcolor": "#E5ECF6",
            "gridcolor": "white",
            "gridwidth": 2,
            "linecolor": "white",
            "showbackground": true,
            "ticks": "",
            "zerolinecolor": "white"
           },
           "zaxis": {
            "backgroundcolor": "#E5ECF6",
            "gridcolor": "white",
            "gridwidth": 2,
            "linecolor": "white",
            "showbackground": true,
            "ticks": "",
            "zerolinecolor": "white"
           }
          },
          "shapedefaults": {
           "line": {
            "color": "#2a3f5f"
           }
          },
          "ternary": {
           "aaxis": {
            "gridcolor": "white",
            "linecolor": "white",
            "ticks": ""
           },
           "baxis": {
            "gridcolor": "white",
            "linecolor": "white",
            "ticks": ""
           },
           "bgcolor": "#E5ECF6",
           "caxis": {
            "gridcolor": "white",
            "linecolor": "white",
            "ticks": ""
           }
          },
          "title": {
           "x": 0.05
          },
          "xaxis": {
           "automargin": true,
           "gridcolor": "white",
           "linecolor": "white",
           "ticks": "",
           "title": {
            "standoff": 15
           },
           "zerolinecolor": "white",
           "zerolinewidth": 2
          },
          "yaxis": {
           "automargin": true,
           "gridcolor": "white",
           "linecolor": "white",
           "ticks": "",
           "title": {
            "standoff": 15
           },
           "zerolinecolor": "white",
           "zerolinewidth": 2
          }
         }
        },
        "width": 900,
        "xaxis": {
         "gridcolor": "#1f292f",
         "nticks": 5,
         "rangeslider": {
          "visible": false
         }
        },
        "yaxis": {
         "gridcolor": "#1f292f"
        }
       }
      }
     },
     "metadata": {},
     "output_type": "display_data"
    }
   ],
   "source": [
    "for curr in df_MA_10_MA_20[df_MA_10_MA_20.total_gain > 0].pair.unique():\n",
    "    temp_gains = df_ma_trades_h1[(df_ma_trades_h1.cross==cross)&\n",
    "                           (df_ma_trades_h1.pair==curr)].copy()\n",
    "    print(curr, int(temp_gains.GAIN.sum()))\n",
    "    cp = CandlePlot(temp_gains, candles=False)\n",
    "    cp.show_plot(line_traces=['GAIN_C'])"
   ]
  },
  {
   "cell_type": "code",
   "execution_count": null,
   "id": "66a3e9f5",
   "metadata": {},
   "outputs": [],
   "source": []
  },
  {
   "cell_type": "code",
   "execution_count": null,
   "id": "ff0cbebf",
   "metadata": {},
   "outputs": [],
   "source": []
  },
  {
   "cell_type": "code",
   "execution_count": null,
   "id": "9f1d88b0",
   "metadata": {},
   "outputs": [],
   "source": []
  },
  {
   "cell_type": "code",
   "execution_count": null,
   "id": "ba14553c",
   "metadata": {},
   "outputs": [],
   "source": []
  },
  {
   "cell_type": "code",
   "execution_count": null,
   "id": "e2024e59",
   "metadata": {},
   "outputs": [],
   "source": []
  },
  {
   "cell_type": "code",
   "execution_count": null,
   "id": "ec3d41bc",
   "metadata": {},
   "outputs": [],
   "source": []
  },
  {
   "cell_type": "code",
   "execution_count": null,
   "id": "5fb7ba3f",
   "metadata": {},
   "outputs": [],
   "source": []
  },
  {
   "cell_type": "code",
   "execution_count": null,
   "id": "edc61e16",
   "metadata": {},
   "outputs": [],
   "source": []
  }
 ],
 "metadata": {
  "kernelspec": {
   "display_name": "Python 3 (ipykernel)",
   "language": "python",
   "name": "python3"
  },
  "language_info": {
   "codemirror_mode": {
    "name": "ipython",
    "version": 3
   },
   "file_extension": ".py",
   "mimetype": "text/x-python",
   "name": "python",
   "nbconvert_exporter": "python",
   "pygments_lexer": "ipython3",
   "version": "3.9.8"
  }
 },
 "nbformat": 4,
 "nbformat_minor": 5
}
