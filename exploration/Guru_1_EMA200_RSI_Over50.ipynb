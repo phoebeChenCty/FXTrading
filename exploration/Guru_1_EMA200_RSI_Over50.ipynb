{
 "cells": [
  {
   "cell_type": "code",
   "execution_count": 68,
   "id": "4565eb6e",
   "metadata": {},
   "outputs": [],
   "source": [
    "import sys\n",
    "sys.path.append(\"../\")"
   ]
  },
  {
   "cell_type": "code",
   "execution_count": 69,
   "id": "d780955e",
   "metadata": {},
   "outputs": [],
   "source": [
    "import pandas as pd\n",
    "import datetime as dt\n",
    "import plotly.graph_objects as go\n",
    "from technicals.indicators import RSI\n",
    "from technicals.patterns import apply_patterns\n",
    "from plotting import CandlePlot"
   ]
  },
  {
   "cell_type": "code",
   "execution_count": 70,
   "id": "c353641e",
   "metadata": {},
   "outputs": [],
   "source": [
    "df_raw = pd.read_pickle(\"../data/EUR_USD_H1.pkl\")"
   ]
  },
  {
   "cell_type": "code",
   "execution_count": 71,
   "id": "344ef1b8",
   "metadata": {},
   "outputs": [
    {
     "data": {
      "text/plain": [
       "(6142, 14)"
      ]
     },
     "execution_count": 71,
     "metadata": {},
     "output_type": "execute_result"
    }
   ],
   "source": [
    "df_raw.shape"
   ]
  },
  {
   "cell_type": "code",
   "execution_count": 73,
   "id": "058c9ff5",
   "metadata": {},
   "outputs": [],
   "source": [
    "df_an = df_raw.iloc[-6000:].copy()\n",
    "df_an.reset_index(drop=True, inplace=True)"
   ]
  },
  {
   "cell_type": "code",
   "execution_count": 74,
   "id": "03287e0e",
   "metadata": {},
   "outputs": [
    {
     "data": {
      "text/plain": [
       "(6000, 14)"
      ]
     },
     "execution_count": 74,
     "metadata": {},
     "output_type": "execute_result"
    }
   ],
   "source": [
    "df_an.shape"
   ]
  },
  {
   "cell_type": "code",
   "execution_count": 75,
   "id": "f7423ca8",
   "metadata": {},
   "outputs": [],
   "source": [
    "df_an = RSI(df_an)"
   ]
  },
  {
   "cell_type": "code",
   "execution_count": 76,
   "id": "9be51f8d",
   "metadata": {},
   "outputs": [
    {
     "data": {
      "text/html": [
       "<div>\n",
       "<style scoped>\n",
       "    .dataframe tbody tr th:only-of-type {\n",
       "        vertical-align: middle;\n",
       "    }\n",
       "\n",
       "    .dataframe tbody tr th {\n",
       "        vertical-align: top;\n",
       "    }\n",
       "\n",
       "    .dataframe thead th {\n",
       "        text-align: right;\n",
       "    }\n",
       "</style>\n",
       "<table border=\"1\" class=\"dataframe\">\n",
       "  <thead>\n",
       "    <tr style=\"text-align: right;\">\n",
       "      <th></th>\n",
       "      <th>time</th>\n",
       "      <th>volume</th>\n",
       "      <th>mid_o</th>\n",
       "      <th>mid_h</th>\n",
       "      <th>mid_l</th>\n",
       "      <th>mid_c</th>\n",
       "      <th>bid_o</th>\n",
       "      <th>bid_h</th>\n",
       "      <th>bid_l</th>\n",
       "      <th>bid_c</th>\n",
       "      <th>ask_o</th>\n",
       "      <th>ask_h</th>\n",
       "      <th>ask_l</th>\n",
       "      <th>ask_c</th>\n",
       "      <th>RSI_14</th>\n",
       "    </tr>\n",
       "  </thead>\n",
       "  <tbody>\n",
       "    <tr>\n",
       "      <th>5995</th>\n",
       "      <td>2021-12-30 19:00:00+00:00</td>\n",
       "      <td>1063</td>\n",
       "      <td>1.13058</td>\n",
       "      <td>1.13298</td>\n",
       "      <td>1.13043</td>\n",
       "      <td>1.13274</td>\n",
       "      <td>1.13052</td>\n",
       "      <td>1.13291</td>\n",
       "      <td>1.13036</td>\n",
       "      <td>1.13267</td>\n",
       "      <td>1.13065</td>\n",
       "      <td>1.13306</td>\n",
       "      <td>1.13049</td>\n",
       "      <td>1.13280</td>\n",
       "      <td>51.407635</td>\n",
       "    </tr>\n",
       "    <tr>\n",
       "      <th>5996</th>\n",
       "      <td>2021-12-30 20:00:00+00:00</td>\n",
       "      <td>1092</td>\n",
       "      <td>1.13272</td>\n",
       "      <td>1.13304</td>\n",
       "      <td>1.13185</td>\n",
       "      <td>1.13193</td>\n",
       "      <td>1.13264</td>\n",
       "      <td>1.13297</td>\n",
       "      <td>1.13177</td>\n",
       "      <td>1.13186</td>\n",
       "      <td>1.13279</td>\n",
       "      <td>1.13311</td>\n",
       "      <td>1.13192</td>\n",
       "      <td>1.13200</td>\n",
       "      <td>48.671929</td>\n",
       "    </tr>\n",
       "    <tr>\n",
       "      <th>5997</th>\n",
       "      <td>2021-12-30 21:00:00+00:00</td>\n",
       "      <td>388</td>\n",
       "      <td>1.13195</td>\n",
       "      <td>1.13276</td>\n",
       "      <td>1.13194</td>\n",
       "      <td>1.13258</td>\n",
       "      <td>1.13188</td>\n",
       "      <td>1.13269</td>\n",
       "      <td>1.13187</td>\n",
       "      <td>1.13249</td>\n",
       "      <td>1.13202</td>\n",
       "      <td>1.13283</td>\n",
       "      <td>1.13201</td>\n",
       "      <td>1.13267</td>\n",
       "      <td>50.928675</td>\n",
       "    </tr>\n",
       "    <tr>\n",
       "      <th>5998</th>\n",
       "      <td>2021-12-30 22:00:00+00:00</td>\n",
       "      <td>118</td>\n",
       "      <td>1.13252</td>\n",
       "      <td>1.13264</td>\n",
       "      <td>1.13222</td>\n",
       "      <td>1.13230</td>\n",
       "      <td>1.13204</td>\n",
       "      <td>1.13236</td>\n",
       "      <td>1.13182</td>\n",
       "      <td>1.13218</td>\n",
       "      <td>1.13299</td>\n",
       "      <td>1.13299</td>\n",
       "      <td>1.13236</td>\n",
       "      <td>1.13243</td>\n",
       "      <td>49.910668</td>\n",
       "    </tr>\n",
       "    <tr>\n",
       "      <th>5999</th>\n",
       "      <td>2021-12-30 23:00:00+00:00</td>\n",
       "      <td>507</td>\n",
       "      <td>1.13227</td>\n",
       "      <td>1.13258</td>\n",
       "      <td>1.13190</td>\n",
       "      <td>1.13224</td>\n",
       "      <td>1.13214</td>\n",
       "      <td>1.13251</td>\n",
       "      <td>1.13183</td>\n",
       "      <td>1.13216</td>\n",
       "      <td>1.13240</td>\n",
       "      <td>1.13266</td>\n",
       "      <td>1.13198</td>\n",
       "      <td>1.13231</td>\n",
       "      <td>49.681497</td>\n",
       "    </tr>\n",
       "  </tbody>\n",
       "</table>\n",
       "</div>"
      ],
      "text/plain": [
       "                          time  volume    mid_o    mid_h    mid_l    mid_c  \\\n",
       "5995 2021-12-30 19:00:00+00:00    1063  1.13058  1.13298  1.13043  1.13274   \n",
       "5996 2021-12-30 20:00:00+00:00    1092  1.13272  1.13304  1.13185  1.13193   \n",
       "5997 2021-12-30 21:00:00+00:00     388  1.13195  1.13276  1.13194  1.13258   \n",
       "5998 2021-12-30 22:00:00+00:00     118  1.13252  1.13264  1.13222  1.13230   \n",
       "5999 2021-12-30 23:00:00+00:00     507  1.13227  1.13258  1.13190  1.13224   \n",
       "\n",
       "        bid_o    bid_h    bid_l    bid_c    ask_o    ask_h    ask_l    ask_c  \\\n",
       "5995  1.13052  1.13291  1.13036  1.13267  1.13065  1.13306  1.13049  1.13280   \n",
       "5996  1.13264  1.13297  1.13177  1.13186  1.13279  1.13311  1.13192  1.13200   \n",
       "5997  1.13188  1.13269  1.13187  1.13249  1.13202  1.13283  1.13201  1.13267   \n",
       "5998  1.13204  1.13236  1.13182  1.13218  1.13299  1.13299  1.13236  1.13243   \n",
       "5999  1.13214  1.13251  1.13183  1.13216  1.13240  1.13266  1.13198  1.13231   \n",
       "\n",
       "         RSI_14  \n",
       "5995  51.407635  \n",
       "5996  48.671929  \n",
       "5997  50.928675  \n",
       "5998  49.910668  \n",
       "5999  49.681497  "
      ]
     },
     "execution_count": 76,
     "metadata": {},
     "output_type": "execute_result"
    }
   ],
   "source": [
    "df_an.tail()"
   ]
  },
  {
   "cell_type": "code",
   "execution_count": 77,
   "id": "f3048458",
   "metadata": {},
   "outputs": [],
   "source": [
    "df_an = apply_patterns(df_an)"
   ]
  },
  {
   "cell_type": "code",
   "execution_count": 78,
   "id": "11aabd5d",
   "metadata": {},
   "outputs": [],
   "source": [
    "df_an['EMA_200'] = df_an.mid_c.ewm(span=200, min_periods=200).mean()"
   ]
  },
  {
   "cell_type": "code",
   "execution_count": 79,
   "id": "371ab9ed",
   "metadata": {},
   "outputs": [
    {
     "data": {
      "text/plain": [
       "Index(['time', 'volume', 'mid_o', 'mid_h', 'mid_l', 'mid_c', 'bid_o', 'bid_h',\n",
       "       'bid_l', 'bid_c', 'ask_o', 'ask_h', 'ask_l', 'ask_c', 'RSI_14',\n",
       "       'body_lower', 'body_upper', 'body_bottom_perc', 'body_top_perc',\n",
       "       'body_perc', 'direction', 'body_size', 'low_change', 'high_change',\n",
       "       'body_size_change', 'mid_point', 'mid_point_prev_2', 'body_size_prev',\n",
       "       'direction_prev', 'direction_prev_2', 'body_perc_prev',\n",
       "       'body_perc_prev_2', 'HANGING_MAN', 'SHOOTING_STAR', 'SPINNING_TOP',\n",
       "       'MARUBOZU', 'ENGULFING', 'TWEEZER_TOP', 'TWEEZER_BOTTOM',\n",
       "       'MORNING_STAR', 'EVENING_STAR', 'EMA_200'],\n",
       "      dtype='object')"
      ]
     },
     "execution_count": 79,
     "metadata": {},
     "output_type": "execute_result"
    }
   ],
   "source": [
    "df_an.columns"
   ]
  },
  {
   "cell_type": "code",
   "execution_count": 80,
   "id": "f56614b9",
   "metadata": {},
   "outputs": [],
   "source": [
    "our_cols = ['time', 'mid_o', 'mid_h', 'mid_l', 'mid_c',\n",
    "                'ask_c','bid_c', 'ENGULFING', 'direction', 'EMA_200', 'RSI_14' ]"
   ]
  },
  {
   "cell_type": "code",
   "execution_count": 81,
   "id": "14497190",
   "metadata": {},
   "outputs": [],
   "source": [
    "df_slim = df_an[our_cols].copy()\n",
    "df_slim.dropna(inplace=True)\n",
    "df_slim.reset_index(drop=True, inplace=True)"
   ]
  },
  {
   "cell_type": "code",
   "execution_count": 82,
   "id": "9b408edb",
   "metadata": {},
   "outputs": [
    {
     "data": {
      "text/html": [
       "<div>\n",
       "<style scoped>\n",
       "    .dataframe tbody tr th:only-of-type {\n",
       "        vertical-align: middle;\n",
       "    }\n",
       "\n",
       "    .dataframe tbody tr th {\n",
       "        vertical-align: top;\n",
       "    }\n",
       "\n",
       "    .dataframe thead th {\n",
       "        text-align: right;\n",
       "    }\n",
       "</style>\n",
       "<table border=\"1\" class=\"dataframe\">\n",
       "  <thead>\n",
       "    <tr style=\"text-align: right;\">\n",
       "      <th></th>\n",
       "      <th>time</th>\n",
       "      <th>mid_o</th>\n",
       "      <th>mid_h</th>\n",
       "      <th>mid_l</th>\n",
       "      <th>mid_c</th>\n",
       "      <th>ask_c</th>\n",
       "      <th>bid_c</th>\n",
       "      <th>ENGULFING</th>\n",
       "      <th>direction</th>\n",
       "      <th>EMA_200</th>\n",
       "      <th>RSI_14</th>\n",
       "    </tr>\n",
       "  </thead>\n",
       "  <tbody>\n",
       "    <tr>\n",
       "      <th>0</th>\n",
       "      <td>2021-01-27 05:00:00+00:00</td>\n",
       "      <td>1.21573</td>\n",
       "      <td>1.21652</td>\n",
       "      <td>1.21562</td>\n",
       "      <td>1.21632</td>\n",
       "      <td>1.21641</td>\n",
       "      <td>1.21622</td>\n",
       "      <td>False</td>\n",
       "      <td>1</td>\n",
       "      <td>1.214219</td>\n",
       "      <td>56.208275</td>\n",
       "    </tr>\n",
       "    <tr>\n",
       "      <th>1</th>\n",
       "      <td>2021-01-27 06:00:00+00:00</td>\n",
       "      <td>1.21630</td>\n",
       "      <td>1.21660</td>\n",
       "      <td>1.21588</td>\n",
       "      <td>1.21631</td>\n",
       "      <td>1.21638</td>\n",
       "      <td>1.21624</td>\n",
       "      <td>False</td>\n",
       "      <td>1</td>\n",
       "      <td>1.214243</td>\n",
       "      <td>56.124731</td>\n",
       "    </tr>\n",
       "    <tr>\n",
       "      <th>2</th>\n",
       "      <td>2021-01-27 07:00:00+00:00</td>\n",
       "      <td>1.21632</td>\n",
       "      <td>1.21632</td>\n",
       "      <td>1.21518</td>\n",
       "      <td>1.21552</td>\n",
       "      <td>1.21559</td>\n",
       "      <td>1.21545</td>\n",
       "      <td>True</td>\n",
       "      <td>-1</td>\n",
       "      <td>1.214258</td>\n",
       "      <td>49.824341</td>\n",
       "    </tr>\n",
       "    <tr>\n",
       "      <th>3</th>\n",
       "      <td>2021-01-27 08:00:00+00:00</td>\n",
       "      <td>1.21554</td>\n",
       "      <td>1.21586</td>\n",
       "      <td>1.21439</td>\n",
       "      <td>1.21482</td>\n",
       "      <td>1.21488</td>\n",
       "      <td>1.21475</td>\n",
       "      <td>False</td>\n",
       "      <td>-1</td>\n",
       "      <td>1.214264</td>\n",
       "      <td>45.003578</td>\n",
       "    </tr>\n",
       "    <tr>\n",
       "      <th>4</th>\n",
       "      <td>2021-01-27 09:00:00+00:00</td>\n",
       "      <td>1.21480</td>\n",
       "      <td>1.21489</td>\n",
       "      <td>1.21194</td>\n",
       "      <td>1.21228</td>\n",
       "      <td>1.21234</td>\n",
       "      <td>1.21221</td>\n",
       "      <td>False</td>\n",
       "      <td>-1</td>\n",
       "      <td>1.214242</td>\n",
       "      <td>32.656498</td>\n",
       "    </tr>\n",
       "  </tbody>\n",
       "</table>\n",
       "</div>"
      ],
      "text/plain": [
       "                       time    mid_o    mid_h    mid_l    mid_c    ask_c  \\\n",
       "0 2021-01-27 05:00:00+00:00  1.21573  1.21652  1.21562  1.21632  1.21641   \n",
       "1 2021-01-27 06:00:00+00:00  1.21630  1.21660  1.21588  1.21631  1.21638   \n",
       "2 2021-01-27 07:00:00+00:00  1.21632  1.21632  1.21518  1.21552  1.21559   \n",
       "3 2021-01-27 08:00:00+00:00  1.21554  1.21586  1.21439  1.21482  1.21488   \n",
       "4 2021-01-27 09:00:00+00:00  1.21480  1.21489  1.21194  1.21228  1.21234   \n",
       "\n",
       "     bid_c  ENGULFING  direction   EMA_200     RSI_14  \n",
       "0  1.21622      False          1  1.214219  56.208275  \n",
       "1  1.21624      False          1  1.214243  56.124731  \n",
       "2  1.21545       True         -1  1.214258  49.824341  \n",
       "3  1.21475      False         -1  1.214264  45.003578  \n",
       "4  1.21221      False         -1  1.214242  32.656498  "
      ]
     },
     "execution_count": 82,
     "metadata": {},
     "output_type": "execute_result"
    }
   ],
   "source": [
    "df_slim.head()"
   ]
  },
  {
   "attachments": {},
   "cell_type": "markdown",
   "id": "320cb1bb",
   "metadata": {},
   "source": [
    "### start test the strategy"
   ]
  },
  {
   "cell_type": "code",
   "execution_count": 83,
   "id": "9563015e",
   "metadata": {},
   "outputs": [],
   "source": [
    "BUY = 1\n",
    "SELL = -1\n",
    "NONE = 0\n",
    "RSI_LIMIT = 50.0\n",
    "\n",
    "def apply_signal(row):\n",
    "    if row.ENGULFING == True:\n",
    "        if row.direction == BUY and row.mid_l > row.EMA_200:\n",
    "            if row.RSI_14 > RSI_LIMIT:\n",
    "                return BUY\n",
    "        if row.direction == SELL and row.mid_h < row.EMA_200:\n",
    "            if row.RSI_14 < RSI_LIMIT:\n",
    "                return SELL\n",
    "    return NONE        "
   ]
  },
  {
   "cell_type": "code",
   "execution_count": 84,
   "id": "c881d7ee",
   "metadata": {},
   "outputs": [],
   "source": [
    "df_slim[\"SIGNAL\"] = df_slim.apply(apply_signal, axis=1)"
   ]
  },
  {
   "cell_type": "code",
   "execution_count": 85,
   "id": "a4e9aa9c",
   "metadata": {},
   "outputs": [
    {
     "data": {
      "text/plain": [
       " 0    5262\n",
       "-1     332\n",
       " 1     207\n",
       "Name: SIGNAL, dtype: int64"
      ]
     },
     "execution_count": 85,
     "metadata": {},
     "output_type": "execute_result"
    }
   ],
   "source": [
    "df_slim[\"SIGNAL\"].value_counts()"
   ]
  },
  {
   "cell_type": "code",
   "execution_count": 86,
   "id": "412972e3",
   "metadata": {},
   "outputs": [],
   "source": [
    "LOSS_FACTOR = -1.0\n",
    "PROFIT_FACTOR = 1.5\n",
    "\n",
    "def apply_take_profit(row):\n",
    "    if row.SIGNAL != NONE:\n",
    "        return (row.mid_c - row.mid_o) * 1.5 + row.mid_c\n",
    "    else:\n",
    "        return 0.0\n",
    "\n",
    "def apply_stop_loss(row):\n",
    "    if row.SIGNAL != NONE:\n",
    "        return row.mid_o\n",
    "    else:\n",
    "        return 0.0"
   ]
  },
  {
   "cell_type": "code",
   "execution_count": 87,
   "id": "b905fc6e",
   "metadata": {},
   "outputs": [],
   "source": [
    "df_slim[\"TP\"] = df_slim.apply(apply_take_profit, axis=1)\n",
    "df_slim[\"SL\"] = df_slim.apply(apply_stop_loss, axis=1)"
   ]
  },
  {
   "cell_type": "code",
   "execution_count": 88,
   "id": "fa1aef5e",
   "metadata": {},
   "outputs": [
    {
     "data": {
      "text/html": [
       "<div>\n",
       "<style scoped>\n",
       "    .dataframe tbody tr th:only-of-type {\n",
       "        vertical-align: middle;\n",
       "    }\n",
       "\n",
       "    .dataframe tbody tr th {\n",
       "        vertical-align: top;\n",
       "    }\n",
       "\n",
       "    .dataframe thead th {\n",
       "        text-align: right;\n",
       "    }\n",
       "</style>\n",
       "<table border=\"1\" class=\"dataframe\">\n",
       "  <thead>\n",
       "    <tr style=\"text-align: right;\">\n",
       "      <th></th>\n",
       "      <th>time</th>\n",
       "      <th>mid_o</th>\n",
       "      <th>mid_h</th>\n",
       "      <th>mid_l</th>\n",
       "      <th>mid_c</th>\n",
       "      <th>ask_c</th>\n",
       "      <th>bid_c</th>\n",
       "      <th>ENGULFING</th>\n",
       "      <th>direction</th>\n",
       "      <th>EMA_200</th>\n",
       "      <th>RSI_14</th>\n",
       "      <th>SIGNAL</th>\n",
       "      <th>TP</th>\n",
       "      <th>SL</th>\n",
       "    </tr>\n",
       "  </thead>\n",
       "  <tbody>\n",
       "    <tr>\n",
       "      <th>216</th>\n",
       "      <td>2021-02-09 05:00:00+00:00</td>\n",
       "      <td>1.20760</td>\n",
       "      <td>1.20808</td>\n",
       "      <td>1.20760</td>\n",
       "      <td>1.20781</td>\n",
       "      <td>1.20788</td>\n",
       "      <td>1.20774</td>\n",
       "      <td>True</td>\n",
       "      <td>1</td>\n",
       "      <td>1.205156</td>\n",
       "      <td>71.584393</td>\n",
       "      <td>1</td>\n",
       "      <td>1.208125</td>\n",
       "      <td>1.20760</td>\n",
       "    </tr>\n",
       "    <tr>\n",
       "      <th>218</th>\n",
       "      <td>2021-02-09 07:00:00+00:00</td>\n",
       "      <td>1.20773</td>\n",
       "      <td>1.20870</td>\n",
       "      <td>1.20768</td>\n",
       "      <td>1.20814</td>\n",
       "      <td>1.20820</td>\n",
       "      <td>1.20808</td>\n",
       "      <td>True</td>\n",
       "      <td>1</td>\n",
       "      <td>1.205212</td>\n",
       "      <td>72.461530</td>\n",
       "      <td>1</td>\n",
       "      <td>1.208755</td>\n",
       "      <td>1.20773</td>\n",
       "    </tr>\n",
       "    <tr>\n",
       "      <th>248</th>\n",
       "      <td>2021-02-10 13:00:00+00:00</td>\n",
       "      <td>1.21166</td>\n",
       "      <td>1.21398</td>\n",
       "      <td>1.21144</td>\n",
       "      <td>1.21286</td>\n",
       "      <td>1.21292</td>\n",
       "      <td>1.21280</td>\n",
       "      <td>True</td>\n",
       "      <td>1</td>\n",
       "      <td>1.206890</td>\n",
       "      <td>59.927244</td>\n",
       "      <td>1</td>\n",
       "      <td>1.214660</td>\n",
       "      <td>1.21166</td>\n",
       "    </tr>\n",
       "    <tr>\n",
       "      <th>250</th>\n",
       "      <td>2021-02-10 15:00:00+00:00</td>\n",
       "      <td>1.21244</td>\n",
       "      <td>1.21396</td>\n",
       "      <td>1.21232</td>\n",
       "      <td>1.21311</td>\n",
       "      <td>1.21317</td>\n",
       "      <td>1.21305</td>\n",
       "      <td>True</td>\n",
       "      <td>1</td>\n",
       "      <td>1.207008</td>\n",
       "      <td>60.336695</td>\n",
       "      <td>1</td>\n",
       "      <td>1.214115</td>\n",
       "      <td>1.21244</td>\n",
       "    </tr>\n",
       "    <tr>\n",
       "      <th>279</th>\n",
       "      <td>2021-02-11 20:00:00+00:00</td>\n",
       "      <td>1.21307</td>\n",
       "      <td>1.21375</td>\n",
       "      <td>1.21297</td>\n",
       "      <td>1.21328</td>\n",
       "      <td>1.21334</td>\n",
       "      <td>1.21322</td>\n",
       "      <td>True</td>\n",
       "      <td>1</td>\n",
       "      <td>1.208452</td>\n",
       "      <td>55.502223</td>\n",
       "      <td>1</td>\n",
       "      <td>1.213595</td>\n",
       "      <td>1.21307</td>\n",
       "    </tr>\n",
       "  </tbody>\n",
       "</table>\n",
       "</div>"
      ],
      "text/plain": [
       "                         time    mid_o    mid_h    mid_l    mid_c    ask_c  \\\n",
       "216 2021-02-09 05:00:00+00:00  1.20760  1.20808  1.20760  1.20781  1.20788   \n",
       "218 2021-02-09 07:00:00+00:00  1.20773  1.20870  1.20768  1.20814  1.20820   \n",
       "248 2021-02-10 13:00:00+00:00  1.21166  1.21398  1.21144  1.21286  1.21292   \n",
       "250 2021-02-10 15:00:00+00:00  1.21244  1.21396  1.21232  1.21311  1.21317   \n",
       "279 2021-02-11 20:00:00+00:00  1.21307  1.21375  1.21297  1.21328  1.21334   \n",
       "\n",
       "       bid_c  ENGULFING  direction   EMA_200     RSI_14  SIGNAL        TP  \\\n",
       "216  1.20774       True          1  1.205156  71.584393       1  1.208125   \n",
       "218  1.20808       True          1  1.205212  72.461530       1  1.208755   \n",
       "248  1.21280       True          1  1.206890  59.927244       1  1.214660   \n",
       "250  1.21305       True          1  1.207008  60.336695       1  1.214115   \n",
       "279  1.21322       True          1  1.208452  55.502223       1  1.213595   \n",
       "\n",
       "          SL  \n",
       "216  1.20760  \n",
       "218  1.20773  \n",
       "248  1.21166  \n",
       "250  1.21244  \n",
       "279  1.21307  "
      ]
     },
     "execution_count": 88,
     "metadata": {},
     "output_type": "execute_result"
    }
   ],
   "source": [
    "df_slim[df_slim.SIGNAL==BUY].head()"
   ]
  },
  {
   "cell_type": "code",
   "execution_count": 89,
   "id": "c8be66ff",
   "metadata": {},
   "outputs": [
    {
     "data": {
      "application/vnd.plotly.v1+json": {
       "config": {
        "plotlyServerURL": "https://plot.ly"
       },
       "data": [
        {
         "close": [
          1.21296,
          1.21278,
          1.21301,
          1.21293,
          1.21285,
          1.2089,
          1.20938,
          1.20799,
          1.20818,
          1.20756,
          1.20848,
          1.20872,
          1.20846,
          1.20686,
          1.20698,
          1.20678,
          1.20666,
          1.20568,
          1.20602,
          1.20619,
          1.20678,
          1.2068,
          1.20842,
          1.20836,
          1.20818,
          1.20756,
          1.20792,
          1.2071,
          1.20688,
          1.20868
         ],
         "decreasing": {
          "fillcolor": "#CC2E3C",
          "line": {
           "color": "#FF3A4C"
          }
         },
         "high": [
          1.21317,
          1.21333,
          1.21326,
          1.21328,
          1.2131,
          1.2131,
          1.21044,
          1.20942,
          1.20845,
          1.20887,
          1.2093,
          1.20996,
          1.20985,
          1.20872,
          1.20702,
          1.20784,
          1.20771,
          1.20712,
          1.20619,
          1.20642,
          1.20686,
          1.20687,
          1.20863,
          1.20878,
          1.20847,
          1.2083,
          1.20796,
          1.20796,
          1.20761,
          1.20874
         ],
         "increasing": {
          "fillcolor": "#24A06B",
          "line": {
           "color": "#2EC886"
          }
         },
         "line": {
          "width": 1
         },
         "low": [
          1.2126,
          1.21274,
          1.2126,
          1.2128,
          1.21218,
          1.20883,
          1.20837,
          1.20694,
          1.20726,
          1.20722,
          1.2073,
          1.20836,
          1.20798,
          1.20682,
          1.20626,
          1.20615,
          1.20656,
          1.20562,
          1.20561,
          1.20597,
          1.2061,
          1.20625,
          1.20672,
          1.20818,
          1.20798,
          1.20751,
          1.20746,
          1.20662,
          1.20642,
          1.20673
         ],
         "opacity": 1,
         "open": [
          1.21273,
          1.21294,
          1.2128,
          1.21302,
          1.21294,
          1.21283,
          1.20888,
          1.20938,
          1.20798,
          1.20818,
          1.20758,
          1.2085,
          1.20876,
          1.20847,
          1.20688,
          1.20696,
          1.20678,
          1.20664,
          1.20566,
          1.20597,
          1.20624,
          1.20676,
          1.20679,
          1.20841,
          1.20837,
          1.2082,
          1.20757,
          1.20794,
          1.20708,
          1.2069
         ],
         "type": "candlestick",
         "x": [
          "s21-02-01 03:00",
          "s21-02-01 04:00",
          "s21-02-01 05:00",
          "s21-02-01 06:00",
          "s21-02-01 07:00",
          "s21-02-01 08:00",
          "s21-02-01 09:00",
          "s21-02-01 10:00",
          "s21-02-01 11:00",
          "s21-02-01 12:00",
          "s21-02-01 13:00",
          "s21-02-01 14:00",
          "s21-02-01 15:00",
          "s21-02-01 16:00",
          "s21-02-01 17:00",
          "s21-02-01 18:00",
          "s21-02-01 19:00",
          "s21-02-01 20:00",
          "s21-02-01 21:00",
          "s21-02-01 22:00",
          "s21-02-01 23:00",
          "s21-02-02 00:00",
          "s21-02-02 01:00",
          "s21-02-02 02:00",
          "s21-02-02 03:00",
          "s21-02-02 04:00",
          "s21-02-02 05:00",
          "s21-02-02 06:00",
          "s21-02-02 07:00",
          "s21-02-02 08:00"
         ]
        },
        {
         "marker": {
          "color": "#0000FF",
          "size": 12
         },
         "mode": "markers",
         "type": "scatter",
         "x": [
          "s21-02-01 10:00",
          "s21-02-01 12:00",
          "s21-02-01 15:00",
          "s21-02-01 18:00",
          "s21-02-02 06:00"
         ],
         "y": [
          1.20799,
          1.20756,
          1.20846,
          1.20678,
          1.2071
         ]
        },
        {
         "marker": {
          "color": "#00FF00",
          "size": 12
         },
         "mode": "markers",
         "type": "scatter",
         "x": [
          "s21-02-01 10:00",
          "s21-02-01 12:00",
          "s21-02-01 15:00",
          "s21-02-01 18:00",
          "s21-02-02 06:00"
         ],
         "y": [
          1.205905,
          1.2066299999999999,
          1.2080100000000003,
          1.2065099999999997,
          1.2058400000000002
         ]
        },
        {
         "marker": {
          "color": "#FF0000",
          "size": 12
         },
         "mode": "markers",
         "type": "scatter",
         "x": [
          "s21-02-01 10:00",
          "s21-02-01 12:00",
          "s21-02-01 15:00",
          "s21-02-01 18:00",
          "s21-02-02 06:00"
         ],
         "y": [
          1.20938,
          1.20818,
          1.20876,
          1.20696,
          1.20794
         ]
        },
        {
         "line": {
          "shape": "spline",
          "width": 2
         },
         "name": "EMA_200",
         "type": "scatter",
         "x": [
          "s21-02-01 03:00",
          "s21-02-01 04:00",
          "s21-02-01 05:00",
          "s21-02-01 06:00",
          "s21-02-01 07:00",
          "s21-02-01 08:00",
          "s21-02-01 09:00",
          "s21-02-01 10:00",
          "s21-02-01 11:00",
          "s21-02-01 12:00",
          "s21-02-01 13:00",
          "s21-02-01 14:00",
          "s21-02-01 15:00",
          "s21-02-01 16:00",
          "s21-02-01 17:00",
          "s21-02-01 18:00",
          "s21-02-01 19:00",
          "s21-02-01 20:00",
          "s21-02-01 21:00",
          "s21-02-01 22:00",
          "s21-02-01 23:00",
          "s21-02-02 00:00",
          "s21-02-02 01:00",
          "s21-02-02 02:00",
          "s21-02-02 03:00",
          "s21-02-02 04:00",
          "s21-02-02 05:00",
          "s21-02-02 06:00",
          "s21-02-02 07:00",
          "s21-02-02 08:00"
         ],
         "xaxis": "x",
         "y": [
          1.2129476578742044,
          1.2129458707283578,
          1.2129465538286042,
          1.2129463776220895,
          1.2129453524463323,
          1.2129023512731514,
          1.2128649349083505,
          1.2128131854429487,
          1.2127640349421946,
          1.212708864972243,
          1.2126640623256375,
          1.2126223039186856,
          1.2125782629154713,
          1.2125177965695368,
          1.2124592750375494,
          1.2123992954415757,
          1.2123387189673476,
          1.2122684807191966,
          1.212202609187635,
          1.2121392617020026,
          1.2120828307788536,
          1.2120272368521767,
          1.2119892978052738,
          1.2119511483723124,
          1.2119115301109682,
          1.2118658399532638,
          1.2118244322128324,
          1.2117748808511135,
          1.2117235693786381,
          1.2116916815910697
         ],
         "yaxis": "y"
        },
        {
         "line": {
          "shape": "spline",
          "width": 2
         },
         "name": "RSI_14",
         "type": "scatter",
         "x": [
          "s21-02-01 03:00",
          "s21-02-01 04:00",
          "s21-02-01 05:00",
          "s21-02-01 06:00",
          "s21-02-01 07:00",
          "s21-02-01 08:00",
          "s21-02-01 09:00",
          "s21-02-01 10:00",
          "s21-02-01 11:00",
          "s21-02-01 12:00",
          "s21-02-01 13:00",
          "s21-02-01 14:00",
          "s21-02-01 15:00",
          "s21-02-01 16:00",
          "s21-02-01 17:00",
          "s21-02-01 18:00",
          "s21-02-01 19:00",
          "s21-02-01 20:00",
          "s21-02-01 21:00",
          "s21-02-01 22:00",
          "s21-02-01 23:00",
          "s21-02-02 00:00",
          "s21-02-02 01:00",
          "s21-02-02 02:00",
          "s21-02-02 03:00",
          "s21-02-02 04:00",
          "s21-02-02 05:00",
          "s21-02-02 06:00",
          "s21-02-02 07:00",
          "s21-02-02 08:00"
         ],
         "xaxis": "x",
         "y": [
          52.12829103898447,
          50.72888777287781,
          52.48417301884846,
          51.793021261879815,
          51.06877677691369,
          29.29024069802894,
          33.02786950316714,
          28.35388166529711,
          29.815954143757367,
          27.820833573540426,
          34.79340219255104,
          36.516268116345735,
          35.42430475893515,
          29.56517124108845,
          30.493714383033364,
          29.788855980318658,
          29.350484032858432,
          25.987101354132605,
          29.025876583210362,
          30.561020796202428,
          35.75473492264584,
          35.92967700608983,
          48.22735745321474,
          47.86094646236302,
          46.71429671620097,
          42.901643591148485,
          45.674192190750205,
          40.8129267545159,
          39.595296116684146,
          52.16896715999545
         ],
         "yaxis": "y2"
        }
       ],
       "layout": {
        "font": {
         "color": "#e1e1e1",
         "size": 8
        },
        "height": 250,
        "margin": {
         "b": 10,
         "l": 10,
         "r": 10,
         "t": 10
        },
        "paper_bgcolor": "#2c303c",
        "plot_bgcolor": "#2c303c",
        "template": {
         "data": {
          "bar": [
           {
            "error_x": {
             "color": "#2a3f5f"
            },
            "error_y": {
             "color": "#2a3f5f"
            },
            "marker": {
             "line": {
              "color": "#E5ECF6",
              "width": 0.5
             },
             "pattern": {
              "fillmode": "overlay",
              "size": 10,
              "solidity": 0.2
             }
            },
            "type": "bar"
           }
          ],
          "barpolar": [
           {
            "marker": {
             "line": {
              "color": "#E5ECF6",
              "width": 0.5
             },
             "pattern": {
              "fillmode": "overlay",
              "size": 10,
              "solidity": 0.2
             }
            },
            "type": "barpolar"
           }
          ],
          "carpet": [
           {
            "aaxis": {
             "endlinecolor": "#2a3f5f",
             "gridcolor": "white",
             "linecolor": "white",
             "minorgridcolor": "white",
             "startlinecolor": "#2a3f5f"
            },
            "baxis": {
             "endlinecolor": "#2a3f5f",
             "gridcolor": "white",
             "linecolor": "white",
             "minorgridcolor": "white",
             "startlinecolor": "#2a3f5f"
            },
            "type": "carpet"
           }
          ],
          "choropleth": [
           {
            "colorbar": {
             "outlinewidth": 0,
             "ticks": ""
            },
            "type": "choropleth"
           }
          ],
          "contour": [
           {
            "colorbar": {
             "outlinewidth": 0,
             "ticks": ""
            },
            "colorscale": [
             [
              0,
              "#0d0887"
             ],
             [
              0.1111111111111111,
              "#46039f"
             ],
             [
              0.2222222222222222,
              "#7201a8"
             ],
             [
              0.3333333333333333,
              "#9c179e"
             ],
             [
              0.4444444444444444,
              "#bd3786"
             ],
             [
              0.5555555555555556,
              "#d8576b"
             ],
             [
              0.6666666666666666,
              "#ed7953"
             ],
             [
              0.7777777777777778,
              "#fb9f3a"
             ],
             [
              0.8888888888888888,
              "#fdca26"
             ],
             [
              1,
              "#f0f921"
             ]
            ],
            "type": "contour"
           }
          ],
          "contourcarpet": [
           {
            "colorbar": {
             "outlinewidth": 0,
             "ticks": ""
            },
            "type": "contourcarpet"
           }
          ],
          "heatmap": [
           {
            "colorbar": {
             "outlinewidth": 0,
             "ticks": ""
            },
            "colorscale": [
             [
              0,
              "#0d0887"
             ],
             [
              0.1111111111111111,
              "#46039f"
             ],
             [
              0.2222222222222222,
              "#7201a8"
             ],
             [
              0.3333333333333333,
              "#9c179e"
             ],
             [
              0.4444444444444444,
              "#bd3786"
             ],
             [
              0.5555555555555556,
              "#d8576b"
             ],
             [
              0.6666666666666666,
              "#ed7953"
             ],
             [
              0.7777777777777778,
              "#fb9f3a"
             ],
             [
              0.8888888888888888,
              "#fdca26"
             ],
             [
              1,
              "#f0f921"
             ]
            ],
            "type": "heatmap"
           }
          ],
          "heatmapgl": [
           {
            "colorbar": {
             "outlinewidth": 0,
             "ticks": ""
            },
            "colorscale": [
             [
              0,
              "#0d0887"
             ],
             [
              0.1111111111111111,
              "#46039f"
             ],
             [
              0.2222222222222222,
              "#7201a8"
             ],
             [
              0.3333333333333333,
              "#9c179e"
             ],
             [
              0.4444444444444444,
              "#bd3786"
             ],
             [
              0.5555555555555556,
              "#d8576b"
             ],
             [
              0.6666666666666666,
              "#ed7953"
             ],
             [
              0.7777777777777778,
              "#fb9f3a"
             ],
             [
              0.8888888888888888,
              "#fdca26"
             ],
             [
              1,
              "#f0f921"
             ]
            ],
            "type": "heatmapgl"
           }
          ],
          "histogram": [
           {
            "marker": {
             "pattern": {
              "fillmode": "overlay",
              "size": 10,
              "solidity": 0.2
             }
            },
            "type": "histogram"
           }
          ],
          "histogram2d": [
           {
            "colorbar": {
             "outlinewidth": 0,
             "ticks": ""
            },
            "colorscale": [
             [
              0,
              "#0d0887"
             ],
             [
              0.1111111111111111,
              "#46039f"
             ],
             [
              0.2222222222222222,
              "#7201a8"
             ],
             [
              0.3333333333333333,
              "#9c179e"
             ],
             [
              0.4444444444444444,
              "#bd3786"
             ],
             [
              0.5555555555555556,
              "#d8576b"
             ],
             [
              0.6666666666666666,
              "#ed7953"
             ],
             [
              0.7777777777777778,
              "#fb9f3a"
             ],
             [
              0.8888888888888888,
              "#fdca26"
             ],
             [
              1,
              "#f0f921"
             ]
            ],
            "type": "histogram2d"
           }
          ],
          "histogram2dcontour": [
           {
            "colorbar": {
             "outlinewidth": 0,
             "ticks": ""
            },
            "colorscale": [
             [
              0,
              "#0d0887"
             ],
             [
              0.1111111111111111,
              "#46039f"
             ],
             [
              0.2222222222222222,
              "#7201a8"
             ],
             [
              0.3333333333333333,
              "#9c179e"
             ],
             [
              0.4444444444444444,
              "#bd3786"
             ],
             [
              0.5555555555555556,
              "#d8576b"
             ],
             [
              0.6666666666666666,
              "#ed7953"
             ],
             [
              0.7777777777777778,
              "#fb9f3a"
             ],
             [
              0.8888888888888888,
              "#fdca26"
             ],
             [
              1,
              "#f0f921"
             ]
            ],
            "type": "histogram2dcontour"
           }
          ],
          "mesh3d": [
           {
            "colorbar": {
             "outlinewidth": 0,
             "ticks": ""
            },
            "type": "mesh3d"
           }
          ],
          "parcoords": [
           {
            "line": {
             "colorbar": {
              "outlinewidth": 0,
              "ticks": ""
             }
            },
            "type": "parcoords"
           }
          ],
          "pie": [
           {
            "automargin": true,
            "type": "pie"
           }
          ],
          "scatter": [
           {
            "fillpattern": {
             "fillmode": "overlay",
             "size": 10,
             "solidity": 0.2
            },
            "type": "scatter"
           }
          ],
          "scatter3d": [
           {
            "line": {
             "colorbar": {
              "outlinewidth": 0,
              "ticks": ""
             }
            },
            "marker": {
             "colorbar": {
              "outlinewidth": 0,
              "ticks": ""
             }
            },
            "type": "scatter3d"
           }
          ],
          "scattercarpet": [
           {
            "marker": {
             "colorbar": {
              "outlinewidth": 0,
              "ticks": ""
             }
            },
            "type": "scattercarpet"
           }
          ],
          "scattergeo": [
           {
            "marker": {
             "colorbar": {
              "outlinewidth": 0,
              "ticks": ""
             }
            },
            "type": "scattergeo"
           }
          ],
          "scattergl": [
           {
            "marker": {
             "colorbar": {
              "outlinewidth": 0,
              "ticks": ""
             }
            },
            "type": "scattergl"
           }
          ],
          "scattermapbox": [
           {
            "marker": {
             "colorbar": {
              "outlinewidth": 0,
              "ticks": ""
             }
            },
            "type": "scattermapbox"
           }
          ],
          "scatterpolar": [
           {
            "marker": {
             "colorbar": {
              "outlinewidth": 0,
              "ticks": ""
             }
            },
            "type": "scatterpolar"
           }
          ],
          "scatterpolargl": [
           {
            "marker": {
             "colorbar": {
              "outlinewidth": 0,
              "ticks": ""
             }
            },
            "type": "scatterpolargl"
           }
          ],
          "scatterternary": [
           {
            "marker": {
             "colorbar": {
              "outlinewidth": 0,
              "ticks": ""
             }
            },
            "type": "scatterternary"
           }
          ],
          "surface": [
           {
            "colorbar": {
             "outlinewidth": 0,
             "ticks": ""
            },
            "colorscale": [
             [
              0,
              "#0d0887"
             ],
             [
              0.1111111111111111,
              "#46039f"
             ],
             [
              0.2222222222222222,
              "#7201a8"
             ],
             [
              0.3333333333333333,
              "#9c179e"
             ],
             [
              0.4444444444444444,
              "#bd3786"
             ],
             [
              0.5555555555555556,
              "#d8576b"
             ],
             [
              0.6666666666666666,
              "#ed7953"
             ],
             [
              0.7777777777777778,
              "#fb9f3a"
             ],
             [
              0.8888888888888888,
              "#fdca26"
             ],
             [
              1,
              "#f0f921"
             ]
            ],
            "type": "surface"
           }
          ],
          "table": [
           {
            "cells": {
             "fill": {
              "color": "#EBF0F8"
             },
             "line": {
              "color": "white"
             }
            },
            "header": {
             "fill": {
              "color": "#C8D4E3"
             },
             "line": {
              "color": "white"
             }
            },
            "type": "table"
           }
          ]
         },
         "layout": {
          "annotationdefaults": {
           "arrowcolor": "#2a3f5f",
           "arrowhead": 0,
           "arrowwidth": 1
          },
          "autotypenumbers": "strict",
          "coloraxis": {
           "colorbar": {
            "outlinewidth": 0,
            "ticks": ""
           }
          },
          "colorscale": {
           "diverging": [
            [
             0,
             "#8e0152"
            ],
            [
             0.1,
             "#c51b7d"
            ],
            [
             0.2,
             "#de77ae"
            ],
            [
             0.3,
             "#f1b6da"
            ],
            [
             0.4,
             "#fde0ef"
            ],
            [
             0.5,
             "#f7f7f7"
            ],
            [
             0.6,
             "#e6f5d0"
            ],
            [
             0.7,
             "#b8e186"
            ],
            [
             0.8,
             "#7fbc41"
            ],
            [
             0.9,
             "#4d9221"
            ],
            [
             1,
             "#276419"
            ]
           ],
           "sequential": [
            [
             0,
             "#0d0887"
            ],
            [
             0.1111111111111111,
             "#46039f"
            ],
            [
             0.2222222222222222,
             "#7201a8"
            ],
            [
             0.3333333333333333,
             "#9c179e"
            ],
            [
             0.4444444444444444,
             "#bd3786"
            ],
            [
             0.5555555555555556,
             "#d8576b"
            ],
            [
             0.6666666666666666,
             "#ed7953"
            ],
            [
             0.7777777777777778,
             "#fb9f3a"
            ],
            [
             0.8888888888888888,
             "#fdca26"
            ],
            [
             1,
             "#f0f921"
            ]
           ],
           "sequentialminus": [
            [
             0,
             "#0d0887"
            ],
            [
             0.1111111111111111,
             "#46039f"
            ],
            [
             0.2222222222222222,
             "#7201a8"
            ],
            [
             0.3333333333333333,
             "#9c179e"
            ],
            [
             0.4444444444444444,
             "#bd3786"
            ],
            [
             0.5555555555555556,
             "#d8576b"
            ],
            [
             0.6666666666666666,
             "#ed7953"
            ],
            [
             0.7777777777777778,
             "#fb9f3a"
            ],
            [
             0.8888888888888888,
             "#fdca26"
            ],
            [
             1,
             "#f0f921"
            ]
           ]
          },
          "colorway": [
           "#636efa",
           "#EF553B",
           "#00cc96",
           "#ab63fa",
           "#FFA15A",
           "#19d3f3",
           "#FF6692",
           "#B6E880",
           "#FF97FF",
           "#FECB52"
          ],
          "font": {
           "color": "#2a3f5f"
          },
          "geo": {
           "bgcolor": "white",
           "lakecolor": "white",
           "landcolor": "#E5ECF6",
           "showlakes": true,
           "showland": true,
           "subunitcolor": "white"
          },
          "hoverlabel": {
           "align": "left"
          },
          "hovermode": "closest",
          "mapbox": {
           "style": "light"
          },
          "paper_bgcolor": "white",
          "plot_bgcolor": "#E5ECF6",
          "polar": {
           "angularaxis": {
            "gridcolor": "white",
            "linecolor": "white",
            "ticks": ""
           },
           "bgcolor": "#E5ECF6",
           "radialaxis": {
            "gridcolor": "white",
            "linecolor": "white",
            "ticks": ""
           }
          },
          "scene": {
           "xaxis": {
            "backgroundcolor": "#E5ECF6",
            "gridcolor": "white",
            "gridwidth": 2,
            "linecolor": "white",
            "showbackground": true,
            "ticks": "",
            "zerolinecolor": "white"
           },
           "yaxis": {
            "backgroundcolor": "#E5ECF6",
            "gridcolor": "white",
            "gridwidth": 2,
            "linecolor": "white",
            "showbackground": true,
            "ticks": "",
            "zerolinecolor": "white"
           },
           "zaxis": {
            "backgroundcolor": "#E5ECF6",
            "gridcolor": "white",
            "gridwidth": 2,
            "linecolor": "white",
            "showbackground": true,
            "ticks": "",
            "zerolinecolor": "white"
           }
          },
          "shapedefaults": {
           "line": {
            "color": "#2a3f5f"
           }
          },
          "ternary": {
           "aaxis": {
            "gridcolor": "white",
            "linecolor": "white",
            "ticks": ""
           },
           "baxis": {
            "gridcolor": "white",
            "linecolor": "white",
            "ticks": ""
           },
           "bgcolor": "#E5ECF6",
           "caxis": {
            "gridcolor": "white",
            "linecolor": "white",
            "ticks": ""
           }
          },
          "title": {
           "x": 0.05
          },
          "xaxis": {
           "automargin": true,
           "gridcolor": "white",
           "linecolor": "white",
           "ticks": "",
           "title": {
            "standoff": 15
           },
           "zerolinecolor": "white",
           "zerolinewidth": 2
          },
          "yaxis": {
           "automargin": true,
           "gridcolor": "white",
           "linecolor": "white",
           "ticks": "",
           "title": {
            "standoff": 15
           },
           "zerolinecolor": "white",
           "zerolinewidth": 2
          }
         }
        },
        "width": 900,
        "xaxis": {
         "anchor": "y",
         "domain": [
          0,
          0.94
         ],
         "gridcolor": "#1f292f",
         "nticks": 5,
         "rangeslider": {
          "visible": false
         }
        },
        "yaxis": {
         "anchor": "x",
         "domain": [
          0,
          1
         ],
         "gridcolor": "#1f292f"
        },
        "yaxis2": {
         "anchor": "x",
         "gridcolor": "#1f292f",
         "overlaying": "y",
         "side": "right"
        }
       }
      }
     },
     "metadata": {},
     "output_type": "display_data"
    }
   ],
   "source": [
    "df_plot = df_slim.iloc[70:100]\n",
    "cp = CandlePlot(df_plot, candles=True)\n",
    "\n",
    "trades = cp.df_plot[cp.df_plot.SIGNAL != NONE]\n",
    "\n",
    "markers = ['mid_c', 'TP', 'SL']\n",
    "marker_colors = ['#0000FF', '#00FF00', '#FF0000']\n",
    "\n",
    "for i in range(3):\n",
    "    cp.fig.add_trace(go.Scatter(\n",
    "        x = trades.sTime,\n",
    "        y = trades[markers[i]],\n",
    "        mode = 'markers',\n",
    "        marker=dict(color=marker_colors[i], size=12)\n",
    "    ))\n",
    "\n",
    "cp.show_plot(line_traces=[\"EMA_200\"], sec_traces=['RSI_14'], height=250)"
   ]
  },
  {
   "cell_type": "code",
   "execution_count": 90,
   "id": "48459b4f",
   "metadata": {},
   "outputs": [],
   "source": [
    "class Trade:\n",
    "    def __init__(self, row):\n",
    "        self.running = True\n",
    "        self.start_index = row.name\n",
    "        self.start_price = row.mid_c\n",
    "        self.trigger_price = row.mid_c\n",
    "        self.SIGNAL = row.SIGNAL\n",
    "        self.TP = row.TP\n",
    "        self.SL = row.SL\n",
    "        self.result = 0.0\n",
    "        self.end_time = row.time\n",
    "        self.start_time = row.time\n",
    "        self.duration = 0\n",
    "        \n",
    "    def close_trade(self, row, result, trigger_price):\n",
    "        self.running = False\n",
    "        self.result = result\n",
    "        self.end_time = row.time\n",
    "        self.trigger_price = trigger_price\n",
    "        \n",
    "    def update(self, row):\n",
    "        self.duration += 1\n",
    "        if self.SIGNAL == BUY:\n",
    "            if row.mid_h >= self.TP:\n",
    "                self.close_trade(row, PROFIT_FACTOR, row.mid_h)\n",
    "            elif row.mid_l <= self.SL:\n",
    "                self.close_trade(row, LOSS_FACTOR, row.mid_l)\n",
    "        if self.SIGNAL == SELL:\n",
    "            if row.mid_l <= self.TP:\n",
    "                self.close_trade(row, PROFIT_FACTOR, row.mid_l)\n",
    "            elif row.mid_h >= self.SL:\n",
    "                self.close_trade(row, LOSS_FACTOR, row.mid_h)    "
   ]
  },
  {
   "cell_type": "code",
   "execution_count": 91,
   "id": "f5fa22a7",
   "metadata": {},
   "outputs": [],
   "source": [
    "open_trades = []\n",
    "closed_trades = []\n",
    "\n",
    "for index, row in df_slim.iterrows():\n",
    "    for ot in open_trades:\n",
    "        ot.update(row)\n",
    "        if ot.running == False:\n",
    "            closed_trades.append(ot)\n",
    "    open_trades = [x for x in open_trades if x.running == True]\n",
    "    \n",
    "    if row.SIGNAL != NONE:\n",
    "        open_trades.append(Trade(row))    "
   ]
  },
  {
   "cell_type": "code",
   "execution_count": 92,
   "id": "4020ad76",
   "metadata": {},
   "outputs": [],
   "source": [
    "df_results = pd.DataFrame.from_dict([vars(x) for x in closed_trades])"
   ]
  },
  {
   "cell_type": "code",
   "execution_count": 93,
   "id": "bd745bed",
   "metadata": {},
   "outputs": [
    {
     "data": {
      "text/plain": [
       "33.5"
      ]
     },
     "execution_count": 93,
     "metadata": {},
     "output_type": "execute_result"
    }
   ],
   "source": [
    "df_results.result.sum()"
   ]
  },
  {
   "attachments": {},
   "cell_type": "markdown",
   "id": "ede5eca2",
   "metadata": {},
   "source": [
    "### merge H1 and M5"
   ]
  },
  {
   "cell_type": "code",
   "execution_count": 94,
   "id": "7f6a9b79",
   "metadata": {},
   "outputs": [],
   "source": [
    "df_results.sort_values(by=\"start_index\", inplace=True)"
   ]
  },
  {
   "cell_type": "code",
   "execution_count": 95,
   "id": "0443a648",
   "metadata": {},
   "outputs": [],
   "source": [
    "df_m5 = pd.read_pickle(\"../data/EUR_USD_M5.pkl\")"
   ]
  },
  {
   "cell_type": "code",
   "execution_count": 96,
   "id": "de1da2fe",
   "metadata": {},
   "outputs": [
    {
     "data": {
      "text/plain": [
       "(73354, 14)"
      ]
     },
     "execution_count": 96,
     "metadata": {},
     "output_type": "execute_result"
    }
   ],
   "source": [
    "df_m5.shape"
   ]
  },
  {
   "cell_type": "code",
   "execution_count": 97,
   "id": "19afaaa4",
   "metadata": {},
   "outputs": [
    {
     "data": {
      "text/plain": [
       "Timestamp('2021-12-30 23:55:00+0000', tz='tzutc()')"
      ]
     },
     "execution_count": 97,
     "metadata": {},
     "output_type": "execute_result"
    }
   ],
   "source": [
    "df_m5.time.max()"
   ]
  },
  {
   "cell_type": "code",
   "execution_count": 98,
   "id": "a8b79e5b",
   "metadata": {},
   "outputs": [
    {
     "data": {
      "text/plain": [
       "Timestamp('2021-12-30 23:00:00+0000', tz='tzutc()')"
      ]
     },
     "execution_count": 98,
     "metadata": {},
     "output_type": "execute_result"
    }
   ],
   "source": [
    "df_raw.time.max()"
   ]
  },
  {
   "cell_type": "code",
   "execution_count": 99,
   "id": "9f63ad63",
   "metadata": {},
   "outputs": [],
   "source": [
    "from dateutil import parser"
   ]
  },
  {
   "cell_type": "code",
   "execution_count": 100,
   "id": "e2d4d185",
   "metadata": {},
   "outputs": [],
   "source": [
    "time_min = parser.parse(\"2021-12-15T10:00:00Z\")\n",
    "time_max = parser.parse(\"2021-12-15T11:00:00Z\")\n",
    "df_m5_s = df_m5[(df_m5.time>=time_min)&(df_m5.time<=time_max)]\n",
    "df_raw_s = df_raw[(df_raw.time>=time_min)&(df_raw.time<=time_max)]"
   ]
  },
  {
   "cell_type": "code",
   "execution_count": 101,
   "id": "0f7ff7a3",
   "metadata": {},
   "outputs": [
    {
     "data": {
      "text/html": [
       "<div>\n",
       "<style scoped>\n",
       "    .dataframe tbody tr th:only-of-type {\n",
       "        vertical-align: middle;\n",
       "    }\n",
       "\n",
       "    .dataframe tbody tr th {\n",
       "        vertical-align: top;\n",
       "    }\n",
       "\n",
       "    .dataframe thead th {\n",
       "        text-align: right;\n",
       "    }\n",
       "</style>\n",
       "<table border=\"1\" class=\"dataframe\">\n",
       "  <thead>\n",
       "    <tr style=\"text-align: right;\">\n",
       "      <th></th>\n",
       "      <th>time</th>\n",
       "      <th>volume</th>\n",
       "      <th>mid_o</th>\n",
       "      <th>mid_h</th>\n",
       "      <th>mid_l</th>\n",
       "      <th>mid_c</th>\n",
       "      <th>bid_o</th>\n",
       "      <th>bid_h</th>\n",
       "      <th>bid_l</th>\n",
       "      <th>bid_c</th>\n",
       "      <th>ask_o</th>\n",
       "      <th>ask_h</th>\n",
       "      <th>ask_l</th>\n",
       "      <th>ask_c</th>\n",
       "    </tr>\n",
       "  </thead>\n",
       "  <tbody>\n",
       "    <tr>\n",
       "      <th>70035</th>\n",
       "      <td>2021-12-15 10:00:00+00:00</td>\n",
       "      <td>208</td>\n",
       "      <td>1.12716</td>\n",
       "      <td>1.12745</td>\n",
       "      <td>1.12709</td>\n",
       "      <td>1.12734</td>\n",
       "      <td>1.12708</td>\n",
       "      <td>1.12738</td>\n",
       "      <td>1.12702</td>\n",
       "      <td>1.12727</td>\n",
       "      <td>1.12723</td>\n",
       "      <td>1.12752</td>\n",
       "      <td>1.12715</td>\n",
       "      <td>1.12742</td>\n",
       "    </tr>\n",
       "    <tr>\n",
       "      <th>70036</th>\n",
       "      <td>2021-12-15 10:05:00+00:00</td>\n",
       "      <td>132</td>\n",
       "      <td>1.12733</td>\n",
       "      <td>1.12754</td>\n",
       "      <td>1.12726</td>\n",
       "      <td>1.12746</td>\n",
       "      <td>1.12726</td>\n",
       "      <td>1.12747</td>\n",
       "      <td>1.12719</td>\n",
       "      <td>1.12739</td>\n",
       "      <td>1.12740</td>\n",
       "      <td>1.12760</td>\n",
       "      <td>1.12733</td>\n",
       "      <td>1.12752</td>\n",
       "    </tr>\n",
       "    <tr>\n",
       "      <th>70037</th>\n",
       "      <td>2021-12-15 10:10:00+00:00</td>\n",
       "      <td>166</td>\n",
       "      <td>1.12744</td>\n",
       "      <td>1.12752</td>\n",
       "      <td>1.12732</td>\n",
       "      <td>1.12746</td>\n",
       "      <td>1.12737</td>\n",
       "      <td>1.12745</td>\n",
       "      <td>1.12725</td>\n",
       "      <td>1.12739</td>\n",
       "      <td>1.12750</td>\n",
       "      <td>1.12760</td>\n",
       "      <td>1.12739</td>\n",
       "      <td>1.12753</td>\n",
       "    </tr>\n",
       "    <tr>\n",
       "      <th>70038</th>\n",
       "      <td>2021-12-15 10:15:00+00:00</td>\n",
       "      <td>138</td>\n",
       "      <td>1.12744</td>\n",
       "      <td>1.12770</td>\n",
       "      <td>1.12740</td>\n",
       "      <td>1.12761</td>\n",
       "      <td>1.12737</td>\n",
       "      <td>1.12763</td>\n",
       "      <td>1.12733</td>\n",
       "      <td>1.12754</td>\n",
       "      <td>1.12752</td>\n",
       "      <td>1.12776</td>\n",
       "      <td>1.12747</td>\n",
       "      <td>1.12768</td>\n",
       "    </tr>\n",
       "    <tr>\n",
       "      <th>70039</th>\n",
       "      <td>2021-12-15 10:20:00+00:00</td>\n",
       "      <td>252</td>\n",
       "      <td>1.12760</td>\n",
       "      <td>1.12762</td>\n",
       "      <td>1.12712</td>\n",
       "      <td>1.12712</td>\n",
       "      <td>1.12753</td>\n",
       "      <td>1.12756</td>\n",
       "      <td>1.12705</td>\n",
       "      <td>1.12705</td>\n",
       "      <td>1.12767</td>\n",
       "      <td>1.12769</td>\n",
       "      <td>1.12719</td>\n",
       "      <td>1.12719</td>\n",
       "    </tr>\n",
       "    <tr>\n",
       "      <th>70040</th>\n",
       "      <td>2021-12-15 10:25:00+00:00</td>\n",
       "      <td>198</td>\n",
       "      <td>1.12711</td>\n",
       "      <td>1.12726</td>\n",
       "      <td>1.12695</td>\n",
       "      <td>1.12695</td>\n",
       "      <td>1.12704</td>\n",
       "      <td>1.12719</td>\n",
       "      <td>1.12688</td>\n",
       "      <td>1.12688</td>\n",
       "      <td>1.12718</td>\n",
       "      <td>1.12733</td>\n",
       "      <td>1.12702</td>\n",
       "      <td>1.12702</td>\n",
       "    </tr>\n",
       "    <tr>\n",
       "      <th>70041</th>\n",
       "      <td>2021-12-15 10:30:00+00:00</td>\n",
       "      <td>142</td>\n",
       "      <td>1.12696</td>\n",
       "      <td>1.12698</td>\n",
       "      <td>1.12680</td>\n",
       "      <td>1.12696</td>\n",
       "      <td>1.12689</td>\n",
       "      <td>1.12691</td>\n",
       "      <td>1.12674</td>\n",
       "      <td>1.12690</td>\n",
       "      <td>1.12703</td>\n",
       "      <td>1.12706</td>\n",
       "      <td>1.12686</td>\n",
       "      <td>1.12703</td>\n",
       "    </tr>\n",
       "    <tr>\n",
       "      <th>70042</th>\n",
       "      <td>2021-12-15 10:35:00+00:00</td>\n",
       "      <td>121</td>\n",
       "      <td>1.12698</td>\n",
       "      <td>1.12712</td>\n",
       "      <td>1.12698</td>\n",
       "      <td>1.12700</td>\n",
       "      <td>1.12691</td>\n",
       "      <td>1.12705</td>\n",
       "      <td>1.12691</td>\n",
       "      <td>1.12693</td>\n",
       "      <td>1.12704</td>\n",
       "      <td>1.12718</td>\n",
       "      <td>1.12704</td>\n",
       "      <td>1.12706</td>\n",
       "    </tr>\n",
       "    <tr>\n",
       "      <th>70043</th>\n",
       "      <td>2021-12-15 10:40:00+00:00</td>\n",
       "      <td>206</td>\n",
       "      <td>1.12698</td>\n",
       "      <td>1.12707</td>\n",
       "      <td>1.12651</td>\n",
       "      <td>1.12656</td>\n",
       "      <td>1.12692</td>\n",
       "      <td>1.12700</td>\n",
       "      <td>1.12644</td>\n",
       "      <td>1.12649</td>\n",
       "      <td>1.12705</td>\n",
       "      <td>1.12714</td>\n",
       "      <td>1.12658</td>\n",
       "      <td>1.12663</td>\n",
       "    </tr>\n",
       "    <tr>\n",
       "      <th>70044</th>\n",
       "      <td>2021-12-15 10:45:00+00:00</td>\n",
       "      <td>165</td>\n",
       "      <td>1.12655</td>\n",
       "      <td>1.12668</td>\n",
       "      <td>1.12645</td>\n",
       "      <td>1.12654</td>\n",
       "      <td>1.12648</td>\n",
       "      <td>1.12661</td>\n",
       "      <td>1.12638</td>\n",
       "      <td>1.12648</td>\n",
       "      <td>1.12662</td>\n",
       "      <td>1.12675</td>\n",
       "      <td>1.12652</td>\n",
       "      <td>1.12661</td>\n",
       "    </tr>\n",
       "    <tr>\n",
       "      <th>70045</th>\n",
       "      <td>2021-12-15 10:50:00+00:00</td>\n",
       "      <td>125</td>\n",
       "      <td>1.12653</td>\n",
       "      <td>1.12653</td>\n",
       "      <td>1.12634</td>\n",
       "      <td>1.12640</td>\n",
       "      <td>1.12646</td>\n",
       "      <td>1.12646</td>\n",
       "      <td>1.12627</td>\n",
       "      <td>1.12633</td>\n",
       "      <td>1.12660</td>\n",
       "      <td>1.12660</td>\n",
       "      <td>1.12640</td>\n",
       "      <td>1.12648</td>\n",
       "    </tr>\n",
       "    <tr>\n",
       "      <th>70046</th>\n",
       "      <td>2021-12-15 10:55:00+00:00</td>\n",
       "      <td>185</td>\n",
       "      <td>1.12642</td>\n",
       "      <td>1.12678</td>\n",
       "      <td>1.12634</td>\n",
       "      <td>1.12673</td>\n",
       "      <td>1.12635</td>\n",
       "      <td>1.12672</td>\n",
       "      <td>1.12627</td>\n",
       "      <td>1.12666</td>\n",
       "      <td>1.12650</td>\n",
       "      <td>1.12685</td>\n",
       "      <td>1.12640</td>\n",
       "      <td>1.12680</td>\n",
       "    </tr>\n",
       "    <tr>\n",
       "      <th>70047</th>\n",
       "      <td>2021-12-15 11:00:00+00:00</td>\n",
       "      <td>202</td>\n",
       "      <td>1.12674</td>\n",
       "      <td>1.12674</td>\n",
       "      <td>1.12643</td>\n",
       "      <td>1.12644</td>\n",
       "      <td>1.12667</td>\n",
       "      <td>1.12667</td>\n",
       "      <td>1.12636</td>\n",
       "      <td>1.12638</td>\n",
       "      <td>1.12681</td>\n",
       "      <td>1.12681</td>\n",
       "      <td>1.12650</td>\n",
       "      <td>1.12651</td>\n",
       "    </tr>\n",
       "  </tbody>\n",
       "</table>\n",
       "</div>"
      ],
      "text/plain": [
       "                           time  volume    mid_o    mid_h    mid_l    mid_c  \\\n",
       "70035 2021-12-15 10:00:00+00:00     208  1.12716  1.12745  1.12709  1.12734   \n",
       "70036 2021-12-15 10:05:00+00:00     132  1.12733  1.12754  1.12726  1.12746   \n",
       "70037 2021-12-15 10:10:00+00:00     166  1.12744  1.12752  1.12732  1.12746   \n",
       "70038 2021-12-15 10:15:00+00:00     138  1.12744  1.12770  1.12740  1.12761   \n",
       "70039 2021-12-15 10:20:00+00:00     252  1.12760  1.12762  1.12712  1.12712   \n",
       "70040 2021-12-15 10:25:00+00:00     198  1.12711  1.12726  1.12695  1.12695   \n",
       "70041 2021-12-15 10:30:00+00:00     142  1.12696  1.12698  1.12680  1.12696   \n",
       "70042 2021-12-15 10:35:00+00:00     121  1.12698  1.12712  1.12698  1.12700   \n",
       "70043 2021-12-15 10:40:00+00:00     206  1.12698  1.12707  1.12651  1.12656   \n",
       "70044 2021-12-15 10:45:00+00:00     165  1.12655  1.12668  1.12645  1.12654   \n",
       "70045 2021-12-15 10:50:00+00:00     125  1.12653  1.12653  1.12634  1.12640   \n",
       "70046 2021-12-15 10:55:00+00:00     185  1.12642  1.12678  1.12634  1.12673   \n",
       "70047 2021-12-15 11:00:00+00:00     202  1.12674  1.12674  1.12643  1.12644   \n",
       "\n",
       "         bid_o    bid_h    bid_l    bid_c    ask_o    ask_h    ask_l    ask_c  \n",
       "70035  1.12708  1.12738  1.12702  1.12727  1.12723  1.12752  1.12715  1.12742  \n",
       "70036  1.12726  1.12747  1.12719  1.12739  1.12740  1.12760  1.12733  1.12752  \n",
       "70037  1.12737  1.12745  1.12725  1.12739  1.12750  1.12760  1.12739  1.12753  \n",
       "70038  1.12737  1.12763  1.12733  1.12754  1.12752  1.12776  1.12747  1.12768  \n",
       "70039  1.12753  1.12756  1.12705  1.12705  1.12767  1.12769  1.12719  1.12719  \n",
       "70040  1.12704  1.12719  1.12688  1.12688  1.12718  1.12733  1.12702  1.12702  \n",
       "70041  1.12689  1.12691  1.12674  1.12690  1.12703  1.12706  1.12686  1.12703  \n",
       "70042  1.12691  1.12705  1.12691  1.12693  1.12704  1.12718  1.12704  1.12706  \n",
       "70043  1.12692  1.12700  1.12644  1.12649  1.12705  1.12714  1.12658  1.12663  \n",
       "70044  1.12648  1.12661  1.12638  1.12648  1.12662  1.12675  1.12652  1.12661  \n",
       "70045  1.12646  1.12646  1.12627  1.12633  1.12660  1.12660  1.12640  1.12648  \n",
       "70046  1.12635  1.12672  1.12627  1.12666  1.12650  1.12685  1.12640  1.12680  \n",
       "70047  1.12667  1.12667  1.12636  1.12638  1.12681  1.12681  1.12650  1.12651  "
      ]
     },
     "execution_count": 101,
     "metadata": {},
     "output_type": "execute_result"
    }
   ],
   "source": [
    "df_m5_s"
   ]
  },
  {
   "cell_type": "code",
   "execution_count": 102,
   "id": "5fc89088",
   "metadata": {},
   "outputs": [
    {
     "data": {
      "text/html": [
       "<div>\n",
       "<style scoped>\n",
       "    .dataframe tbody tr th:only-of-type {\n",
       "        vertical-align: middle;\n",
       "    }\n",
       "\n",
       "    .dataframe tbody tr th {\n",
       "        vertical-align: top;\n",
       "    }\n",
       "\n",
       "    .dataframe thead th {\n",
       "        text-align: right;\n",
       "    }\n",
       "</style>\n",
       "<table border=\"1\" class=\"dataframe\">\n",
       "  <thead>\n",
       "    <tr style=\"text-align: right;\">\n",
       "      <th></th>\n",
       "      <th>time</th>\n",
       "      <th>volume</th>\n",
       "      <th>mid_o</th>\n",
       "      <th>mid_h</th>\n",
       "      <th>mid_l</th>\n",
       "      <th>mid_c</th>\n",
       "      <th>bid_o</th>\n",
       "      <th>bid_h</th>\n",
       "      <th>bid_l</th>\n",
       "      <th>bid_c</th>\n",
       "      <th>ask_o</th>\n",
       "      <th>ask_h</th>\n",
       "      <th>ask_l</th>\n",
       "      <th>ask_c</th>\n",
       "    </tr>\n",
       "  </thead>\n",
       "  <tbody>\n",
       "    <tr>\n",
       "      <th>5864</th>\n",
       "      <td>2021-12-15 10:00:00+00:00</td>\n",
       "      <td>2038</td>\n",
       "      <td>1.12716</td>\n",
       "      <td>1.1277</td>\n",
       "      <td>1.12634</td>\n",
       "      <td>1.12673</td>\n",
       "      <td>1.12708</td>\n",
       "      <td>1.12763</td>\n",
       "      <td>1.12627</td>\n",
       "      <td>1.12666</td>\n",
       "      <td>1.12723</td>\n",
       "      <td>1.12776</td>\n",
       "      <td>1.12640</td>\n",
       "      <td>1.12680</td>\n",
       "    </tr>\n",
       "    <tr>\n",
       "      <th>5865</th>\n",
       "      <td>2021-12-15 11:00:00+00:00</td>\n",
       "      <td>2138</td>\n",
       "      <td>1.12674</td>\n",
       "      <td>1.1270</td>\n",
       "      <td>1.12626</td>\n",
       "      <td>1.12698</td>\n",
       "      <td>1.12667</td>\n",
       "      <td>1.12693</td>\n",
       "      <td>1.12619</td>\n",
       "      <td>1.12691</td>\n",
       "      <td>1.12681</td>\n",
       "      <td>1.12706</td>\n",
       "      <td>1.12631</td>\n",
       "      <td>1.12705</td>\n",
       "    </tr>\n",
       "  </tbody>\n",
       "</table>\n",
       "</div>"
      ],
      "text/plain": [
       "                          time  volume    mid_o   mid_h    mid_l    mid_c  \\\n",
       "5864 2021-12-15 10:00:00+00:00    2038  1.12716  1.1277  1.12634  1.12673   \n",
       "5865 2021-12-15 11:00:00+00:00    2138  1.12674  1.1270  1.12626  1.12698   \n",
       "\n",
       "        bid_o    bid_h    bid_l    bid_c    ask_o    ask_h    ask_l    ask_c  \n",
       "5864  1.12708  1.12763  1.12627  1.12666  1.12723  1.12776  1.12640  1.12680  \n",
       "5865  1.12667  1.12693  1.12619  1.12691  1.12681  1.12706  1.12631  1.12705  "
      ]
     },
     "execution_count": 102,
     "metadata": {},
     "output_type": "execute_result"
    }
   ],
   "source": [
    "df_raw_s"
   ]
  },
  {
   "cell_type": "code",
   "execution_count": 103,
   "id": "301f614e",
   "metadata": {},
   "outputs": [],
   "source": [
    "df_m5_slim = df_m5[['time','mid_h', 'mid_l' ]].copy()"
   ]
  },
  {
   "cell_type": "code",
   "execution_count": 104,
   "id": "94d93243",
   "metadata": {},
   "outputs": [
    {
     "data": {
      "text/html": [
       "<div>\n",
       "<style scoped>\n",
       "    .dataframe tbody tr th:only-of-type {\n",
       "        vertical-align: middle;\n",
       "    }\n",
       "\n",
       "    .dataframe tbody tr th {\n",
       "        vertical-align: top;\n",
       "    }\n",
       "\n",
       "    .dataframe thead th {\n",
       "        text-align: right;\n",
       "    }\n",
       "</style>\n",
       "<table border=\"1\" class=\"dataframe\">\n",
       "  <thead>\n",
       "    <tr style=\"text-align: right;\">\n",
       "      <th></th>\n",
       "      <th>time</th>\n",
       "      <th>mid_h</th>\n",
       "      <th>mid_l</th>\n",
       "    </tr>\n",
       "  </thead>\n",
       "  <tbody>\n",
       "    <tr>\n",
       "      <th>0</th>\n",
       "      <td>2021-01-07 00:00:00+00:00</td>\n",
       "      <td>1.23390</td>\n",
       "      <td>1.23332</td>\n",
       "    </tr>\n",
       "    <tr>\n",
       "      <th>1</th>\n",
       "      <td>2021-01-07 00:05:00+00:00</td>\n",
       "      <td>1.23379</td>\n",
       "      <td>1.23340</td>\n",
       "    </tr>\n",
       "    <tr>\n",
       "      <th>2</th>\n",
       "      <td>2021-01-07 00:10:00+00:00</td>\n",
       "      <td>1.23408</td>\n",
       "      <td>1.23366</td>\n",
       "    </tr>\n",
       "    <tr>\n",
       "      <th>3</th>\n",
       "      <td>2021-01-07 00:15:00+00:00</td>\n",
       "      <td>1.23444</td>\n",
       "      <td>1.23398</td>\n",
       "    </tr>\n",
       "    <tr>\n",
       "      <th>4</th>\n",
       "      <td>2021-01-07 00:20:00+00:00</td>\n",
       "      <td>1.23432</td>\n",
       "      <td>1.23382</td>\n",
       "    </tr>\n",
       "  </tbody>\n",
       "</table>\n",
       "</div>"
      ],
      "text/plain": [
       "                       time    mid_h    mid_l\n",
       "0 2021-01-07 00:00:00+00:00  1.23390  1.23332\n",
       "1 2021-01-07 00:05:00+00:00  1.23379  1.23340\n",
       "2 2021-01-07 00:10:00+00:00  1.23408  1.23366\n",
       "3 2021-01-07 00:15:00+00:00  1.23444  1.23398\n",
       "4 2021-01-07 00:20:00+00:00  1.23432  1.23382"
      ]
     },
     "execution_count": 104,
     "metadata": {},
     "output_type": "execute_result"
    }
   ],
   "source": [
    "df_m5_slim.head()"
   ]
  },
  {
   "cell_type": "code",
   "execution_count": 105,
   "id": "a534aa58",
   "metadata": {},
   "outputs": [],
   "source": [
    "df_signals = df_slim[df_slim.SIGNAL != NONE].copy() "
   ]
  },
  {
   "cell_type": "code",
   "execution_count": 106,
   "id": "a634cf5b",
   "metadata": {},
   "outputs": [],
   "source": [
    "df_signals['m5_start'] = [x + dt.timedelta(hours=1) for x in df_signals.time]\n",
    "# if buy at 10 am according to H1 candle, need the 5M candle in next hour"
   ]
  },
  {
   "cell_type": "code",
   "execution_count": 107,
   "id": "a87b9c39",
   "metadata": {},
   "outputs": [],
   "source": [
    "df_signals['start_index_h1'] = df_signals.index"
   ]
  },
  {
   "cell_type": "code",
   "execution_count": 108,
   "id": "55b9d019",
   "metadata": {},
   "outputs": [
    {
     "data": {
      "text/html": [
       "<div>\n",
       "<style scoped>\n",
       "    .dataframe tbody tr th:only-of-type {\n",
       "        vertical-align: middle;\n",
       "    }\n",
       "\n",
       "    .dataframe tbody tr th {\n",
       "        vertical-align: top;\n",
       "    }\n",
       "\n",
       "    .dataframe thead th {\n",
       "        text-align: right;\n",
       "    }\n",
       "</style>\n",
       "<table border=\"1\" class=\"dataframe\">\n",
       "  <thead>\n",
       "    <tr style=\"text-align: right;\">\n",
       "      <th></th>\n",
       "      <th>time</th>\n",
       "      <th>mid_o</th>\n",
       "      <th>mid_h</th>\n",
       "      <th>mid_l</th>\n",
       "      <th>mid_c</th>\n",
       "      <th>ask_c</th>\n",
       "      <th>bid_c</th>\n",
       "      <th>ENGULFING</th>\n",
       "      <th>direction</th>\n",
       "      <th>EMA_200</th>\n",
       "      <th>RSI_14</th>\n",
       "      <th>SIGNAL</th>\n",
       "      <th>TP</th>\n",
       "      <th>SL</th>\n",
       "      <th>m5_start</th>\n",
       "      <th>start_index_h1</th>\n",
       "    </tr>\n",
       "  </thead>\n",
       "  <tbody>\n",
       "    <tr>\n",
       "      <th>6</th>\n",
       "      <td>2021-01-27 11:00:00+00:00</td>\n",
       "      <td>1.21311</td>\n",
       "      <td>1.21312</td>\n",
       "      <td>1.21135</td>\n",
       "      <td>1.21166</td>\n",
       "      <td>1.21173</td>\n",
       "      <td>1.21159</td>\n",
       "      <td>True</td>\n",
       "      <td>-1</td>\n",
       "      <td>1.214199</td>\n",
       "      <td>33.130880</td>\n",
       "      <td>-1</td>\n",
       "      <td>1.209485</td>\n",
       "      <td>1.21311</td>\n",
       "      <td>2021-01-27 12:00:00+00:00</td>\n",
       "      <td>6</td>\n",
       "    </tr>\n",
       "    <tr>\n",
       "      <th>9</th>\n",
       "      <td>2021-01-27 14:00:00+00:00</td>\n",
       "      <td>1.21113</td>\n",
       "      <td>1.21125</td>\n",
       "      <td>1.20585</td>\n",
       "      <td>1.20684</td>\n",
       "      <td>1.20690</td>\n",
       "      <td>1.20677</td>\n",
       "      <td>True</td>\n",
       "      <td>-1</td>\n",
       "      <td>1.214043</td>\n",
       "      <td>22.321149</td>\n",
       "      <td>-1</td>\n",
       "      <td>1.200405</td>\n",
       "      <td>1.21113</td>\n",
       "      <td>2021-01-27 15:00:00+00:00</td>\n",
       "      <td>9</td>\n",
       "    </tr>\n",
       "    <tr>\n",
       "      <th>14</th>\n",
       "      <td>2021-01-27 19:00:00+00:00</td>\n",
       "      <td>1.21202</td>\n",
       "      <td>1.21290</td>\n",
       "      <td>1.20980</td>\n",
       "      <td>1.21001</td>\n",
       "      <td>1.21008</td>\n",
       "      <td>1.20994</td>\n",
       "      <td>True</td>\n",
       "      <td>-1</td>\n",
       "      <td>1.213853</td>\n",
       "      <td>40.266493</td>\n",
       "      <td>-1</td>\n",
       "      <td>1.206995</td>\n",
       "      <td>1.21202</td>\n",
       "      <td>2021-01-27 20:00:00+00:00</td>\n",
       "      <td>14</td>\n",
       "    </tr>\n",
       "    <tr>\n",
       "      <th>30</th>\n",
       "      <td>2021-01-28 11:00:00+00:00</td>\n",
       "      <td>1.21088</td>\n",
       "      <td>1.21116</td>\n",
       "      <td>1.20959</td>\n",
       "      <td>1.21023</td>\n",
       "      <td>1.21030</td>\n",
       "      <td>1.21016</td>\n",
       "      <td>True</td>\n",
       "      <td>-1</td>\n",
       "      <td>1.213232</td>\n",
       "      <td>46.831223</td>\n",
       "      <td>-1</td>\n",
       "      <td>1.209255</td>\n",
       "      <td>1.21088</td>\n",
       "      <td>2021-01-28 12:00:00+00:00</td>\n",
       "      <td>30</td>\n",
       "    </tr>\n",
       "    <tr>\n",
       "      <th>45</th>\n",
       "      <td>2021-01-29 02:00:00+00:00</td>\n",
       "      <td>1.21086</td>\n",
       "      <td>1.21092</td>\n",
       "      <td>1.21022</td>\n",
       "      <td>1.21044</td>\n",
       "      <td>1.21051</td>\n",
       "      <td>1.21037</td>\n",
       "      <td>True</td>\n",
       "      <td>-1</td>\n",
       "      <td>1.213045</td>\n",
       "      <td>43.060255</td>\n",
       "      <td>-1</td>\n",
       "      <td>1.209810</td>\n",
       "      <td>1.21086</td>\n",
       "      <td>2021-01-29 03:00:00+00:00</td>\n",
       "      <td>45</td>\n",
       "    </tr>\n",
       "  </tbody>\n",
       "</table>\n",
       "</div>"
      ],
      "text/plain": [
       "                        time    mid_o    mid_h    mid_l    mid_c    ask_c  \\\n",
       "6  2021-01-27 11:00:00+00:00  1.21311  1.21312  1.21135  1.21166  1.21173   \n",
       "9  2021-01-27 14:00:00+00:00  1.21113  1.21125  1.20585  1.20684  1.20690   \n",
       "14 2021-01-27 19:00:00+00:00  1.21202  1.21290  1.20980  1.21001  1.21008   \n",
       "30 2021-01-28 11:00:00+00:00  1.21088  1.21116  1.20959  1.21023  1.21030   \n",
       "45 2021-01-29 02:00:00+00:00  1.21086  1.21092  1.21022  1.21044  1.21051   \n",
       "\n",
       "      bid_c  ENGULFING  direction   EMA_200     RSI_14  SIGNAL        TP  \\\n",
       "6   1.21159       True         -1  1.214199  33.130880      -1  1.209485   \n",
       "9   1.20677       True         -1  1.214043  22.321149      -1  1.200405   \n",
       "14  1.20994       True         -1  1.213853  40.266493      -1  1.206995   \n",
       "30  1.21016       True         -1  1.213232  46.831223      -1  1.209255   \n",
       "45  1.21037       True         -1  1.213045  43.060255      -1  1.209810   \n",
       "\n",
       "         SL                  m5_start  start_index_h1  \n",
       "6   1.21311 2021-01-27 12:00:00+00:00               6  \n",
       "9   1.21113 2021-01-27 15:00:00+00:00               9  \n",
       "14  1.21202 2021-01-27 20:00:00+00:00              14  \n",
       "30  1.21088 2021-01-28 12:00:00+00:00              30  \n",
       "45  1.21086 2021-01-29 03:00:00+00:00              45  "
      ]
     },
     "execution_count": 108,
     "metadata": {},
     "output_type": "execute_result"
    }
   ],
   "source": [
    "df_signals.head()"
   ]
  },
  {
   "cell_type": "code",
   "execution_count": 109,
   "id": "78d349b1",
   "metadata": {},
   "outputs": [
    {
     "data": {
      "text/plain": [
       "Index(['time', 'mid_o', 'mid_h', 'mid_l', 'mid_c', 'ask_c', 'bid_c',\n",
       "       'ENGULFING', 'direction', 'EMA_200', 'RSI_14', 'SIGNAL', 'TP', 'SL',\n",
       "       'm5_start', 'start_index_h1'],\n",
       "      dtype='object')"
      ]
     },
     "execution_count": 109,
     "metadata": {},
     "output_type": "execute_result"
    }
   ],
   "source": [
    "df_signals.columns"
   ]
  },
  {
   "cell_type": "code",
   "execution_count": 110,
   "id": "d16475b2",
   "metadata": {},
   "outputs": [],
   "source": [
    "df_signals.drop(['time', 'mid_o', 'mid_h', 'mid_l', 'ask_c', 'bid_c',\n",
    "                'ENGULFING', 'EMA_200', 'RSI_14', 'direction'], axis=1, inplace=True)"
   ]
  },
  {
   "cell_type": "code",
   "execution_count": 111,
   "id": "5924a24c",
   "metadata": {},
   "outputs": [
    {
     "data": {
      "text/html": [
       "<div>\n",
       "<style scoped>\n",
       "    .dataframe tbody tr th:only-of-type {\n",
       "        vertical-align: middle;\n",
       "    }\n",
       "\n",
       "    .dataframe tbody tr th {\n",
       "        vertical-align: top;\n",
       "    }\n",
       "\n",
       "    .dataframe thead th {\n",
       "        text-align: right;\n",
       "    }\n",
       "</style>\n",
       "<table border=\"1\" class=\"dataframe\">\n",
       "  <thead>\n",
       "    <tr style=\"text-align: right;\">\n",
       "      <th></th>\n",
       "      <th>mid_c</th>\n",
       "      <th>SIGNAL</th>\n",
       "      <th>TP</th>\n",
       "      <th>SL</th>\n",
       "      <th>m5_start</th>\n",
       "      <th>start_index_h1</th>\n",
       "    </tr>\n",
       "  </thead>\n",
       "  <tbody>\n",
       "    <tr>\n",
       "      <th>6</th>\n",
       "      <td>1.21166</td>\n",
       "      <td>-1</td>\n",
       "      <td>1.209485</td>\n",
       "      <td>1.21311</td>\n",
       "      <td>2021-01-27 12:00:00+00:00</td>\n",
       "      <td>6</td>\n",
       "    </tr>\n",
       "    <tr>\n",
       "      <th>9</th>\n",
       "      <td>1.20684</td>\n",
       "      <td>-1</td>\n",
       "      <td>1.200405</td>\n",
       "      <td>1.21113</td>\n",
       "      <td>2021-01-27 15:00:00+00:00</td>\n",
       "      <td>9</td>\n",
       "    </tr>\n",
       "    <tr>\n",
       "      <th>14</th>\n",
       "      <td>1.21001</td>\n",
       "      <td>-1</td>\n",
       "      <td>1.206995</td>\n",
       "      <td>1.21202</td>\n",
       "      <td>2021-01-27 20:00:00+00:00</td>\n",
       "      <td>14</td>\n",
       "    </tr>\n",
       "    <tr>\n",
       "      <th>30</th>\n",
       "      <td>1.21023</td>\n",
       "      <td>-1</td>\n",
       "      <td>1.209255</td>\n",
       "      <td>1.21088</td>\n",
       "      <td>2021-01-28 12:00:00+00:00</td>\n",
       "      <td>30</td>\n",
       "    </tr>\n",
       "    <tr>\n",
       "      <th>45</th>\n",
       "      <td>1.21044</td>\n",
       "      <td>-1</td>\n",
       "      <td>1.209810</td>\n",
       "      <td>1.21086</td>\n",
       "      <td>2021-01-29 03:00:00+00:00</td>\n",
       "      <td>45</td>\n",
       "    </tr>\n",
       "  </tbody>\n",
       "</table>\n",
       "</div>"
      ],
      "text/plain": [
       "      mid_c  SIGNAL        TP       SL                  m5_start  \\\n",
       "6   1.21166      -1  1.209485  1.21311 2021-01-27 12:00:00+00:00   \n",
       "9   1.20684      -1  1.200405  1.21113 2021-01-27 15:00:00+00:00   \n",
       "14  1.21001      -1  1.206995  1.21202 2021-01-27 20:00:00+00:00   \n",
       "30  1.21023      -1  1.209255  1.21088 2021-01-28 12:00:00+00:00   \n",
       "45  1.21044      -1  1.209810  1.21086 2021-01-29 03:00:00+00:00   \n",
       "\n",
       "    start_index_h1  \n",
       "6                6  \n",
       "9                9  \n",
       "14              14  \n",
       "30              30  \n",
       "45              45  "
      ]
     },
     "execution_count": 111,
     "metadata": {},
     "output_type": "execute_result"
    }
   ],
   "source": [
    "df_signals.head()"
   ]
  },
  {
   "cell_type": "code",
   "execution_count": 112,
   "id": "8d3db758",
   "metadata": {},
   "outputs": [],
   "source": [
    "df_signals.rename(columns={\n",
    "    'mid_c' : 'start_price',\n",
    "    'm5_start' : 'time'\n",
    "}, inplace=True)"
   ]
  },
  {
   "cell_type": "code",
   "execution_count": 113,
   "id": "aec9d5ae",
   "metadata": {},
   "outputs": [
    {
     "data": {
      "text/html": [
       "<div>\n",
       "<style scoped>\n",
       "    .dataframe tbody tr th:only-of-type {\n",
       "        vertical-align: middle;\n",
       "    }\n",
       "\n",
       "    .dataframe tbody tr th {\n",
       "        vertical-align: top;\n",
       "    }\n",
       "\n",
       "    .dataframe thead th {\n",
       "        text-align: right;\n",
       "    }\n",
       "</style>\n",
       "<table border=\"1\" class=\"dataframe\">\n",
       "  <thead>\n",
       "    <tr style=\"text-align: right;\">\n",
       "      <th></th>\n",
       "      <th>start_price</th>\n",
       "      <th>SIGNAL</th>\n",
       "      <th>TP</th>\n",
       "      <th>SL</th>\n",
       "      <th>time</th>\n",
       "      <th>start_index_h1</th>\n",
       "    </tr>\n",
       "  </thead>\n",
       "  <tbody>\n",
       "    <tr>\n",
       "      <th>6</th>\n",
       "      <td>1.21166</td>\n",
       "      <td>-1</td>\n",
       "      <td>1.209485</td>\n",
       "      <td>1.21311</td>\n",
       "      <td>2021-01-27 12:00:00+00:00</td>\n",
       "      <td>6</td>\n",
       "    </tr>\n",
       "    <tr>\n",
       "      <th>9</th>\n",
       "      <td>1.20684</td>\n",
       "      <td>-1</td>\n",
       "      <td>1.200405</td>\n",
       "      <td>1.21113</td>\n",
       "      <td>2021-01-27 15:00:00+00:00</td>\n",
       "      <td>9</td>\n",
       "    </tr>\n",
       "  </tbody>\n",
       "</table>\n",
       "</div>"
      ],
      "text/plain": [
       "   start_price  SIGNAL        TP       SL                      time  \\\n",
       "6      1.21166      -1  1.209485  1.21311 2021-01-27 12:00:00+00:00   \n",
       "9      1.20684      -1  1.200405  1.21113 2021-01-27 15:00:00+00:00   \n",
       "\n",
       "   start_index_h1  \n",
       "6               6  \n",
       "9               9  "
      ]
     },
     "execution_count": 113,
     "metadata": {},
     "output_type": "execute_result"
    }
   ],
   "source": [
    "df_signals.head(2)"
   ]
  },
  {
   "cell_type": "code",
   "execution_count": 114,
   "id": "ae7ca4af",
   "metadata": {},
   "outputs": [
    {
     "data": {
      "text/html": [
       "<div>\n",
       "<style scoped>\n",
       "    .dataframe tbody tr th:only-of-type {\n",
       "        vertical-align: middle;\n",
       "    }\n",
       "\n",
       "    .dataframe tbody tr th {\n",
       "        vertical-align: top;\n",
       "    }\n",
       "\n",
       "    .dataframe thead th {\n",
       "        text-align: right;\n",
       "    }\n",
       "</style>\n",
       "<table border=\"1\" class=\"dataframe\">\n",
       "  <thead>\n",
       "    <tr style=\"text-align: right;\">\n",
       "      <th></th>\n",
       "      <th>time</th>\n",
       "      <th>mid_h</th>\n",
       "      <th>mid_l</th>\n",
       "    </tr>\n",
       "  </thead>\n",
       "  <tbody>\n",
       "    <tr>\n",
       "      <th>0</th>\n",
       "      <td>2021-01-07 00:00:00+00:00</td>\n",
       "      <td>1.23390</td>\n",
       "      <td>1.23332</td>\n",
       "    </tr>\n",
       "    <tr>\n",
       "      <th>1</th>\n",
       "      <td>2021-01-07 00:05:00+00:00</td>\n",
       "      <td>1.23379</td>\n",
       "      <td>1.23340</td>\n",
       "    </tr>\n",
       "  </tbody>\n",
       "</table>\n",
       "</div>"
      ],
      "text/plain": [
       "                       time    mid_h    mid_l\n",
       "0 2021-01-07 00:00:00+00:00  1.23390  1.23332\n",
       "1 2021-01-07 00:05:00+00:00  1.23379  1.23340"
      ]
     },
     "execution_count": 114,
     "metadata": {},
     "output_type": "execute_result"
    }
   ],
   "source": [
    "df_m5_slim.head(2)"
   ]
  },
  {
   "cell_type": "code",
   "execution_count": 120,
   "id": "48ffdab0",
   "metadata": {},
   "outputs": [],
   "source": [
    "merged = pd.merge(left=df_m5_slim, right=df_signals, on='time', how='left')"
   ]
  },
  {
   "cell_type": "code",
   "execution_count": 121,
   "id": "e82a939b",
   "metadata": {},
   "outputs": [],
   "source": [
    "merged.fillna(0, inplace=True)"
   ]
  },
  {
   "cell_type": "code",
   "execution_count": 122,
   "id": "4b9fac68",
   "metadata": {},
   "outputs": [],
   "source": [
    "merged.SIGNAL = merged.SIGNAL.astype(int)\n",
    "merged.start_index_h1 = merged.start_index_h1.astype(int)"
   ]
  },
  {
   "cell_type": "code",
   "execution_count": 123,
   "id": "d6b724e3",
   "metadata": {},
   "outputs": [
    {
     "data": {
      "text/html": [
       "<div>\n",
       "<style scoped>\n",
       "    .dataframe tbody tr th:only-of-type {\n",
       "        vertical-align: middle;\n",
       "    }\n",
       "\n",
       "    .dataframe tbody tr th {\n",
       "        vertical-align: top;\n",
       "    }\n",
       "\n",
       "    .dataframe thead th {\n",
       "        text-align: right;\n",
       "    }\n",
       "</style>\n",
       "<table border=\"1\" class=\"dataframe\">\n",
       "  <thead>\n",
       "    <tr style=\"text-align: right;\">\n",
       "      <th></th>\n",
       "      <th>time</th>\n",
       "      <th>mid_h</th>\n",
       "      <th>mid_l</th>\n",
       "      <th>start_price</th>\n",
       "      <th>SIGNAL</th>\n",
       "      <th>TP</th>\n",
       "      <th>SL</th>\n",
       "      <th>start_index_h1</th>\n",
       "    </tr>\n",
       "  </thead>\n",
       "  <tbody>\n",
       "    <tr>\n",
       "      <th>0</th>\n",
       "      <td>2021-01-07 00:00:00+00:00</td>\n",
       "      <td>1.23390</td>\n",
       "      <td>1.23332</td>\n",
       "      <td>0.0</td>\n",
       "      <td>0</td>\n",
       "      <td>0.0</td>\n",
       "      <td>0.0</td>\n",
       "      <td>0</td>\n",
       "    </tr>\n",
       "    <tr>\n",
       "      <th>1</th>\n",
       "      <td>2021-01-07 00:05:00+00:00</td>\n",
       "      <td>1.23379</td>\n",
       "      <td>1.23340</td>\n",
       "      <td>0.0</td>\n",
       "      <td>0</td>\n",
       "      <td>0.0</td>\n",
       "      <td>0.0</td>\n",
       "      <td>0</td>\n",
       "    </tr>\n",
       "    <tr>\n",
       "      <th>2</th>\n",
       "      <td>2021-01-07 00:10:00+00:00</td>\n",
       "      <td>1.23408</td>\n",
       "      <td>1.23366</td>\n",
       "      <td>0.0</td>\n",
       "      <td>0</td>\n",
       "      <td>0.0</td>\n",
       "      <td>0.0</td>\n",
       "      <td>0</td>\n",
       "    </tr>\n",
       "    <tr>\n",
       "      <th>3</th>\n",
       "      <td>2021-01-07 00:15:00+00:00</td>\n",
       "      <td>1.23444</td>\n",
       "      <td>1.23398</td>\n",
       "      <td>0.0</td>\n",
       "      <td>0</td>\n",
       "      <td>0.0</td>\n",
       "      <td>0.0</td>\n",
       "      <td>0</td>\n",
       "    </tr>\n",
       "    <tr>\n",
       "      <th>4</th>\n",
       "      <td>2021-01-07 00:20:00+00:00</td>\n",
       "      <td>1.23432</td>\n",
       "      <td>1.23382</td>\n",
       "      <td>0.0</td>\n",
       "      <td>0</td>\n",
       "      <td>0.0</td>\n",
       "      <td>0.0</td>\n",
       "      <td>0</td>\n",
       "    </tr>\n",
       "  </tbody>\n",
       "</table>\n",
       "</div>"
      ],
      "text/plain": [
       "                       time    mid_h    mid_l  start_price  SIGNAL   TP   SL  \\\n",
       "0 2021-01-07 00:00:00+00:00  1.23390  1.23332          0.0       0  0.0  0.0   \n",
       "1 2021-01-07 00:05:00+00:00  1.23379  1.23340          0.0       0  0.0  0.0   \n",
       "2 2021-01-07 00:10:00+00:00  1.23408  1.23366          0.0       0  0.0  0.0   \n",
       "3 2021-01-07 00:15:00+00:00  1.23444  1.23398          0.0       0  0.0  0.0   \n",
       "4 2021-01-07 00:20:00+00:00  1.23432  1.23382          0.0       0  0.0  0.0   \n",
       "\n",
       "   start_index_h1  \n",
       "0               0  \n",
       "1               0  \n",
       "2               0  \n",
       "3               0  \n",
       "4               0  "
      ]
     },
     "execution_count": 123,
     "metadata": {},
     "output_type": "execute_result"
    }
   ],
   "source": [
    "merged.head()"
   ]
  },
  {
   "cell_type": "code",
   "execution_count": 124,
   "id": "21750564",
   "metadata": {},
   "outputs": [],
   "source": [
    "class TradeM5:\n",
    "    def __init__(self, row):\n",
    "        self.running = True\n",
    "        self.start_index_m5 = row.name\n",
    "        self.start_index_h1 = row.start_index_h1\n",
    "        self.start_price = row.start_price\n",
    "        self.trigger_price = row.start_price\n",
    "        self.SIGNAL = row.SIGNAL\n",
    "        self.TP = row.TP\n",
    "        self.SL = row.SL\n",
    "        self.result = 0.0\n",
    "        self.end_time = row.time\n",
    "        self.start_time = row.time\n",
    "        self.duration = 1\n",
    "        \n",
    "    def close_trade(self, row, result, trigger_price):\n",
    "        self.running = False\n",
    "        self.result = result\n",
    "        self.end_time = row.time\n",
    "        self.trigger_price = trigger_price\n",
    "        \n",
    "    def update(self, row):\n",
    "        self.duration += 1\n",
    "        if self.SIGNAL == BUY:\n",
    "            if row.mid_h >= self.TP:\n",
    "                self.close_trade(row, PROFIT_FACTOR, row.mid_h)\n",
    "            elif row.mid_l <= self.SL:\n",
    "                self.close_trade(row, LOSS_FACTOR, row.mid_l)\n",
    "        if self.SIGNAL == SELL:\n",
    "            if row.mid_l <= self.TP:\n",
    "                self.close_trade(row, PROFIT_FACTOR, row.mid_l)\n",
    "            elif row.mid_h >= self.SL:\n",
    "                self.close_trade(row, LOSS_FACTOR, row.mid_h)   "
   ]
  },
  {
   "cell_type": "code",
   "execution_count": 125,
   "id": "9899d481",
   "metadata": {},
   "outputs": [],
   "source": [
    "open_trades_m5 = []\n",
    "closed_trades_m5 = []\n",
    "\n",
    "for index, row in merged.iterrows():\n",
    "    for ot in open_trades_m5:\n",
    "        ot.update(row)\n",
    "        if ot.running == False:\n",
    "            closed_trades_m5.append(ot)\n",
    "    open_trades_m5 = [x for x in open_trades_m5 if x.running == True]\n",
    "    \n",
    "    if row.SIGNAL != NONE:\n",
    "        open_trades_m5.append(TradeM5(row))   "
   ]
  },
  {
   "cell_type": "code",
   "execution_count": 126,
   "id": "0bb7407d",
   "metadata": {},
   "outputs": [],
   "source": [
    "df_res_m5 = pd.DataFrame.from_dict([vars(x) for x in closed_trades_m5])"
   ]
  },
  {
   "cell_type": "code",
   "execution_count": 127,
   "id": "356f448c",
   "metadata": {},
   "outputs": [
    {
     "data": {
      "text/html": [
       "<div>\n",
       "<style scoped>\n",
       "    .dataframe tbody tr th:only-of-type {\n",
       "        vertical-align: middle;\n",
       "    }\n",
       "\n",
       "    .dataframe tbody tr th {\n",
       "        vertical-align: top;\n",
       "    }\n",
       "\n",
       "    .dataframe thead th {\n",
       "        text-align: right;\n",
       "    }\n",
       "</style>\n",
       "<table border=\"1\" class=\"dataframe\">\n",
       "  <thead>\n",
       "    <tr style=\"text-align: right;\">\n",
       "      <th></th>\n",
       "      <th>running</th>\n",
       "      <th>start_index_m5</th>\n",
       "      <th>start_index_h1</th>\n",
       "      <th>start_price</th>\n",
       "      <th>trigger_price</th>\n",
       "      <th>SIGNAL</th>\n",
       "      <th>TP</th>\n",
       "      <th>SL</th>\n",
       "      <th>result</th>\n",
       "      <th>end_time</th>\n",
       "      <th>start_time</th>\n",
       "      <th>duration</th>\n",
       "    </tr>\n",
       "  </thead>\n",
       "  <tbody>\n",
       "    <tr>\n",
       "      <th>0</th>\n",
       "      <td>False</td>\n",
       "      <td>4157</td>\n",
       "      <td>6</td>\n",
       "      <td>1.21166</td>\n",
       "      <td>1.20898</td>\n",
       "      <td>-1</td>\n",
       "      <td>1.209485</td>\n",
       "      <td>1.21311</td>\n",
       "      <td>1.5</td>\n",
       "      <td>2021-01-27 14:30:00+00:00</td>\n",
       "      <td>2021-01-27 12:00:00+00:00</td>\n",
       "      <td>31</td>\n",
       "    </tr>\n",
       "    <tr>\n",
       "      <th>1</th>\n",
       "      <td>False</td>\n",
       "      <td>4193</td>\n",
       "      <td>9</td>\n",
       "      <td>1.20684</td>\n",
       "      <td>1.21156</td>\n",
       "      <td>-1</td>\n",
       "      <td>1.200405</td>\n",
       "      <td>1.21113</td>\n",
       "      <td>-1.0</td>\n",
       "      <td>2021-01-27 17:40:00+00:00</td>\n",
       "      <td>2021-01-27 15:00:00+00:00</td>\n",
       "      <td>33</td>\n",
       "    </tr>\n",
       "    <tr>\n",
       "      <th>2</th>\n",
       "      <td>False</td>\n",
       "      <td>4444</td>\n",
       "      <td>30</td>\n",
       "      <td>1.21023</td>\n",
       "      <td>1.21103</td>\n",
       "      <td>-1</td>\n",
       "      <td>1.209255</td>\n",
       "      <td>1.21088</td>\n",
       "      <td>-1.0</td>\n",
       "      <td>2021-01-28 12:10:00+00:00</td>\n",
       "      <td>2021-01-28 12:00:00+00:00</td>\n",
       "      <td>3</td>\n",
       "    </tr>\n",
       "    <tr>\n",
       "      <th>3</th>\n",
       "      <td>False</td>\n",
       "      <td>4253</td>\n",
       "      <td>14</td>\n",
       "      <td>1.21001</td>\n",
       "      <td>1.21309</td>\n",
       "      <td>-1</td>\n",
       "      <td>1.206995</td>\n",
       "      <td>1.21202</td>\n",
       "      <td>-1.0</td>\n",
       "      <td>2021-01-28 13:55:00+00:00</td>\n",
       "      <td>2021-01-27 20:00:00+00:00</td>\n",
       "      <td>215</td>\n",
       "    </tr>\n",
       "    <tr>\n",
       "      <th>4</th>\n",
       "      <td>False</td>\n",
       "      <td>4624</td>\n",
       "      <td>45</td>\n",
       "      <td>1.21044</td>\n",
       "      <td>1.20980</td>\n",
       "      <td>-1</td>\n",
       "      <td>1.209810</td>\n",
       "      <td>1.21086</td>\n",
       "      <td>1.5</td>\n",
       "      <td>2021-01-29 03:40:00+00:00</td>\n",
       "      <td>2021-01-29 03:00:00+00:00</td>\n",
       "      <td>9</td>\n",
       "    </tr>\n",
       "  </tbody>\n",
       "</table>\n",
       "</div>"
      ],
      "text/plain": [
       "   running  start_index_m5  start_index_h1  start_price  trigger_price  \\\n",
       "0    False            4157               6      1.21166        1.20898   \n",
       "1    False            4193               9      1.20684        1.21156   \n",
       "2    False            4444              30      1.21023        1.21103   \n",
       "3    False            4253              14      1.21001        1.21309   \n",
       "4    False            4624              45      1.21044        1.20980   \n",
       "\n",
       "   SIGNAL        TP       SL  result                  end_time  \\\n",
       "0      -1  1.209485  1.21311     1.5 2021-01-27 14:30:00+00:00   \n",
       "1      -1  1.200405  1.21113    -1.0 2021-01-27 17:40:00+00:00   \n",
       "2      -1  1.209255  1.21088    -1.0 2021-01-28 12:10:00+00:00   \n",
       "3      -1  1.206995  1.21202    -1.0 2021-01-28 13:55:00+00:00   \n",
       "4      -1  1.209810  1.21086     1.5 2021-01-29 03:40:00+00:00   \n",
       "\n",
       "                 start_time  duration  \n",
       "0 2021-01-27 12:00:00+00:00        31  \n",
       "1 2021-01-27 15:00:00+00:00        33  \n",
       "2 2021-01-28 12:00:00+00:00         3  \n",
       "3 2021-01-27 20:00:00+00:00       215  \n",
       "4 2021-01-29 03:00:00+00:00         9  "
      ]
     },
     "execution_count": 127,
     "metadata": {},
     "output_type": "execute_result"
    }
   ],
   "source": [
    "df_res_m5.head()"
   ]
  },
  {
   "cell_type": "code",
   "execution_count": 128,
   "id": "8f4fb66c",
   "metadata": {},
   "outputs": [
    {
     "data": {
      "text/plain": [
       "-16.0"
      ]
     },
     "execution_count": 128,
     "metadata": {},
     "output_type": "execute_result"
    }
   ],
   "source": [
    "df_res_m5.result.sum()"
   ]
  }
 ],
 "metadata": {
  "kernelspec": {
   "display_name": "Python 3 (ipykernel)",
   "language": "python",
   "name": "python3"
  },
  "language_info": {
   "codemirror_mode": {
    "name": "ipython",
    "version": 3
   },
   "file_extension": ".py",
   "mimetype": "text/x-python",
   "name": "python",
   "nbconvert_exporter": "python",
   "pygments_lexer": "ipython3",
   "version": "3.10.1"
  }
 },
 "nbformat": 4,
 "nbformat_minor": 5
}
