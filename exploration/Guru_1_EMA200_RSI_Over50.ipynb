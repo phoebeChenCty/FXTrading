{
 "cells": [
  {
   "cell_type": "code",
   "execution_count": 1,
   "id": "4565eb6e",
   "metadata": {},
   "outputs": [],
   "source": [
    "import sys\n",
    "sys.path.append(\"../\")"
   ]
  },
  {
   "cell_type": "code",
   "execution_count": 2,
   "id": "d780955e",
   "metadata": {},
   "outputs": [],
   "source": [
    "import pandas as pd\n",
    "import plotly.graph_objects as go\n",
    "from technicals.indicators import RSI\n",
    "from technicals.patterns import apply_patterns\n",
    "from plotting import CandlePlot"
   ]
  },
  {
   "cell_type": "code",
   "execution_count": 3,
   "id": "c353641e",
   "metadata": {},
   "outputs": [],
   "source": [
    "df_raw = pd.read_pickle(\"../data/EUR_USD_H1.pkl\")"
   ]
  },
  {
   "cell_type": "code",
   "execution_count": 4,
   "id": "344ef1b8",
   "metadata": {},
   "outputs": [
    {
     "data": {
      "text/plain": [
       "(4000, 14)"
      ]
     },
     "execution_count": 4,
     "metadata": {},
     "output_type": "execute_result"
    }
   ],
   "source": [
    "df_raw.shape"
   ]
  },
  {
   "cell_type": "code",
   "execution_count": 5,
   "id": "058c9ff5",
   "metadata": {},
   "outputs": [],
   "source": [
    "df_an = df_raw.copy()#df_raw.iloc[-6000:].copy()\n",
    "df_an.reset_index(drop=True, inplace=True)"
   ]
  },
  {
   "cell_type": "code",
   "execution_count": 6,
   "id": "03287e0e",
   "metadata": {},
   "outputs": [
    {
     "data": {
      "text/plain": [
       "(4000, 14)"
      ]
     },
     "execution_count": 6,
     "metadata": {},
     "output_type": "execute_result"
    }
   ],
   "source": [
    "df_an.shape"
   ]
  },
  {
   "cell_type": "code",
   "execution_count": 7,
   "id": "f7423ca8",
   "metadata": {},
   "outputs": [],
   "source": [
    "df_an = RSI(df_an)"
   ]
  },
  {
   "cell_type": "code",
   "execution_count": 8,
   "id": "9be51f8d",
   "metadata": {},
   "outputs": [
    {
     "data": {
      "text/html": [
       "<div>\n",
       "<style scoped>\n",
       "    .dataframe tbody tr th:only-of-type {\n",
       "        vertical-align: middle;\n",
       "    }\n",
       "\n",
       "    .dataframe tbody tr th {\n",
       "        vertical-align: top;\n",
       "    }\n",
       "\n",
       "    .dataframe thead th {\n",
       "        text-align: right;\n",
       "    }\n",
       "</style>\n",
       "<table border=\"1\" class=\"dataframe\">\n",
       "  <thead>\n",
       "    <tr style=\"text-align: right;\">\n",
       "      <th></th>\n",
       "      <th>time</th>\n",
       "      <th>volume</th>\n",
       "      <th>mid_o</th>\n",
       "      <th>mid_h</th>\n",
       "      <th>mid_l</th>\n",
       "      <th>mid_c</th>\n",
       "      <th>bid_o</th>\n",
       "      <th>bid_h</th>\n",
       "      <th>bid_l</th>\n",
       "      <th>bid_c</th>\n",
       "      <th>ask_o</th>\n",
       "      <th>ask_h</th>\n",
       "      <th>ask_l</th>\n",
       "      <th>ask_c</th>\n",
       "      <th>RSI_14</th>\n",
       "    </tr>\n",
       "  </thead>\n",
       "  <tbody>\n",
       "    <tr>\n",
       "      <th>3995</th>\n",
       "      <td>2023-04-02 21:00:00+00:00</td>\n",
       "      <td>211</td>\n",
       "      <td>1.08416</td>\n",
       "      <td>1.08443</td>\n",
       "      <td>1.08404</td>\n",
       "      <td>1.08415</td>\n",
       "      <td>1.08391</td>\n",
       "      <td>1.08427</td>\n",
       "      <td>1.08361</td>\n",
       "      <td>1.08372</td>\n",
       "      <td>1.08440</td>\n",
       "      <td>1.08470</td>\n",
       "      <td>1.08420</td>\n",
       "      <td>1.08458</td>\n",
       "      <td>33.941409</td>\n",
       "    </tr>\n",
       "    <tr>\n",
       "      <th>3996</th>\n",
       "      <td>2023-04-02 22:00:00+00:00</td>\n",
       "      <td>3892</td>\n",
       "      <td>1.08415</td>\n",
       "      <td>1.08425</td>\n",
       "      <td>1.08052</td>\n",
       "      <td>1.08196</td>\n",
       "      <td>1.08370</td>\n",
       "      <td>1.08399</td>\n",
       "      <td>1.08042</td>\n",
       "      <td>1.08186</td>\n",
       "      <td>1.08460</td>\n",
       "      <td>1.08475</td>\n",
       "      <td>1.08062</td>\n",
       "      <td>1.08205</td>\n",
       "      <td>27.678999</td>\n",
       "    </tr>\n",
       "    <tr>\n",
       "      <th>3997</th>\n",
       "      <td>2023-04-02 23:00:00+00:00</td>\n",
       "      <td>2906</td>\n",
       "      <td>1.08195</td>\n",
       "      <td>1.08231</td>\n",
       "      <td>1.08012</td>\n",
       "      <td>1.08026</td>\n",
       "      <td>1.08185</td>\n",
       "      <td>1.08224</td>\n",
       "      <td>1.08004</td>\n",
       "      <td>1.08018</td>\n",
       "      <td>1.08205</td>\n",
       "      <td>1.08239</td>\n",
       "      <td>1.08020</td>\n",
       "      <td>1.08035</td>\n",
       "      <td>23.980250</td>\n",
       "    </tr>\n",
       "    <tr>\n",
       "      <th>3998</th>\n",
       "      <td>2023-04-03 00:00:00+00:00</td>\n",
       "      <td>3934</td>\n",
       "      <td>1.08027</td>\n",
       "      <td>1.08148</td>\n",
       "      <td>1.07987</td>\n",
       "      <td>1.08139</td>\n",
       "      <td>1.08017</td>\n",
       "      <td>1.08139</td>\n",
       "      <td>1.07979</td>\n",
       "      <td>1.08132</td>\n",
       "      <td>1.08037</td>\n",
       "      <td>1.08156</td>\n",
       "      <td>1.07995</td>\n",
       "      <td>1.08146</td>\n",
       "      <td>30.617227</td>\n",
       "    </tr>\n",
       "    <tr>\n",
       "      <th>3999</th>\n",
       "      <td>2023-04-03 01:00:00+00:00</td>\n",
       "      <td>4183</td>\n",
       "      <td>1.08138</td>\n",
       "      <td>1.08170</td>\n",
       "      <td>1.08028</td>\n",
       "      <td>1.08076</td>\n",
       "      <td>1.08132</td>\n",
       "      <td>1.08162</td>\n",
       "      <td>1.08021</td>\n",
       "      <td>1.08069</td>\n",
       "      <td>1.08145</td>\n",
       "      <td>1.08177</td>\n",
       "      <td>1.08036</td>\n",
       "      <td>1.08084</td>\n",
       "      <td>29.092234</td>\n",
       "    </tr>\n",
       "  </tbody>\n",
       "</table>\n",
       "</div>"
      ],
      "text/plain": [
       "                          time  volume    mid_o    mid_h    mid_l    mid_c  \\\n",
       "3995 2023-04-02 21:00:00+00:00     211  1.08416  1.08443  1.08404  1.08415   \n",
       "3996 2023-04-02 22:00:00+00:00    3892  1.08415  1.08425  1.08052  1.08196   \n",
       "3997 2023-04-02 23:00:00+00:00    2906  1.08195  1.08231  1.08012  1.08026   \n",
       "3998 2023-04-03 00:00:00+00:00    3934  1.08027  1.08148  1.07987  1.08139   \n",
       "3999 2023-04-03 01:00:00+00:00    4183  1.08138  1.08170  1.08028  1.08076   \n",
       "\n",
       "        bid_o    bid_h    bid_l    bid_c    ask_o    ask_h    ask_l    ask_c  \\\n",
       "3995  1.08391  1.08427  1.08361  1.08372  1.08440  1.08470  1.08420  1.08458   \n",
       "3996  1.08370  1.08399  1.08042  1.08186  1.08460  1.08475  1.08062  1.08205   \n",
       "3997  1.08185  1.08224  1.08004  1.08018  1.08205  1.08239  1.08020  1.08035   \n",
       "3998  1.08017  1.08139  1.07979  1.08132  1.08037  1.08156  1.07995  1.08146   \n",
       "3999  1.08132  1.08162  1.08021  1.08069  1.08145  1.08177  1.08036  1.08084   \n",
       "\n",
       "         RSI_14  \n",
       "3995  33.941409  \n",
       "3996  27.678999  \n",
       "3997  23.980250  \n",
       "3998  30.617227  \n",
       "3999  29.092234  "
      ]
     },
     "execution_count": 8,
     "metadata": {},
     "output_type": "execute_result"
    }
   ],
   "source": [
    "df_an.tail()"
   ]
  },
  {
   "cell_type": "code",
   "execution_count": 9,
   "id": "f3048458",
   "metadata": {},
   "outputs": [],
   "source": [
    "df_an = apply_patterns(df_an)"
   ]
  },
  {
   "cell_type": "code",
   "execution_count": 10,
   "id": "11aabd5d",
   "metadata": {},
   "outputs": [],
   "source": [
    "df_an['EMA_200'] = df_an.mid_c.ewm(span=200, min_periods=200).mean()"
   ]
  },
  {
   "cell_type": "code",
   "execution_count": 11,
   "id": "371ab9ed",
   "metadata": {},
   "outputs": [
    {
     "data": {
      "text/plain": [
       "Index(['time', 'volume', 'mid_o', 'mid_h', 'mid_l', 'mid_c', 'bid_o', 'bid_h',\n",
       "       'bid_l', 'bid_c', 'ask_o', 'ask_h', 'ask_l', 'ask_c', 'RSI_14',\n",
       "       'body_lower', 'body_upper', 'body_bottom_perc', 'body_top_perc',\n",
       "       'body_perc', 'direction', 'body_size', 'low_change', 'high_change',\n",
       "       'body_size_change', 'mid_point', 'mid_point_prev_2', 'body_size_prev',\n",
       "       'direction_prev', 'direction_prev_2', 'body_perc_prev',\n",
       "       'body_perc_prev_2', 'HANGING_MAN', 'SHOOTING_STAR', 'SPINNING_TOP',\n",
       "       'MARUBOZU', 'ENGULFING', 'TWEEZER_TOP', 'TWEEZER_BOTTOM',\n",
       "       'MORNING_STAR', 'EVENING_STAR', 'EMA_200'],\n",
       "      dtype='object')"
      ]
     },
     "execution_count": 11,
     "metadata": {},
     "output_type": "execute_result"
    }
   ],
   "source": [
    "df_an.columns"
   ]
  },
  {
   "cell_type": "code",
   "execution_count": 12,
   "id": "f56614b9",
   "metadata": {},
   "outputs": [],
   "source": [
    "our_cols = ['time', 'mid_o', 'mid_h', 'mid_l', 'mid_c',\n",
    "                'ask_c','bid_c', 'ENGULFING', 'direction', 'EMA_200', 'RSI_14' ]"
   ]
  },
  {
   "cell_type": "code",
   "execution_count": 13,
   "id": "14497190",
   "metadata": {},
   "outputs": [],
   "source": [
    "df_slim = df_an[our_cols].copy()\n",
    "df_slim.dropna(inplace=True)\n",
    "df_slim.reset_index(drop=True, inplace=True)"
   ]
  },
  {
   "cell_type": "code",
   "execution_count": 14,
   "id": "9b408edb",
   "metadata": {},
   "outputs": [
    {
     "data": {
      "text/html": [
       "<div>\n",
       "<style scoped>\n",
       "    .dataframe tbody tr th:only-of-type {\n",
       "        vertical-align: middle;\n",
       "    }\n",
       "\n",
       "    .dataframe tbody tr th {\n",
       "        vertical-align: top;\n",
       "    }\n",
       "\n",
       "    .dataframe thead th {\n",
       "        text-align: right;\n",
       "    }\n",
       "</style>\n",
       "<table border=\"1\" class=\"dataframe\">\n",
       "  <thead>\n",
       "    <tr style=\"text-align: right;\">\n",
       "      <th></th>\n",
       "      <th>time</th>\n",
       "      <th>mid_o</th>\n",
       "      <th>mid_h</th>\n",
       "      <th>mid_l</th>\n",
       "      <th>mid_c</th>\n",
       "      <th>ask_c</th>\n",
       "      <th>bid_c</th>\n",
       "      <th>ENGULFING</th>\n",
       "      <th>direction</th>\n",
       "      <th>EMA_200</th>\n",
       "      <th>RSI_14</th>\n",
       "    </tr>\n",
       "  </thead>\n",
       "  <tbody>\n",
       "    <tr>\n",
       "      <th>0</th>\n",
       "      <td>2022-08-22 14:00:00+00:00</td>\n",
       "      <td>0.99696</td>\n",
       "      <td>0.99772</td>\n",
       "      <td>0.99602</td>\n",
       "      <td>0.99668</td>\n",
       "      <td>0.99675</td>\n",
       "      <td>0.99662</td>\n",
       "      <td>False</td>\n",
       "      <td>-1</td>\n",
       "      <td>1.013535</td>\n",
       "      <td>23.866165</td>\n",
       "    </tr>\n",
       "    <tr>\n",
       "      <th>1</th>\n",
       "      <td>2022-08-22 15:00:00+00:00</td>\n",
       "      <td>0.99670</td>\n",
       "      <td>0.99678</td>\n",
       "      <td>0.99276</td>\n",
       "      <td>0.99348</td>\n",
       "      <td>0.99355</td>\n",
       "      <td>0.99341</td>\n",
       "      <td>False</td>\n",
       "      <td>-1</td>\n",
       "      <td>1.013304</td>\n",
       "      <td>18.650639</td>\n",
       "    </tr>\n",
       "    <tr>\n",
       "      <th>2</th>\n",
       "      <td>2022-08-22 16:00:00+00:00</td>\n",
       "      <td>0.99349</td>\n",
       "      <td>0.99494</td>\n",
       "      <td>0.99302</td>\n",
       "      <td>0.99320</td>\n",
       "      <td>0.99327</td>\n",
       "      <td>0.99312</td>\n",
       "      <td>False</td>\n",
       "      <td>-1</td>\n",
       "      <td>1.013074</td>\n",
       "      <td>18.274326</td>\n",
       "    </tr>\n",
       "    <tr>\n",
       "      <th>3</th>\n",
       "      <td>2022-08-22 17:00:00+00:00</td>\n",
       "      <td>0.99321</td>\n",
       "      <td>0.99379</td>\n",
       "      <td>0.99262</td>\n",
       "      <td>0.99276</td>\n",
       "      <td>0.99283</td>\n",
       "      <td>0.99268</td>\n",
       "      <td>False</td>\n",
       "      <td>-1</td>\n",
       "      <td>1.012841</td>\n",
       "      <td>17.670941</td>\n",
       "    </tr>\n",
       "    <tr>\n",
       "      <th>4</th>\n",
       "      <td>2022-08-22 18:00:00+00:00</td>\n",
       "      <td>0.99276</td>\n",
       "      <td>0.99368</td>\n",
       "      <td>0.99269</td>\n",
       "      <td>0.99332</td>\n",
       "      <td>0.99339</td>\n",
       "      <td>0.99325</td>\n",
       "      <td>True</td>\n",
       "      <td>1</td>\n",
       "      <td>1.012618</td>\n",
       "      <td>21.235485</td>\n",
       "    </tr>\n",
       "  </tbody>\n",
       "</table>\n",
       "</div>"
      ],
      "text/plain": [
       "                       time    mid_o    mid_h    mid_l    mid_c    ask_c  \\\n",
       "0 2022-08-22 14:00:00+00:00  0.99696  0.99772  0.99602  0.99668  0.99675   \n",
       "1 2022-08-22 15:00:00+00:00  0.99670  0.99678  0.99276  0.99348  0.99355   \n",
       "2 2022-08-22 16:00:00+00:00  0.99349  0.99494  0.99302  0.99320  0.99327   \n",
       "3 2022-08-22 17:00:00+00:00  0.99321  0.99379  0.99262  0.99276  0.99283   \n",
       "4 2022-08-22 18:00:00+00:00  0.99276  0.99368  0.99269  0.99332  0.99339   \n",
       "\n",
       "     bid_c  ENGULFING  direction   EMA_200     RSI_14  \n",
       "0  0.99662      False         -1  1.013535  23.866165  \n",
       "1  0.99341      False         -1  1.013304  18.650639  \n",
       "2  0.99312      False         -1  1.013074  18.274326  \n",
       "3  0.99268      False         -1  1.012841  17.670941  \n",
       "4  0.99325       True          1  1.012618  21.235485  "
      ]
     },
     "execution_count": 14,
     "metadata": {},
     "output_type": "execute_result"
    }
   ],
   "source": [
    "df_slim.head()"
   ]
  },
  {
   "attachments": {},
   "cell_type": "markdown",
   "id": "320cb1bb",
   "metadata": {},
   "source": [
    "### start test the strategy"
   ]
  },
  {
   "cell_type": "code",
   "execution_count": 15,
   "id": "9563015e",
   "metadata": {},
   "outputs": [],
   "source": [
    "BUY = 1\n",
    "SELL = -1\n",
    "NONE = 0\n",
    "RSI_LIMIT = 50.0\n",
    "\n",
    "def apply_signal(row):\n",
    "    if row.ENGULFING == True:\n",
    "        if row.direction == BUY and row.mid_l > row.EMA_200:\n",
    "            if row.RSI_14 > RSI_LIMIT:\n",
    "                return BUY\n",
    "        if row.direction == SELL and row.mid_h < row.EMA_200:\n",
    "            if row.RSI_14 < RSI_LIMIT:\n",
    "                return SELL\n",
    "    return NONE        "
   ]
  },
  {
   "cell_type": "code",
   "execution_count": 16,
   "id": "c881d7ee",
   "metadata": {},
   "outputs": [],
   "source": [
    "df_slim[\"SIGNAL\"] = df_slim.apply(apply_signal, axis=1)"
   ]
  },
  {
   "cell_type": "code",
   "execution_count": 17,
   "id": "a4e9aa9c",
   "metadata": {},
   "outputs": [
    {
     "data": {
      "text/plain": [
       " 0    3447\n",
       " 1     223\n",
       "-1     131\n",
       "Name: SIGNAL, dtype: int64"
      ]
     },
     "execution_count": 17,
     "metadata": {},
     "output_type": "execute_result"
    }
   ],
   "source": [
    "df_slim[\"SIGNAL\"].value_counts()"
   ]
  },
  {
   "cell_type": "code",
   "execution_count": 18,
   "id": "412972e3",
   "metadata": {},
   "outputs": [],
   "source": [
    "LOSS_FACTOR = -1.0\n",
    "PROFIT_FACTOR = 1.5\n",
    "\n",
    "def apply_take_profit(row):\n",
    "    if row.SIGNAL != NONE:\n",
    "        return (row.mid_c - row.mid_o) * 1.5 + row.mid_c\n",
    "    else:\n",
    "        return 0.0\n",
    "\n",
    "def apply_stop_loss(row):\n",
    "    if row.SIGNAL != NONE:\n",
    "        return row.mid_o\n",
    "    else:\n",
    "        return 0.0"
   ]
  },
  {
   "cell_type": "code",
   "execution_count": 19,
   "id": "b905fc6e",
   "metadata": {},
   "outputs": [],
   "source": [
    "df_slim[\"TP\"] = df_slim.apply(apply_take_profit, axis=1)\n",
    "df_slim[\"SL\"] = df_slim.apply(apply_stop_loss, axis=1)"
   ]
  },
  {
   "cell_type": "code",
   "execution_count": 20,
   "id": "b4dab0ea",
   "metadata": {},
   "outputs": [
    {
     "data": {
      "text/html": [
       "<div>\n",
       "<style scoped>\n",
       "    .dataframe tbody tr th:only-of-type {\n",
       "        vertical-align: middle;\n",
       "    }\n",
       "\n",
       "    .dataframe tbody tr th {\n",
       "        vertical-align: top;\n",
       "    }\n",
       "\n",
       "    .dataframe thead th {\n",
       "        text-align: right;\n",
       "    }\n",
       "</style>\n",
       "<table border=\"1\" class=\"dataframe\">\n",
       "  <thead>\n",
       "    <tr style=\"text-align: right;\">\n",
       "      <th></th>\n",
       "      <th>time</th>\n",
       "      <th>mid_o</th>\n",
       "      <th>mid_h</th>\n",
       "      <th>mid_l</th>\n",
       "      <th>mid_c</th>\n",
       "      <th>ask_c</th>\n",
       "      <th>bid_c</th>\n",
       "      <th>ENGULFING</th>\n",
       "      <th>direction</th>\n",
       "      <th>EMA_200</th>\n",
       "      <th>RSI_14</th>\n",
       "      <th>SIGNAL</th>\n",
       "      <th>TP</th>\n",
       "      <th>SL</th>\n",
       "    </tr>\n",
       "  </thead>\n",
       "  <tbody>\n",
       "    <tr>\n",
       "      <th>137</th>\n",
       "      <td>2022-08-30 09:00:00+00:00</td>\n",
       "      <td>1.00246</td>\n",
       "      <td>1.00550</td>\n",
       "      <td>1.00240</td>\n",
       "      <td>1.00327</td>\n",
       "      <td>1.00334</td>\n",
       "      <td>1.00320</td>\n",
       "      <td>True</td>\n",
       "      <td>1</td>\n",
       "      <td>1.001137</td>\n",
       "      <td>63.773543</td>\n",
       "      <td>1</td>\n",
       "      <td>1.004485</td>\n",
       "      <td>1.00246</td>\n",
       "    </tr>\n",
       "    <tr>\n",
       "      <th>291</th>\n",
       "      <td>2022-09-07 19:00:00+00:00</td>\n",
       "      <td>0.99820</td>\n",
       "      <td>1.00100</td>\n",
       "      <td>0.99816</td>\n",
       "      <td>1.00086</td>\n",
       "      <td>1.00093</td>\n",
       "      <td>1.00080</td>\n",
       "      <td>True</td>\n",
       "      <td>1</td>\n",
       "      <td>0.996253</td>\n",
       "      <td>69.802522</td>\n",
       "      <td>1</td>\n",
       "      <td>1.004850</td>\n",
       "      <td>0.99820</td>\n",
       "    </tr>\n",
       "    <tr>\n",
       "      <th>298</th>\n",
       "      <td>2022-09-08 02:00:00+00:00</td>\n",
       "      <td>0.99847</td>\n",
       "      <td>0.99903</td>\n",
       "      <td>0.99843</td>\n",
       "      <td>0.99875</td>\n",
       "      <td>0.99882</td>\n",
       "      <td>0.99868</td>\n",
       "      <td>True</td>\n",
       "      <td>1</td>\n",
       "      <td>0.996485</td>\n",
       "      <td>60.898612</td>\n",
       "      <td>1</td>\n",
       "      <td>0.999170</td>\n",
       "      <td>0.99847</td>\n",
       "    </tr>\n",
       "    <tr>\n",
       "      <th>300</th>\n",
       "      <td>2022-09-08 04:00:00+00:00</td>\n",
       "      <td>0.99864</td>\n",
       "      <td>0.99947</td>\n",
       "      <td>0.99862</td>\n",
       "      <td>0.99899</td>\n",
       "      <td>0.99907</td>\n",
       "      <td>0.99891</td>\n",
       "      <td>True</td>\n",
       "      <td>1</td>\n",
       "      <td>0.996531</td>\n",
       "      <td>61.444528</td>\n",
       "      <td>1</td>\n",
       "      <td>0.999515</td>\n",
       "      <td>0.99864</td>\n",
       "    </tr>\n",
       "    <tr>\n",
       "      <th>315</th>\n",
       "      <td>2022-09-08 19:00:00+00:00</td>\n",
       "      <td>0.99914</td>\n",
       "      <td>0.99992</td>\n",
       "      <td>0.99912</td>\n",
       "      <td>0.99992</td>\n",
       "      <td>0.99999</td>\n",
       "      <td>0.99984</td>\n",
       "      <td>True</td>\n",
       "      <td>1</td>\n",
       "      <td>0.996858</td>\n",
       "      <td>56.928414</td>\n",
       "      <td>1</td>\n",
       "      <td>1.001090</td>\n",
       "      <td>0.99914</td>\n",
       "    </tr>\n",
       "  </tbody>\n",
       "</table>\n",
       "</div>"
      ],
      "text/plain": [
       "                         time    mid_o    mid_h    mid_l    mid_c    ask_c  \\\n",
       "137 2022-08-30 09:00:00+00:00  1.00246  1.00550  1.00240  1.00327  1.00334   \n",
       "291 2022-09-07 19:00:00+00:00  0.99820  1.00100  0.99816  1.00086  1.00093   \n",
       "298 2022-09-08 02:00:00+00:00  0.99847  0.99903  0.99843  0.99875  0.99882   \n",
       "300 2022-09-08 04:00:00+00:00  0.99864  0.99947  0.99862  0.99899  0.99907   \n",
       "315 2022-09-08 19:00:00+00:00  0.99914  0.99992  0.99912  0.99992  0.99999   \n",
       "\n",
       "       bid_c  ENGULFING  direction   EMA_200     RSI_14  SIGNAL        TP  \\\n",
       "137  1.00320       True          1  1.001137  63.773543       1  1.004485   \n",
       "291  1.00080       True          1  0.996253  69.802522       1  1.004850   \n",
       "298  0.99868       True          1  0.996485  60.898612       1  0.999170   \n",
       "300  0.99891       True          1  0.996531  61.444528       1  0.999515   \n",
       "315  0.99984       True          1  0.996858  56.928414       1  1.001090   \n",
       "\n",
       "          SL  \n",
       "137  1.00246  \n",
       "291  0.99820  \n",
       "298  0.99847  \n",
       "300  0.99864  \n",
       "315  0.99914  "
      ]
     },
     "execution_count": 20,
     "metadata": {},
     "output_type": "execute_result"
    }
   ],
   "source": [
    "df_slim[df_slim.SIGNAL==BUY].head()"
   ]
  },
  {
   "cell_type": "code",
   "execution_count": 29,
   "id": "86b2d8f1",
   "metadata": {},
   "outputs": [
    {
     "data": {
      "application/vnd.plotly.v1+json": {
       "config": {
        "plotlyServerURL": "https://plot.ly"
       },
       "data": [
        {
         "close": [
          0.99695,
          0.99631,
          0.9981,
          0.9957,
          0.99608,
          0.99708,
          0.9969,
          0.99772,
          0.9974,
          0.99764,
          0.99749,
          0.99708,
          0.99656,
          0.99679,
          0.99686,
          0.99705,
          0.99624,
          0.99599,
          0.9951,
          0.99742,
          0.99892,
          1.00033,
          1.00159,
          0.99974,
          1.00328,
          1.00634,
          1.00146,
          0.99972,
          0.99799,
          0.99698
         ],
         "decreasing": {
          "fillcolor": "#CC2E3C",
          "line": {
           "color": "#FF3A4C"
          }
         },
         "high": [
          0.9979,
          0.99739,
          1.00006,
          0.99824,
          0.99642,
          0.99752,
          0.99741,
          0.9979,
          0.9978,
          0.99764,
          0.99772,
          0.99749,
          0.99718,
          0.99708,
          0.99704,
          0.99748,
          0.99715,
          0.99642,
          0.99687,
          0.99747,
          0.99912,
          1.00085,
          1.00238,
          1.00158,
          1.00331,
          1.00752,
          1.00902,
          1.00211,
          1.0003,
          0.99832
         ],
         "increasing": {
          "fillcolor": "#24A06B",
          "line": {
           "color": "#2EC886"
          }
         },
         "line": {
          "width": 1
         },
         "low": [
          0.99634,
          0.99555,
          0.99627,
          0.99568,
          0.99492,
          0.99587,
          0.99618,
          0.99676,
          0.99714,
          0.99736,
          0.99742,
          0.9968,
          0.99628,
          0.99628,
          0.99657,
          0.99672,
          0.99622,
          0.99576,
          0.99466,
          0.995,
          0.99694,
          0.99881,
          0.99987,
          0.9986,
          0.99966,
          1.00297,
          1.00146,
          0.99842,
          0.99754,
          0.99588
         ],
         "opacity": 1,
         "open": [
          0.99768,
          0.99694,
          0.99629,
          0.9981,
          0.99572,
          0.99609,
          0.99712,
          0.9969,
          0.9977,
          0.99738,
          0.99764,
          0.99749,
          0.99709,
          0.99658,
          0.99676,
          0.99684,
          0.99703,
          0.99626,
          0.99598,
          0.99516,
          0.99744,
          0.9989,
          1.00032,
          1.00158,
          0.99972,
          1.00326,
          1.00637,
          1.00146,
          0.9998,
          0.998
         ],
         "type": "candlestick",
         "x": [
          "s22-08-25 12:00",
          "s22-08-25 13:00",
          "s22-08-25 14:00",
          "s22-08-25 15:00",
          "s22-08-25 16:00",
          "s22-08-25 17:00",
          "s22-08-25 18:00",
          "s22-08-25 19:00",
          "s22-08-25 20:00",
          "s22-08-25 21:00",
          "s22-08-25 22:00",
          "s22-08-25 23:00",
          "s22-08-26 00:00",
          "s22-08-26 01:00",
          "s22-08-26 02:00",
          "s22-08-26 03:00",
          "s22-08-26 04:00",
          "s22-08-26 05:00",
          "s22-08-26 06:00",
          "s22-08-26 07:00",
          "s22-08-26 08:00",
          "s22-08-26 09:00",
          "s22-08-26 10:00",
          "s22-08-26 11:00",
          "s22-08-26 12:00",
          "s22-08-26 13:00",
          "s22-08-26 14:00",
          "s22-08-26 15:00",
          "s22-08-26 16:00",
          "s22-08-26 17:00"
         ]
        },
        {
         "marker": {
          "color": "#0000FF",
          "size": 12
         },
         "mode": "markers",
         "type": "scatter",
         "x": [
          "s22-08-25 15:00",
          "s22-08-26 04:00"
         ],
         "y": [
          0.9957,
          0.99624
         ]
        },
        {
         "marker": {
          "color": "#00FF00",
          "size": 12
         },
         "mode": "markers",
         "type": "scatter",
         "x": [
          "s22-08-25 15:00",
          "s22-08-26 04:00"
         ],
         "y": [
          0.9921000000000001,
          0.995055
         ]
        },
        {
         "marker": {
          "color": "#FF0000",
          "size": 12
         },
         "mode": "markers",
         "type": "scatter",
         "x": [
          "s22-08-25 15:00",
          "s22-08-26 04:00"
         ],
         "y": [
          0.9981,
          0.99703
         ]
        },
        {
         "line": {
          "shape": "spline",
          "width": 2
         },
         "name": "EMA_200",
         "type": "scatter",
         "x": [
          "s22-08-25 12:00",
          "s22-08-25 13:00",
          "s22-08-25 14:00",
          "s22-08-25 15:00",
          "s22-08-25 16:00",
          "s22-08-25 17:00",
          "s22-08-25 18:00",
          "s22-08-25 19:00",
          "s22-08-25 20:00",
          "s22-08-25 21:00",
          "s22-08-25 22:00",
          "s22-08-25 23:00",
          "s22-08-26 00:00",
          "s22-08-26 01:00",
          "s22-08-26 02:00",
          "s22-08-26 03:00",
          "s22-08-26 04:00",
          "s22-08-26 05:00",
          "s22-08-26 06:00",
          "s22-08-26 07:00",
          "s22-08-26 08:00",
          "s22-08-26 09:00",
          "s22-08-26 10:00",
          "s22-08-26 11:00",
          "s22-08-26 12:00",
          "s22-08-26 13:00",
          "s22-08-26 14:00",
          "s22-08-26 15:00",
          "s22-08-26 16:00",
          "s22-08-26 17:00"
         ],
         "xaxis": "x",
         "y": [
          1.0040827400212078,
          1.003999886650248,
          1.0039370414951219,
          1.0038493626621154,
          1.0037667193879125,
          1.0036956410870161,
          1.0036234540260873,
          1.0035607864016745,
          1.003495430559477,
          1.0034333548948036,
          1.0033703881103946,
          1.0033037875942488,
          1.003232432119753,
          1.0031643082270656,
          1.0030976864631678,
          1.0030338160240293,
          1.002962109413788,
          1.0028885654252906,
          1.002806458308971,
          1.00274970780687,
          1.0027093824861542,
          1.0026843430288994,
          1.0026728332963248,
          1.002642004763306,
          1.0026487073004455,
          1.0026874651031665,
          1.0026745840545221,
          1.0026435954284567,
          1.0025948132739977,
          1.0025359863012417
         ],
         "yaxis": "y"
        },
        {
         "line": {
          "shape": "spline",
          "width": 2
         },
         "name": "RSI_14",
         "type": "scatter",
         "x": [
          "s22-08-25 12:00",
          "s22-08-25 13:00",
          "s22-08-25 14:00",
          "s22-08-25 15:00",
          "s22-08-25 16:00",
          "s22-08-25 17:00",
          "s22-08-25 18:00",
          "s22-08-25 19:00",
          "s22-08-25 20:00",
          "s22-08-25 21:00",
          "s22-08-25 22:00",
          "s22-08-25 23:00",
          "s22-08-26 00:00",
          "s22-08-26 01:00",
          "s22-08-26 02:00",
          "s22-08-26 03:00",
          "s22-08-26 04:00",
          "s22-08-26 05:00",
          "s22-08-26 06:00",
          "s22-08-26 07:00",
          "s22-08-26 08:00",
          "s22-08-26 09:00",
          "s22-08-26 10:00",
          "s22-08-26 11:00",
          "s22-08-26 12:00",
          "s22-08-26 13:00",
          "s22-08-26 14:00",
          "s22-08-26 15:00",
          "s22-08-26 16:00",
          "s22-08-26 17:00"
         ],
         "xaxis": "x",
         "y": [
          46.65440088501633,
          44.26876040930712,
          51.70676461987522,
          43.35239467043842,
          44.87119933231296,
          48.76428744398335,
          48.105765865739954,
          51.330201462482144,
          50.023930650174755,
          51.03047313108572,
          50.34795134613619,
          48.44084076229734,
          46.05795671350967,
          47.29296257663198,
          47.68553366584906,
          48.800233487901906,
          44.45172016137114,
          43.17301345798989,
          38.88461745704438,
          52.21054046290448,
          58.50968350402819,
          63.39410285847388,
          67.1192545829375,
          57.816149206573925,
          67.18807334802788,
          72.81117387471589,
          56.25416512933245,
          51.736682109980535,
          47.640322493721456,
          45.3812215447544
         ],
         "yaxis": "y2"
        }
       ],
       "layout": {
        "font": {
         "color": "#e1e1e1",
         "size": 8
        },
        "height": 250,
        "margin": {
         "b": 10,
         "l": 10,
         "r": 10,
         "t": 10
        },
        "paper_bgcolor": "#2c303c",
        "plot_bgcolor": "#2c303c",
        "template": {
         "data": {
          "bar": [
           {
            "error_x": {
             "color": "#2a3f5f"
            },
            "error_y": {
             "color": "#2a3f5f"
            },
            "marker": {
             "line": {
              "color": "#E5ECF6",
              "width": 0.5
             },
             "pattern": {
              "fillmode": "overlay",
              "size": 10,
              "solidity": 0.2
             }
            },
            "type": "bar"
           }
          ],
          "barpolar": [
           {
            "marker": {
             "line": {
              "color": "#E5ECF6",
              "width": 0.5
             },
             "pattern": {
              "fillmode": "overlay",
              "size": 10,
              "solidity": 0.2
             }
            },
            "type": "barpolar"
           }
          ],
          "carpet": [
           {
            "aaxis": {
             "endlinecolor": "#2a3f5f",
             "gridcolor": "white",
             "linecolor": "white",
             "minorgridcolor": "white",
             "startlinecolor": "#2a3f5f"
            },
            "baxis": {
             "endlinecolor": "#2a3f5f",
             "gridcolor": "white",
             "linecolor": "white",
             "minorgridcolor": "white",
             "startlinecolor": "#2a3f5f"
            },
            "type": "carpet"
           }
          ],
          "choropleth": [
           {
            "colorbar": {
             "outlinewidth": 0,
             "ticks": ""
            },
            "type": "choropleth"
           }
          ],
          "contour": [
           {
            "colorbar": {
             "outlinewidth": 0,
             "ticks": ""
            },
            "colorscale": [
             [
              0,
              "#0d0887"
             ],
             [
              0.1111111111111111,
              "#46039f"
             ],
             [
              0.2222222222222222,
              "#7201a8"
             ],
             [
              0.3333333333333333,
              "#9c179e"
             ],
             [
              0.4444444444444444,
              "#bd3786"
             ],
             [
              0.5555555555555556,
              "#d8576b"
             ],
             [
              0.6666666666666666,
              "#ed7953"
             ],
             [
              0.7777777777777778,
              "#fb9f3a"
             ],
             [
              0.8888888888888888,
              "#fdca26"
             ],
             [
              1,
              "#f0f921"
             ]
            ],
            "type": "contour"
           }
          ],
          "contourcarpet": [
           {
            "colorbar": {
             "outlinewidth": 0,
             "ticks": ""
            },
            "type": "contourcarpet"
           }
          ],
          "heatmap": [
           {
            "colorbar": {
             "outlinewidth": 0,
             "ticks": ""
            },
            "colorscale": [
             [
              0,
              "#0d0887"
             ],
             [
              0.1111111111111111,
              "#46039f"
             ],
             [
              0.2222222222222222,
              "#7201a8"
             ],
             [
              0.3333333333333333,
              "#9c179e"
             ],
             [
              0.4444444444444444,
              "#bd3786"
             ],
             [
              0.5555555555555556,
              "#d8576b"
             ],
             [
              0.6666666666666666,
              "#ed7953"
             ],
             [
              0.7777777777777778,
              "#fb9f3a"
             ],
             [
              0.8888888888888888,
              "#fdca26"
             ],
             [
              1,
              "#f0f921"
             ]
            ],
            "type": "heatmap"
           }
          ],
          "heatmapgl": [
           {
            "colorbar": {
             "outlinewidth": 0,
             "ticks": ""
            },
            "colorscale": [
             [
              0,
              "#0d0887"
             ],
             [
              0.1111111111111111,
              "#46039f"
             ],
             [
              0.2222222222222222,
              "#7201a8"
             ],
             [
              0.3333333333333333,
              "#9c179e"
             ],
             [
              0.4444444444444444,
              "#bd3786"
             ],
             [
              0.5555555555555556,
              "#d8576b"
             ],
             [
              0.6666666666666666,
              "#ed7953"
             ],
             [
              0.7777777777777778,
              "#fb9f3a"
             ],
             [
              0.8888888888888888,
              "#fdca26"
             ],
             [
              1,
              "#f0f921"
             ]
            ],
            "type": "heatmapgl"
           }
          ],
          "histogram": [
           {
            "marker": {
             "pattern": {
              "fillmode": "overlay",
              "size": 10,
              "solidity": 0.2
             }
            },
            "type": "histogram"
           }
          ],
          "histogram2d": [
           {
            "colorbar": {
             "outlinewidth": 0,
             "ticks": ""
            },
            "colorscale": [
             [
              0,
              "#0d0887"
             ],
             [
              0.1111111111111111,
              "#46039f"
             ],
             [
              0.2222222222222222,
              "#7201a8"
             ],
             [
              0.3333333333333333,
              "#9c179e"
             ],
             [
              0.4444444444444444,
              "#bd3786"
             ],
             [
              0.5555555555555556,
              "#d8576b"
             ],
             [
              0.6666666666666666,
              "#ed7953"
             ],
             [
              0.7777777777777778,
              "#fb9f3a"
             ],
             [
              0.8888888888888888,
              "#fdca26"
             ],
             [
              1,
              "#f0f921"
             ]
            ],
            "type": "histogram2d"
           }
          ],
          "histogram2dcontour": [
           {
            "colorbar": {
             "outlinewidth": 0,
             "ticks": ""
            },
            "colorscale": [
             [
              0,
              "#0d0887"
             ],
             [
              0.1111111111111111,
              "#46039f"
             ],
             [
              0.2222222222222222,
              "#7201a8"
             ],
             [
              0.3333333333333333,
              "#9c179e"
             ],
             [
              0.4444444444444444,
              "#bd3786"
             ],
             [
              0.5555555555555556,
              "#d8576b"
             ],
             [
              0.6666666666666666,
              "#ed7953"
             ],
             [
              0.7777777777777778,
              "#fb9f3a"
             ],
             [
              0.8888888888888888,
              "#fdca26"
             ],
             [
              1,
              "#f0f921"
             ]
            ],
            "type": "histogram2dcontour"
           }
          ],
          "mesh3d": [
           {
            "colorbar": {
             "outlinewidth": 0,
             "ticks": ""
            },
            "type": "mesh3d"
           }
          ],
          "parcoords": [
           {
            "line": {
             "colorbar": {
              "outlinewidth": 0,
              "ticks": ""
             }
            },
            "type": "parcoords"
           }
          ],
          "pie": [
           {
            "automargin": true,
            "type": "pie"
           }
          ],
          "scatter": [
           {
            "fillpattern": {
             "fillmode": "overlay",
             "size": 10,
             "solidity": 0.2
            },
            "type": "scatter"
           }
          ],
          "scatter3d": [
           {
            "line": {
             "colorbar": {
              "outlinewidth": 0,
              "ticks": ""
             }
            },
            "marker": {
             "colorbar": {
              "outlinewidth": 0,
              "ticks": ""
             }
            },
            "type": "scatter3d"
           }
          ],
          "scattercarpet": [
           {
            "marker": {
             "colorbar": {
              "outlinewidth": 0,
              "ticks": ""
             }
            },
            "type": "scattercarpet"
           }
          ],
          "scattergeo": [
           {
            "marker": {
             "colorbar": {
              "outlinewidth": 0,
              "ticks": ""
             }
            },
            "type": "scattergeo"
           }
          ],
          "scattergl": [
           {
            "marker": {
             "colorbar": {
              "outlinewidth": 0,
              "ticks": ""
             }
            },
            "type": "scattergl"
           }
          ],
          "scattermapbox": [
           {
            "marker": {
             "colorbar": {
              "outlinewidth": 0,
              "ticks": ""
             }
            },
            "type": "scattermapbox"
           }
          ],
          "scatterpolar": [
           {
            "marker": {
             "colorbar": {
              "outlinewidth": 0,
              "ticks": ""
             }
            },
            "type": "scatterpolar"
           }
          ],
          "scatterpolargl": [
           {
            "marker": {
             "colorbar": {
              "outlinewidth": 0,
              "ticks": ""
             }
            },
            "type": "scatterpolargl"
           }
          ],
          "scatterternary": [
           {
            "marker": {
             "colorbar": {
              "outlinewidth": 0,
              "ticks": ""
             }
            },
            "type": "scatterternary"
           }
          ],
          "surface": [
           {
            "colorbar": {
             "outlinewidth": 0,
             "ticks": ""
            },
            "colorscale": [
             [
              0,
              "#0d0887"
             ],
             [
              0.1111111111111111,
              "#46039f"
             ],
             [
              0.2222222222222222,
              "#7201a8"
             ],
             [
              0.3333333333333333,
              "#9c179e"
             ],
             [
              0.4444444444444444,
              "#bd3786"
             ],
             [
              0.5555555555555556,
              "#d8576b"
             ],
             [
              0.6666666666666666,
              "#ed7953"
             ],
             [
              0.7777777777777778,
              "#fb9f3a"
             ],
             [
              0.8888888888888888,
              "#fdca26"
             ],
             [
              1,
              "#f0f921"
             ]
            ],
            "type": "surface"
           }
          ],
          "table": [
           {
            "cells": {
             "fill": {
              "color": "#EBF0F8"
             },
             "line": {
              "color": "white"
             }
            },
            "header": {
             "fill": {
              "color": "#C8D4E3"
             },
             "line": {
              "color": "white"
             }
            },
            "type": "table"
           }
          ]
         },
         "layout": {
          "annotationdefaults": {
           "arrowcolor": "#2a3f5f",
           "arrowhead": 0,
           "arrowwidth": 1
          },
          "autotypenumbers": "strict",
          "coloraxis": {
           "colorbar": {
            "outlinewidth": 0,
            "ticks": ""
           }
          },
          "colorscale": {
           "diverging": [
            [
             0,
             "#8e0152"
            ],
            [
             0.1,
             "#c51b7d"
            ],
            [
             0.2,
             "#de77ae"
            ],
            [
             0.3,
             "#f1b6da"
            ],
            [
             0.4,
             "#fde0ef"
            ],
            [
             0.5,
             "#f7f7f7"
            ],
            [
             0.6,
             "#e6f5d0"
            ],
            [
             0.7,
             "#b8e186"
            ],
            [
             0.8,
             "#7fbc41"
            ],
            [
             0.9,
             "#4d9221"
            ],
            [
             1,
             "#276419"
            ]
           ],
           "sequential": [
            [
             0,
             "#0d0887"
            ],
            [
             0.1111111111111111,
             "#46039f"
            ],
            [
             0.2222222222222222,
             "#7201a8"
            ],
            [
             0.3333333333333333,
             "#9c179e"
            ],
            [
             0.4444444444444444,
             "#bd3786"
            ],
            [
             0.5555555555555556,
             "#d8576b"
            ],
            [
             0.6666666666666666,
             "#ed7953"
            ],
            [
             0.7777777777777778,
             "#fb9f3a"
            ],
            [
             0.8888888888888888,
             "#fdca26"
            ],
            [
             1,
             "#f0f921"
            ]
           ],
           "sequentialminus": [
            [
             0,
             "#0d0887"
            ],
            [
             0.1111111111111111,
             "#46039f"
            ],
            [
             0.2222222222222222,
             "#7201a8"
            ],
            [
             0.3333333333333333,
             "#9c179e"
            ],
            [
             0.4444444444444444,
             "#bd3786"
            ],
            [
             0.5555555555555556,
             "#d8576b"
            ],
            [
             0.6666666666666666,
             "#ed7953"
            ],
            [
             0.7777777777777778,
             "#fb9f3a"
            ],
            [
             0.8888888888888888,
             "#fdca26"
            ],
            [
             1,
             "#f0f921"
            ]
           ]
          },
          "colorway": [
           "#636efa",
           "#EF553B",
           "#00cc96",
           "#ab63fa",
           "#FFA15A",
           "#19d3f3",
           "#FF6692",
           "#B6E880",
           "#FF97FF",
           "#FECB52"
          ],
          "font": {
           "color": "#2a3f5f"
          },
          "geo": {
           "bgcolor": "white",
           "lakecolor": "white",
           "landcolor": "#E5ECF6",
           "showlakes": true,
           "showland": true,
           "subunitcolor": "white"
          },
          "hoverlabel": {
           "align": "left"
          },
          "hovermode": "closest",
          "mapbox": {
           "style": "light"
          },
          "paper_bgcolor": "white",
          "plot_bgcolor": "#E5ECF6",
          "polar": {
           "angularaxis": {
            "gridcolor": "white",
            "linecolor": "white",
            "ticks": ""
           },
           "bgcolor": "#E5ECF6",
           "radialaxis": {
            "gridcolor": "white",
            "linecolor": "white",
            "ticks": ""
           }
          },
          "scene": {
           "xaxis": {
            "backgroundcolor": "#E5ECF6",
            "gridcolor": "white",
            "gridwidth": 2,
            "linecolor": "white",
            "showbackground": true,
            "ticks": "",
            "zerolinecolor": "white"
           },
           "yaxis": {
            "backgroundcolor": "#E5ECF6",
            "gridcolor": "white",
            "gridwidth": 2,
            "linecolor": "white",
            "showbackground": true,
            "ticks": "",
            "zerolinecolor": "white"
           },
           "zaxis": {
            "backgroundcolor": "#E5ECF6",
            "gridcolor": "white",
            "gridwidth": 2,
            "linecolor": "white",
            "showbackground": true,
            "ticks": "",
            "zerolinecolor": "white"
           }
          },
          "shapedefaults": {
           "line": {
            "color": "#2a3f5f"
           }
          },
          "ternary": {
           "aaxis": {
            "gridcolor": "white",
            "linecolor": "white",
            "ticks": ""
           },
           "baxis": {
            "gridcolor": "white",
            "linecolor": "white",
            "ticks": ""
           },
           "bgcolor": "#E5ECF6",
           "caxis": {
            "gridcolor": "white",
            "linecolor": "white",
            "ticks": ""
           }
          },
          "title": {
           "x": 0.05
          },
          "xaxis": {
           "automargin": true,
           "gridcolor": "white",
           "linecolor": "white",
           "ticks": "",
           "title": {
            "standoff": 15
           },
           "zerolinecolor": "white",
           "zerolinewidth": 2
          },
          "yaxis": {
           "automargin": true,
           "gridcolor": "white",
           "linecolor": "white",
           "ticks": "",
           "title": {
            "standoff": 15
           },
           "zerolinecolor": "white",
           "zerolinewidth": 2
          }
         }
        },
        "width": 900,
        "xaxis": {
         "anchor": "y",
         "domain": [
          0,
          0.94
         ],
         "gridcolor": "#1f292f",
         "nticks": 5,
         "rangeslider": {
          "visible": false
         }
        },
        "yaxis": {
         "anchor": "x",
         "domain": [
          0,
          1
         ],
         "gridcolor": "#1f292f"
        },
        "yaxis2": {
         "anchor": "x",
         "gridcolor": "#1f292f",
         "overlaying": "y",
         "side": "right"
        }
       }
      }
     },
     "metadata": {},
     "output_type": "display_data"
    }
   ],
   "source": [
    "df_plot = df_slim.iloc[70:100]\n",
    "cp = CandlePlot(df_plot, candles=True)\n",
    "\n",
    "trades = cp.df_plot[cp.df_plot.SIGNAL != NONE]\n",
    "\n",
    "markers = ['mid_c', 'TP', 'SL']\n",
    "marker_colors = ['#0000FF', '#00FF00', '#FF0000']\n",
    "\n",
    "for i in range(3):\n",
    "    cp.fig.add_trace(go.Scatter(\n",
    "        x = trades.sTime,\n",
    "        y = trades[markers[i]],\n",
    "        mode = 'markers',\n",
    "        marker=dict(color=marker_colors[i], size=12)\n",
    "    ))\n",
    "\n",
    "cp.show_plot(line_traces=[\"EMA_200\"], sec_traces=['RSI_14'], height=250)"
   ]
  },
  {
   "attachments": {},
   "cell_type": "markdown",
   "id": "3096361b",
   "metadata": {},
   "source": [
    "### check the gain of strategy"
   ]
  },
  {
   "cell_type": "code",
   "execution_count": 22,
   "id": "f0d3bd91",
   "metadata": {},
   "outputs": [],
   "source": [
    "class Trade:\n",
    "    def __init__(self, row):\n",
    "        self.running = True\n",
    "        self.start_index = row.name\n",
    "        self.start_price = row.mid_c\n",
    "        self.trigger_price = row.mid_c\n",
    "        self.SIGNAL = row.SIGNAL\n",
    "        self.TP = row.TP\n",
    "        self.SL = row.SL\n",
    "        self.result = 0.0\n",
    "        self.end_time = row.time\n",
    "        self.start_time = row.time\n",
    "        self.duration = 0\n",
    "        \n",
    "    def close_trade(self, row, result, trigger_price):\n",
    "        self.running = False\n",
    "        self.result = result\n",
    "        self.end_time = row.time\n",
    "        self.trigger_price = trigger_price\n",
    "        \n",
    "    def update(self, row):\n",
    "        self.duration += 1\n",
    "        if self.SIGNAL == BUY:\n",
    "            if row.mid_h >= self.TP:\n",
    "                self.close_trade(row, PROFIT_FACTOR, row.mid_h)\n",
    "            elif row.mid_l <= self.SL:\n",
    "                self.close_trade(row, LOSS_FACTOR, row.mid_l)\n",
    "        if self.SIGNAL == SELL:\n",
    "            if row.mid_l <= self.TP:\n",
    "                self.close_trade(row, PROFIT_FACTOR, row.mid_l)\n",
    "            elif row.mid_h >= self.SL:\n",
    "                self.close_trade(row, LOSS_FACTOR, row.mid_h)    "
   ]
  },
  {
   "cell_type": "code",
   "execution_count": 23,
   "id": "6124fddf",
   "metadata": {},
   "outputs": [],
   "source": [
    "open_trades = []\n",
    "closed_trades = []\n",
    "\n",
    "for index, row in df_slim.iterrows(): # iterrows is slow, can use items[index]\n",
    "    for ot in open_trades:\n",
    "        ot.update(row)\n",
    "        if ot.running == False:\n",
    "            closed_trades.append(ot)\n",
    "    open_trades = [x for x in open_trades if x.running == True]\n",
    "    \n",
    "    if row.SIGNAL != NONE:\n",
    "        open_trades.append(Trade(row))    "
   ]
  },
  {
   "cell_type": "code",
   "execution_count": 24,
   "id": "849ffd47",
   "metadata": {},
   "outputs": [],
   "source": [
    "df_results = pd.DataFrame.from_dict([vars(x) for x in closed_trades])"
   ]
  },
  {
   "cell_type": "code",
   "execution_count": 25,
   "id": "47899a23",
   "metadata": {},
   "outputs": [
    {
     "data": {
      "text/plain": [
       "23.5"
      ]
     },
     "execution_count": 25,
     "metadata": {},
     "output_type": "execute_result"
    }
   ],
   "source": [
    "df_results.result.sum()"
   ]
  },
  {
   "attachments": {},
   "cell_type": "markdown",
   "id": "9564ac64",
   "metadata": {},
   "source": [
    "### inspect results"
   ]
  },
  {
   "cell_type": "code",
   "execution_count": 26,
   "id": "d0fe36f1",
   "metadata": {},
   "outputs": [],
   "source": [
    "df_results.sort_values(by=\"start_index\", inplace=True)"
   ]
  },
  {
   "cell_type": "code",
   "execution_count": 27,
   "id": "aac150cb",
   "metadata": {},
   "outputs": [
    {
     "data": {
      "text/html": [
       "<div>\n",
       "<style scoped>\n",
       "    .dataframe tbody tr th:only-of-type {\n",
       "        vertical-align: middle;\n",
       "    }\n",
       "\n",
       "    .dataframe tbody tr th {\n",
       "        vertical-align: top;\n",
       "    }\n",
       "\n",
       "    .dataframe thead th {\n",
       "        text-align: right;\n",
       "    }\n",
       "</style>\n",
       "<table border=\"1\" class=\"dataframe\">\n",
       "  <thead>\n",
       "    <tr style=\"text-align: right;\">\n",
       "      <th></th>\n",
       "      <th>running</th>\n",
       "      <th>start_index</th>\n",
       "      <th>start_price</th>\n",
       "      <th>trigger_price</th>\n",
       "      <th>SIGNAL</th>\n",
       "      <th>TP</th>\n",
       "      <th>SL</th>\n",
       "      <th>result</th>\n",
       "      <th>end_time</th>\n",
       "      <th>start_time</th>\n",
       "      <th>duration</th>\n",
       "    </tr>\n",
       "  </thead>\n",
       "  <tbody>\n",
       "    <tr>\n",
       "      <th>0</th>\n",
       "      <td>False</td>\n",
       "      <td>39</td>\n",
       "      <td>0.99428</td>\n",
       "      <td>0.99594</td>\n",
       "      <td>-1</td>\n",
       "      <td>0.99209</td>\n",
       "      <td>0.99574</td>\n",
       "      <td>-1.0</td>\n",
       "      <td>2022-08-24 07:00:00+00:00</td>\n",
       "      <td>2022-08-24 05:00:00+00:00</td>\n",
       "      <td>2</td>\n",
       "    </tr>\n",
       "    <tr>\n",
       "      <th>1</th>\n",
       "      <td>False</td>\n",
       "      <td>42</td>\n",
       "      <td>0.99462</td>\n",
       "      <td>0.99585</td>\n",
       "      <td>-1</td>\n",
       "      <td>0.99354</td>\n",
       "      <td>0.99534</td>\n",
       "      <td>-1.0</td>\n",
       "      <td>2022-08-24 09:00:00+00:00</td>\n",
       "      <td>2022-08-24 08:00:00+00:00</td>\n",
       "      <td>1</td>\n",
       "    </tr>\n",
       "    <tr>\n",
       "      <th>2</th>\n",
       "      <td>False</td>\n",
       "      <td>44</td>\n",
       "      <td>0.99218</td>\n",
       "      <td>0.99948</td>\n",
       "      <td>-1</td>\n",
       "      <td>0.98801</td>\n",
       "      <td>0.99496</td>\n",
       "      <td>-1.0</td>\n",
       "      <td>2022-08-24 14:00:00+00:00</td>\n",
       "      <td>2022-08-24 10:00:00+00:00</td>\n",
       "      <td>4</td>\n",
       "    </tr>\n",
       "    <tr>\n",
       "      <th>3</th>\n",
       "      <td>False</td>\n",
       "      <td>47</td>\n",
       "      <td>0.99178</td>\n",
       "      <td>0.99948</td>\n",
       "      <td>-1</td>\n",
       "      <td>0.99019</td>\n",
       "      <td>0.99284</td>\n",
       "      <td>-1.0</td>\n",
       "      <td>2022-08-24 14:00:00+00:00</td>\n",
       "      <td>2022-08-24 13:00:00+00:00</td>\n",
       "      <td>1</td>\n",
       "    </tr>\n",
       "    <tr>\n",
       "      <th>5</th>\n",
       "      <td>False</td>\n",
       "      <td>73</td>\n",
       "      <td>0.99570</td>\n",
       "      <td>0.99912</td>\n",
       "      <td>-1</td>\n",
       "      <td>0.99210</td>\n",
       "      <td>0.99810</td>\n",
       "      <td>-1.0</td>\n",
       "      <td>2022-08-26 08:00:00+00:00</td>\n",
       "      <td>2022-08-25 15:00:00+00:00</td>\n",
       "      <td>17</td>\n",
       "    </tr>\n",
       "  </tbody>\n",
       "</table>\n",
       "</div>"
      ],
      "text/plain": [
       "   running  start_index  start_price  trigger_price  SIGNAL       TP       SL  \\\n",
       "0    False           39      0.99428        0.99594      -1  0.99209  0.99574   \n",
       "1    False           42      0.99462        0.99585      -1  0.99354  0.99534   \n",
       "2    False           44      0.99218        0.99948      -1  0.98801  0.99496   \n",
       "3    False           47      0.99178        0.99948      -1  0.99019  0.99284   \n",
       "5    False           73      0.99570        0.99912      -1  0.99210  0.99810   \n",
       "\n",
       "   result                  end_time                start_time  duration  \n",
       "0    -1.0 2022-08-24 07:00:00+00:00 2022-08-24 05:00:00+00:00         2  \n",
       "1    -1.0 2022-08-24 09:00:00+00:00 2022-08-24 08:00:00+00:00         1  \n",
       "2    -1.0 2022-08-24 14:00:00+00:00 2022-08-24 10:00:00+00:00         4  \n",
       "3    -1.0 2022-08-24 14:00:00+00:00 2022-08-24 13:00:00+00:00         1  \n",
       "5    -1.0 2022-08-26 08:00:00+00:00 2022-08-25 15:00:00+00:00        17  "
      ]
     },
     "execution_count": 27,
     "metadata": {},
     "output_type": "execute_result"
    }
   ],
   "source": [
    "df_results.head()"
   ]
  },
  {
   "attachments": {},
   "cell_type": "markdown",
   "id": "3fd0ecc2",
   "metadata": {},
   "source": [
    "### sync M5 and H1 candles"
   ]
  },
  {
   "cell_type": "code",
   "execution_count": 30,
   "id": "ebfc37bc",
   "metadata": {},
   "outputs": [
    {
     "ename": "FileNotFoundError",
     "evalue": "[Errno 2] No such file or directory: '../data/EUR_USD_M5.pkl'",
     "output_type": "error",
     "traceback": [
      "\u001b[1;31m---------------------------------------------------------------------------\u001b[0m",
      "\u001b[1;31mFileNotFoundError\u001b[0m                         Traceback (most recent call last)",
      "Cell \u001b[1;32mIn[30], line 1\u001b[0m\n\u001b[1;32m----> 1\u001b[0m df_m5 \u001b[39m=\u001b[39m pd\u001b[39m.\u001b[39;49mread_pickle(\u001b[39m\"\u001b[39;49m\u001b[39m../data/EUR_USD_M5.pkl\u001b[39;49m\u001b[39m\"\u001b[39;49m)\n",
      "File \u001b[1;32md:\\Coding\\FXTrading\\.venvFXTrading\\lib\\site-packages\\pandas\\io\\pickle.py:190\u001b[0m, in \u001b[0;36mread_pickle\u001b[1;34m(filepath_or_buffer, compression, storage_options)\u001b[0m\n\u001b[0;32m    124\u001b[0m \u001b[39m\u001b[39m\u001b[39m\"\"\"\u001b[39;00m\n\u001b[0;32m    125\u001b[0m \u001b[39mLoad pickled pandas object (or any object) from file.\u001b[39;00m\n\u001b[0;32m    126\u001b[0m \n\u001b[1;32m   (...)\u001b[0m\n\u001b[0;32m    187\u001b[0m \u001b[39m4    4    9\u001b[39;00m\n\u001b[0;32m    188\u001b[0m \u001b[39m\"\"\"\u001b[39;00m\n\u001b[0;32m    189\u001b[0m excs_to_catch \u001b[39m=\u001b[39m (\u001b[39mAttributeError\u001b[39;00m, \u001b[39mImportError\u001b[39;00m, \u001b[39mModuleNotFoundError\u001b[39;00m, \u001b[39mTypeError\u001b[39;00m)\n\u001b[1;32m--> 190\u001b[0m \u001b[39mwith\u001b[39;00m get_handle(\n\u001b[0;32m    191\u001b[0m     filepath_or_buffer,\n\u001b[0;32m    192\u001b[0m     \u001b[39m\"\u001b[39;49m\u001b[39mrb\u001b[39;49m\u001b[39m\"\u001b[39;49m,\n\u001b[0;32m    193\u001b[0m     compression\u001b[39m=\u001b[39;49mcompression,\n\u001b[0;32m    194\u001b[0m     is_text\u001b[39m=\u001b[39;49m\u001b[39mFalse\u001b[39;49;00m,\n\u001b[0;32m    195\u001b[0m     storage_options\u001b[39m=\u001b[39;49mstorage_options,\n\u001b[0;32m    196\u001b[0m ) \u001b[39mas\u001b[39;00m handles:\n\u001b[0;32m    197\u001b[0m \n\u001b[0;32m    198\u001b[0m     \u001b[39m# 1) try standard library Pickle\u001b[39;00m\n\u001b[0;32m    199\u001b[0m     \u001b[39m# 2) try pickle_compat (older pandas version) to handle subclass changes\u001b[39;00m\n\u001b[0;32m    200\u001b[0m     \u001b[39m# 3) try pickle_compat with latin-1 encoding upon a UnicodeDecodeError\u001b[39;00m\n\u001b[0;32m    202\u001b[0m     \u001b[39mtry\u001b[39;00m:\n\u001b[0;32m    203\u001b[0m         \u001b[39m# TypeError for Cython complaints about object.__new__ vs Tick.__new__\u001b[39;00m\n\u001b[0;32m    204\u001b[0m         \u001b[39mtry\u001b[39;00m:\n",
      "File \u001b[1;32md:\\Coding\\FXTrading\\.venvFXTrading\\lib\\site-packages\\pandas\\io\\common.py:865\u001b[0m, in \u001b[0;36mget_handle\u001b[1;34m(path_or_buf, mode, encoding, compression, memory_map, is_text, errors, storage_options)\u001b[0m\n\u001b[0;32m    856\u001b[0m         handle \u001b[39m=\u001b[39m \u001b[39mopen\u001b[39m(\n\u001b[0;32m    857\u001b[0m             handle,\n\u001b[0;32m    858\u001b[0m             ioargs\u001b[39m.\u001b[39mmode,\n\u001b[1;32m   (...)\u001b[0m\n\u001b[0;32m    861\u001b[0m             newline\u001b[39m=\u001b[39m\u001b[39m\"\u001b[39m\u001b[39m\"\u001b[39m,\n\u001b[0;32m    862\u001b[0m         )\n\u001b[0;32m    863\u001b[0m     \u001b[39melse\u001b[39;00m:\n\u001b[0;32m    864\u001b[0m         \u001b[39m# Binary mode\u001b[39;00m\n\u001b[1;32m--> 865\u001b[0m         handle \u001b[39m=\u001b[39m \u001b[39mopen\u001b[39;49m(handle, ioargs\u001b[39m.\u001b[39;49mmode)\n\u001b[0;32m    866\u001b[0m     handles\u001b[39m.\u001b[39mappend(handle)\n\u001b[0;32m    868\u001b[0m \u001b[39m# Convert BytesIO or file objects passed with an encoding\u001b[39;00m\n",
      "\u001b[1;31mFileNotFoundError\u001b[0m: [Errno 2] No such file or directory: '../data/EUR_USD_M5.pkl'"
     ]
    }
   ],
   "source": [
    "df_m5 = pd.read_pickle(\"../data/EUR_USD_M5.pkl\")"
   ]
  },
  {
   "cell_type": "code",
   "execution_count": null,
   "id": "65ebb072",
   "metadata": {},
   "outputs": [],
   "source": [
    "df_m5.shape"
   ]
  },
  {
   "cell_type": "code",
   "execution_count": null,
   "id": "55fecab7",
   "metadata": {},
   "outputs": [],
   "source": [
    "df_m5.time.max()"
   ]
  },
  {
   "cell_type": "code",
   "execution_count": null,
   "id": "dc5c18b9",
   "metadata": {},
   "outputs": [],
   "source": [
    "df_raw.time.max()"
   ]
  },
  {
   "cell_type": "code",
   "execution_count": null,
   "id": "6b3683be",
   "metadata": {},
   "outputs": [],
   "source": [
    "from dateutil import parser"
   ]
  },
  {
   "cell_type": "code",
   "execution_count": null,
   "id": "da3c7349",
   "metadata": {},
   "outputs": [],
   "source": [
    "time_min = parser.parse(\"2021-12-15T10:00:00Z\")\n",
    "time_max = parser.parse(\"2021-12-15T11:00:00Z\")\n",
    "df_m5_s = df_m5[(df_m5.time>=time_min)&(df_m5.time<=time_max)]\n",
    "df_raw_s = df_raw[(df_raw.time>=time_min)&(df_raw.time<=time_max)]"
   ]
  },
  {
   "cell_type": "code",
   "execution_count": null,
   "id": "ead5aa45",
   "metadata": {},
   "outputs": [],
   "source": [
    "df_m5_s"
   ]
  },
  {
   "cell_type": "code",
   "execution_count": null,
   "id": "e05abd42",
   "metadata": {},
   "outputs": [],
   "source": [
    "df_raw_s"
   ]
  },
  {
   "cell_type": "code",
   "execution_count": null,
   "id": "dff4c235",
   "metadata": {},
   "outputs": [],
   "source": []
  },
  {
   "cell_type": "code",
   "execution_count": null,
   "id": "c6b733e8",
   "metadata": {},
   "outputs": [],
   "source": []
  },
  {
   "cell_type": "code",
   "execution_count": null,
   "id": "d470b9f2",
   "metadata": {},
   "outputs": [],
   "source": []
  },
  {
   "cell_type": "code",
   "execution_count": null,
   "id": "ed5e1639",
   "metadata": {},
   "outputs": [],
   "source": []
  }
 ],
 "metadata": {
  "kernelspec": {
   "display_name": "Python 3 (ipykernel)",
   "language": "python",
   "name": "python3"
  },
  "language_info": {
   "codemirror_mode": {
    "name": "ipython",
    "version": 3
   },
   "file_extension": ".py",
   "mimetype": "text/x-python",
   "name": "python",
   "nbconvert_exporter": "python",
   "pygments_lexer": "ipython3",
   "version": "3.9.8"
  }
 },
 "nbformat": 4,
 "nbformat_minor": 5
}
