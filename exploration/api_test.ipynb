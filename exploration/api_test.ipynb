{
 "cells": [
  {
   "cell_type": "code",
   "execution_count": 1,
   "metadata": {},
   "outputs": [],
   "source": [
    "import requests\n",
    "import pandas as pd\n",
    "import json\n",
    "from dateutil import parser"
   ]
  },
  {
   "cell_type": "code",
   "execution_count": 2,
   "metadata": {},
   "outputs": [],
   "source": [
    "API_KEY = \"e1f7980a69a2fb459301e79beb73433b-257c9fa8b70bd768ec1edb63cae54240\"\n",
    "ACCOUNT_ID = \"101-001-25150540-001\"\n",
    "OANDA_URL = \"https://api-fxpractice.oanda.com/v3\"\n"
   ]
  },
  {
   "cell_type": "code",
   "execution_count": 3,
   "metadata": {},
   "outputs": [],
   "source": [
    "session = requests.Session()"
   ]
  },
  {
   "cell_type": "code",
   "execution_count": 4,
   "metadata": {},
   "outputs": [],
   "source": [
    "session.headers.update(\n",
    "    {\n",
    "    \"Authorization\": f\"Bearer {API_KEY}\",\n",
    "    \"Content-Type\": \"application/json\"\n",
    "    }\n",
    ")"
   ]
  },
  {
   "cell_type": "code",
   "execution_count": 5,
   "metadata": {},
   "outputs": [],
   "source": [
    "params = {\n",
    "    \"count\": 10,\n",
    "    \"granularity\": \"H1\",\n",
    "    \"price\": \"MBA\",\n",
    "}"
   ]
  },
  {
   "cell_type": "code",
   "execution_count": 6,
   "metadata": {},
   "outputs": [],
   "source": [
    "url = f\"{OANDA_URL}/accounts/{ACCOUNT_ID}/instruments\""
   ]
  },
  {
   "cell_type": "code",
   "execution_count": 7,
   "metadata": {},
   "outputs": [],
   "source": [
    "response = session.get(url, params=None, data=None, headers=None)"
   ]
  },
  {
   "cell_type": "code",
   "execution_count": 8,
   "metadata": {},
   "outputs": [
    {
     "data": {
      "text/plain": [
       "200"
      ]
     },
     "execution_count": 8,
     "metadata": {},
     "output_type": "execute_result"
    }
   ],
   "source": [
    "response.status_code"
   ]
  },
  {
   "cell_type": "code",
   "execution_count": 9,
   "metadata": {},
   "outputs": [],
   "source": [
    "data = response.json()"
   ]
  },
  {
   "cell_type": "code",
   "execution_count": 10,
   "metadata": {},
   "outputs": [],
   "source": [
    "instruments_list = data['instruments']"
   ]
  },
  {
   "cell_type": "code",
   "execution_count": 11,
   "metadata": {},
   "outputs": [
    {
     "data": {
      "text/plain": [
       "dict_keys(['name', 'type', 'displayName', 'pipLocation', 'displayPrecision', 'tradeUnitsPrecision', 'minimumTradeSize', 'maximumTrailingStopDistance', 'minimumTrailingStopDistance', 'maximumPositionSize', 'maximumOrderUnits', 'marginRate', 'guaranteedStopLossOrderMode', 'tags', 'financing'])"
      ]
     },
     "execution_count": 11,
     "metadata": {},
     "output_type": "execute_result"
    }
   ],
   "source": [
    "instruments_list[0].keys()"
   ]
  },
  {
   "cell_type": "code",
   "execution_count": 12,
   "metadata": {},
   "outputs": [],
   "source": [
    "key_i = ['name', 'type', 'displayName', 'pipLocation', 'displayPrecision', 'tradeUnitsPrecision','marginRate']"
   ]
  },
  {
   "cell_type": "code",
   "execution_count": 13,
   "metadata": {},
   "outputs": [],
   "source": [
    "instruments_dict = {}\n",
    "for i in instruments_list:\n",
    "    key = i['name']\n",
    "    instruments_dict[key] = {\n",
    "        k:i[k] for k in key_i\n",
    "    }"
   ]
  },
  {
   "cell_type": "code",
   "execution_count": 31,
   "metadata": {},
   "outputs": [],
   "source": [
    "with open(\"../data/instruments.json\",'w') as f:\n",
    "    f.write(json.dumps(instruments_dict, indent=2))"
   ]
  },
  {
   "cell_type": "code",
   "execution_count": 16,
   "metadata": {},
   "outputs": [],
   "source": [
    "def fetch_candles(pair_name, count=10, granularity=\"H1\"):\n",
    "    url = f\"{OANDA_URL}/instruments/{pair_name}/candles\"\n",
    "    params = {\n",
    "        \"count\": count,\n",
    "        \"granularity\": granularity,\n",
    "        \"price\": \"MBA\",\n",
    "    }\n",
    "    response = session.get(url, params=params, data=None, headers=None)\n",
    "    data= response.json()\n",
    "\n",
    "    if response.status_code == 200:\n",
    "        if 'candles' not in data:\n",
    "            data = []\n",
    "        else:\n",
    "            data = data['candles']\n",
    "    return response.status_code, data\n",
    "\n",
    "def get_candles_df(data):\n",
    "    if len(data)==0:\n",
    "        return pd.DataFrame()\n",
    "    prices = ['mid','bid','ask']\n",
    "    ohlc = ['o','h','l','c']\n",
    "    final_data = []\n",
    "    for candle in data:\n",
    "        if candle['complete'] == False:\n",
    "            continue\n",
    "        new_dict = {}\n",
    "        new_dict['time'] = parser.parse(candle['time'])\n",
    "        new_dict['volume'] = candle['volume']\n",
    "        for p in prices:\n",
    "            for o in ohlc:\n",
    "                new_dict[f\"{p}_{o}\"] = float(candle[p][o])\n",
    "        final_data.append(new_dict)\n",
    "    df = pd.DataFrame.from_dict(final_data)\n",
    "    return df\n",
    "\n",
    "def create_data_file(pair_name,count=10,granularity=\"H1\"):\n",
    "    code, data = fetch_candles(pair_name, count, granularity)\n",
    "    if code!=200:\n",
    "        print(\"Failed\", pair_name)\n",
    "        return \n",
    "    if len(data)==0:\n",
    "        print(\"No candles\", pair_name)\n",
    "    candles_df = get_candles_df(data)\n",
    "    candles_df.to_pickle(f\"../data/{pair_name}_{granularity}.pkl\")\n",
    "    print(f\"{pair_name} {granularity} {candles_df.shape[0]} {candles_df.time.min()} {candles_df.time.max()}\")\n",
    "    "
   ]
  },
  {
   "cell_type": "code",
   "execution_count": 17,
   "metadata": {},
   "outputs": [
    {
     "name": "stdout",
     "output_type": "stream",
     "text": [
      "EUR_USD H4 9 2023-03-30 13:00:00+00:00 2023-04-02 21:00:00+00:00\n"
     ]
    }
   ],
   "source": [
    "create_data_file(\"EUR_USD\", count=10, granularity=\"H4\")"
   ]
  },
  {
   "cell_type": "code",
   "execution_count": 18,
   "metadata": {},
   "outputs": [],
   "source": [
    "our_curr = ['EUR', 'USD','GBP','JPY','CHF','NZD','CAD','AUD']"
   ]
  },
  {
   "cell_type": "code",
   "execution_count": 19,
   "metadata": {},
   "outputs": [
    {
     "name": "stdout",
     "output_type": "stream",
     "text": [
      "EUR_USD H1 4000 2022-08-10 07:00:00+00:00 2023-04-03 01:00:00+00:00\n",
      "EUR_USD H4 4000 2020-09-07 09:00:00+00:00 2023-04-02 21:00:00+00:00\n",
      "EUR_GBP H1 4000 2022-08-10 07:00:00+00:00 2023-04-03 01:00:00+00:00\n",
      "EUR_GBP H4 4000 2020-09-07 09:00:00+00:00 2023-04-02 21:00:00+00:00\n",
      "EUR_JPY H1 4000 2022-08-10 07:00:00+00:00 2023-04-03 01:00:00+00:00\n",
      "EUR_JPY H4 4000 2020-09-07 01:00:00+00:00 2023-04-02 21:00:00+00:00\n",
      "EUR_CHF H1 4000 2022-08-10 07:00:00+00:00 2023-04-03 01:00:00+00:00\n",
      "EUR_CHF H4 4000 2020-09-07 09:00:00+00:00 2023-04-02 21:00:00+00:00\n",
      "EUR_NZD H1 4000 2022-08-10 07:00:00+00:00 2023-04-03 01:00:00+00:00\n",
      "EUR_NZD H4 4000 2020-09-07 09:00:00+00:00 2023-04-02 21:00:00+00:00\n",
      "EUR_CAD H1 4000 2022-08-10 07:00:00+00:00 2023-04-03 01:00:00+00:00\n",
      "EUR_CAD H4 4000 2020-09-07 09:00:00+00:00 2023-04-02 21:00:00+00:00\n",
      "EUR_AUD H1 4000 2022-08-10 07:00:00+00:00 2023-04-03 01:00:00+00:00\n",
      "EUR_AUD H4 4000 2020-09-07 09:00:00+00:00 2023-04-02 21:00:00+00:00\n",
      "USD_JPY H1 4000 2022-08-10 07:00:00+00:00 2023-04-03 01:00:00+00:00\n",
      "USD_JPY H4 4000 2020-09-07 13:00:00+00:00 2023-04-02 21:00:00+00:00\n",
      "USD_CHF H1 4000 2022-08-10 07:00:00+00:00 2023-04-03 01:00:00+00:00\n",
      "USD_CHF H4 4000 2020-09-07 09:00:00+00:00 2023-04-02 21:00:00+00:00\n",
      "USD_CAD H1 4000 2022-08-10 07:00:00+00:00 2023-04-03 01:00:00+00:00\n",
      "USD_CAD H4 4000 2020-09-07 09:00:00+00:00 2023-04-02 21:00:00+00:00\n",
      "GBP_USD H1 4000 2022-08-10 07:00:00+00:00 2023-04-03 01:00:00+00:00\n",
      "GBP_USD H4 4000 2020-09-07 09:00:00+00:00 2023-04-02 21:00:00+00:00\n",
      "GBP_JPY H1 4000 2022-08-10 07:00:00+00:00 2023-04-03 01:00:00+00:00\n",
      "GBP_JPY H4 4000 2020-09-07 09:00:00+00:00 2023-04-02 21:00:00+00:00\n",
      "GBP_CHF H1 4000 2022-08-10 07:00:00+00:00 2023-04-03 01:00:00+00:00\n",
      "GBP_CHF H4 4000 2020-09-07 09:00:00+00:00 2023-04-02 21:00:00+00:00\n",
      "GBP_NZD H1 4000 2022-08-10 07:00:00+00:00 2023-04-03 01:00:00+00:00\n",
      "GBP_NZD H4 4000 2020-09-07 09:00:00+00:00 2023-04-02 21:00:00+00:00\n",
      "GBP_CAD H1 4000 2022-08-10 07:00:00+00:00 2023-04-03 01:00:00+00:00\n",
      "GBP_CAD H4 4000 2020-09-07 09:00:00+00:00 2023-04-02 21:00:00+00:00\n",
      "GBP_AUD H1 4000 2022-08-10 06:00:00+00:00 2023-04-03 01:00:00+00:00\n",
      "GBP_AUD H4 4000 2020-09-07 09:00:00+00:00 2023-04-02 21:00:00+00:00\n",
      "CHF_JPY H1 4000 2022-08-10 07:00:00+00:00 2023-04-03 01:00:00+00:00\n",
      "CHF_JPY H4 4000 2020-09-07 09:00:00+00:00 2023-04-02 21:00:00+00:00\n",
      "NZD_USD H1 4000 2022-08-10 10:00:00+00:00 2023-04-03 01:00:00+00:00\n",
      "NZD_USD H4 4000 2020-09-07 17:00:00+00:00 2023-04-02 21:00:00+00:00\n",
      "NZD_JPY H1 4000 2022-08-10 07:00:00+00:00 2023-04-03 01:00:00+00:00\n",
      "NZD_JPY H4 4000 2020-09-07 13:00:00+00:00 2023-04-02 21:00:00+00:00\n",
      "NZD_CHF H1 4000 2022-08-10 07:00:00+00:00 2023-04-03 01:00:00+00:00\n",
      "NZD_CHF H4 4000 2020-09-07 05:00:00+00:00 2023-04-02 21:00:00+00:00\n",
      "NZD_CAD H1 4000 2022-08-10 07:00:00+00:00 2023-04-03 01:00:00+00:00\n",
      "NZD_CAD H4 4000 2020-09-07 09:00:00+00:00 2023-04-02 21:00:00+00:00\n",
      "CAD_JPY H1 4000 2022-08-10 07:00:00+00:00 2023-04-03 01:00:00+00:00\n",
      "CAD_JPY H4 4000 2020-09-07 09:00:00+00:00 2023-04-02 21:00:00+00:00\n",
      "CAD_CHF H1 4000 2022-08-10 07:00:00+00:00 2023-04-03 01:00:00+00:00\n",
      "CAD_CHF H4 4000 2020-09-07 09:00:00+00:00 2023-04-02 21:00:00+00:00\n",
      "AUD_USD H1 4000 2022-08-10 07:00:00+00:00 2023-04-03 01:00:00+00:00\n",
      "AUD_USD H4 4000 2020-09-07 09:00:00+00:00 2023-04-02 21:00:00+00:00\n",
      "AUD_JPY H1 4000 2022-08-10 07:00:00+00:00 2023-04-03 01:00:00+00:00\n",
      "AUD_JPY H4 4000 2020-09-08 09:00:00+00:00 2023-04-02 21:00:00+00:00\n",
      "AUD_CHF H1 4000 2022-08-10 07:00:00+00:00 2023-04-03 01:00:00+00:00\n",
      "AUD_CHF H4 4000 2020-09-07 05:00:00+00:00 2023-04-02 21:00:00+00:00\n",
      "AUD_NZD H1 4000 2022-08-10 07:00:00+00:00 2023-04-03 01:00:00+00:00\n",
      "AUD_NZD H4 4000 2020-09-07 05:00:00+00:00 2023-04-02 21:00:00+00:00\n",
      "AUD_CAD H1 4000 2022-08-10 07:00:00+00:00 2023-04-03 01:00:00+00:00\n",
      "AUD_CAD H4 4000 2020-09-07 09:00:00+00:00 2023-04-02 21:00:00+00:00\n"
     ]
    }
   ],
   "source": [
    "for p1 in our_curr:\n",
    "    for p2 in our_curr:\n",
    "        pr = f\"{p1}_{p2}\"\n",
    "        if pr in instruments_dict:\n",
    "            for g in [\"H1\", \"H4\"]:\n",
    "                create_data_file(pr, count=4001, granularity=g)"
   ]
  },
  {
   "cell_type": "code",
   "execution_count": null,
   "metadata": {},
   "outputs": [],
   "source": []
  }
 ],
 "metadata": {
  "kernelspec": {
   "display_name": ".venvFXTrading",
   "language": "python",
   "name": "python3"
  },
  "language_info": {
   "codemirror_mode": {
    "name": "ipython",
    "version": 3
   },
   "file_extension": ".py",
   "mimetype": "text/x-python",
   "name": "python",
   "nbconvert_exporter": "python",
   "pygments_lexer": "ipython3",
   "version": "3.9.8"
  },
  "orig_nbformat": 4
 },
 "nbformat": 4,
 "nbformat_minor": 2
}
